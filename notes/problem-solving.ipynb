{
 "cells": [
  {
   "cell_type": "markdown",
   "id": "63c147d7-c253-49e5-b0ba-b9b8476098a4",
   "metadata": {},
   "source": [
    "# Problem-solving notebook"
   ]
  },
  {
   "cell_type": "markdown",
   "id": "baf0514f-ece1-4213-bacf-8596a5fa41ad",
   "metadata": {},
   "source": [
    "### Exercise\n",
    "\n",
    "Given the following list of first and last names, write a nested Python loop to print every combination of first and last name."
   ]
  },
  {
   "cell_type": "code",
   "execution_count": 3,
   "id": "a1bdc6d8-b4fe-4d9e-817f-ebbe33c6ab05",
   "metadata": {},
   "outputs": [],
   "source": [
    "first=['Xue', 'Mary', 'Robert']\n",
    "last=['Li', 'Smith', 'Dixon']"
   ]
  },
  {
   "cell_type": "markdown",
   "id": "6b947e8b-25c0-4d69-ae9b-43de29aa88e4",
   "metadata": {},
   "source": [
    "The first step is to understand the problem, so let's figure out what the output looks like:\n",
    "\n",
    "```\n",
    "Xue Li\n",
    "Xue Smith\n",
    "Xue Dixon\n",
    "Mary Li\n",
    "Mary Smith\n",
    "Mary Dixon\n",
    "Robert Li\n",
    "Robert Smith\n",
    "Robert Dixon\n",
    "```\n",
    "\n",
    "If we were trying to do this for two arbitrary lists, we should think about the edge cases, such as when one or both of the lists are empty.  Let's assume that we fully understand the problem now.\n",
    "\n",
    "The next step is to try to solve the problem, which we must be able to manually. Unless you are an experienced programmer, it's best not to think about coding at this point. I literally think about moving my fingers or data around. In this case, I use a finger on each list and then for every top pointer finger I move my finger through all of the bottom fingers:\n",
    "\n",
    "<img src=\"images/first-last.png\" width=\"200\">\n",
    "\n",
    "When you hear the \"all combinations\" pattern, think of nested loops.  Moving a finger through a list also screams loop! Here's one possible imitation:"
   ]
  },
  {
   "cell_type": "code",
   "execution_count": 4,
   "id": "39828eb7-92cd-4222-90f3-e6e7f98bfd06",
   "metadata": {},
   "outputs": [
    {
     "name": "stdout",
     "output_type": "stream",
     "text": [
      "Xue Li\n",
      "Xue Smith\n",
      "Xue Dixon\n",
      "Mary Li\n",
      "Mary Smith\n",
      "Mary Dixon\n",
      "Robert Li\n",
      "Robert Smith\n",
      "Robert Dixon\n"
     ]
    }
   ],
   "source": [
    "for f in first:\n",
    "    for l in last:\n",
    "        print(f+' '+l)"
   ]
  },
  {
   "cell_type": "markdown",
   "id": "4103e1ea-9600-47b2-b109-55449c8ebd59",
   "metadata": {},
   "source": [
    "How would you solve this with a list comprehension (to get a list of instead of printing all combinations)?"
   ]
  },
  {
   "cell_type": "code",
   "execution_count": 5,
   "id": "c96089da-aa5c-4256-a0d8-019a1798639f",
   "metadata": {},
   "outputs": [
    {
     "data": {
      "text/plain": [
       "['Xue Li',\n",
       " 'Xue Smith',\n",
       " 'Xue Dixon',\n",
       " 'Mary Li',\n",
       " 'Mary Smith',\n",
       " 'Mary Dixon',\n",
       " 'Robert Li',\n",
       " 'Robert Smith',\n",
       " 'Robert Dixon']"
      ]
     },
     "execution_count": 5,
     "metadata": {},
     "output_type": "execute_result"
    }
   ],
   "source": [
    "[f+' '+l for f in first for l in last]"
   ]
  },
  {
   "cell_type": "markdown",
   "id": "e86b9a76-0032-4902-a029-083ab75d2011",
   "metadata": {},
   "source": [
    "### Exercise\n",
    "\n",
    "Imagine you work for a company that has a website and you'd like to be able to show ads on the various webpages on the website.  Customers that want to purchase ads by a certain fraction of the ad \"impressions\".  For example, company X might buy 30%, company Y 60%, and company Z 10% of the ad space. Your job is to randomly show the company's ads, but in the correct proportions."
   ]
  }
 ],
 "metadata": {
  "kernelspec": {
   "display_name": "Python 3",
   "language": "python",
   "name": "python3"
  },
  "language_info": {
   "codemirror_mode": {
    "name": "ipython",
    "version": 3
   },
   "file_extension": ".py",
   "mimetype": "text/x-python",
   "name": "python",
   "nbconvert_exporter": "python",
   "pygments_lexer": "ipython3",
   "version": "3.8.8"
  }
 },
 "nbformat": 4,
 "nbformat_minor": 5
}
