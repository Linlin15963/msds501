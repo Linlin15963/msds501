{
 "cells": [
  {
   "cell_type": "markdown",
   "id": "63c147d7-c253-49e5-b0ba-b9b8476098a4",
   "metadata": {},
   "source": [
    "# Problem-solving notebook"
   ]
  },
  {
   "cell_type": "markdown",
   "id": "baf0514f-ece1-4213-bacf-8596a5fa41ad",
   "metadata": {},
   "source": [
    "### Exercise: combinations of first and last names\n",
    "\n",
    "Given the following list of first and last names, write a nested Python loop to print every combination of first and last name."
   ]
  },
  {
   "cell_type": "code",
   "execution_count": 1,
   "id": "a1bdc6d8-b4fe-4d9e-817f-ebbe33c6ab05",
   "metadata": {},
   "outputs": [],
   "source": [
    "first=['Xue', 'Mary', 'Robert']\n",
    "last=['Li', 'Smith', 'Dixon']"
   ]
  },
  {
   "cell_type": "markdown",
   "id": "6b947e8b-25c0-4d69-ae9b-43de29aa88e4",
   "metadata": {},
   "source": [
    "The first step is to understand the problem, so let's figure out what the output looks like:\n",
    "\n",
    "```\n",
    "Xue Li\n",
    "Xue Smith\n",
    "Xue Dixon\n",
    "Mary Li\n",
    "Mary Smith\n",
    "Mary Dixon\n",
    "Robert Li\n",
    "Robert Smith\n",
    "Robert Dixon\n",
    "```\n",
    "\n",
    "If we were trying to do this for two arbitrary lists, we should think about the edge cases, such as when one or both of the lists are empty.  Let's assume that we fully understand the problem now.\n",
    "\n",
    "The next step is to try to solve the problem, which we must be able to manually. Unless you are an experienced programmer, it's best not to think about coding at this point. I literally think about moving my fingers or data around. In this case, I use a finger on each list and then for every top pointer finger I move my finger through all of the bottom fingers:\n",
    "\n",
    "<img src=\"images/first-last.png\" width=\"200\">\n",
    "\n",
    "When you hear the \"all combinations\" pattern, think of nested loops.  Moving a finger through a list also screams loop! Here's one possible imitation:"
   ]
  },
  {
   "cell_type": "code",
   "execution_count": 2,
   "id": "39828eb7-92cd-4222-90f3-e6e7f98bfd06",
   "metadata": {},
   "outputs": [
    {
     "name": "stdout",
     "output_type": "stream",
     "text": [
      "Xue Li\n",
      "Xue Smith\n",
      "Xue Dixon\n",
      "Mary Li\n",
      "Mary Smith\n",
      "Mary Dixon\n",
      "Robert Li\n",
      "Robert Smith\n",
      "Robert Dixon\n"
     ]
    }
   ],
   "source": [
    "for f in first:\n",
    "    for l in last:\n",
    "        print(f+' '+l)"
   ]
  },
  {
   "cell_type": "markdown",
   "id": "4103e1ea-9600-47b2-b109-55449c8ebd59",
   "metadata": {},
   "source": [
    "How would you solve this with a list comprehension (to get a list of instead of printing all combinations)?"
   ]
  },
  {
   "cell_type": "code",
   "execution_count": 3,
   "id": "c96089da-aa5c-4256-a0d8-019a1798639f",
   "metadata": {},
   "outputs": [
    {
     "data": {
      "text/plain": [
       "['Xue Li',\n",
       " 'Xue Smith',\n",
       " 'Xue Dixon',\n",
       " 'Mary Li',\n",
       " 'Mary Smith',\n",
       " 'Mary Dixon',\n",
       " 'Robert Li',\n",
       " 'Robert Smith',\n",
       " 'Robert Dixon']"
      ]
     },
     "execution_count": 3,
     "metadata": {},
     "output_type": "execute_result"
    }
   ],
   "source": [
    "[f+' '+l for f in first for l in last]"
   ]
  },
  {
   "cell_type": "markdown",
   "id": "97395fbf-4af3-4324-a4b8-b9f46b0907a5",
   "metadata": {},
   "source": [
    "### Exercise: checking for valid parentheses\n",
    "\n",
    "Let's try to solve a problem from leetcode.com called\n",
    "[Valid Parentheses](https://leetcode.com/problems/valid-parentheses/).  That website has lots and lots of sample problems to solve and will help you get better at programming, and is very useful when you  start practicing for interviews.  The problem description is (taken verbatim from the site):\n",
    "\n",
    "*Given a string s containing just the characters '(', ')', '{', '}', '[' and ']', determine if the input string is valid.*\n",
    "\n",
    "*An input string is valid if:*\n",
    "\n",
    "1. *Open brackets must be closed by the same type of brackets.*\n",
    "2. *Open brackets must be closed in the correct order.*\n",
    "\n",
    "Per our process, we have to understand the problem and my first question involves the set of valid characters. Looking more closely at the problem description, I see that only `()[]{}` characters are allowed. Now, let's come up with a bunch of examples that illustrate the goal:\n",
    "\n",
    "<table>\n",
    "    <tr>\n",
    "        <th>Input</th><th>Valid</th>\n",
    "    </tr>\n",
    "    <tr><td>()</td><td>true</td></tr>\n",
    "    <tr><td>[]</td><td>true</td></tr>\n",
    "    <tr><td>{}</td><td>true</td></tr>\n",
    "    <tr><td>()[]</td><td>true</td></tr>\n",
    "    <tr><td>([])</td><td>true</td></tr>\n",
    "    <tr><td>{({})}</td><td>true</td></tr>\n",
    "    <tr><td>{)</td><td>false</td></tr>\n",
    "    <tr><td>{})</td><td>false</td></tr>\n",
    "    <tr><td>{()</td><td>false</td></tr>\n",
    "    <tr><td>(</td><td>false</td></tr>\n",
    "    </table>\n",
    "    \n",
    "If I did this manually, I would move my finger down the list of characters and perform an operation that made sure that closing symbols come in the right order and that all groupings are closed at the end:\n",
    "\n",
    "<img src=\"images/count-parens.png\" width=\"80\">"
   ]
  },
  {
   "cell_type": "markdown",
   "id": "61d4cd38-bab3-4213-bada-40b8e792451f",
   "metadata": {},
   "source": [
    "#### First attempt\n",
    "\n",
    "My first thought was to increment in decrement account for each kind of grouping. As I encountered an opening symbol, I would bump that count. As I encountered a closing symbol, I would decrement that count. After walking through the entire string, the counts should all be zero indicating nothing is still open. This doesn't work. Why not?"
   ]
  },
  {
   "cell_type": "code",
   "execution_count": 4,
   "id": "71d03ab1-549a-422a-8014-241d5cfac223",
   "metadata": {},
   "outputs": [
    {
     "data": {
      "image/svg+xml": [
       "<?xml version=\"1.0\" encoding=\"UTF-8\" standalone=\"no\"?>\n",
       "<!DOCTYPE svg PUBLIC \"-//W3C//DTD SVG 1.1//EN\"\n",
       " \"http://www.w3.org/Graphics/SVG/1.1/DTD/svg11.dtd\">\n",
       "<!-- Generated by graphviz version 2.47.2 (20210527.0053)\n",
       " -->\n",
       "<!-- Title: G Pages: 1 -->\n",
       "<svg width=\"46pt\" height=\"58pt\"\n",
       " viewBox=\"0.00 0.00 46.00 58.00\" xmlns=\"http://www.w3.org/2000/svg\" xmlns:xlink=\"http://www.w3.org/1999/xlink\">\n",
       "<g id=\"graph0\" class=\"graph\" transform=\"scale(1 1) rotate(0) translate(4 54)\">\n",
       "<title>G</title>\n",
       "<polygon fill=\"white\" stroke=\"transparent\" points=\"-4,4 -4,-54 42,-54 42,4 -4,4\"/>\n",
       "<!-- node140587843706752 -->\n",
       "<g id=\"node1\" class=\"node\">\n",
       "<title>node140587843706752</title>\n",
       "<polygon fill=\"#fefecd\" stroke=\"#444443\" stroke-width=\"0.5\" points=\"38,-50 0,-50 0,0 38,0 38,-50\"/>\n",
       "<polygon fill=\"#fefecd\" stroke=\"transparent\" points=\"2,-34 2,-48 14,-48 14,-34 2,-34\"/>\n",
       "<text text-anchor=\"start\" x=\"2\" y=\"-38.2\" font-family=\"Helvetica,sans-Serif\" font-size=\"11.00\" fill=\"#444443\">&#39;(&#39; </text>\n",
       "<text text-anchor=\"start\" x=\"14\" y=\"-36.8\" font-family=\"Helvetica,sans-Serif\" font-size=\"9.00\" fill=\"#444443\">→</text>\n",
       "<polygon fill=\"#fefecd\" stroke=\"transparent\" points=\"24,-34 24,-48 36,-48 36,-34 24,-34\"/>\n",
       "<text text-anchor=\"start\" x=\"25\" y=\"-38.2\" font-family=\"Helvetica,sans-Serif\" font-size=\"11.00\" fill=\"#444443\"> 0</text>\n",
       "<polygon fill=\"#fefecd\" stroke=\"transparent\" points=\"2,-32 2,-34 36,-34 36,-32 2,-32\"/>\n",
       "<polygon fill=\"#fefecd\" stroke=\"transparent\" points=\"2,-18 2,-32 14,-32 14,-18 2,-18\"/>\n",
       "<text text-anchor=\"start\" x=\"3\" y=\"-22.2\" font-family=\"Helvetica,sans-Serif\" font-size=\"11.00\" fill=\"#444443\">&#39;[&#39; </text>\n",
       "<text text-anchor=\"start\" x=\"14\" y=\"-20.8\" font-family=\"Helvetica,sans-Serif\" font-size=\"9.00\" fill=\"#444443\">→</text>\n",
       "<polygon fill=\"#fefecd\" stroke=\"transparent\" points=\"24,-18 24,-32 36,-32 36,-18 24,-18\"/>\n",
       "<text text-anchor=\"start\" x=\"25\" y=\"-22.2\" font-family=\"Helvetica,sans-Serif\" font-size=\"11.00\" fill=\"#444443\"> 0</text>\n",
       "<polygon fill=\"#fefecd\" stroke=\"transparent\" points=\"2,-16 2,-18 36,-18 36,-16 2,-16\"/>\n",
       "<polygon fill=\"#fefecd\" stroke=\"transparent\" points=\"2,-2 2,-16 14,-16 14,-2 2,-2\"/>\n",
       "<text text-anchor=\"start\" x=\"2\" y=\"-6.2\" font-family=\"Helvetica,sans-Serif\" font-size=\"11.00\" fill=\"#444443\">&#39;{&#39; </text>\n",
       "<text text-anchor=\"start\" x=\"14\" y=\"-4.8\" font-family=\"Helvetica,sans-Serif\" font-size=\"9.00\" fill=\"#444443\">→</text>\n",
       "<polygon fill=\"#fefecd\" stroke=\"transparent\" points=\"24,-2 24,-16 36,-16 36,-2 24,-2\"/>\n",
       "<text text-anchor=\"start\" x=\"25\" y=\"-6.2\" font-family=\"Helvetica,sans-Serif\" font-size=\"11.00\" fill=\"#444443\"> 0</text>\n",
       "</g>\n",
       "</g>\n",
       "</svg>\n"
      ],
      "text/plain": [
       "<graphviz.files.Source at 0x7fdd287f18b0>"
      ]
     },
     "execution_count": 4,
     "metadata": {},
     "output_type": "execute_result"
    }
   ],
   "source": [
    "from lolviz import *\n",
    "objviz({'(':0,'[':0,'{':0})  # a first attempt at tracking"
   ]
  },
  {
   "cell_type": "markdown",
   "id": "678f5b4e-2179-4cac-b138-167fe67f3dfe",
   "metadata": {},
   "source": [
    "Let's see what happens with a bad example: `([)`. When we get to the `)`, the counts are"
   ]
  },
  {
   "cell_type": "code",
   "execution_count": 5,
   "id": "d94ce147-8237-42ba-8383-8452b9256112",
   "metadata": {},
   "outputs": [
    {
     "data": {
      "image/svg+xml": [
       "<?xml version=\"1.0\" encoding=\"UTF-8\" standalone=\"no\"?>\n",
       "<!DOCTYPE svg PUBLIC \"-//W3C//DTD SVG 1.1//EN\"\n",
       " \"http://www.w3.org/Graphics/SVG/1.1/DTD/svg11.dtd\">\n",
       "<!-- Generated by graphviz version 2.47.2 (20210527.0053)\n",
       " -->\n",
       "<!-- Title: G Pages: 1 -->\n",
       "<svg width=\"46pt\" height=\"58pt\"\n",
       " viewBox=\"0.00 0.00 46.00 58.00\" xmlns=\"http://www.w3.org/2000/svg\" xmlns:xlink=\"http://www.w3.org/1999/xlink\">\n",
       "<g id=\"graph0\" class=\"graph\" transform=\"scale(1 1) rotate(0) translate(4 54)\">\n",
       "<title>G</title>\n",
       "<polygon fill=\"white\" stroke=\"transparent\" points=\"-4,4 -4,-54 42,-54 42,4 -4,4\"/>\n",
       "<!-- node140587843895360 -->\n",
       "<g id=\"node1\" class=\"node\">\n",
       "<title>node140587843895360</title>\n",
       "<polygon fill=\"#fefecd\" stroke=\"#444443\" stroke-width=\"0.5\" points=\"38,-50 0,-50 0,0 38,0 38,-50\"/>\n",
       "<polygon fill=\"#fefecd\" stroke=\"transparent\" points=\"2,-34 2,-48 14,-48 14,-34 2,-34\"/>\n",
       "<text text-anchor=\"start\" x=\"2\" y=\"-38.2\" font-family=\"Helvetica,sans-Serif\" font-size=\"11.00\" fill=\"#444443\">&#39;(&#39; </text>\n",
       "<text text-anchor=\"start\" x=\"14\" y=\"-36.8\" font-family=\"Helvetica,sans-Serif\" font-size=\"9.00\" fill=\"#444443\">→</text>\n",
       "<polygon fill=\"#fefecd\" stroke=\"transparent\" points=\"24,-34 24,-48 36,-48 36,-34 24,-34\"/>\n",
       "<text text-anchor=\"start\" x=\"25\" y=\"-38.2\" font-family=\"Helvetica,sans-Serif\" font-size=\"11.00\" fill=\"#444443\"> 1</text>\n",
       "<polygon fill=\"#fefecd\" stroke=\"transparent\" points=\"2,-32 2,-34 36,-34 36,-32 2,-32\"/>\n",
       "<polygon fill=\"#fefecd\" stroke=\"transparent\" points=\"2,-18 2,-32 14,-32 14,-18 2,-18\"/>\n",
       "<text text-anchor=\"start\" x=\"3\" y=\"-22.2\" font-family=\"Helvetica,sans-Serif\" font-size=\"11.00\" fill=\"#444443\">&#39;[&#39; </text>\n",
       "<text text-anchor=\"start\" x=\"14\" y=\"-20.8\" font-family=\"Helvetica,sans-Serif\" font-size=\"9.00\" fill=\"#444443\">→</text>\n",
       "<polygon fill=\"#fefecd\" stroke=\"transparent\" points=\"24,-18 24,-32 36,-32 36,-18 24,-18\"/>\n",
       "<text text-anchor=\"start\" x=\"25\" y=\"-22.2\" font-family=\"Helvetica,sans-Serif\" font-size=\"11.00\" fill=\"#444443\"> 1</text>\n",
       "<polygon fill=\"#fefecd\" stroke=\"transparent\" points=\"2,-16 2,-18 36,-18 36,-16 2,-16\"/>\n",
       "<polygon fill=\"#fefecd\" stroke=\"transparent\" points=\"2,-2 2,-16 14,-16 14,-2 2,-2\"/>\n",
       "<text text-anchor=\"start\" x=\"2\" y=\"-6.2\" font-family=\"Helvetica,sans-Serif\" font-size=\"11.00\" fill=\"#444443\">&#39;{&#39; </text>\n",
       "<text text-anchor=\"start\" x=\"14\" y=\"-4.8\" font-family=\"Helvetica,sans-Serif\" font-size=\"9.00\" fill=\"#444443\">→</text>\n",
       "<polygon fill=\"#fefecd\" stroke=\"transparent\" points=\"24,-2 24,-16 36,-16 36,-2 24,-2\"/>\n",
       "<text text-anchor=\"start\" x=\"25\" y=\"-6.2\" font-family=\"Helvetica,sans-Serif\" font-size=\"11.00\" fill=\"#444443\"> 0</text>\n",
       "</g>\n",
       "</g>\n",
       "</svg>\n"
      ],
      "text/plain": [
       "<graphviz.files.Source at 0x7fdd5833aaf0>"
      ]
     },
     "execution_count": 5,
     "metadata": {},
     "output_type": "execute_result"
    }
   ],
   "source": [
    "objviz({'(':1,'[':1,'{':0})  # a first attempt at tracking"
   ]
  },
  {
   "cell_type": "markdown",
   "id": "394cd8f0-4ded-4ab1-932b-52cfec194675",
   "metadata": {},
   "source": [
    "We need to drop the count of the `)` but how do we know that it is in the right order? We don't. "
   ]
  },
  {
   "cell_type": "markdown",
   "id": "7cdb251f-f445-4f08-8778-3325a2854898",
   "metadata": {},
   "source": [
    "#### The right approach\n",
    "\n",
    "It's not just the character count that matters, but the sequence of open and closes. When we see a close character, the most recent opening character must be the associated grouping symbol. Because these groupings can be nested, it complicates matters. We need a way to track the opening characters we've seen before and in their order of appearance.  Since I know that the solution requires a [stack data structure](https://docs.python.org/3/tutorial/datastructures.html#using-lists-as-stacks) for tracking symbols, I'm going to draw it as such:\n",
    "\n",
    "<img src=\"images/stack-parens.png\" width=\"120\">\n",
    "\n",
    "At this point, we see the first closing symbol and so we compare the closing symbol with the top of the stack to see if it's the most recently opened grouping. It is, so we pop off the `(` from the stack and move to the next character with her finger.\n",
    "\n",
    "Take a look at the situation when our finger moves to the `}`. We can see that there is a clear mismatch between the closing character under the finger and what we are expecting, thanks to the stack of open grouping symbols.\n",
    " \n",
    "<img src=\"images/stack-parens-2.png\" width=\"120\">\n",
    "\n",
    "Now that we have a working process, we can think about actually implementing it.  I will play around with some code to make sure I can make it work and then worry about putting it into a nice function. This is a typical workflow for programmers. Explore then cleanup."
   ]
  },
  {
   "cell_type": "code",
   "execution_count": 6,
   "id": "528c26c6-2f17-4958-a112-282250b6c5e9",
   "metadata": {},
   "outputs": [
    {
     "name": "stdout",
     "output_type": "stream",
     "text": [
      "Char ')' doesn't have an opening char; symbols=\n",
      "Char ']' doesn't have an opening char; symbols=\n",
      "Char '}' doesn't have an opening char; symbols=\n"
     ]
    }
   ],
   "source": [
    "symbols = [] # our stack of symbols\n",
    "openers = {')':'(', ']':'[', '}':'{'}\n",
    "s = \")]}\"\n",
    "for c in s:\n",
    "    if c in \"([{\":\n",
    "        symbols.append(c)\n",
    "    else: # verify we have the right opening symbol\n",
    "        if len(symbols)==0:\n",
    "            print(f\"Char '{c}' doesn't have an opening char; symbols={','.join(symbols)}\")\n",
    "            continue\n",
    "        opener = symbols.pop()\n",
    "        if openers[c] != opener:\n",
    "            print(f\"mismatched '{c}' doesn't match '{opener}'; symbols={','.join(symbols)}\")\n",
    "if len(symbols)>0:\n",
    "    print(f\"Unclosed groupings: {symbols}\")"
   ]
  },
  {
   "cell_type": "markdown",
   "id": "76aed72f-23de-4cd0-af84-d4a469cd0d30",
   "metadata": {},
   "source": [
    "After trying various input strings, I added a number of messages to catch errors. Now we can create a clean function that returns true or false as to whether the groupings are balanced:"
   ]
  },
  {
   "cell_type": "code",
   "execution_count": 7,
   "id": "c98dd80e-78d1-4553-96fc-2685d69e0ac3",
   "metadata": {},
   "outputs": [],
   "source": [
    "def isValid(s: str) -> bool:\n",
    "    symbols = [] # our stack of symbols\n",
    "    openers = {')':'(', ']':'[', '}':'{'}\n",
    "    for c in s:\n",
    "        if c in \"([{\":\n",
    "            symbols.append(c)\n",
    "        else: # verify we have the right opening symbol\n",
    "            if len(symbols)==0:\n",
    "                return False\n",
    "            opener = symbols.pop()\n",
    "            if openers[c] != opener:\n",
    "                return False\n",
    "    if len(symbols)>0:\n",
    "        return False\n",
    "    return True"
   ]
  },
  {
   "cell_type": "markdown",
   "id": "93c2dea1-ba02-41de-be8b-df8289a57662",
   "metadata": {},
   "source": [
    "We have to try the function out with a bunch of test cases to make sure it works, including some edge cases:"
   ]
  },
  {
   "cell_type": "code",
   "execution_count": 8,
   "id": "48a88823-726f-4689-868a-a9c76ed7cc32",
   "metadata": {},
   "outputs": [
    {
     "data": {
      "text/plain": [
       "True"
      ]
     },
     "execution_count": 8,
     "metadata": {},
     "output_type": "execute_result"
    }
   ],
   "source": [
    "isValid('')"
   ]
  },
  {
   "cell_type": "code",
   "execution_count": 9,
   "id": "61bc165e-8b8a-4f93-aa54-58ca1b1b9923",
   "metadata": {},
   "outputs": [
    {
     "data": {
      "text/plain": [
       "True"
      ]
     },
     "execution_count": 9,
     "metadata": {},
     "output_type": "execute_result"
    }
   ],
   "source": [
    "isValid('()')"
   ]
  },
  {
   "cell_type": "code",
   "execution_count": 10,
   "id": "90532ac5-4223-4f0c-94b2-5f20719fbef2",
   "metadata": {},
   "outputs": [
    {
     "data": {
      "text/plain": [
       "False"
      ]
     },
     "execution_count": 10,
     "metadata": {},
     "output_type": "execute_result"
    }
   ],
   "source": [
    "isValid('{()')"
   ]
  },
  {
   "cell_type": "code",
   "execution_count": 11,
   "id": "01adc9a9-bcae-4f67-b153-cfb5d6dc3178",
   "metadata": {},
   "outputs": [
    {
     "data": {
      "text/plain": [
       "False"
      ]
     },
     "execution_count": 11,
     "metadata": {},
     "output_type": "execute_result"
    }
   ],
   "source": [
    "isValid('(]')"
   ]
  },
  {
   "cell_type": "code",
   "execution_count": 12,
   "id": "6e41e6fa-9b06-4773-8788-b30e5a529c90",
   "metadata": {},
   "outputs": [
    {
     "data": {
      "text/plain": [
       "True"
      ]
     },
     "execution_count": 12,
     "metadata": {},
     "output_type": "execute_result"
    }
   ],
   "source": [
    "isValid('{[()]}')"
   ]
  },
  {
   "cell_type": "code",
   "execution_count": 13,
   "id": "1df525a5-5ae4-4879-a22a-0cd5f761c467",
   "metadata": {},
   "outputs": [
    {
     "data": {
      "text/plain": [
       "True"
      ]
     },
     "execution_count": 13,
     "metadata": {},
     "output_type": "execute_result"
    }
   ],
   "source": [
    "isValid('()[]{}')"
   ]
  },
  {
   "cell_type": "code",
   "execution_count": 14,
   "id": "7033f4d0-5b55-49f7-9468-afdac2fae063",
   "metadata": {},
   "outputs": [
    {
     "data": {
      "text/plain": [
       "False"
      ]
     },
     "execution_count": 14,
     "metadata": {},
     "output_type": "execute_result"
    }
   ],
   "source": [
    "isValid('(')"
   ]
  },
  {
   "cell_type": "markdown",
   "id": "d47d12bf-2e69-46a4-bd95-42a261b79215",
   "metadata": {},
   "source": [
    "Submitting to leetcode indicates that the runtime is faster than 85% of submitted solutions."
   ]
  },
  {
   "cell_type": "markdown",
   "id": "e86b9a76-0032-4902-a029-083ab75d2011",
   "metadata": {},
   "source": [
    "### Exercise: determining which ad to show on a website\n",
    "\n",
    "Imagine you work for a company that has a website and you'd like to be able to show ads on the various webpages on the website.  Customers that want to purchase ads by a certain fraction of the ad \"impressions\".  For example, company X might buy 30%, company Y 60%, and company Z 10% of the ad space. Your job is to randomly show the company's ads, but in the correct proportions.\n",
    "\n",
    "To solve this problem, but it helps to visualize the relationship between the companies; we might draw a bar chart on paper that looks like this:"
   ]
  },
  {
   "cell_type": "code",
   "execution_count": 15,
   "id": "44a137f0-ac02-49d5-89e0-59e9f5dce49a",
   "metadata": {},
   "outputs": [],
   "source": [
    "import matplotlib.pyplot as plt\n",
    "%config InlineBackend.figure_format = 'retina'  # gets sharper images"
   ]
  },
  {
   "cell_type": "code",
   "execution_count": 16,
   "id": "d739c319-daeb-4e23-ac3d-0dc914edc83a",
   "metadata": {},
   "outputs": [
    {
     "data": {
      "image/png": "[encoded data removed]",
      "text/plain": [
       "<Figure size 144x144 with 1 Axes>"
      ]
     },
     "metadata": {
      "image/png": {
       "height": 153,
       "width": 159
      },
      "needs_background": "light"
     },
     "output_type": "display_data"
    }
   ],
   "source": [
    "plt.figure(figsize=(2,2))\n",
    "plt.bar([\"X\",\"Y\",\"Z\"],[30,60,10])\n",
    "plt.xlabel(\"Company\")\n",
    "plt.ylabel(\"Ad percentage\")\n",
    "plt.show()"
   ]
  },
  {
   "cell_type": "markdown",
   "id": "0b7a03ee-d534-4a4b-bb3a-81b4a8e48272",
   "metadata": {},
   "source": [
    "We need to roll some random computer dice with three sides that are biased in this way. Another way to look at this as throwing darts at the wall and having most of the darts end up in the Y column, 30% in the X column, etc... Without altering gravity, that's hard to do. An easier way is to stretch things out so that the width of each company's region is proportional to its percentage, which then flattens out the heights of the bars:\n",
    "\n",
    "<!-- this doesn't work for some reason\n",
    "<img src=\"images/ads-regions.png\" width=\"200\">\n",
    "-->"
   ]
  },
  {
   "cell_type": "code",
   "execution_count": 17,
   "id": "8d673c1d-fdc3-4943-aa8c-bfbfa77dbd3c",
   "metadata": {},
   "outputs": [
    {
     "data": {
      "image/png": "[encoded data removed]",
      "text/plain": [
       "<IPython.core.display.Image object>"
      ]
     },
     "execution_count": 17,
     "metadata": {
      "image/png": {
       "width": 300
      }
     },
     "output_type": "execute_result"
    }
   ],
   "source": [
    "from IPython.display import Image\n",
    "Image(filename='images/ads-regions.png', width=300)"
   ]
  },
  {
   "cell_type": "markdown",
   "id": "e04aba39-384d-4484-aaa6-e6e28ffad74f",
   "metadata": {},
   "source": [
    "If we throw darts at this overall region, X will get 30%, Y will get 60%, and Z will get 10%. So this tells us an approach: pick a uniform random number and figure out which region it falls in and report that company's ad.\n",
    "\n",
    "So now we know how to solve it, let's code it up. Obviously we have some research to do because we need to figure out how to get a random number. There are a number of ways, but let's use numpy:"
   ]
  },
  {
   "cell_type": "code",
   "execution_count": 18,
   "id": "06bf73e3-9120-42f9-9fb2-10bdd24027b0",
   "metadata": {},
   "outputs": [
    {
     "data": {
      "text/plain": [
       "(0.08599568423657733, 0.0995368831141007, 0.028752754822220505)"
      ]
     },
     "execution_count": 18,
     "metadata": {},
     "output_type": "execute_result"
    }
   ],
   "source": [
    "import numpy as np\n",
    "\n",
    "np.random.random(), np.random.random(), np.random.random()"
   ]
  },
  {
   "cell_type": "markdown",
   "id": "22d3516b-da84-4f96-bd2d-eb8b0de761d2",
   "metadata": {},
   "source": [
    "Let's make a function that returns a company name with every call. To keep things simple, let's do it for the fixed three companies we've been talking about:"
   ]
  },
  {
   "cell_type": "code",
   "execution_count": 19,
   "id": "92450829-1a8c-4f4f-bcb8-40e40a73dbea",
   "metadata": {},
   "outputs": [],
   "source": [
    "def select(companies):\n",
    "    i = np.random.random() # throw a dart\n",
    "    if i>=0 and i<.30:\n",
    "        return companies[0]\n",
    "    if i>=.30 and i<.90:\n",
    "        return companies[1]\n",
    "    return companies[2]"
   ]
  },
  {
   "cell_type": "code",
   "execution_count": 20,
   "id": "addc1e97-bbb9-4300-b25b-ee972f0df6ce",
   "metadata": {
    "tags": []
   },
   "outputs": [
    {
     "data": {
      "text/plain": [
       "['X', 'Y', 'Y', 'X', 'X', 'Z', 'Y', 'Y', 'Y', 'Y', 'X', 'X', 'Y', 'Y', 'Y']"
      ]
     },
     "execution_count": 20,
     "metadata": {},
     "output_type": "execute_result"
    }
   ],
   "source": [
    "ads = [select(companies=[\"X\",\"Y\",\"Z\"]) for i in range(1000)]\n",
    "ads[:15]"
   ]
  },
  {
   "cell_type": "markdown",
   "id": "18a5137f-a7a7-4b2a-a293-9d8ac76b4bbc",
   "metadata": {},
   "source": [
    "As part of our problem-solving strategy, we also need to verify things, so let's do a histogram to verify the percentages look right:"
   ]
  },
  {
   "cell_type": "code",
   "execution_count": 21,
   "id": "107759fa-998b-4580-bde2-351d034954a9",
   "metadata": {},
   "outputs": [
    {
     "data": {
      "image/png": "[encoded data removed]",
      "text/plain": [
       "<Figure size 144x144 with 1 Axes>"
      ]
     },
     "metadata": {
      "image/png": {
       "height": 153,
       "width": 165
      },
      "needs_background": "light"
     },
     "output_type": "display_data"
    }
   ],
   "source": [
    "plt.figure(figsize=(2,2))\n",
    "plt.hist(ads)\n",
    "plt.xlabel(\"Company\")\n",
    "plt.ylabel(\"Ad percentage\")\n",
    "plt.show()"
   ]
  },
  {
   "cell_type": "markdown",
   "id": "8b8ced79-7a25-483f-8814-fef50e0571a9",
   "metadata": {},
   "source": [
    "### Exercise: computing histograms\n",
    "\n",
    "In the previous exercise, we used the histogram functionality of the plotting library to compute the number of X, Y, and Z company values in the `ads` list. Now, let's figure out a way to efficiently keep a count for the company names in the list, without relying on built-in functionality.  To make it more interesting, we're opening up to more than just the three companies."
   ]
  },
  {
   "cell_type": "code",
   "execution_count": 22,
   "id": "b7dcb6be-d1e3-45d5-9241-dea666a389c8",
   "metadata": {},
   "outputs": [],
   "source": [
    "companies=[\"Google\",\"Apple\",\"FaceBook\",\"HP\",\"SAP\"]\n",
    "n = len(companies)"
   ]
  },
  {
   "cell_type": "markdown",
   "id": "1d4cef0e-b622-4cc2-8aa8-2c708bb31dcf",
   "metadata": {},
   "source": [
    "As a subexercise, how would we get a uniform random sample of 5000 company names from this list? To get you familiar with the vector-based approach of numpy, let's ask for a list of integer indexes into the company's list of size 5000. The index values should be integers and in the range `[0,n)`:"
   ]
  },
  {
   "cell_type": "code",
   "execution_count": 23,
   "id": "7bd121dc-48b0-4643-abff-01fa4306550f",
   "metadata": {},
   "outputs": [
    {
     "data": {
      "text/plain": [
       "array([0, 1, 1, 4, 0, 1, 4, 0, 2, 2, 4, 2, 3, 3, 1, 2, 2, 3, 1, 2, 1, 1,\n",
       "       4, 2, 3, 0, 2, 2, 2, 1, 3, 3, 3, 4, 3, 0, 4, 0, 0, 4, 3, 1, 0, 0,\n",
       "       1, 3, 3, 3, 3, 4])"
      ]
     },
     "execution_count": 23,
     "metadata": {},
     "output_type": "execute_result"
    }
   ],
   "source": [
    "idxs = np.random.randint(low=0,high=n,size=5000)\n",
    "idxs[0:50]"
   ]
  },
  {
   "cell_type": "markdown",
   "id": "aee59214-93eb-4906-8540-4a8cfb431f7b",
   "metadata": {},
   "source": [
    "Let's also convert the list to a numpy array, which then allows us to use a list of integers as an index:"
   ]
  },
  {
   "cell_type": "code",
   "execution_count": 24,
   "id": "de07726a-e5d8-4ba9-8087-733511b3c990",
   "metadata": {},
   "outputs": [
    {
     "data": {
      "text/plain": [
       "array(['Google', 'Apple', 'Apple', 'SAP', 'Google', 'Apple', 'SAP',\n",
       "       'Google', 'FaceBook', 'FaceBook', 'SAP', 'FaceBook', 'HP', 'HP',\n",
       "       'Apple'], dtype='<U8')"
      ]
     },
     "execution_count": 24,
     "metadata": {},
     "output_type": "execute_result"
    }
   ],
   "source": [
    "companies = np.array(companies)\n",
    "names = companies[idxs]\n",
    "names[0:15]"
   ]
  },
  {
   "cell_type": "markdown",
   "id": "ecec4a92-ef9e-4806-87c6-91789167c393",
   "metadata": {},
   "source": [
    "We could also do this with a list comprehension in pure Python, but it's a good idea to get familiar with numpy.\n",
    "\n",
    "Ok, now we have a list of companies and would like to count the number of occurrences of each. If we wanted to use numpy, we could do the following:"
   ]
  },
  {
   "cell_type": "code",
   "execution_count": 25,
   "id": "a21ecf6b-f9b6-492a-bc33-a7e423e5602a",
   "metadata": {},
   "outputs": [
    {
     "data": {
      "text/plain": [
       "(array(['Apple', 'FaceBook', 'Google', 'HP', 'SAP'], dtype='<U8'),\n",
       " array([ 943,  952, 1017, 1068, 1020]))"
      ]
     },
     "execution_count": 25,
     "metadata": {},
     "output_type": "execute_result"
    }
   ],
   "source": [
    "np.unique(names, return_counts=True)"
   ]
  },
  {
   "cell_type": "markdown",
   "id": "bd4c55b5-3a20-4f06-bb29-6cc4082ec986",
   "metadata": {},
   "source": [
    "Instead, we want to implement this ourselves.   We are given a list of company names with multiple occurrences of each.  To solve this, we don't think about code and think about how we would do this by hand. The first thing I would do is to create a table with a company name and account to the right, something like this:"
   ]
  },
  {
   "cell_type": "code",
   "execution_count": 26,
   "id": "4f99b6cd-9d97-44fe-a0ec-d1e89e15233e",
   "metadata": {},
   "outputs": [
    {
     "data": {
      "image/svg+xml": [
       "<?xml version=\"1.0\" encoding=\"UTF-8\" standalone=\"no\"?>\n",
       "<!DOCTYPE svg PUBLIC \"-//W3C//DTD SVG 1.1//EN\"\n",
       " \"http://www.w3.org/Graphics/SVG/1.1/DTD/svg11.dtd\">\n",
       "<!-- Generated by graphviz version 2.47.2 (20210527.0053)\n",
       " -->\n",
       "<!-- Title: G Pages: 1 -->\n",
       "<svg width=\"91pt\" height=\"90pt\"\n",
       " viewBox=\"0.00 0.00 91.00 90.00\" xmlns=\"http://www.w3.org/2000/svg\" xmlns:xlink=\"http://www.w3.org/1999/xlink\">\n",
       "<g id=\"graph0\" class=\"graph\" transform=\"scale(1 1) rotate(0) translate(4 86)\">\n",
       "<title>G</title>\n",
       "<polygon fill=\"white\" stroke=\"transparent\" points=\"-4,4 -4,-86 87,-86 87,4 -4,4\"/>\n",
       "<!-- node140588127440640 -->\n",
       "<g id=\"node1\" class=\"node\">\n",
       "<title>node140588127440640</title>\n",
       "<polygon fill=\"#fefecd\" stroke=\"#444443\" stroke-width=\"0.5\" points=\"83,-82 0,-82 0,0 83,0 83,-82\"/>\n",
       "<polygon fill=\"#fefecd\" stroke=\"transparent\" points=\"2.5,-66 2.5,-80 59.5,-80 59.5,-66 2.5,-66\"/>\n",
       "<text text-anchor=\"start\" x=\"16.5\" y=\"-70.2\" font-family=\"Helvetica,sans-Serif\" font-size=\"11.00\" fill=\"#444443\">&#39;Google&#39; </text>\n",
       "<text text-anchor=\"start\" x=\"59.5\" y=\"-68.8\" font-family=\"Helvetica,sans-Serif\" font-size=\"9.00\" fill=\"#444443\">→</text>\n",
       "<polygon fill=\"#fefecd\" stroke=\"transparent\" points=\"69.5,-66 69.5,-80 81.5,-80 81.5,-66 69.5,-66\"/>\n",
       "<text text-anchor=\"start\" x=\"70.5\" y=\"-70.2\" font-family=\"Helvetica,sans-Serif\" font-size=\"11.00\" fill=\"#444443\"> 0</text>\n",
       "<polygon fill=\"#fefecd\" stroke=\"transparent\" points=\"2.5,-64 2.5,-66 81.5,-66 81.5,-64 2.5,-64\"/>\n",
       "<polygon fill=\"#fefecd\" stroke=\"transparent\" points=\"2.5,-50 2.5,-64 59.5,-64 59.5,-50 2.5,-50\"/>\n",
       "<text text-anchor=\"start\" x=\"23.5\" y=\"-54.2\" font-family=\"Helvetica,sans-Serif\" font-size=\"11.00\" fill=\"#444443\">&#39;Apple&#39; </text>\n",
       "<text text-anchor=\"start\" x=\"59.5\" y=\"-52.8\" font-family=\"Helvetica,sans-Serif\" font-size=\"9.00\" fill=\"#444443\">→</text>\n",
       "<polygon fill=\"#fefecd\" stroke=\"transparent\" points=\"69.5,-50 69.5,-64 81.5,-64 81.5,-50 69.5,-50\"/>\n",
       "<text text-anchor=\"start\" x=\"70.5\" y=\"-54.2\" font-family=\"Helvetica,sans-Serif\" font-size=\"11.00\" fill=\"#444443\"> 0</text>\n",
       "<polygon fill=\"#fefecd\" stroke=\"transparent\" points=\"2.5,-48 2.5,-50 81.5,-50 81.5,-48 2.5,-48\"/>\n",
       "<polygon fill=\"#fefecd\" stroke=\"transparent\" points=\"2.5,-34 2.5,-48 59.5,-48 59.5,-34 2.5,-34\"/>\n",
       "<text text-anchor=\"start\" x=\"2.5\" y=\"-38.2\" font-family=\"Helvetica,sans-Serif\" font-size=\"11.00\" fill=\"#444443\">&#39;FaceBook&#39; </text>\n",
       "<text text-anchor=\"start\" x=\"59.5\" y=\"-36.8\" font-family=\"Helvetica,sans-Serif\" font-size=\"9.00\" fill=\"#444443\">→</text>\n",
       "<polygon fill=\"#fefecd\" stroke=\"transparent\" points=\"69.5,-34 69.5,-48 81.5,-48 81.5,-34 69.5,-34\"/>\n",
       "<text text-anchor=\"start\" x=\"70.5\" y=\"-38.2\" font-family=\"Helvetica,sans-Serif\" font-size=\"11.00\" fill=\"#444443\"> 0</text>\n",
       "<polygon fill=\"#fefecd\" stroke=\"transparent\" points=\"2.5,-32 2.5,-34 81.5,-34 81.5,-32 2.5,-32\"/>\n",
       "<polygon fill=\"#fefecd\" stroke=\"transparent\" points=\"2.5,-18 2.5,-32 59.5,-32 59.5,-18 2.5,-18\"/>\n",
       "<text text-anchor=\"start\" x=\"35.5\" y=\"-22.2\" font-family=\"Helvetica,sans-Serif\" font-size=\"11.00\" fill=\"#444443\">&#39;HP&#39; </text>\n",
       "<text text-anchor=\"start\" x=\"59.5\" y=\"-20.8\" font-family=\"Helvetica,sans-Serif\" font-size=\"9.00\" fill=\"#444443\">→</text>\n",
       "<polygon fill=\"#fefecd\" stroke=\"transparent\" points=\"69.5,-18 69.5,-32 81.5,-32 81.5,-18 69.5,-18\"/>\n",
       "<text text-anchor=\"start\" x=\"70.5\" y=\"-22.2\" font-family=\"Helvetica,sans-Serif\" font-size=\"11.00\" fill=\"#444443\"> 0</text>\n",
       "<polygon fill=\"#fefecd\" stroke=\"transparent\" points=\"2.5,-16 2.5,-18 81.5,-18 81.5,-16 2.5,-16\"/>\n",
       "<polygon fill=\"#fefecd\" stroke=\"transparent\" points=\"2.5,-2 2.5,-16 59.5,-16 59.5,-2 2.5,-2\"/>\n",
       "<text text-anchor=\"start\" x=\"28.5\" y=\"-6.2\" font-family=\"Helvetica,sans-Serif\" font-size=\"11.00\" fill=\"#444443\">&#39;SAP&#39; </text>\n",
       "<text text-anchor=\"start\" x=\"59.5\" y=\"-4.8\" font-family=\"Helvetica,sans-Serif\" font-size=\"9.00\" fill=\"#444443\">→</text>\n",
       "<polygon fill=\"#fefecd\" stroke=\"transparent\" points=\"69.5,-2 69.5,-16 81.5,-16 81.5,-2 69.5,-2\"/>\n",
       "<text text-anchor=\"start\" x=\"70.5\" y=\"-6.2\" font-family=\"Helvetica,sans-Serif\" font-size=\"11.00\" fill=\"#444443\"> 0</text>\n",
       "</g>\n",
       "</g>\n",
       "</svg>\n"
      ],
      "text/plain": [
       "<graphviz.files.Source at 0x7fdd287b4fa0>"
      ]
     },
     "execution_count": 26,
     "metadata": {},
     "output_type": "execute_result"
    }
   ],
   "source": [
    "from lolviz import *\n",
    "objviz({c:0 for c in companies})"
   ]
  },
  {
   "cell_type": "markdown",
   "id": "aabc2c0b-86a6-4e89-883a-1d96748bcb88",
   "metadata": {},
   "source": [
    "Then, I would move my finger down the list of company names and the count in my table for the company pointed to by my finger:\n",
    "\n",
    "<img src=\"images/companies.png\" width=\"400\">\n",
    "\n",
    "That sounds like a good approach and therefore we can code this up.  Every time I think of moving my finger down a list, I think of a for loop of some kind.   When I think of a table mapping company name to account, I think of a dictionary."
   ]
  },
  {
   "cell_type": "code",
   "execution_count": 27,
   "id": "96921844-40cb-4ba4-8279-28b35988ee08",
   "metadata": {},
   "outputs": [
    {
     "data": {
      "image/svg+xml": [
       "<?xml version=\"1.0\" encoding=\"UTF-8\" standalone=\"no\"?>\n",
       "<!DOCTYPE svg PUBLIC \"-//W3C//DTD SVG 1.1//EN\"\n",
       " \"http://www.w3.org/Graphics/SVG/1.1/DTD/svg11.dtd\">\n",
       "<!-- Generated by graphviz version 2.47.2 (20210527.0053)\n",
       " -->\n",
       "<!-- Title: G Pages: 1 -->\n",
       "<svg width=\"109pt\" height=\"90pt\"\n",
       " viewBox=\"0.00 0.00 109.00 90.00\" xmlns=\"http://www.w3.org/2000/svg\" xmlns:xlink=\"http://www.w3.org/1999/xlink\">\n",
       "<g id=\"graph0\" class=\"graph\" transform=\"scale(1 1) rotate(0) translate(4 86)\">\n",
       "<title>G</title>\n",
       "<polygon fill=\"white\" stroke=\"transparent\" points=\"-4,4 -4,-86 105,-86 105,4 -4,4\"/>\n",
       "<!-- node140588127414848 -->\n",
       "<g id=\"node1\" class=\"node\">\n",
       "<title>node140588127414848</title>\n",
       "<polygon fill=\"#fefecd\" stroke=\"#444443\" stroke-width=\"0.5\" points=\"101,-82 0,-82 0,0 101,0 101,-82\"/>\n",
       "<polygon fill=\"#fefecd\" stroke=\"transparent\" points=\"2.5,-66 2.5,-80 59.5,-80 59.5,-66 2.5,-66\"/>\n",
       "<text text-anchor=\"start\" x=\"16.5\" y=\"-70.2\" font-family=\"Helvetica,sans-Serif\" font-size=\"11.00\" fill=\"#444443\">&#39;Google&#39; </text>\n",
       "<text text-anchor=\"start\" x=\"59.5\" y=\"-68.8\" font-family=\"Helvetica,sans-Serif\" font-size=\"9.00\" fill=\"#444443\">→</text>\n",
       "<polygon fill=\"#fefecd\" stroke=\"transparent\" points=\"69.5,-66 69.5,-80 99.5,-80 99.5,-66 69.5,-66\"/>\n",
       "<text text-anchor=\"start\" x=\"70.5\" y=\"-70.2\" font-family=\"Helvetica,sans-Serif\" font-size=\"11.00\" fill=\"#444443\"> 1017</text>\n",
       "<polygon fill=\"#fefecd\" stroke=\"transparent\" points=\"2.5,-64 2.5,-66 99.5,-66 99.5,-64 2.5,-64\"/>\n",
       "<polygon fill=\"#fefecd\" stroke=\"transparent\" points=\"2.5,-50 2.5,-64 59.5,-64 59.5,-50 2.5,-50\"/>\n",
       "<text text-anchor=\"start\" x=\"23.5\" y=\"-54.2\" font-family=\"Helvetica,sans-Serif\" font-size=\"11.00\" fill=\"#444443\">&#39;Apple&#39; </text>\n",
       "<text text-anchor=\"start\" x=\"59.5\" y=\"-52.8\" font-family=\"Helvetica,sans-Serif\" font-size=\"9.00\" fill=\"#444443\">→</text>\n",
       "<polygon fill=\"#fefecd\" stroke=\"transparent\" points=\"69.5,-50 69.5,-64 99.5,-64 99.5,-50 69.5,-50\"/>\n",
       "<text text-anchor=\"start\" x=\"70.5\" y=\"-54.2\" font-family=\"Helvetica,sans-Serif\" font-size=\"11.00\" fill=\"#444443\"> 943</text>\n",
       "<polygon fill=\"#fefecd\" stroke=\"transparent\" points=\"2.5,-48 2.5,-50 99.5,-50 99.5,-48 2.5,-48\"/>\n",
       "<polygon fill=\"#fefecd\" stroke=\"transparent\" points=\"2.5,-34 2.5,-48 59.5,-48 59.5,-34 2.5,-34\"/>\n",
       "<text text-anchor=\"start\" x=\"2.5\" y=\"-38.2\" font-family=\"Helvetica,sans-Serif\" font-size=\"11.00\" fill=\"#444443\">&#39;FaceBook&#39; </text>\n",
       "<text text-anchor=\"start\" x=\"59.5\" y=\"-36.8\" font-family=\"Helvetica,sans-Serif\" font-size=\"9.00\" fill=\"#444443\">→</text>\n",
       "<polygon fill=\"#fefecd\" stroke=\"transparent\" points=\"69.5,-34 69.5,-48 99.5,-48 99.5,-34 69.5,-34\"/>\n",
       "<text text-anchor=\"start\" x=\"70.5\" y=\"-38.2\" font-family=\"Helvetica,sans-Serif\" font-size=\"11.00\" fill=\"#444443\"> 952</text>\n",
       "<polygon fill=\"#fefecd\" stroke=\"transparent\" points=\"2.5,-32 2.5,-34 99.5,-34 99.5,-32 2.5,-32\"/>\n",
       "<polygon fill=\"#fefecd\" stroke=\"transparent\" points=\"2.5,-18 2.5,-32 59.5,-32 59.5,-18 2.5,-18\"/>\n",
       "<text text-anchor=\"start\" x=\"35.5\" y=\"-22.2\" font-family=\"Helvetica,sans-Serif\" font-size=\"11.00\" fill=\"#444443\">&#39;HP&#39; </text>\n",
       "<text text-anchor=\"start\" x=\"59.5\" y=\"-20.8\" font-family=\"Helvetica,sans-Serif\" font-size=\"9.00\" fill=\"#444443\">→</text>\n",
       "<polygon fill=\"#fefecd\" stroke=\"transparent\" points=\"69.5,-18 69.5,-32 99.5,-32 99.5,-18 69.5,-18\"/>\n",
       "<text text-anchor=\"start\" x=\"70.5\" y=\"-22.2\" font-family=\"Helvetica,sans-Serif\" font-size=\"11.00\" fill=\"#444443\"> 1068</text>\n",
       "<polygon fill=\"#fefecd\" stroke=\"transparent\" points=\"2.5,-16 2.5,-18 99.5,-18 99.5,-16 2.5,-16\"/>\n",
       "<polygon fill=\"#fefecd\" stroke=\"transparent\" points=\"2.5,-2 2.5,-16 59.5,-16 59.5,-2 2.5,-2\"/>\n",
       "<text text-anchor=\"start\" x=\"28.5\" y=\"-6.2\" font-family=\"Helvetica,sans-Serif\" font-size=\"11.00\" fill=\"#444443\">&#39;SAP&#39; </text>\n",
       "<text text-anchor=\"start\" x=\"59.5\" y=\"-4.8\" font-family=\"Helvetica,sans-Serif\" font-size=\"9.00\" fill=\"#444443\">→</text>\n",
       "<polygon fill=\"#fefecd\" stroke=\"transparent\" points=\"69.5,-2 69.5,-16 99.5,-16 99.5,-2 69.5,-2\"/>\n",
       "<text text-anchor=\"start\" x=\"70.5\" y=\"-6.2\" font-family=\"Helvetica,sans-Serif\" font-size=\"11.00\" fill=\"#444443\"> 1020</text>\n",
       "</g>\n",
       "</g>\n",
       "</svg>\n"
      ],
      "text/plain": [
       "<graphviz.files.Source at 0x7fdd5833aa60>"
      ]
     },
     "execution_count": 27,
     "metadata": {},
     "output_type": "execute_result"
    }
   ],
   "source": [
    "counts = {c:0 for c in companies}\n",
    "for name in names:\n",
    "    counts[name] += 1\n",
    "objviz(counts)"
   ]
  },
  {
   "cell_type": "markdown",
   "id": "a038e996-66b9-4321-af49-628b400526f4",
   "metadata": {},
   "source": [
    "We would expect the numbers to be roughly the same, which they are. If we increase the sample size to 10,000, the counts would be even closer."
   ]
  },
  {
   "cell_type": "markdown",
   "id": "988740a6-7e76-419c-9d47-e7533ef37857",
   "metadata": {},
   "source": [
    "### Exercise: encrypting text\n",
    "\n",
    "In this exercise, let's learn a little bit about security and encryption by implementing a [cipher encryption function](https://en.wikipedia.org/wiki/Cipher). Given a string, the function must return an encrypted version and the key (the key is the reverse mapping of the cipher and is needed to decrypt). The cipher is a dictionary the maps character to a new character. A cipher encryption works by replacing each character in the plaintext with a character from a key.  For example, if we have the following partial key, we'd encrypt `cat` as `nsz` and `taca` as `zsns`."
   ]
  },
  {
   "cell_type": "code",
   "execution_count": 28,
   "id": "f7422fe1-ed5a-4680-ab8b-9a351c954206",
   "metadata": {},
   "outputs": [
    {
     "data": {
      "image/svg+xml": [
       "<?xml version=\"1.0\" encoding=\"UTF-8\" standalone=\"no\"?>\n",
       "<!DOCTYPE svg PUBLIC \"-//W3C//DTD SVG 1.1//EN\"\n",
       " \"http://www.w3.org/Graphics/SVG/1.1/DTD/svg11.dtd\">\n",
       "<!-- Generated by graphviz version 2.47.2 (20210527.0053)\n",
       " -->\n",
       "<!-- Title: G Pages: 1 -->\n",
       "<svg width=\"52pt\" height=\"58pt\"\n",
       " viewBox=\"0.00 0.00 52.00 58.00\" xmlns=\"http://www.w3.org/2000/svg\" xmlns:xlink=\"http://www.w3.org/1999/xlink\">\n",
       "<g id=\"graph0\" class=\"graph\" transform=\"scale(1 1) rotate(0) translate(4 54)\">\n",
       "<title>G</title>\n",
       "<polygon fill=\"white\" stroke=\"transparent\" points=\"-4,4 -4,-54 48,-54 48,4 -4,4\"/>\n",
       "<!-- node140588127474944 -->\n",
       "<g id=\"node1\" class=\"node\">\n",
       "<title>node140588127474944</title>\n",
       "<polygon fill=\"#fefecd\" stroke=\"#444443\" stroke-width=\"0.5\" points=\"44,-50 0,-50 0,0 44,0 44,-50\"/>\n",
       "<polygon fill=\"#fefecd\" stroke=\"transparent\" points=\"2,-34 2,-48 16,-48 16,-34 2,-34\"/>\n",
       "<text text-anchor=\"start\" x=\"2\" y=\"-38.2\" font-family=\"Helvetica,sans-Serif\" font-size=\"11.00\" fill=\"#444443\">&#39;a&#39; </text>\n",
       "<text text-anchor=\"start\" x=\"16\" y=\"-36.8\" font-family=\"Helvetica,sans-Serif\" font-size=\"9.00\" fill=\"#444443\">→</text>\n",
       "<polygon fill=\"#fefecd\" stroke=\"transparent\" points=\"26,-34 26,-48 42,-48 42,-34 26,-34\"/>\n",
       "<text text-anchor=\"start\" x=\"27\" y=\"-38.2\" font-family=\"Helvetica,sans-Serif\" font-size=\"11.00\" fill=\"#444443\"> &#39;s&#39;</text>\n",
       "<polygon fill=\"#fefecd\" stroke=\"transparent\" points=\"2,-32 2,-34 42,-34 42,-32 2,-32\"/>\n",
       "<polygon fill=\"#fefecd\" stroke=\"transparent\" points=\"2,-18 2,-32 16,-32 16,-18 2,-18\"/>\n",
       "<text text-anchor=\"start\" x=\"3\" y=\"-22.2\" font-family=\"Helvetica,sans-Serif\" font-size=\"11.00\" fill=\"#444443\">&#39;c&#39; </text>\n",
       "<text text-anchor=\"start\" x=\"16\" y=\"-20.8\" font-family=\"Helvetica,sans-Serif\" font-size=\"9.00\" fill=\"#444443\">→</text>\n",
       "<polygon fill=\"#fefecd\" stroke=\"transparent\" points=\"26,-18 26,-32 42,-32 42,-18 26,-18\"/>\n",
       "<text text-anchor=\"start\" x=\"27\" y=\"-22.2\" font-family=\"Helvetica,sans-Serif\" font-size=\"11.00\" fill=\"#444443\"> &#39;n&#39;</text>\n",
       "<polygon fill=\"#fefecd\" stroke=\"transparent\" points=\"2,-16 2,-18 42,-18 42,-16 2,-16\"/>\n",
       "<polygon fill=\"#fefecd\" stroke=\"transparent\" points=\"2,-2 2,-16 16,-16 16,-2 2,-2\"/>\n",
       "<text text-anchor=\"start\" x=\"5\" y=\"-6.2\" font-family=\"Helvetica,sans-Serif\" font-size=\"11.00\" fill=\"#444443\">&#39;t&#39; </text>\n",
       "<text text-anchor=\"start\" x=\"16\" y=\"-4.8\" font-family=\"Helvetica,sans-Serif\" font-size=\"9.00\" fill=\"#444443\">→</text>\n",
       "<polygon fill=\"#fefecd\" stroke=\"transparent\" points=\"26,-2 26,-16 42,-16 42,-2 26,-2\"/>\n",
       "<text text-anchor=\"start\" x=\"27\" y=\"-6.2\" font-family=\"Helvetica,sans-Serif\" font-size=\"11.00\" fill=\"#444443\"> &#39;z&#39;</text>\n",
       "</g>\n",
       "</g>\n",
       "</svg>\n"
      ],
      "text/plain": [
       "<graphviz.files.Source at 0x7fdd583226a0>"
      ]
     },
     "execution_count": 28,
     "metadata": {},
     "output_type": "execute_result"
    }
   ],
   "source": [
    "objviz({'a':'s', 'c':'n', 't':'z'})"
   ]
  },
  {
   "cell_type": "markdown",
   "id": "6e6bec58-f816-447e-becf-788c9cd37012",
   "metadata": {},
   "source": [
    "Starting the design process at the highest level, it seems like we have two steps:\n",
    " \n",
    "1. create a cipher that maps all lowercase letters to a random unique character; create the key by reversing the cipher\n",
    "2. create a new string by walking the original and replacing each character with the character from the key\n",
    "\n",
    "Step one is nontrivial, so we need to break that process down into some smaller chunks. Working backwards, the problem is straightforward if we have a list of characters a..z and a shuffled version of a..z.  If that's the case, we can simply move a finger through the a..z and the shuffled version, combining them into a dictionary.  To get a list of a..z, I happen to know we can get it easily from Python in `string.ascii_lowercase` so let's not worry about that. How do we get a shuffled version? There are a number of solutions using list comprehensions but it's easier if we use a built-in shuffling function in numpy.  Given a vector/list of elements, `np.random.shuffle()` will shuffle them up in place (meaning it will alter the list to pass and instead of creating a new one and returning it)."
   ]
  },
  {
   "cell_type": "code",
   "execution_count": 29,
   "id": "e0d68566-3fe3-4655-b1be-45fd96274cea",
   "metadata": {},
   "outputs": [],
   "source": [
    "import string\n",
    "import numpy as np\n",
    "\n",
    "vocab = string.ascii_lowercase + ' ' # allow spaces as well\n",
    "shuffled_chars = list(vocab)\n",
    "np.random.shuffle( shuffled_chars )"
   ]
  },
  {
   "cell_type": "markdown",
   "id": "d61f4a1f-dc9a-441e-89fa-d469ebe5b5e9",
   "metadata": {},
   "source": [
    "Once we have the shuffled list, use zip() and a dictionary comprehension to glue them together. (A dictionary comprehension is the same as a list comprehension except you get a dictionary instead of a list.)"
   ]
  },
  {
   "cell_type": "code",
   "execution_count": 30,
   "id": "724555ef-be73-43ce-8aa8-3e7cb91d3150",
   "metadata": {},
   "outputs": [
    {
     "data": {
      "image/svg+xml": [
       "<?xml version=\"1.0\" encoding=\"UTF-8\" standalone=\"no\"?>\n",
       "<!DOCTYPE svg PUBLIC \"-//W3C//DTD SVG 1.1//EN\"\n",
       " \"http://www.w3.org/Graphics/SVG/1.1/DTD/svg11.dtd\">\n",
       "<!-- Generated by graphviz version 2.47.2 (20210527.0053)\n",
       " -->\n",
       "<!-- Title: G Pages: 1 -->\n",
       "<svg width=\"58pt\" height=\"442pt\"\n",
       " viewBox=\"0.00 0.00 58.00 442.00\" xmlns=\"http://www.w3.org/2000/svg\" xmlns:xlink=\"http://www.w3.org/1999/xlink\">\n",
       "<g id=\"graph0\" class=\"graph\" transform=\"scale(1 1) rotate(0) translate(4 438)\">\n",
       "<title>G</title>\n",
       "<polygon fill=\"white\" stroke=\"transparent\" points=\"-4,4 -4,-438 54,-438 54,4 -4,4\"/>\n",
       "<!-- node140588127520576 -->\n",
       "<g id=\"node1\" class=\"node\">\n",
       "<title>node140588127520576</title>\n",
       "<polygon fill=\"#fefecd\" stroke=\"#444443\" stroke-width=\"0.5\" points=\"50,-434 0,-434 0,0 50,0 50,-434\"/>\n",
       "<polygon fill=\"#fefecd\" stroke=\"transparent\" points=\"2,-418 2,-432 19,-432 19,-418 2,-418\"/>\n",
       "<text text-anchor=\"start\" x=\"5\" y=\"-422.2\" font-family=\"Helvetica,sans-Serif\" font-size=\"11.00\" fill=\"#444443\">&#39;a&#39; </text>\n",
       "<text text-anchor=\"start\" x=\"19\" y=\"-420.8\" font-family=\"Helvetica,sans-Serif\" font-size=\"9.00\" fill=\"#444443\">→</text>\n",
       "<polygon fill=\"#fefecd\" stroke=\"transparent\" points=\"29,-418 29,-432 48,-432 48,-418 29,-418\"/>\n",
       "<text text-anchor=\"start\" x=\"30\" y=\"-422.2\" font-family=\"Helvetica,sans-Serif\" font-size=\"11.00\" fill=\"#444443\"> &#39;r&#39;</text>\n",
       "<polygon fill=\"#fefecd\" stroke=\"transparent\" points=\"2,-416 2,-418 48,-418 48,-416 2,-416\"/>\n",
       "<polygon fill=\"#fefecd\" stroke=\"transparent\" points=\"2,-402 2,-416 19,-416 19,-402 2,-402\"/>\n",
       "<text text-anchor=\"start\" x=\"5\" y=\"-406.2\" font-family=\"Helvetica,sans-Serif\" font-size=\"11.00\" fill=\"#444443\">&#39;b&#39; </text>\n",
       "<text text-anchor=\"start\" x=\"19\" y=\"-404.8\" font-family=\"Helvetica,sans-Serif\" font-size=\"9.00\" fill=\"#444443\">→</text>\n",
       "<polygon fill=\"#fefecd\" stroke=\"transparent\" points=\"29,-402 29,-416 48,-416 48,-402 29,-402\"/>\n",
       "<text text-anchor=\"start\" x=\"30\" y=\"-406.2\" font-family=\"Helvetica,sans-Serif\" font-size=\"11.00\" fill=\"#444443\"> &#39;l&#39;</text>\n",
       "<polygon fill=\"#fefecd\" stroke=\"transparent\" points=\"2,-400 2,-402 48,-402 48,-400 2,-400\"/>\n",
       "<polygon fill=\"#fefecd\" stroke=\"transparent\" points=\"2,-386 2,-400 19,-400 19,-386 2,-386\"/>\n",
       "<text text-anchor=\"start\" x=\"6\" y=\"-390.2\" font-family=\"Helvetica,sans-Serif\" font-size=\"11.00\" fill=\"#444443\">&#39;c&#39; </text>\n",
       "<text text-anchor=\"start\" x=\"19\" y=\"-388.8\" font-family=\"Helvetica,sans-Serif\" font-size=\"9.00\" fill=\"#444443\">→</text>\n",
       "<polygon fill=\"#fefecd\" stroke=\"transparent\" points=\"29,-386 29,-400 48,-400 48,-386 29,-386\"/>\n",
       "<text text-anchor=\"start\" x=\"30\" y=\"-390.2\" font-family=\"Helvetica,sans-Serif\" font-size=\"11.00\" fill=\"#444443\"> &#39;w&#39;</text>\n",
       "<polygon fill=\"#fefecd\" stroke=\"transparent\" points=\"2,-384 2,-386 48,-386 48,-384 2,-384\"/>\n",
       "<polygon fill=\"#fefecd\" stroke=\"transparent\" points=\"2,-370 2,-384 19,-384 19,-370 2,-370\"/>\n",
       "<text text-anchor=\"start\" x=\"5\" y=\"-374.2\" font-family=\"Helvetica,sans-Serif\" font-size=\"11.00\" fill=\"#444443\">&#39;d&#39; </text>\n",
       "<text text-anchor=\"start\" x=\"19\" y=\"-372.8\" font-family=\"Helvetica,sans-Serif\" font-size=\"9.00\" fill=\"#444443\">→</text>\n",
       "<polygon fill=\"#fefecd\" stroke=\"transparent\" points=\"29,-370 29,-384 48,-384 48,-370 29,-370\"/>\n",
       "<text text-anchor=\"start\" x=\"30\" y=\"-374.2\" font-family=\"Helvetica,sans-Serif\" font-size=\"11.00\" fill=\"#444443\"> &#39;g&#39;</text>\n",
       "<polygon fill=\"#fefecd\" stroke=\"transparent\" points=\"2,-368 2,-370 48,-370 48,-368 2,-368\"/>\n",
       "<polygon fill=\"#fefecd\" stroke=\"transparent\" points=\"2,-354 2,-368 19,-368 19,-354 2,-354\"/>\n",
       "<text text-anchor=\"start\" x=\"5\" y=\"-358.2\" font-family=\"Helvetica,sans-Serif\" font-size=\"11.00\" fill=\"#444443\">&#39;e&#39; </text>\n",
       "<text text-anchor=\"start\" x=\"19\" y=\"-356.8\" font-family=\"Helvetica,sans-Serif\" font-size=\"9.00\" fill=\"#444443\">→</text>\n",
       "<polygon fill=\"#fefecd\" stroke=\"transparent\" points=\"29,-354 29,-368 48,-368 48,-354 29,-354\"/>\n",
       "<text text-anchor=\"start\" x=\"30\" y=\"-358.2\" font-family=\"Helvetica,sans-Serif\" font-size=\"11.00\" fill=\"#444443\"> &#39;q&#39;</text>\n",
       "<polygon fill=\"#fefecd\" stroke=\"transparent\" points=\"2,-352 2,-354 48,-354 48,-352 2,-352\"/>\n",
       "<polygon fill=\"#fefecd\" stroke=\"transparent\" points=\"2,-338 2,-352 19,-352 19,-338 2,-338\"/>\n",
       "<text text-anchor=\"start\" x=\"8\" y=\"-342.2\" font-family=\"Helvetica,sans-Serif\" font-size=\"11.00\" fill=\"#444443\">&#39;f&#39; </text>\n",
       "<text text-anchor=\"start\" x=\"19\" y=\"-340.8\" font-family=\"Helvetica,sans-Serif\" font-size=\"9.00\" fill=\"#444443\">→</text>\n",
       "<polygon fill=\"#fefecd\" stroke=\"transparent\" points=\"29,-338 29,-352 48,-352 48,-338 29,-338\"/>\n",
       "<text text-anchor=\"start\" x=\"30\" y=\"-342.2\" font-family=\"Helvetica,sans-Serif\" font-size=\"11.00\" fill=\"#444443\"> &#39;k&#39;</text>\n",
       "<polygon fill=\"#fefecd\" stroke=\"transparent\" points=\"2,-336 2,-338 48,-338 48,-336 2,-336\"/>\n",
       "<polygon fill=\"#fefecd\" stroke=\"transparent\" points=\"2,-322 2,-336 19,-336 19,-322 2,-322\"/>\n",
       "<text text-anchor=\"start\" x=\"5\" y=\"-326.2\" font-family=\"Helvetica,sans-Serif\" font-size=\"11.00\" fill=\"#444443\">&#39;g&#39; </text>\n",
       "<text text-anchor=\"start\" x=\"19\" y=\"-324.8\" font-family=\"Helvetica,sans-Serif\" font-size=\"9.00\" fill=\"#444443\">→</text>\n",
       "<polygon fill=\"#fefecd\" stroke=\"transparent\" points=\"29,-322 29,-336 48,-336 48,-322 29,-322\"/>\n",
       "<text text-anchor=\"start\" x=\"30\" y=\"-326.2\" font-family=\"Helvetica,sans-Serif\" font-size=\"11.00\" fill=\"#444443\"> &#39;z&#39;</text>\n",
       "<polygon fill=\"#fefecd\" stroke=\"transparent\" points=\"2,-320 2,-322 48,-322 48,-320 2,-320\"/>\n",
       "<polygon fill=\"#fefecd\" stroke=\"transparent\" points=\"2,-306 2,-320 19,-320 19,-306 2,-306\"/>\n",
       "<text text-anchor=\"start\" x=\"5\" y=\"-310.2\" font-family=\"Helvetica,sans-Serif\" font-size=\"11.00\" fill=\"#444443\">&#39;h&#39; </text>\n",
       "<text text-anchor=\"start\" x=\"19\" y=\"-308.8\" font-family=\"Helvetica,sans-Serif\" font-size=\"9.00\" fill=\"#444443\">→</text>\n",
       "<polygon fill=\"#fefecd\" stroke=\"transparent\" points=\"29,-306 29,-320 48,-320 48,-306 29,-306\"/>\n",
       "<text text-anchor=\"start\" x=\"30\" y=\"-310.2\" font-family=\"Helvetica,sans-Serif\" font-size=\"11.00\" fill=\"#444443\"> &#39;n&#39;</text>\n",
       "<polygon fill=\"#fefecd\" stroke=\"transparent\" points=\"2,-304 2,-306 48,-306 48,-304 2,-304\"/>\n",
       "<polygon fill=\"#fefecd\" stroke=\"transparent\" points=\"2,-290 2,-304 19,-304 19,-290 2,-290\"/>\n",
       "<text text-anchor=\"start\" x=\"9\" y=\"-294.2\" font-family=\"Helvetica,sans-Serif\" font-size=\"11.00\" fill=\"#444443\">&#39;i&#39; </text>\n",
       "<text text-anchor=\"start\" x=\"19\" y=\"-292.8\" font-family=\"Helvetica,sans-Serif\" font-size=\"9.00\" fill=\"#444443\">→</text>\n",
       "<polygon fill=\"#fefecd\" stroke=\"transparent\" points=\"29,-290 29,-304 48,-304 48,-290 29,-290\"/>\n",
       "<text text-anchor=\"start\" x=\"30\" y=\"-294.2\" font-family=\"Helvetica,sans-Serif\" font-size=\"11.00\" fill=\"#444443\"> &#39;a&#39;</text>\n",
       "<polygon fill=\"#fefecd\" stroke=\"transparent\" points=\"2,-288 2,-290 48,-290 48,-288 2,-288\"/>\n",
       "<polygon fill=\"#fefecd\" stroke=\"transparent\" points=\"2,-274 2,-288 19,-288 19,-274 2,-274\"/>\n",
       "<text text-anchor=\"start\" x=\"9\" y=\"-278.2\" font-family=\"Helvetica,sans-Serif\" font-size=\"11.00\" fill=\"#444443\">&#39;j&#39; </text>\n",
       "<text text-anchor=\"start\" x=\"19\" y=\"-276.8\" font-family=\"Helvetica,sans-Serif\" font-size=\"9.00\" fill=\"#444443\">→</text>\n",
       "<polygon fill=\"#fefecd\" stroke=\"transparent\" points=\"29,-274 29,-288 48,-288 48,-274 29,-274\"/>\n",
       "<text text-anchor=\"start\" x=\"30\" y=\"-278.2\" font-family=\"Helvetica,sans-Serif\" font-size=\"11.00\" fill=\"#444443\"> &#39;p&#39;</text>\n",
       "<polygon fill=\"#fefecd\" stroke=\"transparent\" points=\"2,-272 2,-274 48,-274 48,-272 2,-272\"/>\n",
       "<polygon fill=\"#fefecd\" stroke=\"transparent\" points=\"2,-258 2,-272 19,-272 19,-258 2,-258\"/>\n",
       "<text text-anchor=\"start\" x=\"6\" y=\"-262.2\" font-family=\"Helvetica,sans-Serif\" font-size=\"11.00\" fill=\"#444443\">&#39;k&#39; </text>\n",
       "<text text-anchor=\"start\" x=\"19\" y=\"-260.8\" font-family=\"Helvetica,sans-Serif\" font-size=\"9.00\" fill=\"#444443\">→</text>\n",
       "<polygon fill=\"#fefecd\" stroke=\"transparent\" points=\"29,-258 29,-272 48,-272 48,-258 29,-258\"/>\n",
       "<text text-anchor=\"start\" x=\"30\" y=\"-262.2\" font-family=\"Helvetica,sans-Serif\" font-size=\"11.00\" fill=\"#444443\"> &#39;u&#39;</text>\n",
       "<polygon fill=\"#fefecd\" stroke=\"transparent\" points=\"2,-256 2,-258 48,-258 48,-256 2,-256\"/>\n",
       "<polygon fill=\"#fefecd\" stroke=\"transparent\" points=\"2,-242 2,-256 19,-256 19,-242 2,-242\"/>\n",
       "<text text-anchor=\"start\" x=\"9\" y=\"-246.2\" font-family=\"Helvetica,sans-Serif\" font-size=\"11.00\" fill=\"#444443\">&#39;l&#39; </text>\n",
       "<text text-anchor=\"start\" x=\"19\" y=\"-244.8\" font-family=\"Helvetica,sans-Serif\" font-size=\"9.00\" fill=\"#444443\">→</text>\n",
       "<polygon fill=\"#fefecd\" stroke=\"transparent\" points=\"29,-242 29,-256 48,-256 48,-242 29,-242\"/>\n",
       "<text text-anchor=\"start\" x=\"30\" y=\"-246.2\" font-family=\"Helvetica,sans-Serif\" font-size=\"11.00\" fill=\"#444443\"> &#39;j&#39;</text>\n",
       "<polygon fill=\"#fefecd\" stroke=\"transparent\" points=\"2,-240 2,-242 48,-242 48,-240 2,-240\"/>\n",
       "<polygon fill=\"#fefecd\" stroke=\"transparent\" points=\"2,-226 2,-240 19,-240 19,-226 2,-226\"/>\n",
       "<text text-anchor=\"start\" x=\"2\" y=\"-230.2\" font-family=\"Helvetica,sans-Serif\" font-size=\"11.00\" fill=\"#444443\">&#39;m&#39; </text>\n",
       "<text text-anchor=\"start\" x=\"19\" y=\"-228.8\" font-family=\"Helvetica,sans-Serif\" font-size=\"9.00\" fill=\"#444443\">→</text>\n",
       "<polygon fill=\"#fefecd\" stroke=\"transparent\" points=\"29,-226 29,-240 48,-240 48,-226 29,-226\"/>\n",
       "<text text-anchor=\"start\" x=\"30\" y=\"-230.2\" font-family=\"Helvetica,sans-Serif\" font-size=\"11.00\" fill=\"#444443\"> &#39;o&#39;</text>\n",
       "<polygon fill=\"#fefecd\" stroke=\"transparent\" points=\"2,-224 2,-226 48,-226 48,-224 2,-224\"/>\n",
       "<polygon fill=\"#fefecd\" stroke=\"transparent\" points=\"2,-210 2,-224 19,-224 19,-210 2,-210\"/>\n",
       "<text text-anchor=\"start\" x=\"5\" y=\"-214.2\" font-family=\"Helvetica,sans-Serif\" font-size=\"11.00\" fill=\"#444443\">&#39;n&#39; </text>\n",
       "<text text-anchor=\"start\" x=\"19\" y=\"-212.8\" font-family=\"Helvetica,sans-Serif\" font-size=\"9.00\" fill=\"#444443\">→</text>\n",
       "<polygon fill=\"#fefecd\" stroke=\"transparent\" points=\"29,-210 29,-224 48,-224 48,-210 29,-210\"/>\n",
       "<text text-anchor=\"start\" x=\"30\" y=\"-214.2\" font-family=\"Helvetica,sans-Serif\" font-size=\"11.00\" fill=\"#444443\"> &#39;v&#39;</text>\n",
       "<polygon fill=\"#fefecd\" stroke=\"transparent\" points=\"2,-208 2,-210 48,-210 48,-208 2,-208\"/>\n",
       "<polygon fill=\"#fefecd\" stroke=\"transparent\" points=\"2,-194 2,-208 19,-208 19,-194 2,-194\"/>\n",
       "<text text-anchor=\"start\" x=\"5\" y=\"-198.2\" font-family=\"Helvetica,sans-Serif\" font-size=\"11.00\" fill=\"#444443\">&#39;o&#39; </text>\n",
       "<text text-anchor=\"start\" x=\"19\" y=\"-196.8\" font-family=\"Helvetica,sans-Serif\" font-size=\"9.00\" fill=\"#444443\">→</text>\n",
       "<polygon fill=\"#fefecd\" stroke=\"transparent\" points=\"29,-194 29,-208 48,-208 48,-194 29,-194\"/>\n",
       "<text text-anchor=\"start\" x=\"30\" y=\"-198.2\" font-family=\"Helvetica,sans-Serif\" font-size=\"11.00\" fill=\"#444443\"> &#39;x&#39;</text>\n",
       "<polygon fill=\"#fefecd\" stroke=\"transparent\" points=\"2,-192 2,-194 48,-194 48,-192 2,-192\"/>\n",
       "<polygon fill=\"#fefecd\" stroke=\"transparent\" points=\"2,-178 2,-192 19,-192 19,-178 2,-178\"/>\n",
       "<text text-anchor=\"start\" x=\"5\" y=\"-182.2\" font-family=\"Helvetica,sans-Serif\" font-size=\"11.00\" fill=\"#444443\">&#39;p&#39; </text>\n",
       "<text text-anchor=\"start\" x=\"19\" y=\"-180.8\" font-family=\"Helvetica,sans-Serif\" font-size=\"9.00\" fill=\"#444443\">→</text>\n",
       "<polygon fill=\"#fefecd\" stroke=\"transparent\" points=\"29,-178 29,-192 48,-192 48,-178 29,-178\"/>\n",
       "<text text-anchor=\"start\" x=\"30\" y=\"-182.2\" font-family=\"Helvetica,sans-Serif\" font-size=\"11.00\" fill=\"#444443\"> &#39;i&#39;</text>\n",
       "<polygon fill=\"#fefecd\" stroke=\"transparent\" points=\"2,-176 2,-178 48,-178 48,-176 2,-176\"/>\n",
       "<polygon fill=\"#fefecd\" stroke=\"transparent\" points=\"2,-162 2,-176 19,-176 19,-162 2,-162\"/>\n",
       "<text text-anchor=\"start\" x=\"5\" y=\"-166.2\" font-family=\"Helvetica,sans-Serif\" font-size=\"11.00\" fill=\"#444443\">&#39;q&#39; </text>\n",
       "<text text-anchor=\"start\" x=\"19\" y=\"-164.8\" font-family=\"Helvetica,sans-Serif\" font-size=\"9.00\" fill=\"#444443\">→</text>\n",
       "<polygon fill=\"#fefecd\" stroke=\"transparent\" points=\"29,-162 29,-176 48,-176 48,-162 29,-162\"/>\n",
       "<text text-anchor=\"start\" x=\"30\" y=\"-166.2\" font-family=\"Helvetica,sans-Serif\" font-size=\"11.00\" fill=\"#444443\"> &#39;t&#39;</text>\n",
       "<polygon fill=\"#fefecd\" stroke=\"transparent\" points=\"2,-160 2,-162 48,-162 48,-160 2,-160\"/>\n",
       "<polygon fill=\"#fefecd\" stroke=\"transparent\" points=\"2,-146 2,-160 19,-160 19,-146 2,-146\"/>\n",
       "<text text-anchor=\"start\" x=\"7\" y=\"-150.2\" font-family=\"Helvetica,sans-Serif\" font-size=\"11.00\" fill=\"#444443\">&#39;r&#39; </text>\n",
       "<text text-anchor=\"start\" x=\"19\" y=\"-148.8\" font-family=\"Helvetica,sans-Serif\" font-size=\"9.00\" fill=\"#444443\">→</text>\n",
       "<polygon fill=\"#fefecd\" stroke=\"transparent\" points=\"29,-146 29,-160 48,-160 48,-146 29,-146\"/>\n",
       "<text text-anchor=\"start\" x=\"30\" y=\"-150.2\" font-family=\"Helvetica,sans-Serif\" font-size=\"11.00\" fill=\"#444443\"> &#39;b&#39;</text>\n",
       "<polygon fill=\"#fefecd\" stroke=\"transparent\" points=\"2,-144 2,-146 48,-146 48,-144 2,-144\"/>\n",
       "<polygon fill=\"#fefecd\" stroke=\"transparent\" points=\"2,-130 2,-144 19,-144 19,-130 2,-130\"/>\n",
       "<text text-anchor=\"start\" x=\"6\" y=\"-134.2\" font-family=\"Helvetica,sans-Serif\" font-size=\"11.00\" fill=\"#444443\">&#39;s&#39; </text>\n",
       "<text text-anchor=\"start\" x=\"19\" y=\"-132.8\" font-family=\"Helvetica,sans-Serif\" font-size=\"9.00\" fill=\"#444443\">→</text>\n",
       "<polygon fill=\"#fefecd\" stroke=\"transparent\" points=\"29,-130 29,-144 48,-144 48,-130 29,-130\"/>\n",
       "<text text-anchor=\"start\" x=\"30\" y=\"-134.2\" font-family=\"Helvetica,sans-Serif\" font-size=\"11.00\" fill=\"#444443\"> &#39;m&#39;</text>\n",
       "<polygon fill=\"#fefecd\" stroke=\"transparent\" points=\"2,-128 2,-130 48,-130 48,-128 2,-128\"/>\n",
       "<polygon fill=\"#fefecd\" stroke=\"transparent\" points=\"2,-114 2,-128 19,-128 19,-114 2,-114\"/>\n",
       "<text text-anchor=\"start\" x=\"8\" y=\"-118.2\" font-family=\"Helvetica,sans-Serif\" font-size=\"11.00\" fill=\"#444443\">&#39;t&#39; </text>\n",
       "<text text-anchor=\"start\" x=\"19\" y=\"-116.8\" font-family=\"Helvetica,sans-Serif\" font-size=\"9.00\" fill=\"#444443\">→</text>\n",
       "<polygon fill=\"#fefecd\" stroke=\"transparent\" points=\"29,-114 29,-128 48,-128 48,-114 29,-114\"/>\n",
       "<text text-anchor=\"start\" x=\"30\" y=\"-118.2\" font-family=\"Helvetica,sans-Serif\" font-size=\"11.00\" fill=\"#444443\"> &#39;c&#39;</text>\n",
       "<polygon fill=\"#fefecd\" stroke=\"transparent\" points=\"2,-112 2,-114 48,-114 48,-112 2,-112\"/>\n",
       "<polygon fill=\"#fefecd\" stroke=\"transparent\" points=\"2,-98 2,-112 19,-112 19,-98 2,-98\"/>\n",
       "<text text-anchor=\"start\" x=\"5\" y=\"-102.2\" font-family=\"Helvetica,sans-Serif\" font-size=\"11.00\" fill=\"#444443\">&#39;u&#39; </text>\n",
       "<text text-anchor=\"start\" x=\"19\" y=\"-100.8\" font-family=\"Helvetica,sans-Serif\" font-size=\"9.00\" fill=\"#444443\">→</text>\n",
       "<polygon fill=\"#fefecd\" stroke=\"transparent\" points=\"29,-98 29,-112 48,-112 48,-98 29,-98\"/>\n",
       "<text text-anchor=\"start\" x=\"30\" y=\"-102.2\" font-family=\"Helvetica,sans-Serif\" font-size=\"11.00\" fill=\"#444443\"> &#39;d&#39;</text>\n",
       "<polygon fill=\"#fefecd\" stroke=\"transparent\" points=\"2,-96 2,-98 48,-98 48,-96 2,-96\"/>\n",
       "<polygon fill=\"#fefecd\" stroke=\"transparent\" points=\"2,-82 2,-96 19,-96 19,-82 2,-82\"/>\n",
       "<text text-anchor=\"start\" x=\"6\" y=\"-86.2\" font-family=\"Helvetica,sans-Serif\" font-size=\"11.00\" fill=\"#444443\">&#39;v&#39; </text>\n",
       "<text text-anchor=\"start\" x=\"19\" y=\"-84.8\" font-family=\"Helvetica,sans-Serif\" font-size=\"9.00\" fill=\"#444443\">→</text>\n",
       "<polygon fill=\"#fefecd\" stroke=\"transparent\" points=\"29,-82 29,-96 48,-96 48,-82 29,-82\"/>\n",
       "<text text-anchor=\"start\" x=\"30\" y=\"-86.2\" font-family=\"Helvetica,sans-Serif\" font-size=\"11.00\" fill=\"#444443\"> &#39;h&#39;</text>\n",
       "<polygon fill=\"#fefecd\" stroke=\"transparent\" points=\"2,-80 2,-82 48,-82 48,-80 2,-80\"/>\n",
       "<polygon fill=\"#fefecd\" stroke=\"transparent\" points=\"2,-66 2,-80 19,-80 19,-66 2,-66\"/>\n",
       "<text text-anchor=\"start\" x=\"3\" y=\"-70.2\" font-family=\"Helvetica,sans-Serif\" font-size=\"11.00\" fill=\"#444443\">&#39;w&#39; </text>\n",
       "<text text-anchor=\"start\" x=\"19\" y=\"-68.8\" font-family=\"Helvetica,sans-Serif\" font-size=\"9.00\" fill=\"#444443\">→</text>\n",
       "<polygon fill=\"#fefecd\" stroke=\"transparent\" points=\"29,-66 29,-80 48,-80 48,-66 29,-66\"/>\n",
       "<text text-anchor=\"start\" x=\"30\" y=\"-70.2\" font-family=\"Helvetica,sans-Serif\" font-size=\"11.00\" fill=\"#444443\"> &#39; &#39;</text>\n",
       "<polygon fill=\"#fefecd\" stroke=\"transparent\" points=\"2,-64 2,-66 48,-66 48,-64 2,-64\"/>\n",
       "<polygon fill=\"#fefecd\" stroke=\"transparent\" points=\"2,-50 2,-64 19,-64 19,-50 2,-50\"/>\n",
       "<text text-anchor=\"start\" x=\"6\" y=\"-54.2\" font-family=\"Helvetica,sans-Serif\" font-size=\"11.00\" fill=\"#444443\">&#39;x&#39; </text>\n",
       "<text text-anchor=\"start\" x=\"19\" y=\"-52.8\" font-family=\"Helvetica,sans-Serif\" font-size=\"9.00\" fill=\"#444443\">→</text>\n",
       "<polygon fill=\"#fefecd\" stroke=\"transparent\" points=\"29,-50 29,-64 48,-64 48,-50 29,-50\"/>\n",
       "<text text-anchor=\"start\" x=\"30\" y=\"-54.2\" font-family=\"Helvetica,sans-Serif\" font-size=\"11.00\" fill=\"#444443\"> &#39;f&#39;</text>\n",
       "<polygon fill=\"#fefecd\" stroke=\"transparent\" points=\"2,-48 2,-50 48,-50 48,-48 2,-48\"/>\n",
       "<polygon fill=\"#fefecd\" stroke=\"transparent\" points=\"2,-34 2,-48 19,-48 19,-34 2,-34\"/>\n",
       "<text text-anchor=\"start\" x=\"6\" y=\"-38.2\" font-family=\"Helvetica,sans-Serif\" font-size=\"11.00\" fill=\"#444443\">&#39;y&#39; </text>\n",
       "<text text-anchor=\"start\" x=\"19\" y=\"-36.8\" font-family=\"Helvetica,sans-Serif\" font-size=\"9.00\" fill=\"#444443\">→</text>\n",
       "<polygon fill=\"#fefecd\" stroke=\"transparent\" points=\"29,-34 29,-48 48,-48 48,-34 29,-34\"/>\n",
       "<text text-anchor=\"start\" x=\"30\" y=\"-38.2\" font-family=\"Helvetica,sans-Serif\" font-size=\"11.00\" fill=\"#444443\"> &#39;s&#39;</text>\n",
       "<polygon fill=\"#fefecd\" stroke=\"transparent\" points=\"2,-32 2,-34 48,-34 48,-32 2,-32\"/>\n",
       "<polygon fill=\"#fefecd\" stroke=\"transparent\" points=\"2,-18 2,-32 19,-32 19,-18 2,-18\"/>\n",
       "<text text-anchor=\"start\" x=\"6\" y=\"-22.2\" font-family=\"Helvetica,sans-Serif\" font-size=\"11.00\" fill=\"#444443\">&#39;z&#39; </text>\n",
       "<text text-anchor=\"start\" x=\"19\" y=\"-20.8\" font-family=\"Helvetica,sans-Serif\" font-size=\"9.00\" fill=\"#444443\">→</text>\n",
       "<polygon fill=\"#fefecd\" stroke=\"transparent\" points=\"29,-18 29,-32 48,-32 48,-18 29,-18\"/>\n",
       "<text text-anchor=\"start\" x=\"30\" y=\"-22.2\" font-family=\"Helvetica,sans-Serif\" font-size=\"11.00\" fill=\"#444443\"> &#39;e&#39;</text>\n",
       "<polygon fill=\"#fefecd\" stroke=\"transparent\" points=\"2,-16 2,-18 48,-18 48,-16 2,-16\"/>\n",
       "<polygon fill=\"#fefecd\" stroke=\"transparent\" points=\"2,-2 2,-16 19,-16 19,-2 2,-2\"/>\n",
       "<text text-anchor=\"start\" x=\"8\" y=\"-6.2\" font-family=\"Helvetica,sans-Serif\" font-size=\"11.00\" fill=\"#444443\">&#39; &#39; </text>\n",
       "<text text-anchor=\"start\" x=\"19\" y=\"-4.8\" font-family=\"Helvetica,sans-Serif\" font-size=\"9.00\" fill=\"#444443\">→</text>\n",
       "<polygon fill=\"#fefecd\" stroke=\"transparent\" points=\"29,-2 29,-16 48,-16 48,-2 29,-2\"/>\n",
       "<text text-anchor=\"start\" x=\"30\" y=\"-6.2\" font-family=\"Helvetica,sans-Serif\" font-size=\"11.00\" fill=\"#444443\"> &#39;y&#39;</text>\n",
       "</g>\n",
       "</g>\n",
       "</svg>\n"
      ],
      "text/plain": [
       "<graphviz.files.Source at 0x7fdd28498e80>"
      ]
     },
     "execution_count": 30,
     "metadata": {},
     "output_type": "execute_result"
    }
   ],
   "source": [
    "cipher = {c:k for c,k in zip(vocab,shuffled_chars)}\n",
    "objviz(cipher)"
   ]
  },
  {
   "cell_type": "markdown",
   "id": "fb54909a-eb28-4d6e-b3c1-49c9658f0270",
   "metadata": {},
   "source": [
    "The key is the reverse of the cipher so let's just walk that dictionary and flip the key and value:"
   ]
  },
  {
   "cell_type": "code",
   "execution_count": 31,
   "id": "d10073ce-9fa6-4363-bde3-3a55811ee63b",
   "metadata": {},
   "outputs": [
    {
     "data": {
      "image/svg+xml": [
       "<?xml version=\"1.0\" encoding=\"UTF-8\" standalone=\"no\"?>\n",
       "<!DOCTYPE svg PUBLIC \"-//W3C//DTD SVG 1.1//EN\"\n",
       " \"http://www.w3.org/Graphics/SVG/1.1/DTD/svg11.dtd\">\n",
       "<!-- Generated by graphviz version 2.47.2 (20210527.0053)\n",
       " -->\n",
       "<!-- Title: G Pages: 1 -->\n",
       "<svg width=\"58pt\" height=\"442pt\"\n",
       " viewBox=\"0.00 0.00 58.00 442.00\" xmlns=\"http://www.w3.org/2000/svg\" xmlns:xlink=\"http://www.w3.org/1999/xlink\">\n",
       "<g id=\"graph0\" class=\"graph\" transform=\"scale(1 1) rotate(0) translate(4 438)\">\n",
       "<title>G</title>\n",
       "<polygon fill=\"white\" stroke=\"transparent\" points=\"-4,4 -4,-438 54,-438 54,4 -4,4\"/>\n",
       "<!-- node140588646466368 -->\n",
       "<g id=\"node1\" class=\"node\">\n",
       "<title>node140588646466368</title>\n",
       "<polygon fill=\"#fefecd\" stroke=\"#444443\" stroke-width=\"0.5\" points=\"50,-434 0,-434 0,0 50,0 50,-434\"/>\n",
       "<polygon fill=\"#fefecd\" stroke=\"transparent\" points=\"2,-418 2,-432 19,-432 19,-418 2,-418\"/>\n",
       "<text text-anchor=\"start\" x=\"7\" y=\"-422.2\" font-family=\"Helvetica,sans-Serif\" font-size=\"11.00\" fill=\"#444443\">&#39;r&#39; </text>\n",
       "<text text-anchor=\"start\" x=\"19\" y=\"-420.8\" font-family=\"Helvetica,sans-Serif\" font-size=\"9.00\" fill=\"#444443\">→</text>\n",
       "<polygon fill=\"#fefecd\" stroke=\"transparent\" points=\"29,-418 29,-432 48,-432 48,-418 29,-418\"/>\n",
       "<text text-anchor=\"start\" x=\"30\" y=\"-422.2\" font-family=\"Helvetica,sans-Serif\" font-size=\"11.00\" fill=\"#444443\"> &#39;a&#39;</text>\n",
       "<polygon fill=\"#fefecd\" stroke=\"transparent\" points=\"2,-416 2,-418 48,-418 48,-416 2,-416\"/>\n",
       "<polygon fill=\"#fefecd\" stroke=\"transparent\" points=\"2,-402 2,-416 19,-416 19,-402 2,-402\"/>\n",
       "<text text-anchor=\"start\" x=\"9\" y=\"-406.2\" font-family=\"Helvetica,sans-Serif\" font-size=\"11.00\" fill=\"#444443\">&#39;l&#39; </text>\n",
       "<text text-anchor=\"start\" x=\"19\" y=\"-404.8\" font-family=\"Helvetica,sans-Serif\" font-size=\"9.00\" fill=\"#444443\">→</text>\n",
       "<polygon fill=\"#fefecd\" stroke=\"transparent\" points=\"29,-402 29,-416 48,-416 48,-402 29,-402\"/>\n",
       "<text text-anchor=\"start\" x=\"30\" y=\"-406.2\" font-family=\"Helvetica,sans-Serif\" font-size=\"11.00\" fill=\"#444443\"> &#39;b&#39;</text>\n",
       "<polygon fill=\"#fefecd\" stroke=\"transparent\" points=\"2,-400 2,-402 48,-402 48,-400 2,-400\"/>\n",
       "<polygon fill=\"#fefecd\" stroke=\"transparent\" points=\"2,-386 2,-400 19,-400 19,-386 2,-386\"/>\n",
       "<text text-anchor=\"start\" x=\"3\" y=\"-390.2\" font-family=\"Helvetica,sans-Serif\" font-size=\"11.00\" fill=\"#444443\">&#39;w&#39; </text>\n",
       "<text text-anchor=\"start\" x=\"19\" y=\"-388.8\" font-family=\"Helvetica,sans-Serif\" font-size=\"9.00\" fill=\"#444443\">→</text>\n",
       "<polygon fill=\"#fefecd\" stroke=\"transparent\" points=\"29,-386 29,-400 48,-400 48,-386 29,-386\"/>\n",
       "<text text-anchor=\"start\" x=\"30\" y=\"-390.2\" font-family=\"Helvetica,sans-Serif\" font-size=\"11.00\" fill=\"#444443\"> &#39;c&#39;</text>\n",
       "<polygon fill=\"#fefecd\" stroke=\"transparent\" points=\"2,-384 2,-386 48,-386 48,-384 2,-384\"/>\n",
       "<polygon fill=\"#fefecd\" stroke=\"transparent\" points=\"2,-370 2,-384 19,-384 19,-370 2,-370\"/>\n",
       "<text text-anchor=\"start\" x=\"5\" y=\"-374.2\" font-family=\"Helvetica,sans-Serif\" font-size=\"11.00\" fill=\"#444443\">&#39;g&#39; </text>\n",
       "<text text-anchor=\"start\" x=\"19\" y=\"-372.8\" font-family=\"Helvetica,sans-Serif\" font-size=\"9.00\" fill=\"#444443\">→</text>\n",
       "<polygon fill=\"#fefecd\" stroke=\"transparent\" points=\"29,-370 29,-384 48,-384 48,-370 29,-370\"/>\n",
       "<text text-anchor=\"start\" x=\"30\" y=\"-374.2\" font-family=\"Helvetica,sans-Serif\" font-size=\"11.00\" fill=\"#444443\"> &#39;d&#39;</text>\n",
       "<polygon fill=\"#fefecd\" stroke=\"transparent\" points=\"2,-368 2,-370 48,-370 48,-368 2,-368\"/>\n",
       "<polygon fill=\"#fefecd\" stroke=\"transparent\" points=\"2,-354 2,-368 19,-368 19,-354 2,-354\"/>\n",
       "<text text-anchor=\"start\" x=\"5\" y=\"-358.2\" font-family=\"Helvetica,sans-Serif\" font-size=\"11.00\" fill=\"#444443\">&#39;q&#39; </text>\n",
       "<text text-anchor=\"start\" x=\"19\" y=\"-356.8\" font-family=\"Helvetica,sans-Serif\" font-size=\"9.00\" fill=\"#444443\">→</text>\n",
       "<polygon fill=\"#fefecd\" stroke=\"transparent\" points=\"29,-354 29,-368 48,-368 48,-354 29,-354\"/>\n",
       "<text text-anchor=\"start\" x=\"30\" y=\"-358.2\" font-family=\"Helvetica,sans-Serif\" font-size=\"11.00\" fill=\"#444443\"> &#39;e&#39;</text>\n",
       "<polygon fill=\"#fefecd\" stroke=\"transparent\" points=\"2,-352 2,-354 48,-354 48,-352 2,-352\"/>\n",
       "<polygon fill=\"#fefecd\" stroke=\"transparent\" points=\"2,-338 2,-352 19,-352 19,-338 2,-338\"/>\n",
       "<text text-anchor=\"start\" x=\"6\" y=\"-342.2\" font-family=\"Helvetica,sans-Serif\" font-size=\"11.00\" fill=\"#444443\">&#39;k&#39; </text>\n",
       "<text text-anchor=\"start\" x=\"19\" y=\"-340.8\" font-family=\"Helvetica,sans-Serif\" font-size=\"9.00\" fill=\"#444443\">→</text>\n",
       "<polygon fill=\"#fefecd\" stroke=\"transparent\" points=\"29,-338 29,-352 48,-352 48,-338 29,-338\"/>\n",
       "<text text-anchor=\"start\" x=\"30\" y=\"-342.2\" font-family=\"Helvetica,sans-Serif\" font-size=\"11.00\" fill=\"#444443\"> &#39;f&#39;</text>\n",
       "<polygon fill=\"#fefecd\" stroke=\"transparent\" points=\"2,-336 2,-338 48,-338 48,-336 2,-336\"/>\n",
       "<polygon fill=\"#fefecd\" stroke=\"transparent\" points=\"2,-322 2,-336 19,-336 19,-322 2,-322\"/>\n",
       "<text text-anchor=\"start\" x=\"6\" y=\"-326.2\" font-family=\"Helvetica,sans-Serif\" font-size=\"11.00\" fill=\"#444443\">&#39;z&#39; </text>\n",
       "<text text-anchor=\"start\" x=\"19\" y=\"-324.8\" font-family=\"Helvetica,sans-Serif\" font-size=\"9.00\" fill=\"#444443\">→</text>\n",
       "<polygon fill=\"#fefecd\" stroke=\"transparent\" points=\"29,-322 29,-336 48,-336 48,-322 29,-322\"/>\n",
       "<text text-anchor=\"start\" x=\"30\" y=\"-326.2\" font-family=\"Helvetica,sans-Serif\" font-size=\"11.00\" fill=\"#444443\"> &#39;g&#39;</text>\n",
       "<polygon fill=\"#fefecd\" stroke=\"transparent\" points=\"2,-320 2,-322 48,-322 48,-320 2,-320\"/>\n",
       "<polygon fill=\"#fefecd\" stroke=\"transparent\" points=\"2,-306 2,-320 19,-320 19,-306 2,-306\"/>\n",
       "<text text-anchor=\"start\" x=\"5\" y=\"-310.2\" font-family=\"Helvetica,sans-Serif\" font-size=\"11.00\" fill=\"#444443\">&#39;n&#39; </text>\n",
       "<text text-anchor=\"start\" x=\"19\" y=\"-308.8\" font-family=\"Helvetica,sans-Serif\" font-size=\"9.00\" fill=\"#444443\">→</text>\n",
       "<polygon fill=\"#fefecd\" stroke=\"transparent\" points=\"29,-306 29,-320 48,-320 48,-306 29,-306\"/>\n",
       "<text text-anchor=\"start\" x=\"30\" y=\"-310.2\" font-family=\"Helvetica,sans-Serif\" font-size=\"11.00\" fill=\"#444443\"> &#39;h&#39;</text>\n",
       "<polygon fill=\"#fefecd\" stroke=\"transparent\" points=\"2,-304 2,-306 48,-306 48,-304 2,-304\"/>\n",
       "<polygon fill=\"#fefecd\" stroke=\"transparent\" points=\"2,-290 2,-304 19,-304 19,-290 2,-290\"/>\n",
       "<text text-anchor=\"start\" x=\"5\" y=\"-294.2\" font-family=\"Helvetica,sans-Serif\" font-size=\"11.00\" fill=\"#444443\">&#39;a&#39; </text>\n",
       "<text text-anchor=\"start\" x=\"19\" y=\"-292.8\" font-family=\"Helvetica,sans-Serif\" font-size=\"9.00\" fill=\"#444443\">→</text>\n",
       "<polygon fill=\"#fefecd\" stroke=\"transparent\" points=\"29,-290 29,-304 48,-304 48,-290 29,-290\"/>\n",
       "<text text-anchor=\"start\" x=\"30\" y=\"-294.2\" font-family=\"Helvetica,sans-Serif\" font-size=\"11.00\" fill=\"#444443\"> &#39;i&#39;</text>\n",
       "<polygon fill=\"#fefecd\" stroke=\"transparent\" points=\"2,-288 2,-290 48,-290 48,-288 2,-288\"/>\n",
       "<polygon fill=\"#fefecd\" stroke=\"transparent\" points=\"2,-274 2,-288 19,-288 19,-274 2,-274\"/>\n",
       "<text text-anchor=\"start\" x=\"5\" y=\"-278.2\" font-family=\"Helvetica,sans-Serif\" font-size=\"11.00\" fill=\"#444443\">&#39;p&#39; </text>\n",
       "<text text-anchor=\"start\" x=\"19\" y=\"-276.8\" font-family=\"Helvetica,sans-Serif\" font-size=\"9.00\" fill=\"#444443\">→</text>\n",
       "<polygon fill=\"#fefecd\" stroke=\"transparent\" points=\"29,-274 29,-288 48,-288 48,-274 29,-274\"/>\n",
       "<text text-anchor=\"start\" x=\"30\" y=\"-278.2\" font-family=\"Helvetica,sans-Serif\" font-size=\"11.00\" fill=\"#444443\"> &#39;j&#39;</text>\n",
       "<polygon fill=\"#fefecd\" stroke=\"transparent\" points=\"2,-272 2,-274 48,-274 48,-272 2,-272\"/>\n",
       "<polygon fill=\"#fefecd\" stroke=\"transparent\" points=\"2,-258 2,-272 19,-272 19,-258 2,-258\"/>\n",
       "<text text-anchor=\"start\" x=\"5\" y=\"-262.2\" font-family=\"Helvetica,sans-Serif\" font-size=\"11.00\" fill=\"#444443\">&#39;u&#39; </text>\n",
       "<text text-anchor=\"start\" x=\"19\" y=\"-260.8\" font-family=\"Helvetica,sans-Serif\" font-size=\"9.00\" fill=\"#444443\">→</text>\n",
       "<polygon fill=\"#fefecd\" stroke=\"transparent\" points=\"29,-258 29,-272 48,-272 48,-258 29,-258\"/>\n",
       "<text text-anchor=\"start\" x=\"30\" y=\"-262.2\" font-family=\"Helvetica,sans-Serif\" font-size=\"11.00\" fill=\"#444443\"> &#39;k&#39;</text>\n",
       "<polygon fill=\"#fefecd\" stroke=\"transparent\" points=\"2,-256 2,-258 48,-258 48,-256 2,-256\"/>\n",
       "<polygon fill=\"#fefecd\" stroke=\"transparent\" points=\"2,-242 2,-256 19,-256 19,-242 2,-242\"/>\n",
       "<text text-anchor=\"start\" x=\"9\" y=\"-246.2\" font-family=\"Helvetica,sans-Serif\" font-size=\"11.00\" fill=\"#444443\">&#39;j&#39; </text>\n",
       "<text text-anchor=\"start\" x=\"19\" y=\"-244.8\" font-family=\"Helvetica,sans-Serif\" font-size=\"9.00\" fill=\"#444443\">→</text>\n",
       "<polygon fill=\"#fefecd\" stroke=\"transparent\" points=\"29,-242 29,-256 48,-256 48,-242 29,-242\"/>\n",
       "<text text-anchor=\"start\" x=\"30\" y=\"-246.2\" font-family=\"Helvetica,sans-Serif\" font-size=\"11.00\" fill=\"#444443\"> &#39;l&#39;</text>\n",
       "<polygon fill=\"#fefecd\" stroke=\"transparent\" points=\"2,-240 2,-242 48,-242 48,-240 2,-240\"/>\n",
       "<polygon fill=\"#fefecd\" stroke=\"transparent\" points=\"2,-226 2,-240 19,-240 19,-226 2,-226\"/>\n",
       "<text text-anchor=\"start\" x=\"5\" y=\"-230.2\" font-family=\"Helvetica,sans-Serif\" font-size=\"11.00\" fill=\"#444443\">&#39;o&#39; </text>\n",
       "<text text-anchor=\"start\" x=\"19\" y=\"-228.8\" font-family=\"Helvetica,sans-Serif\" font-size=\"9.00\" fill=\"#444443\">→</text>\n",
       "<polygon fill=\"#fefecd\" stroke=\"transparent\" points=\"29,-226 29,-240 48,-240 48,-226 29,-226\"/>\n",
       "<text text-anchor=\"start\" x=\"30\" y=\"-230.2\" font-family=\"Helvetica,sans-Serif\" font-size=\"11.00\" fill=\"#444443\"> &#39;m&#39;</text>\n",
       "<polygon fill=\"#fefecd\" stroke=\"transparent\" points=\"2,-224 2,-226 48,-226 48,-224 2,-224\"/>\n",
       "<polygon fill=\"#fefecd\" stroke=\"transparent\" points=\"2,-210 2,-224 19,-224 19,-210 2,-210\"/>\n",
       "<text text-anchor=\"start\" x=\"6\" y=\"-214.2\" font-family=\"Helvetica,sans-Serif\" font-size=\"11.00\" fill=\"#444443\">&#39;v&#39; </text>\n",
       "<text text-anchor=\"start\" x=\"19\" y=\"-212.8\" font-family=\"Helvetica,sans-Serif\" font-size=\"9.00\" fill=\"#444443\">→</text>\n",
       "<polygon fill=\"#fefecd\" stroke=\"transparent\" points=\"29,-210 29,-224 48,-224 48,-210 29,-210\"/>\n",
       "<text text-anchor=\"start\" x=\"30\" y=\"-214.2\" font-family=\"Helvetica,sans-Serif\" font-size=\"11.00\" fill=\"#444443\"> &#39;n&#39;</text>\n",
       "<polygon fill=\"#fefecd\" stroke=\"transparent\" points=\"2,-208 2,-210 48,-210 48,-208 2,-208\"/>\n",
       "<polygon fill=\"#fefecd\" stroke=\"transparent\" points=\"2,-194 2,-208 19,-208 19,-194 2,-194\"/>\n",
       "<text text-anchor=\"start\" x=\"6\" y=\"-198.2\" font-family=\"Helvetica,sans-Serif\" font-size=\"11.00\" fill=\"#444443\">&#39;x&#39; </text>\n",
       "<text text-anchor=\"start\" x=\"19\" y=\"-196.8\" font-family=\"Helvetica,sans-Serif\" font-size=\"9.00\" fill=\"#444443\">→</text>\n",
       "<polygon fill=\"#fefecd\" stroke=\"transparent\" points=\"29,-194 29,-208 48,-208 48,-194 29,-194\"/>\n",
       "<text text-anchor=\"start\" x=\"30\" y=\"-198.2\" font-family=\"Helvetica,sans-Serif\" font-size=\"11.00\" fill=\"#444443\"> &#39;o&#39;</text>\n",
       "<polygon fill=\"#fefecd\" stroke=\"transparent\" points=\"2,-192 2,-194 48,-194 48,-192 2,-192\"/>\n",
       "<polygon fill=\"#fefecd\" stroke=\"transparent\" points=\"2,-178 2,-192 19,-192 19,-178 2,-178\"/>\n",
       "<text text-anchor=\"start\" x=\"9\" y=\"-182.2\" font-family=\"Helvetica,sans-Serif\" font-size=\"11.00\" fill=\"#444443\">&#39;i&#39; </text>\n",
       "<text text-anchor=\"start\" x=\"19\" y=\"-180.8\" font-family=\"Helvetica,sans-Serif\" font-size=\"9.00\" fill=\"#444443\">→</text>\n",
       "<polygon fill=\"#fefecd\" stroke=\"transparent\" points=\"29,-178 29,-192 48,-192 48,-178 29,-178\"/>\n",
       "<text text-anchor=\"start\" x=\"30\" y=\"-182.2\" font-family=\"Helvetica,sans-Serif\" font-size=\"11.00\" fill=\"#444443\"> &#39;p&#39;</text>\n",
       "<polygon fill=\"#fefecd\" stroke=\"transparent\" points=\"2,-176 2,-178 48,-178 48,-176 2,-176\"/>\n",
       "<polygon fill=\"#fefecd\" stroke=\"transparent\" points=\"2,-162 2,-176 19,-176 19,-162 2,-162\"/>\n",
       "<text text-anchor=\"start\" x=\"8\" y=\"-166.2\" font-family=\"Helvetica,sans-Serif\" font-size=\"11.00\" fill=\"#444443\">&#39;t&#39; </text>\n",
       "<text text-anchor=\"start\" x=\"19\" y=\"-164.8\" font-family=\"Helvetica,sans-Serif\" font-size=\"9.00\" fill=\"#444443\">→</text>\n",
       "<polygon fill=\"#fefecd\" stroke=\"transparent\" points=\"29,-162 29,-176 48,-176 48,-162 29,-162\"/>\n",
       "<text text-anchor=\"start\" x=\"30\" y=\"-166.2\" font-family=\"Helvetica,sans-Serif\" font-size=\"11.00\" fill=\"#444443\"> &#39;q&#39;</text>\n",
       "<polygon fill=\"#fefecd\" stroke=\"transparent\" points=\"2,-160 2,-162 48,-162 48,-160 2,-160\"/>\n",
       "<polygon fill=\"#fefecd\" stroke=\"transparent\" points=\"2,-146 2,-160 19,-160 19,-146 2,-146\"/>\n",
       "<text text-anchor=\"start\" x=\"5\" y=\"-150.2\" font-family=\"Helvetica,sans-Serif\" font-size=\"11.00\" fill=\"#444443\">&#39;b&#39; </text>\n",
       "<text text-anchor=\"start\" x=\"19\" y=\"-148.8\" font-family=\"Helvetica,sans-Serif\" font-size=\"9.00\" fill=\"#444443\">→</text>\n",
       "<polygon fill=\"#fefecd\" stroke=\"transparent\" points=\"29,-146 29,-160 48,-160 48,-146 29,-146\"/>\n",
       "<text text-anchor=\"start\" x=\"30\" y=\"-150.2\" font-family=\"Helvetica,sans-Serif\" font-size=\"11.00\" fill=\"#444443\"> &#39;r&#39;</text>\n",
       "<polygon fill=\"#fefecd\" stroke=\"transparent\" points=\"2,-144 2,-146 48,-146 48,-144 2,-144\"/>\n",
       "<polygon fill=\"#fefecd\" stroke=\"transparent\" points=\"2,-130 2,-144 19,-144 19,-130 2,-130\"/>\n",
       "<text text-anchor=\"start\" x=\"2\" y=\"-134.2\" font-family=\"Helvetica,sans-Serif\" font-size=\"11.00\" fill=\"#444443\">&#39;m&#39; </text>\n",
       "<text text-anchor=\"start\" x=\"19\" y=\"-132.8\" font-family=\"Helvetica,sans-Serif\" font-size=\"9.00\" fill=\"#444443\">→</text>\n",
       "<polygon fill=\"#fefecd\" stroke=\"transparent\" points=\"29,-130 29,-144 48,-144 48,-130 29,-130\"/>\n",
       "<text text-anchor=\"start\" x=\"30\" y=\"-134.2\" font-family=\"Helvetica,sans-Serif\" font-size=\"11.00\" fill=\"#444443\"> &#39;s&#39;</text>\n",
       "<polygon fill=\"#fefecd\" stroke=\"transparent\" points=\"2,-128 2,-130 48,-130 48,-128 2,-128\"/>\n",
       "<polygon fill=\"#fefecd\" stroke=\"transparent\" points=\"2,-114 2,-128 19,-128 19,-114 2,-114\"/>\n",
       "<text text-anchor=\"start\" x=\"6\" y=\"-118.2\" font-family=\"Helvetica,sans-Serif\" font-size=\"11.00\" fill=\"#444443\">&#39;c&#39; </text>\n",
       "<text text-anchor=\"start\" x=\"19\" y=\"-116.8\" font-family=\"Helvetica,sans-Serif\" font-size=\"9.00\" fill=\"#444443\">→</text>\n",
       "<polygon fill=\"#fefecd\" stroke=\"transparent\" points=\"29,-114 29,-128 48,-128 48,-114 29,-114\"/>\n",
       "<text text-anchor=\"start\" x=\"30\" y=\"-118.2\" font-family=\"Helvetica,sans-Serif\" font-size=\"11.00\" fill=\"#444443\"> &#39;t&#39;</text>\n",
       "<polygon fill=\"#fefecd\" stroke=\"transparent\" points=\"2,-112 2,-114 48,-114 48,-112 2,-112\"/>\n",
       "<polygon fill=\"#fefecd\" stroke=\"transparent\" points=\"2,-98 2,-112 19,-112 19,-98 2,-98\"/>\n",
       "<text text-anchor=\"start\" x=\"5\" y=\"-102.2\" font-family=\"Helvetica,sans-Serif\" font-size=\"11.00\" fill=\"#444443\">&#39;d&#39; </text>\n",
       "<text text-anchor=\"start\" x=\"19\" y=\"-100.8\" font-family=\"Helvetica,sans-Serif\" font-size=\"9.00\" fill=\"#444443\">→</text>\n",
       "<polygon fill=\"#fefecd\" stroke=\"transparent\" points=\"29,-98 29,-112 48,-112 48,-98 29,-98\"/>\n",
       "<text text-anchor=\"start\" x=\"30\" y=\"-102.2\" font-family=\"Helvetica,sans-Serif\" font-size=\"11.00\" fill=\"#444443\"> &#39;u&#39;</text>\n",
       "<polygon fill=\"#fefecd\" stroke=\"transparent\" points=\"2,-96 2,-98 48,-98 48,-96 2,-96\"/>\n",
       "<polygon fill=\"#fefecd\" stroke=\"transparent\" points=\"2,-82 2,-96 19,-96 19,-82 2,-82\"/>\n",
       "<text text-anchor=\"start\" x=\"5\" y=\"-86.2\" font-family=\"Helvetica,sans-Serif\" font-size=\"11.00\" fill=\"#444443\">&#39;h&#39; </text>\n",
       "<text text-anchor=\"start\" x=\"19\" y=\"-84.8\" font-family=\"Helvetica,sans-Serif\" font-size=\"9.00\" fill=\"#444443\">→</text>\n",
       "<polygon fill=\"#fefecd\" stroke=\"transparent\" points=\"29,-82 29,-96 48,-96 48,-82 29,-82\"/>\n",
       "<text text-anchor=\"start\" x=\"30\" y=\"-86.2\" font-family=\"Helvetica,sans-Serif\" font-size=\"11.00\" fill=\"#444443\"> &#39;v&#39;</text>\n",
       "<polygon fill=\"#fefecd\" stroke=\"transparent\" points=\"2,-80 2,-82 48,-82 48,-80 2,-80\"/>\n",
       "<polygon fill=\"#fefecd\" stroke=\"transparent\" points=\"2,-66 2,-80 19,-80 19,-66 2,-66\"/>\n",
       "<text text-anchor=\"start\" x=\"8\" y=\"-70.2\" font-family=\"Helvetica,sans-Serif\" font-size=\"11.00\" fill=\"#444443\">&#39; &#39; </text>\n",
       "<text text-anchor=\"start\" x=\"19\" y=\"-68.8\" font-family=\"Helvetica,sans-Serif\" font-size=\"9.00\" fill=\"#444443\">→</text>\n",
       "<polygon fill=\"#fefecd\" stroke=\"transparent\" points=\"29,-66 29,-80 48,-80 48,-66 29,-66\"/>\n",
       "<text text-anchor=\"start\" x=\"30\" y=\"-70.2\" font-family=\"Helvetica,sans-Serif\" font-size=\"11.00\" fill=\"#444443\"> &#39;w&#39;</text>\n",
       "<polygon fill=\"#fefecd\" stroke=\"transparent\" points=\"2,-64 2,-66 48,-66 48,-64 2,-64\"/>\n",
       "<polygon fill=\"#fefecd\" stroke=\"transparent\" points=\"2,-50 2,-64 19,-64 19,-50 2,-50\"/>\n",
       "<text text-anchor=\"start\" x=\"8\" y=\"-54.2\" font-family=\"Helvetica,sans-Serif\" font-size=\"11.00\" fill=\"#444443\">&#39;f&#39; </text>\n",
       "<text text-anchor=\"start\" x=\"19\" y=\"-52.8\" font-family=\"Helvetica,sans-Serif\" font-size=\"9.00\" fill=\"#444443\">→</text>\n",
       "<polygon fill=\"#fefecd\" stroke=\"transparent\" points=\"29,-50 29,-64 48,-64 48,-50 29,-50\"/>\n",
       "<text text-anchor=\"start\" x=\"30\" y=\"-54.2\" font-family=\"Helvetica,sans-Serif\" font-size=\"11.00\" fill=\"#444443\"> &#39;x&#39;</text>\n",
       "<polygon fill=\"#fefecd\" stroke=\"transparent\" points=\"2,-48 2,-50 48,-50 48,-48 2,-48\"/>\n",
       "<polygon fill=\"#fefecd\" stroke=\"transparent\" points=\"2,-34 2,-48 19,-48 19,-34 2,-34\"/>\n",
       "<text text-anchor=\"start\" x=\"6\" y=\"-38.2\" font-family=\"Helvetica,sans-Serif\" font-size=\"11.00\" fill=\"#444443\">&#39;s&#39; </text>\n",
       "<text text-anchor=\"start\" x=\"19\" y=\"-36.8\" font-family=\"Helvetica,sans-Serif\" font-size=\"9.00\" fill=\"#444443\">→</text>\n",
       "<polygon fill=\"#fefecd\" stroke=\"transparent\" points=\"29,-34 29,-48 48,-48 48,-34 29,-34\"/>\n",
       "<text text-anchor=\"start\" x=\"30\" y=\"-38.2\" font-family=\"Helvetica,sans-Serif\" font-size=\"11.00\" fill=\"#444443\"> &#39;y&#39;</text>\n",
       "<polygon fill=\"#fefecd\" stroke=\"transparent\" points=\"2,-32 2,-34 48,-34 48,-32 2,-32\"/>\n",
       "<polygon fill=\"#fefecd\" stroke=\"transparent\" points=\"2,-18 2,-32 19,-32 19,-18 2,-18\"/>\n",
       "<text text-anchor=\"start\" x=\"5\" y=\"-22.2\" font-family=\"Helvetica,sans-Serif\" font-size=\"11.00\" fill=\"#444443\">&#39;e&#39; </text>\n",
       "<text text-anchor=\"start\" x=\"19\" y=\"-20.8\" font-family=\"Helvetica,sans-Serif\" font-size=\"9.00\" fill=\"#444443\">→</text>\n",
       "<polygon fill=\"#fefecd\" stroke=\"transparent\" points=\"29,-18 29,-32 48,-32 48,-18 29,-18\"/>\n",
       "<text text-anchor=\"start\" x=\"30\" y=\"-22.2\" font-family=\"Helvetica,sans-Serif\" font-size=\"11.00\" fill=\"#444443\"> &#39;z&#39;</text>\n",
       "<polygon fill=\"#fefecd\" stroke=\"transparent\" points=\"2,-16 2,-18 48,-18 48,-16 2,-16\"/>\n",
       "<polygon fill=\"#fefecd\" stroke=\"transparent\" points=\"2,-2 2,-16 19,-16 19,-2 2,-2\"/>\n",
       "<text text-anchor=\"start\" x=\"6\" y=\"-6.2\" font-family=\"Helvetica,sans-Serif\" font-size=\"11.00\" fill=\"#444443\">&#39;y&#39; </text>\n",
       "<text text-anchor=\"start\" x=\"19\" y=\"-4.8\" font-family=\"Helvetica,sans-Serif\" font-size=\"9.00\" fill=\"#444443\">→</text>\n",
       "<polygon fill=\"#fefecd\" stroke=\"transparent\" points=\"29,-2 29,-16 48,-16 48,-2 29,-2\"/>\n",
       "<text text-anchor=\"start\" x=\"30\" y=\"-6.2\" font-family=\"Helvetica,sans-Serif\" font-size=\"11.00\" fill=\"#444443\"> &#39; &#39;</text>\n",
       "</g>\n",
       "</g>\n",
       "</svg>\n"
      ],
      "text/plain": [
       "<graphviz.files.Source at 0x7fdd287cb820>"
      ]
     },
     "execution_count": 31,
     "metadata": {},
     "output_type": "execute_result"
    }
   ],
   "source": [
    "key = {v:k for k,v in cipher.items()}\n",
    "objviz(key)"
   ]
  },
  {
   "cell_type": "markdown",
   "id": "456a8c0d-946f-4145-acbb-aa0b78bbacf0",
   "metadata": {},
   "source": [
    "That completes the first step. For the second step, we have to create a new string from the original plaintext based on the cipher. That's a matter of walking the characters, looking them up in the cipher, and adding the translated character to a new string."
   ]
  },
  {
   "cell_type": "code",
   "execution_count": 32,
   "id": "b18c0822-573b-4cf1-8099-480a31b477da",
   "metadata": {},
   "outputs": [
    {
     "data": {
      "text/plain": [
       "'osyirmm xbgyamygxzwrclrvrvr'"
      ]
     },
     "execution_count": 32,
     "metadata": {},
     "output_type": "execute_result"
    }
   ],
   "source": [
    "s = \"my password is dogcatbanana\"\n",
    "e = \"\"\n",
    "for c in s:\n",
    "    e += cipher[c]\n",
    "# same as: e = ''.join([cipher[c] for c in s])\n",
    "e"
   ]
  },
  {
   "cell_type": "markdown",
   "id": "39059652-a2f7-4bfd-b40e-7dc86487917c",
   "metadata": {},
   "source": [
    "To go backwards to the plaintext:"
   ]
  },
  {
   "cell_type": "code",
   "execution_count": 33,
   "id": "93f560dc-5227-49db-8c92-d0687fb89beb",
   "metadata": {},
   "outputs": [
    {
     "data": {
      "text/plain": [
       "'my password is dogcatbanana'"
      ]
     },
     "execution_count": 33,
     "metadata": {},
     "output_type": "execute_result"
    }
   ],
   "source": [
    "s = ''.join([key[c] for c in e])\n",
    "s"
   ]
  },
  {
   "cell_type": "markdown",
   "id": "30aff53f-35f1-438f-91c7-aef8426cfa1f",
   "metadata": {},
   "source": [
    "That appears to work so let's create two clean functions:"
   ]
  },
  {
   "cell_type": "code",
   "execution_count": 34,
   "id": "e839934d-eac5-481f-b4f4-d48c9c11c161",
   "metadata": {},
   "outputs": [],
   "source": [
    "def encrypt(s) -> (dict,dict):\n",
    "    vocab = string.ascii_lowercase + ' ' # allow spaces as well\n",
    "    shuffled_chars = list(vocab)\n",
    "    np.random.shuffle( shuffled_chars )\n",
    "    cipher = {c:k for c,k in zip(vocab,shuffled_chars)}\n",
    "    key = {v:k for k,v in cipher.items()}\n",
    "    e = ''.join([cipher[c] for c in s])\n",
    "    return e, key\n",
    "\n",
    "def decrypt(e, key) -> str:\n",
    "    return ''.join([key[c] for c in e])"
   ]
  },
  {
   "cell_type": "markdown",
   "id": "e60f870c-0b84-493c-b760-01aff2fb0ffc",
   "metadata": {},
   "source": [
    "Let's give it a try with some sample strings:"
   ]
  },
  {
   "cell_type": "code",
   "execution_count": 35,
   "id": "38456587-b1ef-472c-9eac-33edb8ffb570",
   "metadata": {},
   "outputs": [
    {
     "data": {
      "text/plain": [
       "'hi mom'"
      ]
     },
     "execution_count": 35,
     "metadata": {},
     "output_type": "execute_result"
    }
   ],
   "source": [
    "e,key = encrypt(\"hi mom\")\n",
    "decrypt(e,key)"
   ]
  },
  {
   "cell_type": "code",
   "execution_count": 36,
   "id": "bc93b82a-4323-43ff-aef7-60d1979fe95d",
   "metadata": {},
   "outputs": [
    {
     "data": {
      "text/plain": [
       "''"
      ]
     },
     "execution_count": 36,
     "metadata": {},
     "output_type": "execute_result"
    }
   ],
   "source": [
    "e,key = encrypt(\"\")\n",
    "decrypt(e,key)"
   ]
  },
  {
   "cell_type": "code",
   "execution_count": 37,
   "id": "ba7b1da9-7ce0-4ed4-aca1-7a55842afd42",
   "metadata": {},
   "outputs": [
    {
     "data": {
      "text/plain": [
       "'apple cat banana'"
      ]
     },
     "execution_count": 37,
     "metadata": {},
     "output_type": "execute_result"
    }
   ],
   "source": [
    "e,key = encrypt(\"apple cat banana\")\n",
    "decrypt(e,key)"
   ]
  },
  {
   "cell_type": "markdown",
   "id": "664bbf28-8636-454e-837a-1750708346b9",
   "metadata": {},
   "source": [
    "Here's a cool Python syntax trick.  If you have a tuple `t`, then `*t` unpacks that into an argument list and a function call, which lets us tighten up the syntax like this:"
   ]
  },
  {
   "cell_type": "code",
   "execution_count": 38,
   "id": "a660d707-60c3-4eb1-a930-4e1ff19d509a",
   "metadata": {},
   "outputs": [
    {
     "data": {
      "text/plain": [
       "'apple cat banana'"
      ]
     },
     "execution_count": 38,
     "metadata": {},
     "output_type": "execute_result"
    }
   ],
   "source": [
    "decrypt( *encrypt(\"apple cat banana\") )"
   ]
  },
  {
   "cell_type": "code",
   "execution_count": 39,
   "id": "18c0b2bf-71b4-4547-8275-580089337de9",
   "metadata": {},
   "outputs": [
    {
     "data": {
      "text/plain": [
       "'i like toast'"
      ]
     },
     "execution_count": 39,
     "metadata": {},
     "output_type": "execute_result"
    }
   ],
   "source": [
    "decrypt( *encrypt(\"i like toast\") )"
   ]
  },
  {
   "cell_type": "markdown",
   "id": "586a8764-990a-410a-ba32-c67664ed9fc9",
   "metadata": {},
   "source": [
    "This encryption seems great! How could somebody guess our randomized mapping of characters? Unfortunately, these simple ciphers fall immediately to character frequency analysis, as long as we have enough characters in the sample to get an accurate picture of character frequencies. For example, in English the letter `e` has the highest frequency so we replace the character with the highest frequency in the encrypted text with `e` and so on down the frequency list.  As we go along, we look for words in English dictionary or sequences that are close to endless words.  It's like a game of Jeopardy where we try to guess a phrase given some of the characters. We can also look at most common word pairs like `th` to tease out the original plaintext. If you'd like to read a fascinating and well-written (nonacademic) book on cryptography from ancient times to modern times, check out [The Code Book](https://www.amazon.com/Code-Book-Science-Secrecy-Cryptography/dp/0385495323) by Simon Singh. "
   ]
  },
  {
   "cell_type": "markdown",
   "id": "7324b2ad-ae15-4661-b44f-ce8a8cd5662a",
   "metadata": {},
   "source": [
    "### Exercise: Download and filter CSV data from the web\n",
    "\n",
    "As we will see in the data acquisitions class, a very common pattern is to collect some data from the web and process it in some way.  Let's get started  by downloading a CSV file from the web that contains information on [cities in various states](https://people.sc.fsu.edu/~jburkardt/data/csv/cities.csv) from the US. We could simply download that file onto our local disk, but let's do this automatically with a program. \n",
    "\n",
    "The next step is to filter out any cities that are not in Washington state, code `WA`.   Let's finish up by saving those `WA` rows back to a text file, `/tmp/wa_cities.csv`, in CSV format. We'll avoid using pandas initially and then do it again with pandas.\n",
    "\n",
    "To get started, think about the overall sequence of steps needed to solve this problem at a high level; totally ignore the coding issues. In my mind, there are three things to do:\n",
    "\n",
    "1. Download the CSV file as a string\n",
    "2. Filter for just the `WA` states\n",
    "3. Write those rows to a new text file\n",
    "\n",
    "There are a number of details we need to flesh out for each step, but it's important to start at a high level before drilling down into the details.\n",
    "\n",
    "For step one, a quick Google search reveals that there is a package called `requests` for Python that allows us to download files easily so let's do that and take a look at what we get:"
   ]
  },
  {
   "cell_type": "code",
   "execution_count": 40,
   "id": "7d7317a0-0fb2-439a-96d6-a46683a93576",
   "metadata": {},
   "outputs": [
    {
     "name": "stdout",
     "output_type": "stream",
     "text": [
      "\"LatD\", \"LatM\", \"LatS\", \"NS\", \"LonD\", \"LonM\", \"LonS\", \"EW\", \"City\", \"State\"\n",
      "   41,    5,   59, \"N\",     80,   39,    0, \"W\", \"Youngstown\", OH\n",
      "   42,   52,   48, \"N\",     97,   23,   23, \"W\", \"Yankton\", SD\n",
      "   46,   35,   59, \"N\",    120,   30,   36, \"W\", \"Yakima\", WA\n",
      "   42,   16,   12, \"N\",     71,  \n"
     ]
    }
   ],
   "source": [
    "import requests\n",
    "r = requests.get(\"https://people.sc.fsu.edu/~jburkardt/data/csv/cities.csv\")\n",
    "contents = r.text\n",
    "print(contents[0:300])"
   ]
  },
  {
   "cell_type": "markdown",
   "id": "e5557ff6-c7c4-4613-870d-13bfe056c54d",
   "metadata": {},
   "source": [
    "There are a lot of quotation marks in there that are unnecessary and we can remove.  We did not know this detail when planning the overall process, but now we know and so let's clean up:"
   ]
  },
  {
   "cell_type": "code",
   "execution_count": 41,
   "id": "40f54d88-cde8-4ef9-b3eb-11ab622d8f27",
   "metadata": {},
   "outputs": [
    {
     "name": "stdout",
     "output_type": "stream",
     "text": [
      "LatD, LatM, LatS, NS, LonD, LonM, LonS, EW, City, State\n",
      "   41,    5,   59, N,     80,   39,    0, W, Youngstown, OH\n",
      "   42,   52,   48, N,     97,   23,   23, W, Yankton, SD\n",
      "   46,   35,   59, N,    120,   30,   36, W, Yakima, WA\n",
      "   42,   16,   12, N,     71,   48,    0, W, Worcester, MA\n",
      "   43,   37,\n"
     ]
    }
   ],
   "source": [
    "contents = contents.replace('\"', '')\n",
    "print(contents[0:300])"
   ]
  },
  {
   "cell_type": "markdown",
   "id": "5b726f23-cf45-47a5-b84d-bed1fb7c6647",
   "metadata": {},
   "source": [
    "For step two, we need to filter for just those cities in Washington state but right now all we have is a string. Let's split that string into a list of strings, with one row per string and separate out the first row as the list of columns:"
   ]
  },
  {
   "cell_type": "code",
   "execution_count": 42,
   "id": "869ba60b-a5bb-4f66-815b-ce7d9ef4bc06",
   "metadata": {},
   "outputs": [
    {
     "data": {
      "text/plain": [
       "['   41,    5,   59, N,     80,   39,    0, W, Youngstown, OH',\n",
       " '   42,   52,   48, N,     97,   23,   23, W, Yankton, SD',\n",
       " '   46,   35,   59, N,    120,   30,   36, W, Yakima, WA',\n",
       " '   42,   16,   12, N,     71,   48,    0, W, Worcester, MA',\n",
       " '   43,   37,   48, N,     89,   46,   11, W, Wisconsin Dells, WI']"
      ]
     },
     "execution_count": 42,
     "metadata": {},
     "output_type": "execute_result"
    }
   ],
   "source": [
    "lines = contents.split('\\n')\n",
    "columns = lines[0]\n",
    "lines = lines[1:]\n",
    "lines[:5]"
   ]
  },
  {
   "cell_type": "markdown",
   "id": "074bbcc3-3218-460e-b754-4057421e94e1",
   "metadata": {},
   "source": [
    "Once we have that list, we can use a list comprehension to filter the rows. Note that we don't have to split up the individual rows into fields or columns because a simple check for string `WA` in each row is sufficient:"
   ]
  },
  {
   "cell_type": "code",
   "execution_count": 43,
   "id": "7d2651c2-4da9-4dbc-b660-39a2a908edfb",
   "metadata": {},
   "outputs": [
    {
     "data": {
      "text/plain": [
       "['   46,   35,   59, N,    120,   30,   36, W, Yakima, WA',\n",
       " '   47,   25,   11, N,    120,   19,   11, W, Wenatchee, WA',\n",
       " '   46,    4,   11, N,    118,   19,   48, W, Walla Walla, WA',\n",
       " '   47,   14,   24, N,    122,   25,   48, W, Tacoma, WA',\n",
       " '   47,   40,   11, N,    117,   24,   36, W, Spokane, WA',\n",
       " '   47,   35,   59, N,    122,   19,   48, W, Seattle, WA']"
      ]
     },
     "execution_count": 43,
     "metadata": {},
     "output_type": "execute_result"
    }
   ],
   "source": [
    "wa = [row for row in lines if 'WA' in row]\n",
    "wa"
   ]
  },
  {
   "cell_type": "markdown",
   "id": "90344944-d643-4c2d-a18f-f893b7472f05",
   "metadata": {},
   "source": [
    "For step three, we can open up a text file as we normally do and iterate through the rows of data (starting out by writing the list of columns):"
   ]
  },
  {
   "cell_type": "code",
   "execution_count": 44,
   "id": "73a5b953-e2cd-4fa3-9f4b-01fb4a903a99",
   "metadata": {},
   "outputs": [],
   "source": [
    "with open(\"/tmp/wa_cities.csv\", \"w\") as f:\n",
    "    f.write(columns+\"\\n\")\n",
    "    for row in wa:\n",
    "        f.write(row+\"\\n\")"
   ]
  },
  {
   "cell_type": "markdown",
   "id": "3d00d8ec-18da-4592-912a-2a114baa385f",
   "metadata": {},
   "source": [
    "#### Pandas alternative\n",
    "\n",
    "Pandas is also network aware and so we can give it a URL instead of a file name to read in a CSV file, which it processes heavily into a table rather than a simple list of strings as we did previously"
   ]
  },
  {
   "cell_type": "code",
   "execution_count": 45,
   "id": "482a44df-6c4a-42e7-b4bd-b4cb696baec1",
   "metadata": {},
   "outputs": [
    {
     "data": {
      "text/html": [
       "<div>\n",
       "<style scoped>\n",
       "    .dataframe tbody tr th:only-of-type {\n",
       "        vertical-align: middle;\n",
       "    }\n",
       "\n",
       "    .dataframe tbody tr th {\n",
       "        vertical-align: top;\n",
       "    }\n",
       "\n",
       "    .dataframe thead th {\n",
       "        text-align: right;\n",
       "    }\n",
       "</style>\n",
       "<table border=\"1\" class=\"dataframe\">\n",
       "  <thead>\n",
       "    <tr style=\"text-align: right;\">\n",
       "      <th></th>\n",
       "      <th>LatD,</th>\n",
       "      <th>LatM,</th>\n",
       "      <th>LatS,</th>\n",
       "      <th>NS,</th>\n",
       "      <th>LonD,</th>\n",
       "      <th>LonM,</th>\n",
       "      <th>LonS,</th>\n",
       "      <th>EW,</th>\n",
       "      <th>City,</th>\n",
       "      <th>State</th>\n",
       "    </tr>\n",
       "  </thead>\n",
       "  <tbody>\n",
       "    <tr>\n",
       "      <th>0</th>\n",
       "      <td>41,</td>\n",
       "      <td>5,</td>\n",
       "      <td>59,</td>\n",
       "      <td>N,</td>\n",
       "      <td>80,</td>\n",
       "      <td>39,</td>\n",
       "      <td>0,</td>\n",
       "      <td>W,</td>\n",
       "      <td>Youngstown,</td>\n",
       "      <td>OH</td>\n",
       "    </tr>\n",
       "    <tr>\n",
       "      <th>1</th>\n",
       "      <td>42,</td>\n",
       "      <td>52,</td>\n",
       "      <td>48,</td>\n",
       "      <td>N,</td>\n",
       "      <td>97,</td>\n",
       "      <td>23,</td>\n",
       "      <td>23,</td>\n",
       "      <td>W,</td>\n",
       "      <td>Yankton,</td>\n",
       "      <td>SD</td>\n",
       "    </tr>\n",
       "    <tr>\n",
       "      <th>2</th>\n",
       "      <td>46,</td>\n",
       "      <td>35,</td>\n",
       "      <td>59,</td>\n",
       "      <td>N,</td>\n",
       "      <td>120,</td>\n",
       "      <td>30,</td>\n",
       "      <td>36,</td>\n",
       "      <td>W,</td>\n",
       "      <td>Yakima,</td>\n",
       "      <td>WA</td>\n",
       "    </tr>\n",
       "    <tr>\n",
       "      <th>3</th>\n",
       "      <td>42,</td>\n",
       "      <td>16,</td>\n",
       "      <td>12,</td>\n",
       "      <td>N,</td>\n",
       "      <td>71,</td>\n",
       "      <td>48,</td>\n",
       "      <td>0,</td>\n",
       "      <td>W,</td>\n",
       "      <td>Worcester,</td>\n",
       "      <td>MA</td>\n",
       "    </tr>\n",
       "    <tr>\n",
       "      <th>4</th>\n",
       "      <td>43,</td>\n",
       "      <td>37,</td>\n",
       "      <td>48,</td>\n",
       "      <td>N,</td>\n",
       "      <td>89,</td>\n",
       "      <td>46,</td>\n",
       "      <td>11,</td>\n",
       "      <td>W,</td>\n",
       "      <td>Wisconsin Dells,</td>\n",
       "      <td>WI</td>\n",
       "    </tr>\n",
       "  </tbody>\n",
       "</table>\n",
       "</div>"
      ],
      "text/plain": [
       "  LatD, LatM, LatS, NS, LonD, LonM, LonS, EW,             City, State\n",
       "0   41,    5,   59,  N,   80,   39,    0,  W,       Youngstown,    OH\n",
       "1   42,   52,   48,  N,   97,   23,   23,  W,          Yankton,    SD\n",
       "2   46,   35,   59,  N,  120,   30,   36,  W,           Yakima,    WA\n",
       "3   42,   16,   12,  N,   71,   48,    0,  W,        Worcester,    MA\n",
       "4   43,   37,   48,  N,   89,   46,   11,  W,  Wisconsin Dells,    WI"
      ]
     },
     "execution_count": 45,
     "metadata": {},
     "output_type": "execute_result"
    }
   ],
   "source": [
    "import pandas as pd\n",
    "import csv\n",
    "df = pd.read_csv(\"https://people.sc.fsu.edu/~jburkardt/data/csv/cities.csv\",\n",
    "                 delim_whitespace=True)\n",
    "df.head(5)"
   ]
  },
  {
   "cell_type": "markdown",
   "id": "1a2a024c-4668-4f52-b7d6-f1f0f34accf2",
   "metadata": {},
   "source": [
    "For step two, it's easy to filter using a query like syntax.  Expression `df['State']=='WA'` gives us a vector of Boolean values indicating whether a row satisfies the conditions:"
   ]
  },
  {
   "cell_type": "code",
   "execution_count": 46,
   "id": "d4eb2644-803e-4e24-88f3-47de2bb9fdc2",
   "metadata": {},
   "outputs": [
    {
     "data": {
      "text/plain": [
       "0      False\n",
       "1      False\n",
       "2       True\n",
       "3      False\n",
       "4      False\n",
       "       ...  \n",
       "123    False\n",
       "124    False\n",
       "125    False\n",
       "126    False\n",
       "127    False\n",
       "Name: State, Length: 128, dtype: bool"
      ]
     },
     "execution_count": 46,
     "metadata": {},
     "output_type": "execute_result"
    }
   ],
   "source": [
    "df['State']=='WA'"
   ]
  },
  {
   "cell_type": "markdown",
   "id": "7dcf8b29-5055-4aeb-826c-370a6fb2c23e",
   "metadata": {},
   "source": [
    "That vector of Booleans is usable as an index into the rows of the data frame:"
   ]
  },
  {
   "cell_type": "code",
   "execution_count": 47,
   "id": "0d8b922e-dd9c-438d-9f3e-f0b0895ad625",
   "metadata": {},
   "outputs": [
    {
     "data": {
      "text/html": [
       "<div>\n",
       "<style scoped>\n",
       "    .dataframe tbody tr th:only-of-type {\n",
       "        vertical-align: middle;\n",
       "    }\n",
       "\n",
       "    .dataframe tbody tr th {\n",
       "        vertical-align: top;\n",
       "    }\n",
       "\n",
       "    .dataframe thead th {\n",
       "        text-align: right;\n",
       "    }\n",
       "</style>\n",
       "<table border=\"1\" class=\"dataframe\">\n",
       "  <thead>\n",
       "    <tr style=\"text-align: right;\">\n",
       "      <th></th>\n",
       "      <th>LatD,</th>\n",
       "      <th>LatM,</th>\n",
       "      <th>LatS,</th>\n",
       "      <th>NS,</th>\n",
       "      <th>LonD,</th>\n",
       "      <th>LonM,</th>\n",
       "      <th>LonS,</th>\n",
       "      <th>EW,</th>\n",
       "      <th>City,</th>\n",
       "      <th>State</th>\n",
       "    </tr>\n",
       "  </thead>\n",
       "  <tbody>\n",
       "    <tr>\n",
       "      <th>2</th>\n",
       "      <td>46,</td>\n",
       "      <td>35,</td>\n",
       "      <td>59,</td>\n",
       "      <td>N,</td>\n",
       "      <td>120,</td>\n",
       "      <td>30,</td>\n",
       "      <td>36,</td>\n",
       "      <td>W,</td>\n",
       "      <td>Yakima,</td>\n",
       "      <td>WA</td>\n",
       "    </tr>\n",
       "    <tr>\n",
       "      <th>17</th>\n",
       "      <td>47,</td>\n",
       "      <td>25,</td>\n",
       "      <td>11,</td>\n",
       "      <td>N,</td>\n",
       "      <td>120,</td>\n",
       "      <td>19,</td>\n",
       "      <td>11,</td>\n",
       "      <td>W,</td>\n",
       "      <td>Wenatchee,</td>\n",
       "      <td>WA</td>\n",
       "    </tr>\n",
       "    <tr>\n",
       "      <th>28</th>\n",
       "      <td>46,</td>\n",
       "      <td>4,</td>\n",
       "      <td>11,</td>\n",
       "      <td>N,</td>\n",
       "      <td>118,</td>\n",
       "      <td>19,</td>\n",
       "      <td>48,</td>\n",
       "      <td>W,</td>\n",
       "      <td>Walla Walla,</td>\n",
       "      <td>WA</td>\n",
       "    </tr>\n",
       "    <tr>\n",
       "      <th>54</th>\n",
       "      <td>47,</td>\n",
       "      <td>14,</td>\n",
       "      <td>24,</td>\n",
       "      <td>N,</td>\n",
       "      <td>122,</td>\n",
       "      <td>25,</td>\n",
       "      <td>48,</td>\n",
       "      <td>W,</td>\n",
       "      <td>Tacoma,</td>\n",
       "      <td>WA</td>\n",
       "    </tr>\n",
       "    <tr>\n",
       "      <th>68</th>\n",
       "      <td>47,</td>\n",
       "      <td>40,</td>\n",
       "      <td>11,</td>\n",
       "      <td>N,</td>\n",
       "      <td>117,</td>\n",
       "      <td>24,</td>\n",
       "      <td>36,</td>\n",
       "      <td>W,</td>\n",
       "      <td>Spokane,</td>\n",
       "      <td>WA</td>\n",
       "    </tr>\n",
       "    <tr>\n",
       "      <th>78</th>\n",
       "      <td>47,</td>\n",
       "      <td>35,</td>\n",
       "      <td>59,</td>\n",
       "      <td>N,</td>\n",
       "      <td>122,</td>\n",
       "      <td>19,</td>\n",
       "      <td>48,</td>\n",
       "      <td>W,</td>\n",
       "      <td>Seattle,</td>\n",
       "      <td>WA</td>\n",
       "    </tr>\n",
       "  </tbody>\n",
       "</table>\n",
       "</div>"
      ],
      "text/plain": [
       "   LatD, LatM, LatS, NS, LonD, LonM, LonS, EW,         City, State\n",
       "2    46,   35,   59,  N,  120,   30,   36,  W,       Yakima,    WA\n",
       "17   47,   25,   11,  N,  120,   19,   11,  W,    Wenatchee,    WA\n",
       "28   46,    4,   11,  N,  118,   19,   48,  W,  Walla Walla,    WA\n",
       "54   47,   14,   24,  N,  122,   25,   48,  W,       Tacoma,    WA\n",
       "68   47,   40,   11,  N,  117,   24,   36,  W,      Spokane,    WA\n",
       "78   47,   35,   59,  N,  122,   19,   48,  W,      Seattle,    WA"
      ]
     },
     "execution_count": 47,
     "metadata": {},
     "output_type": "execute_result"
    }
   ],
   "source": [
    "df_wa = df[df['State']=='WA']\n",
    "df_wa"
   ]
  },
  {
   "cell_type": "markdown",
   "id": "abf12d29-7cab-47f9-a601-60f35f79f36e",
   "metadata": {},
   "source": [
    "Step three is also much easier using pandas:"
   ]
  },
  {
   "cell_type": "code",
   "execution_count": 48,
   "id": "4e73747e-454d-4bc7-90d3-73fa635dbacd",
   "metadata": {},
   "outputs": [],
   "source": [
    "df_wa.to_csv(\"/tmp/wa_cities2.csv\", index=False)"
   ]
  },
  {
   "cell_type": "markdown",
   "id": "5a85e6e8-a048-4a84-a8a1-5134853f086c",
   "metadata": {},
   "source": [
    "The final phase of our problem-solving template is to verify results, which we can do by comparing the two files we wrote to make sure they are the same.  Here I'm using the `diff` tool from the commandline; getting no output indicates there are no differences, which is what we want."
   ]
  },
  {
   "cell_type": "code",
   "execution_count": 49,
   "id": "7a3efeb5-1bc3-40f5-9d40-b48d913307cd",
   "metadata": {},
   "outputs": [
    {
     "name": "stdout",
     "output_type": "stream",
     "text": [
      "1,7c1,7\n",
      "< LatD, LatM, LatS, NS, LonD, LonM, LonS, EW, City, State\n",
      "<    46,   35,   59, N,    120,   30,   36, W, Yakima, WA\n",
      "<    47,   25,   11, N,    120,   19,   11, W, Wenatchee, WA\n",
      "<    46,    4,   11, N,    118,   19,   48, W, Walla Walla, WA\n",
      "<    47,   14,   24, N,    122,   25,   48, W, Tacoma, WA\n",
      "<    47,   40,   11, N,    117,   24,   36, W, Spokane, WA\n",
      "<    47,   35,   59, N,    122,   19,   48, W, Seattle, WA\n",
      "---\n",
      "> \"LatD,\",\"LatM,\",\"LatS,\",\"NS,\",\"LonD,\",\"LonM,\",\"LonS,\",\"EW,\",\"City,\",State\n",
      "> \"46,\",\"35,\",\"59,\",\"N,\",\"120,\",\"30,\",\"36,\",\"W,\",\"Yakima,\",WA\n",
      "> \"47,\",\"25,\",\"11,\",\"N,\",\"120,\",\"19,\",\"11,\",\"W,\",\"Wenatchee,\",WA\n",
      "> \"46,\",\"4,\",\"11,\",\"N,\",\"118,\",\"19,\",\"48,\",\"W,\",\"Walla Walla,\",WA\n",
      "> \"47,\",\"14,\",\"24,\",\"N,\",\"122,\",\"25,\",\"48,\",\"W,\",\"Tacoma,\",WA\n",
      "> \"47,\",\"40,\",\"11,\",\"N,\",\"117,\",\"24,\",\"36,\",\"W,\",\"Spokane,\",WA\n",
      "> \"47,\",\"35,\",\"59,\",\"N,\",\"122,\",\"19,\",\"48,\",\"W,\",\"Seattle,\",WA\n"
     ]
    }
   ],
   "source": [
    "! diff /tmp/wa_cities*.csv "
   ]
  },
  {
   "cell_type": "markdown",
   "id": "834c02c9-dd37-4df9-9f95-583f65bffcae",
   "metadata": {},
   "source": [
    "### Exercise: simple EDA of the text corpus\n",
    "\n",
    "The goal of this exercise is to load all of the text files in a directory and compute an overall vocabulary and count per word. This would be the first step in understanding a corpus of text we wanted to analyze. For example, what is the most common word used in English?  It's almost certainly `the`, right? Another interesting question is the length of the average word and the size of the overall vocabulary.\n",
    " \n",
    "Took a look at the [Berlitz](https://github.com/parrt/msds501/tree/master/data/berlitz1) data directory that's part of this course is repository. You will see a series of text files. Here's a terminal command to find all files that have the word Israel and the name:"
   ]
  },
  {
   "cell_type": "code",
   "execution_count": 50,
   "id": "e4d1cfe8-b392-43f5-9c79-812dd1b27283",
   "metadata": {},
   "outputs": [
    {
     "name": "stdout",
     "output_type": "stream",
     "text": [
      "../data/berlitz1/HandRIsrael.txt   ../data/berlitz1/WhatToIsrael.txt\n",
      "../data/berlitz1/HistoryIsrael.txt ../data/berlitz1/WhereToIsrael.txt\n",
      "../data/berlitz1/IntroIsrael.txt\n"
     ]
    }
   ],
   "source": [
    "! ls ../data/berlitz1/*Israel*"
   ]
  },
  {
   "cell_type": "markdown",
   "id": "3720e706-c247-4f66-b9a7-76415ce7a0ae",
   "metadata": {},
   "source": [
    "The overall steps needed to solve this problem are something like:\n",
    "\n",
    "1.  Get a list of all files in a directory\n",
    "2.  Walked a list of files and extract to the text, appending it to an overall string\n",
    "3.  Normalize the contents string by converting to lowercase and calling `split()` to break up the string into a list of words\n",
    "4.  Report the total number of words, number of unique words, average word length, and perhaps the top 20 most common words\n",
    "\n",
    "A bit of googling will lead you to `os.listdir()` for step 1 and step number 2 is just a for-each loop over that list that uses the \"fetch file contents\" pattern we've seen before. Using the `+` operator, we can add strings to an overall `contents` variable. Step 3 is just to function calls to `lower()` and `split()`. Depending on our knowledge of available libraries, step 4 could be a lot of work or it very simple; let's code the other parts first."
   ]
  },
  {
   "cell_type": "code",
   "execution_count": 51,
   "id": "dfa88ea8-b11c-407a-960d-bfc4feb4a5f1",
   "metadata": {},
   "outputs": [
    {
     "name": "stdout",
     "output_type": "stream",
     "text": [
      "There are 520878 words in the contents\n"
     ]
    }
   ],
   "source": [
    "import os\n",
    "\n",
    "contents = \"\"\n",
    "for filename in os.listdir(\"../data/berlitz1\"):\n",
    "    with open(f\"../data/berlitz1/{filename}\", \"r\") as f:\n",
    "        s = f.read()\n",
    "        contents += \" \" # add space so words don't get stuck together\n",
    "        contents += s\n",
    "contents = contents.lower()\n",
    "words = contents.split()\n",
    "print(f\"There are {len(words)} words in the contents\")"
   ]
  },
  {
   "cell_type": "markdown",
   "id": "d39b2d7e-266f-4144-ad93-6cf820b7bf6c",
   "metadata": {},
   "source": [
    "To get the unique words, we can either use numpy or `set(...)`. It looks like there are 57,894 words in the vocabulary:"
   ]
  },
  {
   "cell_type": "code",
   "execution_count": 52,
   "id": "12dcb219-0c3f-4bf3-a9f1-2903171020ed",
   "metadata": {},
   "outputs": [
    {
     "data": {
      "text/plain": [
       "(57894, 57894)"
      ]
     },
     "execution_count": 52,
     "metadata": {},
     "output_type": "execute_result"
    }
   ],
   "source": [
    "len(np.unique(words)), len(set(words))"
   ]
  },
  {
   "cell_type": "markdown",
   "id": "938422ab-b926-4a55-8d11-10720029acf3",
   "metadata": {},
   "source": [
    "Let's work backwards: To compute the average word length, we need a list of the word lengths and can then just compute the mean using numpy.  To get the word lengths, we can use a list comprehension to walk through the words. The code then looks like this:"
   ]
  },
  {
   "cell_type": "code",
   "execution_count": 53,
   "id": "99180c83-8a57-4a19-9092-3e74b303819e",
   "metadata": {},
   "outputs": [
    {
     "data": {
      "text/plain": [
       "5.0362503311715985"
      ]
     },
     "execution_count": 53,
     "metadata": {},
     "output_type": "execute_result"
    }
   ],
   "source": [
    "avg_len = np.mean([len(w) for w in words])\n",
    "avg_len"
   ]
  },
  {
   "cell_type": "markdown",
   "id": "9924baa6-1b33-46c3-8ee3-6e1436965e46",
   "metadata": {},
   "source": [
    "Finally, we need to count the number of occurrences of the words, kind of like we did for the histogram exercise above. Since you know how to do that with your own code now, let's learn to use a built-in `Counter` object that does all the work for us:"
   ]
  },
  {
   "cell_type": "code",
   "execution_count": 54,
   "id": "b42d7234-13e1-4fad-9305-47a6ce149519",
   "metadata": {},
   "outputs": [
    {
     "data": {
      "text/plain": [
       "[('the', 45163),\n",
       " ('of', 20438),\n",
       " ('and', 16739),\n",
       " ('a', 11830),\n",
       " ('in', 10670),\n",
       " ('to', 10473),\n",
       " ('is', 6845),\n",
       " ('for', 4282),\n",
       " ('on', 3909),\n",
       " ('with', 3762),\n",
       " ('from', 3604),\n",
       " ('by', 3263),\n",
       " ('are', 3190),\n",
       " ('as', 3104),\n",
       " ('at', 2884),\n",
       " ('was', 2686),\n",
       " ('its', 2539),\n",
       " ('it', 2499),\n",
       " ('you', 2406),\n",
       " ('that', 2146)]"
      ]
     },
     "execution_count": 54,
     "metadata": {},
     "output_type": "execute_result"
    }
   ],
   "source": [
    "from collections import Counter\n",
    "\n",
    "ctr = Counter(words)\n",
    "c = ctr.most_common(20)\n",
    "c"
   ]
  },
  {
   "cell_type": "markdown",
   "id": "14493de5-56ec-47c2-be0f-f07daf4a4a37",
   "metadata": {},
   "source": [
    "The solution to this problem is not too hard given all of the libraries we have available to us.\n",
    "\n",
    "Let's also plot the counts to see the relationship between frequencies and just how fast it drops off."
   ]
  },
  {
   "cell_type": "code",
   "execution_count": 55,
   "id": "56330296-d45b-418b-b9b6-5fb922806cf9",
   "metadata": {},
   "outputs": [],
   "source": [
    "c = np.array(c)\n",
    "wds = c[:,0]\n",
    "counts = c[:,1].astype(int)  # numpy converted c to strings"
   ]
  },
  {
   "cell_type": "code",
   "execution_count": 56,
   "id": "4126d6ca-c691-4678-ab77-f4f1bd90e6d8",
   "metadata": {},
   "outputs": [
    {
     "data": {
      "image/png": "[encoded data removed]",
      "text/plain": [
       "<Figure size 612x180 with 1 Axes>"
      ]
     },
     "metadata": {
      "image/png": {
       "height": 166,
       "width": 527
      },
      "needs_background": "light"
     },
     "output_type": "display_data"
    }
   ],
   "source": [
    "fig, ax = plt.subplots(1,1,figsize=(8.5,2.5))\n",
    "barcontainers = ax.bar(x=wds, height=counts, color='#FEE08F')\n",
    "\n",
    "# make it look good\n",
    "ax.spines['top'].set_visible(False)\n",
    "ax.spines['right'].set_visible(False)\n",
    "ax.spines['left'].set_linewidth(.5)\n",
    "ax.spines['bottom'].set_linewidth(.5)\n",
    "for rect in barcontainers.patches:\n",
    "    rect.set_linewidth(.5)\n",
    "    rect.set_edgecolor('grey')\n",
    "\n",
    "plt.show()"
   ]
  },
  {
   "cell_type": "markdown",
   "id": "ac891526-f774-4b11-a489-b211c676433b",
   "metadata": {},
   "source": [
    "### Exercise: Extract person and place names from a document\n",
    "\n",
    "**Warning**: On M1 macs, use `conda install spacy` not `pip install spacy`. See [issues with M1 and spaCy](https://github.com/explosion/spaCy/issues/7962).\n",
    "\n",
    "Imagine trying to analyze text document. One of the things you might want to know is who is referenced within. This is actually an extremely hard problem to solve, but fortunately the people at [spaCy](https://spacy.io) have provided a library that does a very good job. All we have to do is put the glue around it. To install it, we need a library and their model of English:\n",
    " \n",
    "```bash\n",
    "$ pip install spacy\n",
    "$ python -m spacy download en_core_web_sm\n",
    "...\n",
    "```\n",
    "\n",
    "If we have a library that can identify the names within a document, the overall process is straightforward:\n",
    "\n",
    "1. Load the text of a file into a string variable\n",
    "2. Give the string to the spaCy library and ask it to analyze the text\n",
    "3. Walk the list of names and add them to a set, which will create a unique collection\n",
    "\n",
    "Our implementation starts with an import and loading of the English model:"
   ]
  },
  {
   "cell_type": "code",
   "execution_count": 1,
   "id": "1da1544c-283b-4778-ade5-3b9425eddd23",
   "metadata": {},
   "outputs": [],
   "source": [
    "import spacy\n",
    "nlp = spacy.load(\"en_core_web_sm\")"
   ]
  },
  {
   "cell_type": "markdown",
   "id": "4b0db8f0-e4b7-4276-a4b7-873d22a2357f",
   "metadata": {},
   "source": [
    "Next, we load the text of a sample file and give it to the `nlp` object that represents the English model:"
   ]
  },
  {
   "cell_type": "code",
   "execution_count": 2,
   "id": "f1fcd13d-bfd2-495a-88ad-b771f18ee367",
   "metadata": {},
   "outputs": [],
   "source": [
    "with open(f\"../data/berlitz1/WhatToJamaica.txt\", \"r\") as f:\n",
    "    s = f.read()\n",
    "doc = nlp(s)"
   ]
  },
  {
   "cell_type": "markdown",
   "id": "8f7c37c0-5292-4868-b679-1bd86d42132b",
   "metadata": {},
   "source": [
    "The `doc` object represents the analyze document and `doc.ents` represents a list of entities found during analysis. We can walk those entities with a for-each loop and, if the type of the entity is a person, we can add it to our unique set.  From the documentation of spaCy, I saw that `entity.label_` gives us the associated entity type and `entity.text` gives us the text of that entity:"
   ]
  },
  {
   "cell_type": "code",
   "execution_count": 3,
   "id": "9469f1ae-e7c6-45ec-b3aa-2d04a028152c",
   "metadata": {},
   "outputs": [
    {
     "data": {
      "text/plain": [
       "['Alfred Mitchell',\n",
       " 'Andrew\\n        Young',\n",
       " 'Ann Parish',\n",
       " 'Appleton Distillery',\n",
       " 'Arawak',\n",
       " 'Banana Boat Song',\n",
       " 'Barrett',\n",
       " 'Bettin',\n",
       " 'Bligh',\n",
       " 'Bob Marley',\n",
       " 'Bounty',\n",
       " 'Cage',\n",
       " 'Canyon',\n",
       " 'Charles Square',\n",
       " 'Charlie',\n",
       " 'Charlie Chaplin',\n",
       " 'Cocktail',\n",
       " 'Cornwall Barracks',\n",
       " 'Coyaba',\n",
       " 'Diving']"
      ]
     },
     "execution_count": 3,
     "metadata": {},
     "output_type": "execute_result"
    }
   ],
   "source": [
    "names = set()\n",
    "for entity in doc.ents:\n",
    "    if entity.label_==\"PERSON\":\n",
    "        names.add(entity.text)\n",
    "sorted(names)[:20]"
   ]
  },
  {
   "cell_type": "markdown",
   "id": "a39461e1-8ecf-4ea1-8ee3-8ab40b82b77c",
   "metadata": {},
   "source": [
    "That does a reasonable job, but also seems to include a lot of organizations and locations. For fun, we can also look for organizations and geopolitical entities"
   ]
  },
  {
   "cell_type": "code",
   "execution_count": 4,
   "id": "ae22c5bc-182b-4b7b-b20a-23016fc8b681",
   "metadata": {},
   "outputs": [
    {
     "data": {
      "text/plain": [
       "['Air Force',\n",
       " 'Amsterdam',\n",
       " 'Anchovy',\n",
       " 'Annie',\n",
       " 'Annie Palmer',\n",
       " 'Annie Palmers',\n",
       " 'Arawak',\n",
       " 'Arawak\\n        Museum',\n",
       " 'Archives and Records Office',\n",
       " 'Belvedere Estate',\n",
       " 'Bob Marley Museum',\n",
       " 'Bogle',\n",
       " 'Bond',\n",
       " 'Booby Cay',\n",
       " 'Boston',\n",
       " 'Brimmer Hall Plantation',\n",
       " 'Britain',\n",
       " 'British Empire',\n",
       " 'Calypso',\n",
       " 'Canoe']"
      ]
     },
     "execution_count": 4,
     "metadata": {},
     "output_type": "execute_result"
    }
   ],
   "source": [
    "orgs = set()\n",
    "for entity in doc.ents:\n",
    "    if entity.label_==\"ORG\" or entity.label_==\"GPE\":\n",
    "        orgs.add(entity.text)\n",
    "sorted(orgs)[:20]"
   ]
  }
 ],
 "metadata": {
  "kernelspec": {
   "display_name": "Python 3",
   "language": "python",
   "name": "python3"
  },
  "language_info": {
   "codemirror_mode": {
    "name": "ipython",
    "version": 3
   },
   "file_extension": ".py",
   "mimetype": "text/x-python",
   "name": "python",
   "nbconvert_exporter": "python",
   "pygments_lexer": "ipython3",
   "version": "3.8.8"
  }
 },
 "nbformat": 4,
 "nbformat_minor": 5
}
