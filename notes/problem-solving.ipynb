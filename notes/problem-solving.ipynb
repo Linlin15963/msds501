{
 "cells": [
  {
   "cell_type": "markdown",
   "id": "63c147d7-c253-49e5-b0ba-b9b8476098a4",
   "metadata": {},
   "source": [
    "# Problem-solving notebook"
   ]
  },
  {
   "cell_type": "markdown",
   "id": "baf0514f-ece1-4213-bacf-8596a5fa41ad",
   "metadata": {},
   "source": [
    "### Exercise: combinations of first and last names\n",
    "\n",
    "Given the following list of first and last names, write a nested Python loop to print every combination of first and last name."
   ]
  },
  {
   "cell_type": "code",
   "execution_count": 1,
   "id": "a1bdc6d8-b4fe-4d9e-817f-ebbe33c6ab05",
   "metadata": {},
   "outputs": [],
   "source": [
    "first=['Xue', 'Mary', 'Robert']\n",
    "last=['Li', 'Smith', 'Dixon']"
   ]
  },
  {
   "cell_type": "markdown",
   "id": "6b947e8b-25c0-4d69-ae9b-43de29aa88e4",
   "metadata": {},
   "source": [
    "The first step is to understand the problem, so let's figure out what the output looks like:\n",
    "\n",
    "```\n",
    "Xue Li\n",
    "Xue Smith\n",
    "Xue Dixon\n",
    "Mary Li\n",
    "Mary Smith\n",
    "Mary Dixon\n",
    "Robert Li\n",
    "Robert Smith\n",
    "Robert Dixon\n",
    "```\n",
    "\n",
    "If we were trying to do this for two arbitrary lists, we should think about the edge cases, such as when one or both of the lists are empty.  Let's assume that we fully understand the problem now.\n",
    "\n",
    "The next step is to try to solve the problem, which we must be able to manually. Unless you are an experienced programmer, it's best not to think about coding at this point. I literally think about moving my fingers or data around. In this case, I use a finger on each list and then for every top pointer finger I move my finger through all of the bottom fingers:\n",
    "\n",
    "<img src=\"images/first-last.png\" width=\"200\">\n",
    "\n",
    "When you hear the \"all combinations\" pattern, think of nested loops.  Moving a finger through a list also screams loop! Here's one possible imitation:"
   ]
  },
  {
   "cell_type": "code",
   "execution_count": 2,
   "id": "39828eb7-92cd-4222-90f3-e6e7f98bfd06",
   "metadata": {},
   "outputs": [
    {
     "name": "stdout",
     "output_type": "stream",
     "text": [
      "Xue Li\n",
      "Xue Smith\n",
      "Xue Dixon\n",
      "Mary Li\n",
      "Mary Smith\n",
      "Mary Dixon\n",
      "Robert Li\n",
      "Robert Smith\n",
      "Robert Dixon\n"
     ]
    }
   ],
   "source": [
    "for f in first:\n",
    "    for l in last:\n",
    "        print(f+' '+l)"
   ]
  },
  {
   "cell_type": "markdown",
   "id": "4103e1ea-9600-47b2-b109-55449c8ebd59",
   "metadata": {},
   "source": [
    "How would you solve this with a list comprehension (to get a list of instead of printing all combinations)?"
   ]
  },
  {
   "cell_type": "code",
   "execution_count": 3,
   "id": "c96089da-aa5c-4256-a0d8-019a1798639f",
   "metadata": {},
   "outputs": [
    {
     "data": {
      "text/plain": [
       "['Xue Li',\n",
       " 'Xue Smith',\n",
       " 'Xue Dixon',\n",
       " 'Mary Li',\n",
       " 'Mary Smith',\n",
       " 'Mary Dixon',\n",
       " 'Robert Li',\n",
       " 'Robert Smith',\n",
       " 'Robert Dixon']"
      ]
     },
     "execution_count": 3,
     "metadata": {},
     "output_type": "execute_result"
    }
   ],
   "source": [
    "[f+' '+l for f in first for l in last]"
   ]
  },
  {
   "cell_type": "markdown",
   "id": "e86b9a76-0032-4902-a029-083ab75d2011",
   "metadata": {},
   "source": [
    "### Exercise: determining which ad to show on a website\n",
    "\n",
    "Imagine you work for a company that has a website and you'd like to be able to show ads on the various webpages on the website.  Customers that want to purchase ads by a certain fraction of the ad \"impressions\".  For example, company X might buy 30%, company Y 60%, and company Z 10% of the ad space. Your job is to randomly show the company's ads, but in the correct proportions.\n",
    "\n",
    "To solve this problem, but it helps to visualize the relationship between the companies; we might draw a bar chart on paper that looks like this:"
   ]
  },
  {
   "cell_type": "code",
   "execution_count": 4,
   "id": "44a137f0-ac02-49d5-89e0-59e9f5dce49a",
   "metadata": {},
   "outputs": [],
   "source": [
    "import matplotlib.pyplot as plt\n",
    "%config InlineBackend.figure_format = 'retina'  # gets sharper images"
   ]
  },
  {
   "cell_type": "code",
   "execution_count": 5,
   "id": "d739c319-daeb-4e23-ac3d-0dc914edc83a",
   "metadata": {},
   "outputs": [
    {
     "data": {
      "image/png": "[encoded data removed]",
      "text/plain": [
       "<Figure size 144x144 with 1 Axes>"
      ]
     },
     "metadata": {
      "image/png": {
       "height": 153,
       "width": 159
      },
      "needs_background": "light"
     },
     "output_type": "display_data"
    }
   ],
   "source": [
    "plt.figure(figsize=(2,2))\n",
    "plt.bar([\"X\",\"Y\",\"Z\"],[30,60,10])\n",
    "plt.xlabel(\"Company\")\n",
    "plt.ylabel(\"Ad percentage\")\n",
    "plt.show()"
   ]
  },
  {
   "cell_type": "markdown",
   "id": "0b7a03ee-d534-4a4b-bb3a-81b4a8e48272",
   "metadata": {},
   "source": [
    "We need to roll some random computer dice with three sides that are biased in this way. Another way to look at this as throwing darts at the wall and having most of the darts end up in the Y column, 30% in the X column, etc... Without altering gravity, that's hard to do. An easier way is to stretch things out so that the width of each company's region is proportional to its percentage, which then flattens out the heights of the bars:\n",
    "\n",
    "<!-- this doesn't work for some reason\n",
    "<img src=\"images/ads-regions.png\" width=\"200\">\n",
    "-->"
   ]
  },
  {
   "cell_type": "code",
   "execution_count": 6,
   "id": "8d673c1d-fdc3-4943-aa8c-bfbfa77dbd3c",
   "metadata": {},
   "outputs": [
    {
     "data": {
      "image/png": "[encoded data removed]",
      "text/plain": [
       "<IPython.core.display.Image object>"
      ]
     },
     "execution_count": 6,
     "metadata": {
      "image/png": {
       "width": 300
      }
     },
     "output_type": "execute_result"
    }
   ],
   "source": [
    "from IPython.display import Image\n",
    "Image(filename='images/ads-regions.png', width=300)"
   ]
  },
  {
   "cell_type": "markdown",
   "id": "e04aba39-384d-4484-aaa6-e6e28ffad74f",
   "metadata": {},
   "source": [
    "If we throw darts at this overall region, X will get 30%, Y will get 60%, and Z will get 10%. So this tells us an approach: pick a uniform random number and figure out which region it falls in and report that company's ad.\n",
    "\n",
    "So now we know how to solve it, let's code it up. Obviously we have some research to do because we need to figure out how to get a random number. There are a number of ways, but let's use numpy:"
   ]
  },
  {
   "cell_type": "code",
   "execution_count": 7,
   "id": "06bf73e3-9120-42f9-9fb2-10bdd24027b0",
   "metadata": {},
   "outputs": [
    {
     "data": {
      "text/plain": [
       "(0.8799716450381275, 0.34178993095227095, 0.4525668265352827)"
      ]
     },
     "execution_count": 7,
     "metadata": {},
     "output_type": "execute_result"
    }
   ],
   "source": [
    "import numpy as np\n",
    "\n",
    "np.random.random(), np.random.random(), np.random.random()"
   ]
  },
  {
   "cell_type": "markdown",
   "id": "22d3516b-da84-4f96-bd2d-eb8b0de761d2",
   "metadata": {},
   "source": [
    "Let's make a function that returns a company name with every call. To keep things simple, let's do it for the fixed three companies we've been talking about:"
   ]
  },
  {
   "cell_type": "code",
   "execution_count": 8,
   "id": "92450829-1a8c-4f4f-bcb8-40e40a73dbea",
   "metadata": {},
   "outputs": [],
   "source": [
    "def select(companies):\n",
    "    i = np.random.random() # throw a dart\n",
    "    if i>=0 and i<.30:\n",
    "        return companies[0]\n",
    "    if i>=.30 and i<.90:\n",
    "        return companies[1]\n",
    "    return companies[2]"
   ]
  },
  {
   "cell_type": "code",
   "execution_count": 9,
   "id": "addc1e97-bbb9-4300-b25b-ee972f0df6ce",
   "metadata": {
    "tags": []
   },
   "outputs": [
    {
     "data": {
      "text/plain": [
       "['Y', 'Y', 'Y', 'X', 'Y', 'Z', 'Z', 'Y', 'Y', 'Y', 'Y', 'Y', 'Y', 'X', 'Y']"
      ]
     },
     "execution_count": 9,
     "metadata": {},
     "output_type": "execute_result"
    }
   ],
   "source": [
    "ads = [select(companies=[\"X\",\"Y\",\"Z\"]) for i in range(1000)]\n",
    "ads[:15]"
   ]
  },
  {
   "cell_type": "markdown",
   "id": "18a5137f-a7a7-4b2a-a293-9d8ac76b4bbc",
   "metadata": {},
   "source": [
    "As part of our problem-solving strategy, we also need to verify things, so let's do a histogram to verify the percentages look right:"
   ]
  },
  {
   "cell_type": "code",
   "execution_count": 10,
   "id": "107759fa-998b-4580-bde2-351d034954a9",
   "metadata": {},
   "outputs": [
    {
     "data": {
      "image/png": "[encoded data removed]",
      "text/plain": [
       "<Figure size 144x144 with 1 Axes>"
      ]
     },
     "metadata": {
      "image/png": {
       "height": 154,
       "width": 165
      },
      "needs_background": "light"
     },
     "output_type": "display_data"
    }
   ],
   "source": [
    "plt.figure(figsize=(2,2))\n",
    "plt.hist(ads)\n",
    "plt.xlabel(\"Company\")\n",
    "plt.ylabel(\"Ad percentage\")\n",
    "plt.show()"
   ]
  },
  {
   "cell_type": "markdown",
   "id": "8b8ced79-7a25-483f-8814-fef50e0571a9",
   "metadata": {},
   "source": [
    "### Exercise: computing histograms\n",
    "\n",
    "In the previous exercise, we used the histogram functionality of the plotting library to compute the number of X, Y, and Z company values in the `ads` list. Now, let's figure out a way to efficiently keep a count for the company names in the list, without relying on built-in functionality.  To make it more interesting, we're opening up to more than just the three companies."
   ]
  },
  {
   "cell_type": "code",
   "execution_count": 11,
   "id": "b7dcb6be-d1e3-45d5-9241-dea666a389c8",
   "metadata": {},
   "outputs": [],
   "source": [
    "companies=[\"Google\",\"Apple\",\"FaceBook\",\"HP\",\"SAP\"]\n",
    "n = len(companies)"
   ]
  },
  {
   "cell_type": "markdown",
   "id": "1d4cef0e-b622-4cc2-8aa8-2c708bb31dcf",
   "metadata": {},
   "source": [
    "As a subexercise, how would we get a uniform random sample of 5000 company names from this list? To get you familiar with the vector-based approach of numpy, let's ask for a list of integer indexes into the company's list of size 5000. The index values should be integers and in the range `[0,n)`:"
   ]
  },
  {
   "cell_type": "code",
   "execution_count": 12,
   "id": "7bd121dc-48b0-4643-abff-01fa4306550f",
   "metadata": {},
   "outputs": [
    {
     "data": {
      "text/plain": [
       "array([2, 2, 2, 2, 2, 1, 3, 2, 3, 2, 4, 3, 0, 0, 1, 3, 0, 4, 2, 1, 4, 4,\n",
       "       1, 3, 2, 1, 2, 3, 0, 2, 2, 4, 1, 4, 1, 0, 3, 4, 2, 1, 4, 1, 2, 2,\n",
       "       4, 4, 4, 4, 4, 4])"
      ]
     },
     "execution_count": 12,
     "metadata": {},
     "output_type": "execute_result"
    }
   ],
   "source": [
    "idxs = np.random.randint(low=0,high=n,size=5000)\n",
    "idxs[0:50]"
   ]
  },
  {
   "cell_type": "markdown",
   "id": "aee59214-93eb-4906-8540-4a8cfb431f7b",
   "metadata": {},
   "source": [
    "Let's also convert the list to a numpy array, which then allows us to use a list of integers as an index:"
   ]
  },
  {
   "cell_type": "code",
   "execution_count": 13,
   "id": "de07726a-e5d8-4ba9-8087-733511b3c990",
   "metadata": {},
   "outputs": [
    {
     "data": {
      "text/plain": [
       "array(['FaceBook', 'FaceBook', 'FaceBook', 'FaceBook', 'FaceBook',\n",
       "       'Apple', 'HP', 'FaceBook', 'HP', 'FaceBook', 'SAP', 'HP', 'Google',\n",
       "       'Google', 'Apple'], dtype='<U8')"
      ]
     },
     "execution_count": 13,
     "metadata": {},
     "output_type": "execute_result"
    }
   ],
   "source": [
    "companies = np.array(companies)\n",
    "names = companies[idxs]\n",
    "names[0:15]"
   ]
  },
  {
   "cell_type": "markdown",
   "id": "ecec4a92-ef9e-4806-87c6-91789167c393",
   "metadata": {},
   "source": [
    "We could also do this with a list comprehension in pure Python, but it's a good idea to get familiar with numpy.\n",
    "\n",
    "Ok, now we have a list of companies and would like to count the number of occurrences of each. If we wanted to use numpy, we could do the following:"
   ]
  },
  {
   "cell_type": "code",
   "execution_count": 14,
   "id": "a21ecf6b-f9b6-492a-bc33-a7e423e5602a",
   "metadata": {},
   "outputs": [
    {
     "data": {
      "text/plain": [
       "(array(['Apple', 'FaceBook', 'Google', 'HP', 'SAP'], dtype='<U8'),\n",
       " array([ 966,  984,  987, 1010, 1053]))"
      ]
     },
     "execution_count": 14,
     "metadata": {},
     "output_type": "execute_result"
    }
   ],
   "source": [
    "np.unique(names, return_counts=True)"
   ]
  },
  {
   "cell_type": "markdown",
   "id": "bd4c55b5-3a20-4f06-bb29-6cc4082ec986",
   "metadata": {},
   "source": [
    "Instead, we want to implement this ourselves.   We are given a list of company names with multiple occurrences of each.  To solve this, we don't think about code and think about how we would do this by hand. The first thing I would do is to create a table with a company name and account to the right, something like this:"
   ]
  },
  {
   "cell_type": "code",
   "execution_count": 15,
   "id": "4f99b6cd-9d97-44fe-a0ec-d1e89e15233e",
   "metadata": {},
   "outputs": [
    {
     "data": {
      "image/svg+xml": [
       "<?xml version=\"1.0\" encoding=\"UTF-8\" standalone=\"no\"?>\n",
       "<!DOCTYPE svg PUBLIC \"-//W3C//DTD SVG 1.1//EN\"\n",
       " \"http://www.w3.org/Graphics/SVG/1.1/DTD/svg11.dtd\">\n",
       "<!-- Generated by graphviz version 2.47.2 (20210527.0053)\n",
       " -->\n",
       "<!-- Title: G Pages: 1 -->\n",
       "<svg width=\"91pt\" height=\"90pt\"\n",
       " viewBox=\"0.00 0.00 91.00 90.00\" xmlns=\"http://www.w3.org/2000/svg\" xmlns:xlink=\"http://www.w3.org/1999/xlink\">\n",
       "<g id=\"graph0\" class=\"graph\" transform=\"scale(1 1) rotate(0) translate(4 86)\">\n",
       "<title>G</title>\n",
       "<polygon fill=\"white\" stroke=\"transparent\" points=\"-4,4 -4,-86 87,-86 87,4 -4,4\"/>\n",
       "<!-- node140303831850624 -->\n",
       "<g id=\"node1\" class=\"node\">\n",
       "<title>node140303831850624</title>\n",
       "<polygon fill=\"#fefecd\" stroke=\"#444443\" stroke-width=\"0.5\" points=\"83,-82 0,-82 0,0 83,0 83,-82\"/>\n",
       "<polygon fill=\"#fefecd\" stroke=\"transparent\" points=\"2.5,-66 2.5,-80 59.5,-80 59.5,-66 2.5,-66\"/>\n",
       "<text text-anchor=\"start\" x=\"16.5\" y=\"-70.2\" font-family=\"Helvetica,sans-Serif\" font-size=\"11.00\" fill=\"#444443\">&#39;Google&#39; </text>\n",
       "<text text-anchor=\"start\" x=\"59.5\" y=\"-68.8\" font-family=\"Helvetica,sans-Serif\" font-size=\"9.00\" fill=\"#444443\">→</text>\n",
       "<polygon fill=\"#fefecd\" stroke=\"transparent\" points=\"69.5,-66 69.5,-80 81.5,-80 81.5,-66 69.5,-66\"/>\n",
       "<text text-anchor=\"start\" x=\"70.5\" y=\"-70.2\" font-family=\"Helvetica,sans-Serif\" font-size=\"11.00\" fill=\"#444443\"> 0</text>\n",
       "<polygon fill=\"#fefecd\" stroke=\"transparent\" points=\"2.5,-64 2.5,-66 81.5,-66 81.5,-64 2.5,-64\"/>\n",
       "<polygon fill=\"#fefecd\" stroke=\"transparent\" points=\"2.5,-50 2.5,-64 59.5,-64 59.5,-50 2.5,-50\"/>\n",
       "<text text-anchor=\"start\" x=\"23.5\" y=\"-54.2\" font-family=\"Helvetica,sans-Serif\" font-size=\"11.00\" fill=\"#444443\">&#39;Apple&#39; </text>\n",
       "<text text-anchor=\"start\" x=\"59.5\" y=\"-52.8\" font-family=\"Helvetica,sans-Serif\" font-size=\"9.00\" fill=\"#444443\">→</text>\n",
       "<polygon fill=\"#fefecd\" stroke=\"transparent\" points=\"69.5,-50 69.5,-64 81.5,-64 81.5,-50 69.5,-50\"/>\n",
       "<text text-anchor=\"start\" x=\"70.5\" y=\"-54.2\" font-family=\"Helvetica,sans-Serif\" font-size=\"11.00\" fill=\"#444443\"> 0</text>\n",
       "<polygon fill=\"#fefecd\" stroke=\"transparent\" points=\"2.5,-48 2.5,-50 81.5,-50 81.5,-48 2.5,-48\"/>\n",
       "<polygon fill=\"#fefecd\" stroke=\"transparent\" points=\"2.5,-34 2.5,-48 59.5,-48 59.5,-34 2.5,-34\"/>\n",
       "<text text-anchor=\"start\" x=\"2.5\" y=\"-38.2\" font-family=\"Helvetica,sans-Serif\" font-size=\"11.00\" fill=\"#444443\">&#39;FaceBook&#39; </text>\n",
       "<text text-anchor=\"start\" x=\"59.5\" y=\"-36.8\" font-family=\"Helvetica,sans-Serif\" font-size=\"9.00\" fill=\"#444443\">→</text>\n",
       "<polygon fill=\"#fefecd\" stroke=\"transparent\" points=\"69.5,-34 69.5,-48 81.5,-48 81.5,-34 69.5,-34\"/>\n",
       "<text text-anchor=\"start\" x=\"70.5\" y=\"-38.2\" font-family=\"Helvetica,sans-Serif\" font-size=\"11.00\" fill=\"#444443\"> 0</text>\n",
       "<polygon fill=\"#fefecd\" stroke=\"transparent\" points=\"2.5,-32 2.5,-34 81.5,-34 81.5,-32 2.5,-32\"/>\n",
       "<polygon fill=\"#fefecd\" stroke=\"transparent\" points=\"2.5,-18 2.5,-32 59.5,-32 59.5,-18 2.5,-18\"/>\n",
       "<text text-anchor=\"start\" x=\"35.5\" y=\"-22.2\" font-family=\"Helvetica,sans-Serif\" font-size=\"11.00\" fill=\"#444443\">&#39;HP&#39; </text>\n",
       "<text text-anchor=\"start\" x=\"59.5\" y=\"-20.8\" font-family=\"Helvetica,sans-Serif\" font-size=\"9.00\" fill=\"#444443\">→</text>\n",
       "<polygon fill=\"#fefecd\" stroke=\"transparent\" points=\"69.5,-18 69.5,-32 81.5,-32 81.5,-18 69.5,-18\"/>\n",
       "<text text-anchor=\"start\" x=\"70.5\" y=\"-22.2\" font-family=\"Helvetica,sans-Serif\" font-size=\"11.00\" fill=\"#444443\"> 0</text>\n",
       "<polygon fill=\"#fefecd\" stroke=\"transparent\" points=\"2.5,-16 2.5,-18 81.5,-18 81.5,-16 2.5,-16\"/>\n",
       "<polygon fill=\"#fefecd\" stroke=\"transparent\" points=\"2.5,-2 2.5,-16 59.5,-16 59.5,-2 2.5,-2\"/>\n",
       "<text text-anchor=\"start\" x=\"28.5\" y=\"-6.2\" font-family=\"Helvetica,sans-Serif\" font-size=\"11.00\" fill=\"#444443\">&#39;SAP&#39; </text>\n",
       "<text text-anchor=\"start\" x=\"59.5\" y=\"-4.8\" font-family=\"Helvetica,sans-Serif\" font-size=\"9.00\" fill=\"#444443\">→</text>\n",
       "<polygon fill=\"#fefecd\" stroke=\"transparent\" points=\"69.5,-2 69.5,-16 81.5,-16 81.5,-2 69.5,-2\"/>\n",
       "<text text-anchor=\"start\" x=\"70.5\" y=\"-6.2\" font-family=\"Helvetica,sans-Serif\" font-size=\"11.00\" fill=\"#444443\"> 0</text>\n",
       "</g>\n",
       "</g>\n",
       "</svg>\n"
      ],
      "text/plain": [
       "<graphviz.files.Source at 0x7f9b2885efd0>"
      ]
     },
     "execution_count": 15,
     "metadata": {},
     "output_type": "execute_result"
    }
   ],
   "source": [
    "from lolviz import *\n",
    "objviz({c:0 for c in companies})"
   ]
  },
  {
   "cell_type": "markdown",
   "id": "aabc2c0b-86a6-4e89-883a-1d96748bcb88",
   "metadata": {},
   "source": [
    "Then, I would move my finger down the list of company names and the count in my table for the company pointed to by my finger:\n",
    "\n",
    "<img src=\"images/companies.png\" width=\"400\">\n",
    "\n",
    "That sounds like a good approach and therefore we can code this up.  Every time I think of moving my finger down a list, I think of a for loop of some kind.   When I think of a table mapping company name to account, I think of a dictionary."
   ]
  },
  {
   "cell_type": "code",
   "execution_count": 16,
   "id": "96921844-40cb-4ba4-8279-28b35988ee08",
   "metadata": {},
   "outputs": [
    {
     "data": {
      "image/svg+xml": [
       "<?xml version=\"1.0\" encoding=\"UTF-8\" standalone=\"no\"?>\n",
       "<!DOCTYPE svg PUBLIC \"-//W3C//DTD SVG 1.1//EN\"\n",
       " \"http://www.w3.org/Graphics/SVG/1.1/DTD/svg11.dtd\">\n",
       "<!-- Generated by graphviz version 2.47.2 (20210527.0053)\n",
       " -->\n",
       "<!-- Title: G Pages: 1 -->\n",
       "<svg width=\"109pt\" height=\"90pt\"\n",
       " viewBox=\"0.00 0.00 109.00 90.00\" xmlns=\"http://www.w3.org/2000/svg\" xmlns:xlink=\"http://www.w3.org/1999/xlink\">\n",
       "<g id=\"graph0\" class=\"graph\" transform=\"scale(1 1) rotate(0) translate(4 86)\">\n",
       "<title>G</title>\n",
       "<polygon fill=\"white\" stroke=\"transparent\" points=\"-4,4 -4,-86 105,-86 105,4 -4,4\"/>\n",
       "<!-- node140304376952768 -->\n",
       "<g id=\"node1\" class=\"node\">\n",
       "<title>node140304376952768</title>\n",
       "<polygon fill=\"#fefecd\" stroke=\"#444443\" stroke-width=\"0.5\" points=\"101,-82 0,-82 0,0 101,0 101,-82\"/>\n",
       "<polygon fill=\"#fefecd\" stroke=\"transparent\" points=\"2.5,-66 2.5,-80 59.5,-80 59.5,-66 2.5,-66\"/>\n",
       "<text text-anchor=\"start\" x=\"16.5\" y=\"-70.2\" font-family=\"Helvetica,sans-Serif\" font-size=\"11.00\" fill=\"#444443\">&#39;Google&#39; </text>\n",
       "<text text-anchor=\"start\" x=\"59.5\" y=\"-68.8\" font-family=\"Helvetica,sans-Serif\" font-size=\"9.00\" fill=\"#444443\">→</text>\n",
       "<polygon fill=\"#fefecd\" stroke=\"transparent\" points=\"69.5,-66 69.5,-80 99.5,-80 99.5,-66 69.5,-66\"/>\n",
       "<text text-anchor=\"start\" x=\"70.5\" y=\"-70.2\" font-family=\"Helvetica,sans-Serif\" font-size=\"11.00\" fill=\"#444443\"> 987</text>\n",
       "<polygon fill=\"#fefecd\" stroke=\"transparent\" points=\"2.5,-64 2.5,-66 99.5,-66 99.5,-64 2.5,-64\"/>\n",
       "<polygon fill=\"#fefecd\" stroke=\"transparent\" points=\"2.5,-50 2.5,-64 59.5,-64 59.5,-50 2.5,-50\"/>\n",
       "<text text-anchor=\"start\" x=\"23.5\" y=\"-54.2\" font-family=\"Helvetica,sans-Serif\" font-size=\"11.00\" fill=\"#444443\">&#39;Apple&#39; </text>\n",
       "<text text-anchor=\"start\" x=\"59.5\" y=\"-52.8\" font-family=\"Helvetica,sans-Serif\" font-size=\"9.00\" fill=\"#444443\">→</text>\n",
       "<polygon fill=\"#fefecd\" stroke=\"transparent\" points=\"69.5,-50 69.5,-64 99.5,-64 99.5,-50 69.5,-50\"/>\n",
       "<text text-anchor=\"start\" x=\"70.5\" y=\"-54.2\" font-family=\"Helvetica,sans-Serif\" font-size=\"11.00\" fill=\"#444443\"> 966</text>\n",
       "<polygon fill=\"#fefecd\" stroke=\"transparent\" points=\"2.5,-48 2.5,-50 99.5,-50 99.5,-48 2.5,-48\"/>\n",
       "<polygon fill=\"#fefecd\" stroke=\"transparent\" points=\"2.5,-34 2.5,-48 59.5,-48 59.5,-34 2.5,-34\"/>\n",
       "<text text-anchor=\"start\" x=\"2.5\" y=\"-38.2\" font-family=\"Helvetica,sans-Serif\" font-size=\"11.00\" fill=\"#444443\">&#39;FaceBook&#39; </text>\n",
       "<text text-anchor=\"start\" x=\"59.5\" y=\"-36.8\" font-family=\"Helvetica,sans-Serif\" font-size=\"9.00\" fill=\"#444443\">→</text>\n",
       "<polygon fill=\"#fefecd\" stroke=\"transparent\" points=\"69.5,-34 69.5,-48 99.5,-48 99.5,-34 69.5,-34\"/>\n",
       "<text text-anchor=\"start\" x=\"70.5\" y=\"-38.2\" font-family=\"Helvetica,sans-Serif\" font-size=\"11.00\" fill=\"#444443\"> 984</text>\n",
       "<polygon fill=\"#fefecd\" stroke=\"transparent\" points=\"2.5,-32 2.5,-34 99.5,-34 99.5,-32 2.5,-32\"/>\n",
       "<polygon fill=\"#fefecd\" stroke=\"transparent\" points=\"2.5,-18 2.5,-32 59.5,-32 59.5,-18 2.5,-18\"/>\n",
       "<text text-anchor=\"start\" x=\"35.5\" y=\"-22.2\" font-family=\"Helvetica,sans-Serif\" font-size=\"11.00\" fill=\"#444443\">&#39;HP&#39; </text>\n",
       "<text text-anchor=\"start\" x=\"59.5\" y=\"-20.8\" font-family=\"Helvetica,sans-Serif\" font-size=\"9.00\" fill=\"#444443\">→</text>\n",
       "<polygon fill=\"#fefecd\" stroke=\"transparent\" points=\"69.5,-18 69.5,-32 99.5,-32 99.5,-18 69.5,-18\"/>\n",
       "<text text-anchor=\"start\" x=\"70.5\" y=\"-22.2\" font-family=\"Helvetica,sans-Serif\" font-size=\"11.00\" fill=\"#444443\"> 1010</text>\n",
       "<polygon fill=\"#fefecd\" stroke=\"transparent\" points=\"2.5,-16 2.5,-18 99.5,-18 99.5,-16 2.5,-16\"/>\n",
       "<polygon fill=\"#fefecd\" stroke=\"transparent\" points=\"2.5,-2 2.5,-16 59.5,-16 59.5,-2 2.5,-2\"/>\n",
       "<text text-anchor=\"start\" x=\"28.5\" y=\"-6.2\" font-family=\"Helvetica,sans-Serif\" font-size=\"11.00\" fill=\"#444443\">&#39;SAP&#39; </text>\n",
       "<text text-anchor=\"start\" x=\"59.5\" y=\"-4.8\" font-family=\"Helvetica,sans-Serif\" font-size=\"9.00\" fill=\"#444443\">→</text>\n",
       "<polygon fill=\"#fefecd\" stroke=\"transparent\" points=\"69.5,-2 69.5,-16 99.5,-16 99.5,-2 69.5,-2\"/>\n",
       "<text text-anchor=\"start\" x=\"70.5\" y=\"-6.2\" font-family=\"Helvetica,sans-Serif\" font-size=\"11.00\" fill=\"#444443\"> 1053</text>\n",
       "</g>\n",
       "</g>\n",
       "</svg>\n"
      ],
      "text/plain": [
       "<graphviz.files.Source at 0x7f9b38cb5a00>"
      ]
     },
     "execution_count": 16,
     "metadata": {},
     "output_type": "execute_result"
    }
   ],
   "source": [
    "counts = {c:0 for c in companies}\n",
    "for name in names:\n",
    "    counts[name] += 1\n",
    "objviz(counts)"
   ]
  },
  {
   "cell_type": "markdown",
   "id": "a038e996-66b9-4321-af49-628b400526f4",
   "metadata": {},
   "source": [
    "We would expect the numbers to be roughly the same, which they are. If we increase the sample size to 10,000, the counts would be even closer."
   ]
  },
  {
   "cell_type": "markdown",
   "id": "7324b2ad-ae15-4661-b44f-ce8a8cd5662a",
   "metadata": {},
   "source": [
    "### Exercise: Download and filter CSV data from the web\n",
    "\n",
    "download a csv file from the web with requests and save it to a local file"
   ]
  },
  {
   "cell_type": "code",
   "execution_count": 61,
   "id": "19142fd0-4f53-4b12-8dce-99bc92b50ca6",
   "metadata": {},
   "outputs": [
    {
     "data": {
      "text/plain": [
       "['   41,    5,   59, N,     80,   39,    0, W, Youngstown, OH',\n",
       " '   42,   52,   48, N,     97,   23,   23, W, Yankton, SD',\n",
       " '   46,   35,   59, N,    120,   30,   36, W, Yakima, WA',\n",
       " '   42,   16,   12, N,     71,   48,    0, W, Worcester, MA',\n",
       " '   43,   37,   48, N,     89,   46,   11, W, Wisconsin Dells, WI']"
      ]
     },
     "execution_count": 61,
     "metadata": {},
     "output_type": "execute_result"
    }
   ],
   "source": [
    "import requests\n",
    "r = requests.get(\"https://people.sc.fsu.edu/~jburkardt/data/csv/cities.csv\")\n",
    "contents = r.text\n",
    "contents = contents.replace('\"', '')\n",
    "lines = contents.split('\\n')\n",
    "columns = lines[0]\n",
    "lines = lines[1:]\n",
    "lines[:5]"
   ]
  },
  {
   "cell_type": "code",
   "execution_count": 62,
   "id": "7d2651c2-4da9-4dbc-b660-39a2a908edfb",
   "metadata": {},
   "outputs": [
    {
     "data": {
      "text/plain": [
       "['   46,   35,   59, N,    120,   30,   36, W, Yakima, WA',\n",
       " '   47,   25,   11, N,    120,   19,   11, W, Wenatchee, WA',\n",
       " '   46,    4,   11, N,    118,   19,   48, W, Walla Walla, WA',\n",
       " '   47,   14,   24, N,    122,   25,   48, W, Tacoma, WA',\n",
       " '   47,   40,   11, N,    117,   24,   36, W, Spokane, WA',\n",
       " '   47,   35,   59, N,    122,   19,   48, W, Seattle, WA']"
      ]
     },
     "execution_count": 62,
     "metadata": {},
     "output_type": "execute_result"
    }
   ],
   "source": [
    "wa = [row for row in lines if 'WA' in row]\n",
    "wa"
   ]
  },
  {
   "cell_type": "code",
   "execution_count": 63,
   "id": "73a5b953-e2cd-4fa3-9f4b-01fb4a903a99",
   "metadata": {},
   "outputs": [],
   "source": [
    "with open(\"/tmp/wa_cities.csv\", \"w\") as f:\n",
    "    f.write(columns+\"\\n\")\n",
    "    for row in wa:\n",
    "        f.write(row+\"\\n\")"
   ]
  },
  {
   "cell_type": "markdown",
   "id": "3d00d8ec-18da-4592-912a-2a114baa385f",
   "metadata": {},
   "source": [
    "Now do it again using pandas"
   ]
  },
  {
   "cell_type": "code",
   "execution_count": 41,
   "id": "482a44df-6c4a-42e7-b4bd-b4cb696baec1",
   "metadata": {},
   "outputs": [
    {
     "data": {
      "text/html": [
       "<div>\n",
       "<style scoped>\n",
       "    .dataframe tbody tr th:only-of-type {\n",
       "        vertical-align: middle;\n",
       "    }\n",
       "\n",
       "    .dataframe tbody tr th {\n",
       "        vertical-align: top;\n",
       "    }\n",
       "\n",
       "    .dataframe thead th {\n",
       "        text-align: right;\n",
       "    }\n",
       "</style>\n",
       "<table border=\"1\" class=\"dataframe\">\n",
       "  <thead>\n",
       "    <tr style=\"text-align: right;\">\n",
       "      <th></th>\n",
       "      <th>LatD,</th>\n",
       "      <th>LatM,</th>\n",
       "      <th>LatS,</th>\n",
       "      <th>NS,</th>\n",
       "      <th>LonD,</th>\n",
       "      <th>LonM,</th>\n",
       "      <th>LonS,</th>\n",
       "      <th>EW,</th>\n",
       "      <th>City,</th>\n",
       "      <th>State</th>\n",
       "    </tr>\n",
       "  </thead>\n",
       "  <tbody>\n",
       "    <tr>\n",
       "      <th>0</th>\n",
       "      <td>41,</td>\n",
       "      <td>5,</td>\n",
       "      <td>59,</td>\n",
       "      <td>N,</td>\n",
       "      <td>80,</td>\n",
       "      <td>39,</td>\n",
       "      <td>0,</td>\n",
       "      <td>W,</td>\n",
       "      <td>Youngstown,</td>\n",
       "      <td>OH</td>\n",
       "    </tr>\n",
       "    <tr>\n",
       "      <th>1</th>\n",
       "      <td>42,</td>\n",
       "      <td>52,</td>\n",
       "      <td>48,</td>\n",
       "      <td>N,</td>\n",
       "      <td>97,</td>\n",
       "      <td>23,</td>\n",
       "      <td>23,</td>\n",
       "      <td>W,</td>\n",
       "      <td>Yankton,</td>\n",
       "      <td>SD</td>\n",
       "    </tr>\n",
       "    <tr>\n",
       "      <th>2</th>\n",
       "      <td>46,</td>\n",
       "      <td>35,</td>\n",
       "      <td>59,</td>\n",
       "      <td>N,</td>\n",
       "      <td>120,</td>\n",
       "      <td>30,</td>\n",
       "      <td>36,</td>\n",
       "      <td>W,</td>\n",
       "      <td>Yakima,</td>\n",
       "      <td>WA</td>\n",
       "    </tr>\n",
       "    <tr>\n",
       "      <th>3</th>\n",
       "      <td>42,</td>\n",
       "      <td>16,</td>\n",
       "      <td>12,</td>\n",
       "      <td>N,</td>\n",
       "      <td>71,</td>\n",
       "      <td>48,</td>\n",
       "      <td>0,</td>\n",
       "      <td>W,</td>\n",
       "      <td>Worcester,</td>\n",
       "      <td>MA</td>\n",
       "    </tr>\n",
       "    <tr>\n",
       "      <th>4</th>\n",
       "      <td>43,</td>\n",
       "      <td>37,</td>\n",
       "      <td>48,</td>\n",
       "      <td>N,</td>\n",
       "      <td>89,</td>\n",
       "      <td>46,</td>\n",
       "      <td>11,</td>\n",
       "      <td>W,</td>\n",
       "      <td>Wisconsin Dells,</td>\n",
       "      <td>WI</td>\n",
       "    </tr>\n",
       "  </tbody>\n",
       "</table>\n",
       "</div>"
      ],
      "text/plain": [
       "  LatD, LatM, LatS, NS, LonD, LonM, LonS, EW,             City, State\n",
       "0   41,    5,   59,  N,   80,   39,    0,  W,       Youngstown,    OH\n",
       "1   42,   52,   48,  N,   97,   23,   23,  W,          Yankton,    SD\n",
       "2   46,   35,   59,  N,  120,   30,   36,  W,           Yakima,    WA\n",
       "3   42,   16,   12,  N,   71,   48,    0,  W,        Worcester,    MA\n",
       "4   43,   37,   48,  N,   89,   46,   11,  W,  Wisconsin Dells,    WI"
      ]
     },
     "execution_count": 41,
     "metadata": {},
     "output_type": "execute_result"
    }
   ],
   "source": [
    "import pandas as pd\n",
    "import csv\n",
    "df = pd.read_csv(\"https://people.sc.fsu.edu/~jburkardt/data/csv/cities.csv\",\n",
    "                 delim_whitespace=True)\n",
    "df.head(5)"
   ]
  },
  {
   "cell_type": "code",
   "execution_count": 42,
   "id": "0d8b922e-dd9c-438d-9f3e-f0b0895ad625",
   "metadata": {},
   "outputs": [
    {
     "data": {
      "text/html": [
       "<div>\n",
       "<style scoped>\n",
       "    .dataframe tbody tr th:only-of-type {\n",
       "        vertical-align: middle;\n",
       "    }\n",
       "\n",
       "    .dataframe tbody tr th {\n",
       "        vertical-align: top;\n",
       "    }\n",
       "\n",
       "    .dataframe thead th {\n",
       "        text-align: right;\n",
       "    }\n",
       "</style>\n",
       "<table border=\"1\" class=\"dataframe\">\n",
       "  <thead>\n",
       "    <tr style=\"text-align: right;\">\n",
       "      <th></th>\n",
       "      <th>LatD,</th>\n",
       "      <th>LatM,</th>\n",
       "      <th>LatS,</th>\n",
       "      <th>NS,</th>\n",
       "      <th>LonD,</th>\n",
       "      <th>LonM,</th>\n",
       "      <th>LonS,</th>\n",
       "      <th>EW,</th>\n",
       "      <th>City,</th>\n",
       "      <th>State</th>\n",
       "    </tr>\n",
       "  </thead>\n",
       "  <tbody>\n",
       "    <tr>\n",
       "      <th>2</th>\n",
       "      <td>46,</td>\n",
       "      <td>35,</td>\n",
       "      <td>59,</td>\n",
       "      <td>N,</td>\n",
       "      <td>120,</td>\n",
       "      <td>30,</td>\n",
       "      <td>36,</td>\n",
       "      <td>W,</td>\n",
       "      <td>Yakima,</td>\n",
       "      <td>WA</td>\n",
       "    </tr>\n",
       "    <tr>\n",
       "      <th>17</th>\n",
       "      <td>47,</td>\n",
       "      <td>25,</td>\n",
       "      <td>11,</td>\n",
       "      <td>N,</td>\n",
       "      <td>120,</td>\n",
       "      <td>19,</td>\n",
       "      <td>11,</td>\n",
       "      <td>W,</td>\n",
       "      <td>Wenatchee,</td>\n",
       "      <td>WA</td>\n",
       "    </tr>\n",
       "    <tr>\n",
       "      <th>28</th>\n",
       "      <td>46,</td>\n",
       "      <td>4,</td>\n",
       "      <td>11,</td>\n",
       "      <td>N,</td>\n",
       "      <td>118,</td>\n",
       "      <td>19,</td>\n",
       "      <td>48,</td>\n",
       "      <td>W,</td>\n",
       "      <td>Walla Walla,</td>\n",
       "      <td>WA</td>\n",
       "    </tr>\n",
       "    <tr>\n",
       "      <th>54</th>\n",
       "      <td>47,</td>\n",
       "      <td>14,</td>\n",
       "      <td>24,</td>\n",
       "      <td>N,</td>\n",
       "      <td>122,</td>\n",
       "      <td>25,</td>\n",
       "      <td>48,</td>\n",
       "      <td>W,</td>\n",
       "      <td>Tacoma,</td>\n",
       "      <td>WA</td>\n",
       "    </tr>\n",
       "    <tr>\n",
       "      <th>68</th>\n",
       "      <td>47,</td>\n",
       "      <td>40,</td>\n",
       "      <td>11,</td>\n",
       "      <td>N,</td>\n",
       "      <td>117,</td>\n",
       "      <td>24,</td>\n",
       "      <td>36,</td>\n",
       "      <td>W,</td>\n",
       "      <td>Spokane,</td>\n",
       "      <td>WA</td>\n",
       "    </tr>\n",
       "    <tr>\n",
       "      <th>78</th>\n",
       "      <td>47,</td>\n",
       "      <td>35,</td>\n",
       "      <td>59,</td>\n",
       "      <td>N,</td>\n",
       "      <td>122,</td>\n",
       "      <td>19,</td>\n",
       "      <td>48,</td>\n",
       "      <td>W,</td>\n",
       "      <td>Seattle,</td>\n",
       "      <td>WA</td>\n",
       "    </tr>\n",
       "  </tbody>\n",
       "</table>\n",
       "</div>"
      ],
      "text/plain": [
       "   LatD, LatM, LatS, NS, LonD, LonM, LonS, EW,         City, State\n",
       "2    46,   35,   59,  N,  120,   30,   36,  W,       Yakima,    WA\n",
       "17   47,   25,   11,  N,  120,   19,   11,  W,    Wenatchee,    WA\n",
       "28   46,    4,   11,  N,  118,   19,   48,  W,  Walla Walla,    WA\n",
       "54   47,   14,   24,  N,  122,   25,   48,  W,       Tacoma,    WA\n",
       "68   47,   40,   11,  N,  117,   24,   36,  W,      Spokane,    WA\n",
       "78   47,   35,   59,  N,  122,   19,   48,  W,      Seattle,    WA"
      ]
     },
     "execution_count": 42,
     "metadata": {},
     "output_type": "execute_result"
    }
   ],
   "source": [
    "df_wa = df[df['State']=='WA']\n",
    "df_wa"
   ]
  },
  {
   "cell_type": "code",
   "execution_count": 45,
   "id": "f158bdca-6f79-4f7c-8d23-306c5a908d2a",
   "metadata": {},
   "outputs": [],
   "source": [
    "with open(\"/tmp/wa_cities.csv\", \"w\") as f:\n",
    "    s = df_wa.to_csv(index=False) # get as CSV string\n",
    "    f.write(s)"
   ]
  },
  {
   "cell_type": "code",
   "execution_count": 47,
   "id": "4e73747e-454d-4bc7-90d3-73fa635dbacd",
   "metadata": {},
   "outputs": [],
   "source": [
    "df_wa.to_csv(\"/tmp/wa_cities2.csv\", index=False)"
   ]
  },
  {
   "cell_type": "code",
   "execution_count": 48,
   "id": "7a3efeb5-1bc3-40f5-9d40-b48d913307cd",
   "metadata": {},
   "outputs": [],
   "source": [
    "! diff /tmp/wa_cities*.csv "
   ]
  },
  {
   "cell_type": "markdown",
   "id": "834c02c9-dd37-4df9-9f95-583f65bffcae",
   "metadata": {},
   "source": [
    "### Exercise\n",
    "\n",
    "use pandas to get the tables from an HTML page and save to local file perhaps saving in a different format with them without pandas. maybe use feather too"
   ]
  },
  {
   "cell_type": "markdown",
   "id": "ac891526-f774-4b11-a489-b211c676433b",
   "metadata": {},
   "source": [
    "### Exercise\n"
   ]
  }
 ],
 "metadata": {
  "kernelspec": {
   "display_name": "Python 3",
   "language": "python",
   "name": "python3"
  },
  "language_info": {
   "codemirror_mode": {
    "name": "ipython",
    "version": 3
   },
   "file_extension": ".py",
   "mimetype": "text/x-python",
   "name": "python",
   "nbconvert_exporter": "python",
   "pygments_lexer": "ipython3",
   "version": "3.8.8"
  }
 },
 "nbformat": 4,
 "nbformat_minor": 5
}
