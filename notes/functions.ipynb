{
 "cells": [
  {
   "cell_type": "markdown",
   "metadata": {},
   "source": [
    "# Organizing your code with functions\n",
    "\n",
    "<img src=\"images/pestle.png\" width=\"75\" align=\"right\">Years ago I learned to make Thai red curry paste from scratch, including roasting then grinding seeds and pounding stuff in a giant mortar and pestle. It takes forever and so I generally buy curry paste ready-made from the store.\n",
    "\n",
    "<img src=\"images/redcurry.jpeg\" width=\"70\" align=\"right\">Similarly, most cookbooks provide a number of fundamental recipes, such as making sauces, that are used by other recipes. A cookbook is organized into a series of executable recipes, some of which \"invoke\" other recipes. To make dinner, I open a cookbook, acquire some raw ingredients, then execute one or more recipes, usually in a specific sequence.\n",
    "\n",
    "Writing a program proceeds in the same way. Opening a cookbook is the same as importing libraries. Acquiring raw ingredients could mean loading data into the memory. The main program  invokes functions (recipes) to accomplish a particular task. As part of writing a program, we will typically break out logical sections of code into functions specific to our problem, whereas the functions in libraries tend to be broadly-applicable. \n",
    "\n",
    "The way we organize our code is important. Programs quickly become an incomprehensible rats nest if we are not strict about style and organization. Here is the general structure of the Python programs we will write:\n",
    "\n",
    "*import any libraries*<br>\n",
    "*define any constants, simple data values*<br>\n",
    "*define any functions*<br>\n",
    "*main program body*"
   ]
  },
  {
   "cell_type": "markdown",
   "metadata": {},
   "source": [
    "## Functions are subprograms\n",
    "\n",
    "A sequence of operations grouped into a single, named entity is called a **function**. Functions are like mini programs or subprograms that we can plan out just like full programs.  \n",
    "\n",
    "Python **programs** consist of zero or more functions and the so-called \"main\" program, consisting of a sequence of operations that gets the ball rolling.\n",
    "\n",
    "Instead of loading data from the disk, functions operate on data given to them from the invoking program. This incoming data is analogous to a recipe's list of ingredients and is specified in the form of one or more named *parameters* (also called *arguments*). Instead of printing a result or displaying a graph, as a program would, functions *return* values. Functions are meant as helper routines that are generically useful.\n",
    "\n",
    "We begin planning a function by identifying:\n",
    " \n",
    "1. a descriptive function name\n",
    "2. the kind of value(s) it operates on (parameter types)\n",
    "3. the kind of value it returns (return type)\n",
    "4. what the function does and the value it returns\n",
    "\n",
    "If we can't specifying exactly what goes in and out of the function, there's no hope of determining the processing steps, let alone Python code, to implement that function.\n",
    "\n",
    "As with a program's work plan, we then manually write out some sample function invocations to show what data goes in and what data comes out. \n",
    "\n",
    "Once we fully understand our goal, we plan out the sequence of operations needed by the function to compute the desired result.  As when designing a whole program, we start with the return value and work our way backwards, identifying operations in reverse order. Note: The operations should be purely a function of the data passed to them as parameters---functions should be completely ignorant of any other data. (More on this when we actually translate function pseudocode to Python.) "
   ]
  },
  {
   "cell_type": "markdown",
   "metadata": {},
   "source": [
    "## Function templates\n",
    "\n",
    "Python functions are like black boxes that, in general, accept input data and yield (return) values. Each invocation of a function triggers the execution of the code associated with that function and returns a result value or values. For example, here is a function called `pi` that takes no parameters but returns value 3.14159 each time it is called:"
   ]
  },
  {
   "cell_type": "code",
   "execution_count": 2,
   "metadata": {},
   "outputs": [],
   "source": [
    "def pi():\n",
    "    return 3.14159"
   ]
  },
  {
   "cell_type": "markdown",
   "metadata": {},
   "source": [
    "The code template for a function with no arguments is:\n",
    "\n",
    "`def` *<ins>funcname</ins>*`()`:<br>\n",
    "&nbsp;&nbsp;&nbsp;&nbsp;*<ins>statement 1</ins>*<br>\n",
    "&nbsp;&nbsp;&nbsp;&nbsp;*<ins>statement 2</ins>*<br>\n",
    "&nbsp;&nbsp;&nbsp;&nbsp;*...*<br>\n",
    "&nbsp;&nbsp;&nbsp;&nbsp;`return` *<ins>expression</ins>*<br>\n",
    "\n",
    "with holes for the function name, statements associated with a function, and an expression describing the return value. Functions that have no return value skip the `return` statement.\n",
    "\n",
    "<img src=\"images/redbang.png\" width=\"30\" align=\"left\"> The way that we associate statements with a function in Python is by indentation.  So `return 3.14159` is part of the function because it is indented after the function header. The first statement that begins in the same column as the `def` is first statement outside of the function."
   ]
  },
  {
   "cell_type": "code",
   "execution_count": 3,
   "metadata": {},
   "outputs": [
    {
     "name": "stdout",
     "output_type": "stream",
     "text": [
      "this is not part of function\n"
     ]
    }
   ],
   "source": [
    "def pi():\n",
    "    return 3.14159\n",
    "print(\"this is not part of function\")"
   ]
  },
  {
   "cell_type": "markdown",
   "metadata": {},
   "source": [
    "<img src=\"images/redbang.png\" width=\"30\" align=\"left\">*The Python interpreter does not execute the code inside the function unless we directly invoke that function.*  Python sees the function definition as just that: a \"recipe\" definition that we can call if we want."
   ]
  },
  {
   "cell_type": "markdown",
   "metadata": {},
   "source": [
    "The *definition* of a function is different than invoking  or *calling* a function. Calling a function requires the function name and any argument values. In this case, we don't have any arguments so we call the function as just `pi()`:"
   ]
  },
  {
   "cell_type": "code",
   "execution_count": 4,
   "metadata": {},
   "outputs": [
    {
     "data": {
      "text/plain": [
       "3.14159"
      ]
     },
     "execution_count": 4,
     "metadata": {},
     "output_type": "execute_result"
    }
   ],
   "source": [
    "pi()"
   ]
  },
  {
   "cell_type": "code",
   "execution_count": 5,
   "metadata": {},
   "outputs": [
    {
     "data": {
      "text/plain": [
       "<function __main__.pi()>"
      ]
     },
     "execution_count": 5,
     "metadata": {},
     "output_type": "execute_result"
    }
   ],
   "source": [
    "pi"
   ]
  },
  {
   "cell_type": "markdown",
   "metadata": {},
   "source": [
    "We don't need a print statement because we are executing inside a notebook, not a Python program.  If this were in a regular Python program, we would need a print statement: `print(pi())`, but of course that also works here. \n",
    "\n",
    "Every invocation of that function evaluates to the value 3.14159.  The function `return`s a value but `print`s nothing. For example, Jupyter notebooks or the Python interactive shell does not print anything if we assign the result to variable:"
   ]
  },
  {
   "cell_type": "code",
   "execution_count": 6,
   "metadata": {},
   "outputs": [],
   "source": [
    "x = pi()"
   ]
  },
  {
   "cell_type": "code",
   "execution_count": 7,
   "metadata": {},
   "outputs": [
    {
     "data": {
      "text/plain": [
       "3.14159"
      ]
     },
     "execution_count": 7,
     "metadata": {},
     "output_type": "execute_result"
    }
   ],
   "source": [
    "x"
   ]
  },
  {
   "cell_type": "markdown",
   "metadata": {},
   "source": [
    "We distinguish between functions and variables syntactically by always putting the parentheses next to the function name. I.e., `pi` is a variable reference but `pi()` is a function call.\n",
    "\n",
    "Some functions don't have return values, such as a function that displays an image in a window. It has a *side effect* of altering the display but does not really have a return value.  The `return` statement is omitted if the function does not return a value. Here's a contrived side-effecting example that does not need to return a value:"
   ]
  },
  {
   "cell_type": "code",
   "execution_count": 6,
   "metadata": {},
   "outputs": [
    {
     "name": "stdout",
     "output_type": "stream",
     "text": [
      "hi\n"
     ]
    }
   ],
   "source": [
    "def hi():\n",
    "    print('hi')\n",
    "\n",
    "hi()"
   ]
  },
  {
   "cell_type": "markdown",
   "metadata": {},
   "source": [
    "If you try to use the value of a function that lacks a `return`, Python gives you the so-called `None` value."
   ]
  },
  {
   "cell_type": "code",
   "execution_count": 7,
   "metadata": {},
   "outputs": [
    {
     "name": "stdout",
     "output_type": "stream",
     "text": [
      "hi\n",
      "None\n"
     ]
    }
   ],
   "source": [
    "x = hi()\n",
    "print(x)"
   ]
  },
  {
   "cell_type": "markdown",
   "metadata": {},
   "source": [
    "Naturally, we can also return strings, not just numbers. For example here's a function called `hello` that does nothing but return string `'hello'`:"
   ]
  },
  {
   "cell_type": "code",
   "execution_count": 8,
   "metadata": {},
   "outputs": [],
   "source": [
    "def hello():\n",
    "    return \"hello\""
   ]
  },
  {
   "cell_type": "code",
   "execution_count": 9,
   "metadata": {},
   "outputs": [
    {
     "name": "stdout",
     "output_type": "stream",
     "text": [
      "parrt 5707\n"
     ]
    }
   ],
   "source": [
    "def parrt():\n",
    "    return \"parrt\", 5707\n",
    "\n",
    "id, phone = parrt()\n",
    "\n",
    "print(id, phone)"
   ]
  },
  {
   "cell_type": "markdown",
   "metadata": {},
   "source": [
    "Turning to the more interesting cases now, here is the template for a function with one argument:\n",
    "\n",
    "`def` *funcname*`(`*argname*`)`:<br>\n",
    "&nbsp;&nbsp;&nbsp;&nbsp;*statement 1*<br>\n",
    "&nbsp;&nbsp;&nbsp;&nbsp;*statement 2*<br>\n",
    "&nbsp;&nbsp;&nbsp;&nbsp;*...*<br>\n",
    "&nbsp;&nbsp;&nbsp;&nbsp;`return` *expression*<br>\n",
    "\n",
    "If there are two arguments, the function header looks like:\n",
    "\n",
    "`def` *funcname*`(`*argname1*, *argname2*`)`:<br>\n",
    "\n",
    "Our job as programmers is to pick a descriptive function name, argument name(s), and statements within the function as per our function workplan.\n",
    "\n",
    "**Invoking a function** with arguments looks like *funcname*`(`*expression*`)` or *funcname*`(`*expression1*`,` *expression2*`)` etc... The order of the arguments matters. Python matches the first expression with the first argument name given in the function definition.\n",
    "\n",
    "Let's take a look at some of the code snippets from [Programming Patterns in Python](python-patterns.ipynb) and see if we can abstract some useful functions."
   ]
  },
  {
   "cell_type": "markdown",
   "metadata": {},
   "source": [
    "## Sum function\n",
    "\n",
    "In [Model of Computation](computation.ipynb), we saw code to translate mathematical Sigma notation to python and so this code to sum the values in a list should be pretty familiar to you:"
   ]
  },
  {
   "cell_type": "code",
   "execution_count": 8,
   "metadata": {},
   "outputs": [
    {
     "name": "stdout",
     "output_type": "stream",
     "text": [
      "207\n"
     ]
    }
   ],
   "source": [
    "Quantity = [6, 49, 27, 30, 19, 21, 12, 22, 21]\n",
    "sum = 0\n",
    "for q in Quantity:\n",
    "    sum = sum + q\n",
    "print(sum)"
   ]
  },
  {
   "cell_type": "markdown",
   "metadata": {},
   "source": [
    "This operation is accumulator and there is an associated code template, which you should memorize. Any time somebody says accumulator, you should think loop around a partial result update preceded by initialization of that result."
   ]
  },
  {
   "cell_type": "markdown",
   "metadata": {},
   "source": [
    "Summing values is very common so let's encapsulate the functionality in a function to avoid  having to cut-and-paste the code template all the time. Our black box with a few sample \"input-output\" pairs from a function plan looks like:\n",
    "\n",
    "<img src=\"images/sum-func.png\" width=\"180\">\n",
    "\n",
    "(Laying out the examples like that made us realize that we need to worry about empty lists.)\n",
    "\n",
    "We group the summing functionality into a function by indenting it and then adding a function header:"
   ]
  },
  {
   "cell_type": "code",
   "execution_count": 9,
   "metadata": {},
   "outputs": [
    {
     "name": "stdout",
     "output_type": "stream",
     "text": [
      "207\n",
      "207\n"
     ]
    }
   ],
   "source": [
    "def sum(data):\n",
    "    s = 0\n",
    "    for q in data:\n",
    "        s = s + q\n",
    "    return s # return accumulated value s to invoker (this is not a print statement!)\n",
    "\n",
    "Quantity = [6, 49, 27, 30, 19, 21, 12, 22, 21]\n",
    "s = sum(Quantity) # call sum with a specific list\n",
    "print(s)\n",
    "s = sum(data=Quantity) # implicit assignment here\n",
    "print(s)"
   ]
  },
  {
   "cell_type": "code",
   "execution_count": 15,
   "metadata": {},
   "outputs": [
    {
     "name": "stdout",
     "output_type": "stream",
     "text": [
      "207\n"
     ]
    }
   ],
   "source": [
    "def sum(): # something is wrong here!\n",
    "    s = 0\n",
    "    for q in Quantity:\n",
    "        s = s + q\n",
    "    return s # this is not a print statement!\n",
    "\n",
    "Quantity = [6, 49, 27, 30, 19, 21, 12, 22, 21]\n",
    "s = sum() # call sum and save result\n",
    "print(s)"
   ]
  },
  {
   "cell_type": "markdown",
   "metadata": {},
   "source": [
    "The key benefit of this function version is that now we have some generic code that we can invoke with a simple call to `sum`. The argument to the function is the list of data to sum and so the for loop refers to it than the specific `Quantity` variable. (Notice that the variable inside the function is now `s` not `sum` to avoid confusion with the function name.) "
   ]
  },
  {
   "cell_type": "code",
   "execution_count": 12,
   "metadata": {},
   "outputs": [
    {
     "data": {
      "text/plain": [
       "6"
      ]
     },
     "execution_count": 12,
     "metadata": {},
     "output_type": "execute_result"
    }
   ],
   "source": [
    "sum([1,2,3])"
   ]
  },
  {
   "cell_type": "markdown",
   "metadata": {},
   "source": [
    "You might be tempted to build a function that directly references the `Quantity` global list instead of a parameter:\n",
    "\n",
    "```python\n",
    "# OMG, this is so horrible I find it difficult to type!\n",
    "def sum():\n",
    "    s = 0\n",
    "    for q in Quantity:\n",
    "        s = s + q\n",
    "    return s\n",
    "```\n",
    "\n",
    "The problem is this function now only works with one list and is in no way generically useful. This defeats the purpose of creating the function because it's not reusable.\n",
    " \n",
    "Since the real function accepts a list parameter, we can pass another list to the function:"
   ]
  },
  {
   "cell_type": "code",
   "execution_count": 13,
   "metadata": {},
   "outputs": [
    {
     "name": "stdout",
     "output_type": "stream",
     "text": [
      "44\n",
      "25\n",
      "0\n"
     ]
    }
   ],
   "source": [
    "ages = [10, 21, 13]\n",
    "print(sum(ages))\n",
    "print(sum([1,3,5,7,9]))\n",
    "print(sum([ ])) # Empty list"
   ]
  },
  {
   "cell_type": "markdown",
   "metadata": {},
   "source": [
    "Another thing to learn is that Python allows us to name the arguments as we passed them to a function:"
   ]
  },
  {
   "cell_type": "code",
   "execution_count": 14,
   "metadata": {},
   "outputs": [
    {
     "data": {
      "text/plain": [
       "44"
      ]
     },
     "execution_count": 14,
     "metadata": {},
     "output_type": "execute_result"
    }
   ],
   "source": [
    "sum(data=ages)"
   ]
  },
  {
   "cell_type": "markdown",
   "metadata": {},
   "source": [
    "The function call, or invocation, `sum(Quantity)` passes the data to the function. The function returns a value and so the function call is considered to evaluate to a value, which we can print out as shown above. Like any value, we can assign the result of calling a function to a variable:"
   ]
  },
  {
   "cell_type": "code",
   "execution_count": 15,
   "metadata": {},
   "outputs": [
    {
     "data": {
      "text/plain": [
       "207"
      ]
     },
     "execution_count": 15,
     "metadata": {},
     "output_type": "execute_result"
    }
   ],
   "source": [
    "x = sum(Quantity)  # call sum and save result in x\n",
    "x"
   ]
  },
  {
   "cell_type": "markdown",
   "metadata": {},
   "source": [
    "Please remember that returning a value from a function is not the same thing as printing, which is a side-effect. Only the `print` statement prints a value to the console when running a program. *Don't confuse executing a program with the interactive Python console (or this notebook), which automatically prints out the value of each expression we type.* For example:\n",
    "\n",
    "```python\n",
    ">>> 34\n",
    "34\n",
    ">>> 34+100\n",
    "134\n",
    ">>> \n",
    "```"
   ]
  },
  {
   "cell_type": "markdown",
   "metadata": {},
   "source": [
    "The `sum` function has one parameter but it's also common to have functions with two parameters."
   ]
  },
  {
   "cell_type": "markdown",
   "metadata": {
    "heading_collapsed": true
   },
   "source": [
    "### Exercise\n",
    "\n",
    "Write a function called `neg` that takes one number parameter `x` and returns the negative of `x`."
   ]
  },
  {
   "cell_type": "code",
   "execution_count": 16,
   "metadata": {
    "hidden": true
   },
   "outputs": [],
   "source": [
    "def neg(x): return -x"
   ]
  },
  {
   "cell_type": "markdown",
   "metadata": {
    "heading_collapsed": true
   },
   "source": [
    "### Exercise\n",
    "\n",
    "Write a function called `add` the takes 2 number parameters, `x` and `y`, and returns the addition of the two parameters."
   ]
  },
  {
   "cell_type": "code",
   "execution_count": 17,
   "metadata": {
    "hidden": true
   },
   "outputs": [
    {
     "name": "stdout",
     "output_type": "stream",
     "text": [
      "99\n",
      "99\n"
     ]
    }
   ],
   "source": [
    "def max(x,y): return x if x>y else y\n",
    "\n",
    "#same as:\n",
    "#if x>y: return x\n",
    "#else: return y\n",
    "\n",
    "# test it\n",
    "print(max(10,99))\n",
    "print(max(99,10))"
   ]
  },
  {
   "cell_type": "markdown",
   "metadata": {
    "hidden": true
   },
   "source": [
    "Notice that once we use the argument names, the order does not matter:"
   ]
  },
  {
   "cell_type": "code",
   "execution_count": 18,
   "metadata": {
    "hidden": true
   },
   "outputs": [
    {
     "name": "stdout",
     "output_type": "stream",
     "text": [
      "99\n",
      "99\n"
     ]
    }
   ],
   "source": [
    "print(max(x=10, y=99))\n",
    "print(max(y=99, x=10))"
   ]
  },
  {
   "cell_type": "markdown",
   "metadata": {
    "heading_collapsed": true
   },
   "source": [
    "### Exercise\n",
    "\n",
    "Write a function called `area` that takes a radius `r` parameter and returns the area of a circle with that radius (&pi;`r`<sup>2</sup>). Hint: Recall that the `math` package has a variable called `pi`."
   ]
  },
  {
   "cell_type": "code",
   "execution_count": 19,
   "metadata": {
    "hidden": true
   },
   "outputs": [
    {
     "data": {
      "text/plain": [
       "(3.141592653589793, 12.566370614359172)"
      ]
     },
     "execution_count": 19,
     "metadata": {},
     "output_type": "execute_result"
    }
   ],
   "source": [
    "import math\n",
    "def area(r): return math.pi * r**2  # ** is the power operator\n",
    "\n",
    "# test it\n",
    "area(1), area(r=2)"
   ]
  },
  {
   "cell_type": "markdown",
   "metadata": {
    "heading_collapsed": true
   },
   "source": [
    "### Exercise\n",
    "\n",
    "Write a Python function called `words` that accepts a string, `doc`, containing a sequence of words separated by a single space character and returns a list of words in lowercase. An argument of `'X Y z'` should return a list with value `['x', 'y', 'z']`. Hint: `'HI'.lower()` evaluates to `'hi'`."
   ]
  },
  {
   "cell_type": "code",
   "execution_count": 20,
   "metadata": {
    "hidden": true
   },
   "outputs": [
    {
     "data": {
      "text/plain": [
       "['terence', 'parr', 'is', 'the', 'instructor', 'of', 'msan501']"
      ]
     },
     "execution_count": 20,
     "metadata": {},
     "output_type": "execute_result"
    }
   ],
   "source": [
    "def words(doc:str) -> list:\n",
    "    words = doc.split(' ')\n",
    "    return [w.lower() for w in words]\n",
    "\n",
    "# OR\n",
    "\n",
    "def words(doc):\n",
    "    doc = doc.lower()\n",
    "    return doc.split(' ')\n",
    "\n",
    "# OR\n",
    "\n",
    "def words(doc): return doc.lower().split(' ')\n",
    "\n",
    "words('Terence Parr is the instructor of MSAN501')"
   ]
  },
  {
   "cell_type": "markdown",
   "metadata": {},
   "source": [
    "## Search function\n",
    "\n",
    "We've seen code to search for a list element, but the specific element and specific list were *hardcoded*.  That is to say, the code only worked with specific values and was not generic:"
   ]
  },
  {
   "cell_type": "code",
   "execution_count": 21,
   "metadata": {},
   "outputs": [
    {
     "data": {
      "text/plain": [
       "1"
      ]
     },
     "execution_count": 21,
     "metadata": {},
     "output_type": "execute_result"
    }
   ],
   "source": [
    "first=['Xue', 'Mary', 'Robert']     # our given input\n",
    "target = 'Mary'                     # searching for Mary\n",
    "index = -1\n",
    "for i in range(len(first)):         # i is in range [0..n-1] or [0..n)\n",
    "    if first[i]==target:\n",
    "        index = i\n",
    "        break\n",
    "index"
   ]
  },
  {
   "cell_type": "markdown",
   "metadata": {},
   "source": [
    "It would be nice to have a function we can call because searching is so common. To get started, we can just wrap the logic associated with searching in a function by indenting and adding a function header. But, we should also change the name of the list so that it is more generic and make it a parameter (same with the search target)."
   ]
  },
  {
   "cell_type": "code",
   "execution_count": 22,
   "metadata": {},
   "outputs": [
    {
     "name": "stdout",
     "output_type": "stream",
     "text": [
      "1\n"
     ]
    }
   ],
   "source": [
    "def search(x, data):\n",
    "    index = -1\n",
    "    for i in range(len(data)):         # i is in range [0..n-1] or [0..n)\n",
    "        if data[i]==x:\n",
    "            index = i\n",
    "            break\n",
    "    print(index)\n",
    "\n",
    "first=['Xue', 'Mary', 'Robert']\n",
    "search('Mary', first) # invoke search with 2 parameters"
   ]
  },
  {
   "cell_type": "markdown",
   "metadata": {},
   "source": [
    "We are now passing two arguments to the function: `x` is the element to find and `data` is the list to search. Anytime we want, we can search a list for an element just by calling `search`:"
   ]
  },
  {
   "cell_type": "code",
   "execution_count": 23,
   "metadata": {},
   "outputs": [
    {
     "name": "stdout",
     "output_type": "stream",
     "text": [
      "0\n",
      "2\n"
     ]
    },
    {
     "data": {
      "text/plain": [
       "(None, None)"
      ]
     },
     "execution_count": 23,
     "metadata": {},
     "output_type": "execute_result"
    }
   ],
   "source": [
    "search('Xue', first), search('Robert', first)"
   ]
  },
  {
   "cell_type": "code",
   "execution_count": 24,
   "metadata": {},
   "outputs": [
    {
     "name": "stdout",
     "output_type": "stream",
     "text": [
      "-1\n"
     ]
    }
   ],
   "source": [
    "# It is a good idea to test the failure case\n",
    "search('Jim', first)"
   ]
  },
  {
   "cell_type": "markdown",
   "metadata": {},
   "source": [
    "It turns out we can simplify that function by replacing the `break` statement with a `return` statement. Whereas a break statement breaks out of the immediately enclosing loop, the return statement returns from the function no matter where it appears in the function. In the current version, if we find the element, the `break` statement breaks out of the loop and forces the processor to execute the statement following the loop, which is the `return` statement. Because the return statement takes an expression argument, we don't need to track the index in a separate variable. *The `return` statement forces the processor to immediately exit the function and return the specified value.* In effect, then the `return` breaks out of the loop first then the function.\n",
    "\n",
    "Here is the way the cool kids would write that function:"
   ]
  },
  {
   "cell_type": "code",
   "execution_count": 25,
   "metadata": {},
   "outputs": [
    {
     "name": "stdout",
     "output_type": "stream",
     "text": [
      "1\n",
      "0\n",
      "-1\n"
     ]
    }
   ],
   "source": [
    "def search(x, data):\n",
    "    for i in range(len(data)):  # i is in range [0..n-1] or [0..n)\n",
    "        if data[i]==x:\n",
    "            return i            # found element, return the current index i\n",
    "    return -1                   # failure case; we did not return from inside loop\n",
    "\n",
    "print(search('Mary', first))\n",
    "print(search('Xue', first))\n",
    "print(search('foo', first))"
   ]
  },
  {
   "cell_type": "markdown",
   "metadata": {},
   "source": [
    "## Visibility of symbols\n",
    "\n",
    "Variables created outside of a function are so-called *global variables* because they live in the global space (or frame). For example, let's revisit the non-function version of the sum accumulator where I have added a call to lolviz library to display three global variables inside the loop:"
   ]
  },
  {
   "cell_type": "code",
   "execution_count": 26,
   "metadata": {},
   "outputs": [
    {
     "data": {
      "image/svg+xml": [
       "<?xml version=\"1.0\" encoding=\"UTF-8\" standalone=\"no\"?>\n",
       "<!DOCTYPE svg PUBLIC \"-//W3C//DTD SVG 1.1//EN\"\n",
       " \"http://www.w3.org/Graphics/SVG/1.1/DTD/svg11.dtd\">\n",
       "<!-- Generated by graphviz version 2.46.0 (20210118.1747)\n",
       " -->\n",
       "<!-- Title: G Pages: 1 -->\n",
       "<svg width=\"248pt\" height=\"81pt\"\n",
       " viewBox=\"0.00 0.00 248.00 81.00\" xmlns=\"http://www.w3.org/2000/svg\" xmlns:xlink=\"http://www.w3.org/1999/xlink\">\n",
       "<g id=\"graph0\" class=\"graph\" transform=\"scale(1 1) rotate(0) translate(4 77)\">\n",
       "<title>G</title>\n",
       "<polygon fill=\"white\" stroke=\"transparent\" points=\"-4,4 -4,-77 244,-77 244,4 -4,4\"/>\n",
       "<!-- node140682326246432 -->\n",
       "<g id=\"node1\" class=\"node\">\n",
       "<title>node140682326246432</title>\n",
       "<polygon fill=\"#d9e6f5\" stroke=\"#444443\" stroke-width=\"0.5\" points=\"67,-73 0,-73 0,-7 67,-7 67,-73\"/>\n",
       "<polygon fill=\"#d9e6f5\" stroke=\"transparent\" points=\"2.5,-57 2.5,-71 65.5,-71 65.5,-57 2.5,-57\"/>\n",
       "<polyline fill=\"none\" stroke=\"#444443\" points=\"2.5,-57 65.5,-57 \"/>\n",
       "<text text-anchor=\"start\" x=\"18\" y=\"-61.2\" font-family=\"Times,serif\" font-style=\"italic\" font-size=\"11.00\" fill=\"#444443\">globals</text>\n",
       "<polygon fill=\"#d9e6f5\" stroke=\"transparent\" points=\"2.5,-55 2.5,-57 65.5,-57 65.5,-55 2.5,-55\"/>\n",
       "<polygon fill=\"#d9e6f5\" stroke=\"transparent\" points=\"2.5,-41 2.5,-55 47.5,-55 47.5,-41 2.5,-41\"/>\n",
       "<polyline fill=\"none\" stroke=\"#444443\" points=\"47.5,-41 47.5,-55 \"/>\n",
       "<text text-anchor=\"start\" x=\"22.5\" y=\"-45.2\" font-family=\"Helvetica,sans-Serif\" font-size=\"11.00\" fill=\"#444443\">sum </text>\n",
       "<polygon fill=\"#d9e6f5\" stroke=\"transparent\" points=\"47.5,-41 47.5,-55 65.5,-55 65.5,-41 47.5,-41\"/>\n",
       "<text text-anchor=\"start\" x=\"48.5\" y=\"-45.2\" font-family=\"Helvetica,sans-Serif\" font-size=\"11.00\" fill=\"#444443\"> 0</text>\n",
       "<polygon fill=\"#d9e6f5\" stroke=\"transparent\" points=\"2.5,-39 2.5,-41 65.5,-41 65.5,-39 2.5,-39\"/>\n",
       "<polygon fill=\"#d9e6f5\" stroke=\"transparent\" points=\"2.5,-25 2.5,-39 47.5,-39 47.5,-25 2.5,-25\"/>\n",
       "<polyline fill=\"none\" stroke=\"#444443\" points=\"47.5,-25 47.5,-39 \"/>\n",
       "<text text-anchor=\"start\" x=\"36.5\" y=\"-29.2\" font-family=\"Helvetica,sans-Serif\" font-size=\"11.00\" fill=\"#444443\">q </text>\n",
       "<polygon fill=\"#d9e6f5\" stroke=\"transparent\" points=\"47.5,-25 47.5,-39 65.5,-39 65.5,-25 47.5,-25\"/>\n",
       "<text text-anchor=\"start\" x=\"48.5\" y=\"-29.2\" font-family=\"Helvetica,sans-Serif\" font-size=\"11.00\" fill=\"#444443\"> 21</text>\n",
       "<polygon fill=\"#d9e6f5\" stroke=\"transparent\" points=\"2.5,-23 2.5,-25 65.5,-25 65.5,-23 2.5,-23\"/>\n",
       "<polygon fill=\"#d9e6f5\" stroke=\"transparent\" points=\"2.5,-9 2.5,-23 47.5,-23 47.5,-9 2.5,-9\"/>\n",
       "<polyline fill=\"none\" stroke=\"#444443\" points=\"47.5,-9 47.5,-23 \"/>\n",
       "<text text-anchor=\"start\" x=\"3.5\" y=\"-13.2\" font-family=\"Helvetica,sans-Serif\" font-size=\"11.00\" fill=\"#444443\">Quantity </text>\n",
       "<polygon fill=\"#d9e6f5\" stroke=\"transparent\" points=\"47.5,-9 47.5,-23 65.5,-23 65.5,-9 47.5,-9\"/>\n",
       "<text text-anchor=\"start\" x=\"48.5\" y=\"-13.2\" font-family=\"Helvetica,sans-Serif\" font-size=\"11.00\" fill=\"#444443\"> &#160;&#160;&#160;</text>\n",
       "</g>\n",
       "<!-- node140683269949632 -->\n",
       "<g id=\"node2\" class=\"node\">\n",
       "<title>node140683269949632</title>\n",
       "<polygon fill=\"none\" stroke=\"black\" stroke-width=\"0.5\" points=\"240,-32 75,-32 75,0 240,0 240,-32\"/>\n",
       "<polygon fill=\"#fefecd\" stroke=\"transparent\" points=\"76.5,-19 76.5,-31 89.5,-31 89.5,-19 76.5,-19\"/>\n",
       "<polyline fill=\"none\" stroke=\"black\" points=\"76.5,-19 89.5,-19 89.5,-31 \"/>\n",
       "<text text-anchor=\"start\" x=\"80\" y=\"-22.8\" font-family=\"Helvetica,sans-Serif\" font-size=\"9.00\" fill=\"#444443\">0</text>\n",
       "<polygon fill=\"#fefecd\" stroke=\"transparent\" points=\"89.5,-19 89.5,-31 108.5,-31 108.5,-19 89.5,-19\"/>\n",
       "<polyline fill=\"none\" stroke=\"black\" points=\"89.5,-19 108.5,-19 108.5,-31 \"/>\n",
       "<text text-anchor=\"start\" x=\"96\" y=\"-22.8\" font-family=\"Helvetica,sans-Serif\" font-size=\"9.00\" fill=\"#444443\">1</text>\n",
       "<polygon fill=\"#fefecd\" stroke=\"transparent\" points=\"108.5,-19 108.5,-31 127.5,-31 127.5,-19 108.5,-19\"/>\n",
       "<polyline fill=\"none\" stroke=\"black\" points=\"108.5,-19 127.5,-19 127.5,-31 \"/>\n",
       "<text text-anchor=\"start\" x=\"115\" y=\"-22.8\" font-family=\"Helvetica,sans-Serif\" font-size=\"9.00\" fill=\"#444443\">2</text>\n",
       "<polygon fill=\"#fefecd\" stroke=\"transparent\" points=\"127.5,-19 127.5,-31 146.5,-31 146.5,-19 127.5,-19\"/>\n",
       "<polyline fill=\"none\" stroke=\"black\" points=\"127.5,-19 146.5,-19 146.5,-31 \"/>\n",
       "<text text-anchor=\"start\" x=\"134\" y=\"-22.8\" font-family=\"Helvetica,sans-Serif\" font-size=\"9.00\" fill=\"#444443\">3</text>\n",
       "<polygon fill=\"#fefecd\" stroke=\"transparent\" points=\"146.5,-19 146.5,-31 165.5,-31 165.5,-19 146.5,-19\"/>\n",
       "<polyline fill=\"none\" stroke=\"black\" points=\"146.5,-19 165.5,-19 165.5,-31 \"/>\n",
       "<text text-anchor=\"start\" x=\"153\" y=\"-22.8\" font-family=\"Helvetica,sans-Serif\" font-size=\"9.00\" fill=\"#444443\">4</text>\n",
       "<polygon fill=\"#fefecd\" stroke=\"transparent\" points=\"165.5,-19 165.5,-31 184.5,-31 184.5,-19 165.5,-19\"/>\n",
       "<polyline fill=\"none\" stroke=\"black\" points=\"165.5,-19 184.5,-19 184.5,-31 \"/>\n",
       "<text text-anchor=\"start\" x=\"172\" y=\"-22.8\" font-family=\"Helvetica,sans-Serif\" font-size=\"9.00\" fill=\"#444443\">5</text>\n",
       "<polygon fill=\"#fefecd\" stroke=\"transparent\" points=\"184.5,-19 184.5,-31 203.5,-31 203.5,-19 184.5,-19\"/>\n",
       "<polyline fill=\"none\" stroke=\"black\" points=\"184.5,-19 203.5,-19 203.5,-31 \"/>\n",
       "<text text-anchor=\"start\" x=\"191\" y=\"-22.8\" font-family=\"Helvetica,sans-Serif\" font-size=\"9.00\" fill=\"#444443\">6</text>\n",
       "<polygon fill=\"#fefecd\" stroke=\"transparent\" points=\"203.5,-19 203.5,-31 222.5,-31 222.5,-19 203.5,-19\"/>\n",
       "<polyline fill=\"none\" stroke=\"black\" points=\"203.5,-19 222.5,-19 222.5,-31 \"/>\n",
       "<text text-anchor=\"start\" x=\"210\" y=\"-22.8\" font-family=\"Helvetica,sans-Serif\" font-size=\"9.00\" fill=\"#444443\">7</text>\n",
       "<polygon fill=\"#fefecd\" stroke=\"transparent\" points=\"222.5,-19 222.5,-31 239.5,-31 239.5,-19 222.5,-19\"/>\n",
       "<polyline fill=\"none\" stroke=\"black\" points=\"222.5,-19 239.5,-19 \"/>\n",
       "<text text-anchor=\"start\" x=\"228\" y=\"-22.8\" font-family=\"Helvetica,sans-Serif\" font-size=\"9.00\" fill=\"#444443\">8</text>\n",
       "<polygon fill=\"#fefecd\" stroke=\"transparent\" points=\"76.5,-1 76.5,-19 89.5,-19 89.5,-1 76.5,-1\"/>\n",
       "<polyline fill=\"none\" stroke=\"black\" points=\"89.5,-1 89.5,-19 \"/>\n",
       "<text text-anchor=\"start\" x=\"79.5\" y=\"-7.2\" font-family=\"Helvetica,sans-Serif\" font-size=\"11.00\" fill=\"#444443\">6</text>\n",
       "<polygon fill=\"#fefecd\" stroke=\"transparent\" points=\"89.5,-1 89.5,-19 108.5,-19 108.5,-1 89.5,-1\"/>\n",
       "<polyline fill=\"none\" stroke=\"black\" points=\"108.5,-1 108.5,-19 \"/>\n",
       "<text text-anchor=\"start\" x=\"92.5\" y=\"-7.2\" font-family=\"Helvetica,sans-Serif\" font-size=\"11.00\" fill=\"#444443\">49</text>\n",
       "<polygon fill=\"#fefecd\" stroke=\"transparent\" points=\"108.5,-1 108.5,-19 127.5,-19 127.5,-1 108.5,-1\"/>\n",
       "<polyline fill=\"none\" stroke=\"black\" points=\"127.5,-1 127.5,-19 \"/>\n",
       "<text text-anchor=\"start\" x=\"111.5\" y=\"-7.2\" font-family=\"Helvetica,sans-Serif\" font-size=\"11.00\" fill=\"#444443\">27</text>\n",
       "<polygon fill=\"#fefecd\" stroke=\"transparent\" points=\"127.5,-1 127.5,-19 146.5,-19 146.5,-1 127.5,-1\"/>\n",
       "<polyline fill=\"none\" stroke=\"black\" points=\"146.5,-1 146.5,-19 \"/>\n",
       "<text text-anchor=\"start\" x=\"130.5\" y=\"-7.2\" font-family=\"Helvetica,sans-Serif\" font-size=\"11.00\" fill=\"#444443\">30</text>\n",
       "<polygon fill=\"#fefecd\" stroke=\"transparent\" points=\"146.5,-1 146.5,-19 165.5,-19 165.5,-1 146.5,-1\"/>\n",
       "<polyline fill=\"none\" stroke=\"black\" points=\"165.5,-1 165.5,-19 \"/>\n",
       "<text text-anchor=\"start\" x=\"149.5\" y=\"-7.2\" font-family=\"Helvetica,sans-Serif\" font-size=\"11.00\" fill=\"#444443\">19</text>\n",
       "<polygon fill=\"#fefecd\" stroke=\"transparent\" points=\"165.5,-1 165.5,-19 184.5,-19 184.5,-1 165.5,-1\"/>\n",
       "<polyline fill=\"none\" stroke=\"black\" points=\"184.5,-1 184.5,-19 \"/>\n",
       "<text text-anchor=\"start\" x=\"168.5\" y=\"-7.2\" font-family=\"Helvetica,sans-Serif\" font-size=\"11.00\" fill=\"#444443\">21</text>\n",
       "<polygon fill=\"#fefecd\" stroke=\"transparent\" points=\"184.5,-1 184.5,-19 203.5,-19 203.5,-1 184.5,-1\"/>\n",
       "<polyline fill=\"none\" stroke=\"black\" points=\"203.5,-1 203.5,-19 \"/>\n",
       "<text text-anchor=\"start\" x=\"187.5\" y=\"-7.2\" font-family=\"Helvetica,sans-Serif\" font-size=\"11.00\" fill=\"#444443\">12</text>\n",
       "<polygon fill=\"#fefecd\" stroke=\"transparent\" points=\"203.5,-1 203.5,-19 222.5,-19 222.5,-1 203.5,-1\"/>\n",
       "<polyline fill=\"none\" stroke=\"black\" points=\"222.5,-1 222.5,-19 \"/>\n",
       "<text text-anchor=\"start\" x=\"206.5\" y=\"-7.2\" font-family=\"Helvetica,sans-Serif\" font-size=\"11.00\" fill=\"#444443\">22</text>\n",
       "<polygon fill=\"#fefecd\" stroke=\"transparent\" points=\"222.5,-1 222.5,-19 239.5,-19 239.5,-1 222.5,-1\"/>\n",
       "<text text-anchor=\"start\" x=\"224.5\" y=\"-7.2\" font-family=\"Helvetica,sans-Serif\" font-size=\"11.00\" fill=\"#444443\">21</text>\n",
       "</g>\n",
       "<!-- node140682326246432&#45;&gt;node140683269949632 -->\n",
       "<g id=\"edge1\" class=\"edge\">\n",
       "<title>node140682326246432:c&#45;&gt;node140683269949632</title>\n",
       "<path fill=\"none\" stroke=\"#444443\" stroke-width=\"0.5\" d=\"M60.71,-16C63.01,-16 66.44,-16 70.66,-16\"/>\n",
       "<ellipse fill=\"#444443\" stroke=\"#444443\" stroke-width=\"0.5\" cx=\"59.1\" cy=\"-16\" rx=\"1.6\" ry=\"1.6\"/>\n",
       "<polygon fill=\"#444443\" stroke=\"#444443\" stroke-width=\"0.5\" points=\"70.74,-17.4 74.74,-16 70.74,-14.6 70.74,-17.4\"/>\n",
       "</g>\n",
       "</g>\n",
       "</svg>\n"
      ],
      "text/plain": [
       "<graphviz.files.Source at 0x7ff360557850>"
      ]
     },
     "metadata": {},
     "output_type": "display_data"
    },
    {
     "data": {
      "image/svg+xml": [
       "<?xml version=\"1.0\" encoding=\"UTF-8\" standalone=\"no\"?>\n",
       "<!DOCTYPE svg PUBLIC \"-//W3C//DTD SVG 1.1//EN\"\n",
       " \"http://www.w3.org/Graphics/SVG/1.1/DTD/svg11.dtd\">\n",
       "<!-- Generated by graphviz version 2.46.0 (20210118.1747)\n",
       " -->\n",
       "<!-- Title: G Pages: 1 -->\n",
       "<svg width=\"254pt\" height=\"81pt\"\n",
       " viewBox=\"0.00 0.00 254.00 81.00\" xmlns=\"http://www.w3.org/2000/svg\" xmlns:xlink=\"http://www.w3.org/1999/xlink\">\n",
       "<g id=\"graph0\" class=\"graph\" transform=\"scale(1 1) rotate(0) translate(4 77)\">\n",
       "<title>G</title>\n",
       "<polygon fill=\"white\" stroke=\"transparent\" points=\"-4,4 -4,-77 250,-77 250,4 -4,4\"/>\n",
       "<!-- node140683430302832 -->\n",
       "<g id=\"node1\" class=\"node\">\n",
       "<title>node140683430302832</title>\n",
       "<polygon fill=\"#d9e6f5\" stroke=\"#444443\" stroke-width=\"0.5\" points=\"73,-73 0,-73 0,-7 73,-7 73,-73\"/>\n",
       "<polygon fill=\"#d9e6f5\" stroke=\"transparent\" points=\"2.5,-57 2.5,-71 71.5,-71 71.5,-57 2.5,-57\"/>\n",
       "<polyline fill=\"none\" stroke=\"#444443\" points=\"2.5,-57 71.5,-57 \"/>\n",
       "<text text-anchor=\"start\" x=\"21\" y=\"-61.2\" font-family=\"Times,serif\" font-style=\"italic\" font-size=\"11.00\" fill=\"#444443\">globals</text>\n",
       "<polygon fill=\"#d9e6f5\" stroke=\"transparent\" points=\"2.5,-55 2.5,-57 71.5,-57 71.5,-55 2.5,-55\"/>\n",
       "<polygon fill=\"#d9e6f5\" stroke=\"transparent\" points=\"2.5,-41 2.5,-55 47.5,-55 47.5,-41 2.5,-41\"/>\n",
       "<polyline fill=\"none\" stroke=\"#444443\" points=\"47.5,-41 47.5,-55 \"/>\n",
       "<text text-anchor=\"start\" x=\"22.5\" y=\"-45.2\" font-family=\"Helvetica,sans-Serif\" font-size=\"11.00\" fill=\"#444443\">sum </text>\n",
       "<polygon fill=\"#d9e6f5\" stroke=\"transparent\" points=\"47.5,-41 47.5,-55 71.5,-55 71.5,-41 47.5,-41\"/>\n",
       "<text text-anchor=\"start\" x=\"48.5\" y=\"-45.2\" font-family=\"Helvetica,sans-Serif\" font-size=\"11.00\" fill=\"#444443\"> 207</text>\n",
       "<polygon fill=\"#d9e6f5\" stroke=\"transparent\" points=\"2.5,-39 2.5,-41 71.5,-41 71.5,-39 2.5,-39\"/>\n",
       "<polygon fill=\"#d9e6f5\" stroke=\"transparent\" points=\"2.5,-25 2.5,-39 47.5,-39 47.5,-25 2.5,-25\"/>\n",
       "<polyline fill=\"none\" stroke=\"#444443\" points=\"47.5,-25 47.5,-39 \"/>\n",
       "<text text-anchor=\"start\" x=\"36.5\" y=\"-29.2\" font-family=\"Helvetica,sans-Serif\" font-size=\"11.00\" fill=\"#444443\">q </text>\n",
       "<polygon fill=\"#d9e6f5\" stroke=\"transparent\" points=\"47.5,-25 47.5,-39 71.5,-39 71.5,-25 47.5,-25\"/>\n",
       "<text text-anchor=\"start\" x=\"48.5\" y=\"-29.2\" font-family=\"Helvetica,sans-Serif\" font-size=\"11.00\" fill=\"#444443\"> 21</text>\n",
       "<polygon fill=\"#d9e6f5\" stroke=\"transparent\" points=\"2.5,-23 2.5,-25 71.5,-25 71.5,-23 2.5,-23\"/>\n",
       "<polygon fill=\"#d9e6f5\" stroke=\"transparent\" points=\"2.5,-9 2.5,-23 47.5,-23 47.5,-9 2.5,-9\"/>\n",
       "<polyline fill=\"none\" stroke=\"#444443\" points=\"47.5,-9 47.5,-23 \"/>\n",
       "<text text-anchor=\"start\" x=\"3.5\" y=\"-13.2\" font-family=\"Helvetica,sans-Serif\" font-size=\"11.00\" fill=\"#444443\">Quantity </text>\n",
       "<polygon fill=\"#d9e6f5\" stroke=\"transparent\" points=\"47.5,-9 47.5,-23 71.5,-23 71.5,-9 47.5,-9\"/>\n",
       "<text text-anchor=\"start\" x=\"48.5\" y=\"-13.2\" font-family=\"Helvetica,sans-Serif\" font-size=\"11.00\" fill=\"#444443\"> &#160;&#160;&#160;</text>\n",
       "</g>\n",
       "<!-- node140683269949632 -->\n",
       "<g id=\"node2\" class=\"node\">\n",
       "<title>node140683269949632</title>\n",
       "<polygon fill=\"none\" stroke=\"black\" stroke-width=\"0.5\" points=\"246,-32 81,-32 81,0 246,0 246,-32\"/>\n",
       "<polygon fill=\"#fefecd\" stroke=\"transparent\" points=\"82.5,-19 82.5,-31 95.5,-31 95.5,-19 82.5,-19\"/>\n",
       "<polyline fill=\"none\" stroke=\"black\" points=\"82.5,-19 95.5,-19 95.5,-31 \"/>\n",
       "<text text-anchor=\"start\" x=\"86\" y=\"-22.8\" font-family=\"Helvetica,sans-Serif\" font-size=\"9.00\" fill=\"#444443\">0</text>\n",
       "<polygon fill=\"#fefecd\" stroke=\"transparent\" points=\"95.5,-19 95.5,-31 114.5,-31 114.5,-19 95.5,-19\"/>\n",
       "<polyline fill=\"none\" stroke=\"black\" points=\"95.5,-19 114.5,-19 114.5,-31 \"/>\n",
       "<text text-anchor=\"start\" x=\"102\" y=\"-22.8\" font-family=\"Helvetica,sans-Serif\" font-size=\"9.00\" fill=\"#444443\">1</text>\n",
       "<polygon fill=\"#fefecd\" stroke=\"transparent\" points=\"114.5,-19 114.5,-31 133.5,-31 133.5,-19 114.5,-19\"/>\n",
       "<polyline fill=\"none\" stroke=\"black\" points=\"114.5,-19 133.5,-19 133.5,-31 \"/>\n",
       "<text text-anchor=\"start\" x=\"121\" y=\"-22.8\" font-family=\"Helvetica,sans-Serif\" font-size=\"9.00\" fill=\"#444443\">2</text>\n",
       "<polygon fill=\"#fefecd\" stroke=\"transparent\" points=\"133.5,-19 133.5,-31 152.5,-31 152.5,-19 133.5,-19\"/>\n",
       "<polyline fill=\"none\" stroke=\"black\" points=\"133.5,-19 152.5,-19 152.5,-31 \"/>\n",
       "<text text-anchor=\"start\" x=\"140\" y=\"-22.8\" font-family=\"Helvetica,sans-Serif\" font-size=\"9.00\" fill=\"#444443\">3</text>\n",
       "<polygon fill=\"#fefecd\" stroke=\"transparent\" points=\"152.5,-19 152.5,-31 171.5,-31 171.5,-19 152.5,-19\"/>\n",
       "<polyline fill=\"none\" stroke=\"black\" points=\"152.5,-19 171.5,-19 171.5,-31 \"/>\n",
       "<text text-anchor=\"start\" x=\"159\" y=\"-22.8\" font-family=\"Helvetica,sans-Serif\" font-size=\"9.00\" fill=\"#444443\">4</text>\n",
       "<polygon fill=\"#fefecd\" stroke=\"transparent\" points=\"171.5,-19 171.5,-31 190.5,-31 190.5,-19 171.5,-19\"/>\n",
       "<polyline fill=\"none\" stroke=\"black\" points=\"171.5,-19 190.5,-19 190.5,-31 \"/>\n",
       "<text text-anchor=\"start\" x=\"178\" y=\"-22.8\" font-family=\"Helvetica,sans-Serif\" font-size=\"9.00\" fill=\"#444443\">5</text>\n",
       "<polygon fill=\"#fefecd\" stroke=\"transparent\" points=\"190.5,-19 190.5,-31 209.5,-31 209.5,-19 190.5,-19\"/>\n",
       "<polyline fill=\"none\" stroke=\"black\" points=\"190.5,-19 209.5,-19 209.5,-31 \"/>\n",
       "<text text-anchor=\"start\" x=\"197\" y=\"-22.8\" font-family=\"Helvetica,sans-Serif\" font-size=\"9.00\" fill=\"#444443\">6</text>\n",
       "<polygon fill=\"#fefecd\" stroke=\"transparent\" points=\"209.5,-19 209.5,-31 228.5,-31 228.5,-19 209.5,-19\"/>\n",
       "<polyline fill=\"none\" stroke=\"black\" points=\"209.5,-19 228.5,-19 228.5,-31 \"/>\n",
       "<text text-anchor=\"start\" x=\"216\" y=\"-22.8\" font-family=\"Helvetica,sans-Serif\" font-size=\"9.00\" fill=\"#444443\">7</text>\n",
       "<polygon fill=\"#fefecd\" stroke=\"transparent\" points=\"228.5,-19 228.5,-31 245.5,-31 245.5,-19 228.5,-19\"/>\n",
       "<polyline fill=\"none\" stroke=\"black\" points=\"228.5,-19 245.5,-19 \"/>\n",
       "<text text-anchor=\"start\" x=\"234\" y=\"-22.8\" font-family=\"Helvetica,sans-Serif\" font-size=\"9.00\" fill=\"#444443\">8</text>\n",
       "<polygon fill=\"#fefecd\" stroke=\"transparent\" points=\"82.5,-1 82.5,-19 95.5,-19 95.5,-1 82.5,-1\"/>\n",
       "<polyline fill=\"none\" stroke=\"black\" points=\"95.5,-1 95.5,-19 \"/>\n",
       "<text text-anchor=\"start\" x=\"85.5\" y=\"-7.2\" font-family=\"Helvetica,sans-Serif\" font-size=\"11.00\" fill=\"#444443\">6</text>\n",
       "<polygon fill=\"#fefecd\" stroke=\"transparent\" points=\"95.5,-1 95.5,-19 114.5,-19 114.5,-1 95.5,-1\"/>\n",
       "<polyline fill=\"none\" stroke=\"black\" points=\"114.5,-1 114.5,-19 \"/>\n",
       "<text text-anchor=\"start\" x=\"98.5\" y=\"-7.2\" font-family=\"Helvetica,sans-Serif\" font-size=\"11.00\" fill=\"#444443\">49</text>\n",
       "<polygon fill=\"#fefecd\" stroke=\"transparent\" points=\"114.5,-1 114.5,-19 133.5,-19 133.5,-1 114.5,-1\"/>\n",
       "<polyline fill=\"none\" stroke=\"black\" points=\"133.5,-1 133.5,-19 \"/>\n",
       "<text text-anchor=\"start\" x=\"117.5\" y=\"-7.2\" font-family=\"Helvetica,sans-Serif\" font-size=\"11.00\" fill=\"#444443\">27</text>\n",
       "<polygon fill=\"#fefecd\" stroke=\"transparent\" points=\"133.5,-1 133.5,-19 152.5,-19 152.5,-1 133.5,-1\"/>\n",
       "<polyline fill=\"none\" stroke=\"black\" points=\"152.5,-1 152.5,-19 \"/>\n",
       "<text text-anchor=\"start\" x=\"136.5\" y=\"-7.2\" font-family=\"Helvetica,sans-Serif\" font-size=\"11.00\" fill=\"#444443\">30</text>\n",
       "<polygon fill=\"#fefecd\" stroke=\"transparent\" points=\"152.5,-1 152.5,-19 171.5,-19 171.5,-1 152.5,-1\"/>\n",
       "<polyline fill=\"none\" stroke=\"black\" points=\"171.5,-1 171.5,-19 \"/>\n",
       "<text text-anchor=\"start\" x=\"155.5\" y=\"-7.2\" font-family=\"Helvetica,sans-Serif\" font-size=\"11.00\" fill=\"#444443\">19</text>\n",
       "<polygon fill=\"#fefecd\" stroke=\"transparent\" points=\"171.5,-1 171.5,-19 190.5,-19 190.5,-1 171.5,-1\"/>\n",
       "<polyline fill=\"none\" stroke=\"black\" points=\"190.5,-1 190.5,-19 \"/>\n",
       "<text text-anchor=\"start\" x=\"174.5\" y=\"-7.2\" font-family=\"Helvetica,sans-Serif\" font-size=\"11.00\" fill=\"#444443\">21</text>\n",
       "<polygon fill=\"#fefecd\" stroke=\"transparent\" points=\"190.5,-1 190.5,-19 209.5,-19 209.5,-1 190.5,-1\"/>\n",
       "<polyline fill=\"none\" stroke=\"black\" points=\"209.5,-1 209.5,-19 \"/>\n",
       "<text text-anchor=\"start\" x=\"193.5\" y=\"-7.2\" font-family=\"Helvetica,sans-Serif\" font-size=\"11.00\" fill=\"#444443\">12</text>\n",
       "<polygon fill=\"#fefecd\" stroke=\"transparent\" points=\"209.5,-1 209.5,-19 228.5,-19 228.5,-1 209.5,-1\"/>\n",
       "<polyline fill=\"none\" stroke=\"black\" points=\"228.5,-1 228.5,-19 \"/>\n",
       "<text text-anchor=\"start\" x=\"212.5\" y=\"-7.2\" font-family=\"Helvetica,sans-Serif\" font-size=\"11.00\" fill=\"#444443\">22</text>\n",
       "<polygon fill=\"#fefecd\" stroke=\"transparent\" points=\"228.5,-1 228.5,-19 245.5,-19 245.5,-1 228.5,-1\"/>\n",
       "<text text-anchor=\"start\" x=\"230.5\" y=\"-7.2\" font-family=\"Helvetica,sans-Serif\" font-size=\"11.00\" fill=\"#444443\">21</text>\n",
       "</g>\n",
       "<!-- node140683430302832&#45;&gt;node140683269949632 -->\n",
       "<g id=\"edge1\" class=\"edge\">\n",
       "<title>node140683430302832:c&#45;&gt;node140683269949632</title>\n",
       "<path fill=\"none\" stroke=\"#444443\" stroke-width=\"0.5\" d=\"M63.75,-16C66.57,-16 71.07,-16 76.64,-16\"/>\n",
       "<ellipse fill=\"#444443\" stroke=\"#444443\" stroke-width=\"0.5\" cx=\"62.1\" cy=\"-16\" rx=\"1.6\" ry=\"1.6\"/>\n",
       "<polygon fill=\"#444443\" stroke=\"#444443\" stroke-width=\"0.5\" points=\"76.65,-17.4 80.65,-16 76.65,-14.6 76.65,-17.4\"/>\n",
       "</g>\n",
       "</g>\n",
       "</svg>\n"
      ],
      "text/plain": [
       "<graphviz.files.Source at 0x7ff360557490>"
      ]
     },
     "metadata": {},
     "output_type": "display_data"
    },
    {
     "data": {
      "text/plain": [
       "207"
      ]
     },
     "execution_count": 26,
     "metadata": {},
     "output_type": "execute_result"
    }
   ],
   "source": [
    "from lolviz import *\n",
    "\n",
    "Quantity = [6, 49, 27, 30, 19, 21, 12, 22, 21]\n",
    "sum = 0\n",
    "display(callviz(varnames=['Quantity','sum','q']))\n",
    "for q in Quantity:\n",
    "    sum = sum + q\n",
    "display(callviz(varnames=['Quantity','sum','q']))\n",
    "sum"
   ]
  },
  {
   "cell_type": "markdown",
   "metadata": {},
   "source": [
    "There are three (global) variables here: `Quantity`, `sum`, and `q`. The program uses all of those to compute the result.\n",
    "\n",
    "Let's see what the \"call stack\" looks like using the function version of the accumulator."
   ]
  },
  {
   "cell_type": "code",
   "execution_count": 27,
   "metadata": {},
   "outputs": [],
   "source": [
    "reset -f"
   ]
  },
  {
   "cell_type": "code",
   "execution_count": 28,
   "metadata": {},
   "outputs": [
    {
     "data": {
      "image/svg+xml": [
       "<?xml version=\"1.0\" encoding=\"UTF-8\" standalone=\"no\"?>\n",
       "<!DOCTYPE svg PUBLIC \"-//W3C//DTD SVG 1.1//EN\"\n",
       " \"http://www.w3.org/Graphics/SVG/1.1/DTD/svg11.dtd\">\n",
       "<!-- Generated by graphviz version 2.46.0 (20210118.1747)\n",
       " -->\n",
       "<!-- Title: G Pages: 1 -->\n",
       "<svg width=\"245pt\" height=\"99pt\"\n",
       " viewBox=\"0.00 0.00 245.00 99.00\" xmlns=\"http://www.w3.org/2000/svg\" xmlns:xlink=\"http://www.w3.org/1999/xlink\">\n",
       "<g id=\"graph0\" class=\"graph\" transform=\"scale(1 1) rotate(0) translate(4 95)\">\n",
       "<title>G</title>\n",
       "<polygon fill=\"white\" stroke=\"transparent\" points=\"-4,4 -4,-95 241,-95 241,4 -4,4\"/>\n",
       "<!-- node140683428688240 -->\n",
       "<g id=\"node1\" class=\"node\">\n",
       "<title>node140683428688240</title>\n",
       "<polygon fill=\"#d9e6f5\" stroke=\"#444443\" stroke-width=\"0.5\" points=\"64,-91 0,-91 0,-57 64,-57 64,-91\"/>\n",
       "<polygon fill=\"#d9e6f5\" stroke=\"transparent\" points=\"2,-75 2,-89 62,-89 62,-75 2,-75\"/>\n",
       "<polyline fill=\"none\" stroke=\"#444443\" points=\"2,-75 62,-75 \"/>\n",
       "<text text-anchor=\"start\" x=\"16\" y=\"-79.2\" font-family=\"Times,serif\" font-style=\"italic\" font-size=\"11.00\" fill=\"#444443\">globals</text>\n",
       "<polygon fill=\"#d9e6f5\" stroke=\"transparent\" points=\"2,-73 2,-75 62,-75 62,-73 2,-73\"/>\n",
       "<polygon fill=\"#d9e6f5\" stroke=\"transparent\" points=\"2,-59 2,-73 47,-73 47,-59 2,-59\"/>\n",
       "<polyline fill=\"none\" stroke=\"#444443\" points=\"47,-59 47,-73 \"/>\n",
       "<text text-anchor=\"start\" x=\"3\" y=\"-63.2\" font-family=\"Helvetica,sans-Serif\" font-size=\"11.00\" fill=\"#444443\">Quantity </text>\n",
       "<polygon fill=\"#d9e6f5\" stroke=\"transparent\" points=\"47,-59 47,-73 62,-73 62,-59 47,-59\"/>\n",
       "<text text-anchor=\"start\" x=\"48\" y=\"-63.2\" font-family=\"Helvetica,sans-Serif\" font-size=\"11.00\" fill=\"#444443\"> &#160;&#160;&#160;</text>\n",
       "</g>\n",
       "<!-- node140682326097248 -->\n",
       "<g id=\"node2\" class=\"node\">\n",
       "<title>node140682326097248</title>\n",
       "<polygon fill=\"#d9e6f5\" stroke=\"#444443\" stroke-width=\"0.5\" points=\"53.5,-50 10.5,-50 10.5,0 53.5,0 53.5,-50\"/>\n",
       "<polygon fill=\"#d9e6f5\" stroke=\"transparent\" points=\"13,-34 13,-48 52,-48 52,-34 13,-34\"/>\n",
       "<polyline fill=\"none\" stroke=\"#444443\" points=\"13,-34 52,-34 \"/>\n",
       "<text text-anchor=\"start\" x=\"23\" y=\"-38.2\" font-family=\"Times,serif\" font-style=\"italic\" font-size=\"11.00\" fill=\"#444443\">sum</text>\n",
       "<polygon fill=\"#d9e6f5\" stroke=\"transparent\" points=\"13,-32 13,-34 52,-34 52,-32 13,-32\"/>\n",
       "<polygon fill=\"#d9e6f5\" stroke=\"transparent\" points=\"13,-18 13,-32 37,-32 37,-18 13,-18\"/>\n",
       "<polyline fill=\"none\" stroke=\"#444443\" points=\"37,-18 37,-32 \"/>\n",
       "<text text-anchor=\"start\" x=\"27\" y=\"-22.2\" font-family=\"Helvetica,sans-Serif\" font-size=\"11.00\" fill=\"#444443\">s </text>\n",
       "<polygon fill=\"#d9e6f5\" stroke=\"transparent\" points=\"37,-18 37,-32 52,-32 52,-18 37,-18\"/>\n",
       "<text text-anchor=\"start\" x=\"38\" y=\"-22.2\" font-family=\"Helvetica,sans-Serif\" font-size=\"11.00\" fill=\"#444443\"> 0</text>\n",
       "<polygon fill=\"#d9e6f5\" stroke=\"transparent\" points=\"13,-16 13,-18 52,-18 52,-16 13,-16\"/>\n",
       "<polygon fill=\"#d9e6f5\" stroke=\"transparent\" points=\"13,-2 13,-16 37,-16 37,-2 13,-2\"/>\n",
       "<polyline fill=\"none\" stroke=\"#444443\" points=\"37,-2 37,-16 \"/>\n",
       "<text text-anchor=\"start\" x=\"14\" y=\"-6.2\" font-family=\"Times,serif\" font-style=\"italic\" font-size=\"11.00\" fill=\"#444443\">data </text>\n",
       "<polygon fill=\"#d9e6f5\" stroke=\"transparent\" points=\"37,-2 37,-16 52,-16 52,-2 37,-2\"/>\n",
       "<text text-anchor=\"start\" x=\"38\" y=\"-6.2\" font-family=\"Helvetica,sans-Serif\" font-size=\"11.00\" fill=\"#444443\"> &#160;&#160;&#160;</text>\n",
       "</g>\n",
       "<!-- node140683428688240&#45;&gt;node140682326097248 -->\n",
       "<!-- node140682197096320 -->\n",
       "<g id=\"node3\" class=\"node\">\n",
       "<title>node140682197096320</title>\n",
       "<polygon fill=\"none\" stroke=\"black\" stroke-width=\"0.5\" points=\"237,-53 72,-53 72,-21 237,-21 237,-53\"/>\n",
       "<polygon fill=\"#fefecd\" stroke=\"transparent\" points=\"73.5,-40 73.5,-52 86.5,-52 86.5,-40 73.5,-40\"/>\n",
       "<polyline fill=\"none\" stroke=\"black\" points=\"73.5,-40 86.5,-40 86.5,-52 \"/>\n",
       "<text text-anchor=\"start\" x=\"77\" y=\"-43.8\" font-family=\"Helvetica,sans-Serif\" font-size=\"9.00\" fill=\"#444443\">0</text>\n",
       "<polygon fill=\"#fefecd\" stroke=\"transparent\" points=\"86.5,-40 86.5,-52 105.5,-52 105.5,-40 86.5,-40\"/>\n",
       "<polyline fill=\"none\" stroke=\"black\" points=\"86.5,-40 105.5,-40 105.5,-52 \"/>\n",
       "<text text-anchor=\"start\" x=\"93\" y=\"-43.8\" font-family=\"Helvetica,sans-Serif\" font-size=\"9.00\" fill=\"#444443\">1</text>\n",
       "<polygon fill=\"#fefecd\" stroke=\"transparent\" points=\"105.5,-40 105.5,-52 124.5,-52 124.5,-40 105.5,-40\"/>\n",
       "<polyline fill=\"none\" stroke=\"black\" points=\"105.5,-40 124.5,-40 124.5,-52 \"/>\n",
       "<text text-anchor=\"start\" x=\"112\" y=\"-43.8\" font-family=\"Helvetica,sans-Serif\" font-size=\"9.00\" fill=\"#444443\">2</text>\n",
       "<polygon fill=\"#fefecd\" stroke=\"transparent\" points=\"124.5,-40 124.5,-52 143.5,-52 143.5,-40 124.5,-40\"/>\n",
       "<polyline fill=\"none\" stroke=\"black\" points=\"124.5,-40 143.5,-40 143.5,-52 \"/>\n",
       "<text text-anchor=\"start\" x=\"131\" y=\"-43.8\" font-family=\"Helvetica,sans-Serif\" font-size=\"9.00\" fill=\"#444443\">3</text>\n",
       "<polygon fill=\"#fefecd\" stroke=\"transparent\" points=\"143.5,-40 143.5,-52 162.5,-52 162.5,-40 143.5,-40\"/>\n",
       "<polyline fill=\"none\" stroke=\"black\" points=\"143.5,-40 162.5,-40 162.5,-52 \"/>\n",
       "<text text-anchor=\"start\" x=\"150\" y=\"-43.8\" font-family=\"Helvetica,sans-Serif\" font-size=\"9.00\" fill=\"#444443\">4</text>\n",
       "<polygon fill=\"#fefecd\" stroke=\"transparent\" points=\"162.5,-40 162.5,-52 181.5,-52 181.5,-40 162.5,-40\"/>\n",
       "<polyline fill=\"none\" stroke=\"black\" points=\"162.5,-40 181.5,-40 181.5,-52 \"/>\n",
       "<text text-anchor=\"start\" x=\"169\" y=\"-43.8\" font-family=\"Helvetica,sans-Serif\" font-size=\"9.00\" fill=\"#444443\">5</text>\n",
       "<polygon fill=\"#fefecd\" stroke=\"transparent\" points=\"181.5,-40 181.5,-52 200.5,-52 200.5,-40 181.5,-40\"/>\n",
       "<polyline fill=\"none\" stroke=\"black\" points=\"181.5,-40 200.5,-40 200.5,-52 \"/>\n",
       "<text text-anchor=\"start\" x=\"188\" y=\"-43.8\" font-family=\"Helvetica,sans-Serif\" font-size=\"9.00\" fill=\"#444443\">6</text>\n",
       "<polygon fill=\"#fefecd\" stroke=\"transparent\" points=\"200.5,-40 200.5,-52 219.5,-52 219.5,-40 200.5,-40\"/>\n",
       "<polyline fill=\"none\" stroke=\"black\" points=\"200.5,-40 219.5,-40 219.5,-52 \"/>\n",
       "<text text-anchor=\"start\" x=\"207\" y=\"-43.8\" font-family=\"Helvetica,sans-Serif\" font-size=\"9.00\" fill=\"#444443\">7</text>\n",
       "<polygon fill=\"#fefecd\" stroke=\"transparent\" points=\"219.5,-40 219.5,-52 236.5,-52 236.5,-40 219.5,-40\"/>\n",
       "<polyline fill=\"none\" stroke=\"black\" points=\"219.5,-40 236.5,-40 \"/>\n",
       "<text text-anchor=\"start\" x=\"225\" y=\"-43.8\" font-family=\"Helvetica,sans-Serif\" font-size=\"9.00\" fill=\"#444443\">8</text>\n",
       "<polygon fill=\"#fefecd\" stroke=\"transparent\" points=\"73.5,-22 73.5,-40 86.5,-40 86.5,-22 73.5,-22\"/>\n",
       "<polyline fill=\"none\" stroke=\"black\" points=\"86.5,-22 86.5,-40 \"/>\n",
       "<text text-anchor=\"start\" x=\"76.5\" y=\"-28.2\" font-family=\"Helvetica,sans-Serif\" font-size=\"11.00\" fill=\"#444443\">6</text>\n",
       "<polygon fill=\"#fefecd\" stroke=\"transparent\" points=\"86.5,-22 86.5,-40 105.5,-40 105.5,-22 86.5,-22\"/>\n",
       "<polyline fill=\"none\" stroke=\"black\" points=\"105.5,-22 105.5,-40 \"/>\n",
       "<text text-anchor=\"start\" x=\"89.5\" y=\"-28.2\" font-family=\"Helvetica,sans-Serif\" font-size=\"11.00\" fill=\"#444443\">49</text>\n",
       "<polygon fill=\"#fefecd\" stroke=\"transparent\" points=\"105.5,-22 105.5,-40 124.5,-40 124.5,-22 105.5,-22\"/>\n",
       "<polyline fill=\"none\" stroke=\"black\" points=\"124.5,-22 124.5,-40 \"/>\n",
       "<text text-anchor=\"start\" x=\"108.5\" y=\"-28.2\" font-family=\"Helvetica,sans-Serif\" font-size=\"11.00\" fill=\"#444443\">27</text>\n",
       "<polygon fill=\"#fefecd\" stroke=\"transparent\" points=\"124.5,-22 124.5,-40 143.5,-40 143.5,-22 124.5,-22\"/>\n",
       "<polyline fill=\"none\" stroke=\"black\" points=\"143.5,-22 143.5,-40 \"/>\n",
       "<text text-anchor=\"start\" x=\"127.5\" y=\"-28.2\" font-family=\"Helvetica,sans-Serif\" font-size=\"11.00\" fill=\"#444443\">30</text>\n",
       "<polygon fill=\"#fefecd\" stroke=\"transparent\" points=\"143.5,-22 143.5,-40 162.5,-40 162.5,-22 143.5,-22\"/>\n",
       "<polyline fill=\"none\" stroke=\"black\" points=\"162.5,-22 162.5,-40 \"/>\n",
       "<text text-anchor=\"start\" x=\"146.5\" y=\"-28.2\" font-family=\"Helvetica,sans-Serif\" font-size=\"11.00\" fill=\"#444443\">19</text>\n",
       "<polygon fill=\"#fefecd\" stroke=\"transparent\" points=\"162.5,-22 162.5,-40 181.5,-40 181.5,-22 162.5,-22\"/>\n",
       "<polyline fill=\"none\" stroke=\"black\" points=\"181.5,-22 181.5,-40 \"/>\n",
       "<text text-anchor=\"start\" x=\"165.5\" y=\"-28.2\" font-family=\"Helvetica,sans-Serif\" font-size=\"11.00\" fill=\"#444443\">21</text>\n",
       "<polygon fill=\"#fefecd\" stroke=\"transparent\" points=\"181.5,-22 181.5,-40 200.5,-40 200.5,-22 181.5,-22\"/>\n",
       "<polyline fill=\"none\" stroke=\"black\" points=\"200.5,-22 200.5,-40 \"/>\n",
       "<text text-anchor=\"start\" x=\"184.5\" y=\"-28.2\" font-family=\"Helvetica,sans-Serif\" font-size=\"11.00\" fill=\"#444443\">12</text>\n",
       "<polygon fill=\"#fefecd\" stroke=\"transparent\" points=\"200.5,-22 200.5,-40 219.5,-40 219.5,-22 200.5,-22\"/>\n",
       "<polyline fill=\"none\" stroke=\"black\" points=\"219.5,-22 219.5,-40 \"/>\n",
       "<text text-anchor=\"start\" x=\"203.5\" y=\"-28.2\" font-family=\"Helvetica,sans-Serif\" font-size=\"11.00\" fill=\"#444443\">22</text>\n",
       "<polygon fill=\"#fefecd\" stroke=\"transparent\" points=\"219.5,-22 219.5,-40 236.5,-40 236.5,-22 219.5,-22\"/>\n",
       "<text text-anchor=\"start\" x=\"221.5\" y=\"-28.2\" font-family=\"Helvetica,sans-Serif\" font-size=\"11.00\" fill=\"#444443\">21</text>\n",
       "</g>\n",
       "<!-- node140683428688240&#45;&gt;node140682197096320 -->\n",
       "<g id=\"edge2\" class=\"edge\">\n",
       "<title>node140683428688240:c&#45;&gt;node140682197096320</title>\n",
       "<path fill=\"none\" stroke=\"#444443\" stroke-width=\"0.5\" d=\"M59.22,-65.04C65.43,-63.2 79.85,-58.91 95.59,-54.22\"/>\n",
       "<ellipse fill=\"#444443\" stroke=\"#444443\" stroke-width=\"0.5\" cx=\"57.53\" cy=\"-65.54\" rx=\"1.6\" ry=\"1.6\"/>\n",
       "<polygon fill=\"#444443\" stroke=\"#444443\" stroke-width=\"0.5\" points=\"96.18,-55.51 99.62,-53.03 95.38,-52.83 96.18,-55.51\"/>\n",
       "</g>\n",
       "<!-- node140682326097248&#45;&gt;node140682197096320 -->\n",
       "<g id=\"edge3\" class=\"edge\">\n",
       "<title>node140682326097248:c&#45;&gt;node140682197096320</title>\n",
       "<path fill=\"none\" stroke=\"#444443\" stroke-width=\"0.5\" d=\"M49.35,-9.87C55.83,-11.56 70.9,-15.48 87.62,-19.84\"/>\n",
       "<ellipse fill=\"#444443\" stroke=\"#444443\" stroke-width=\"0.5\" cx=\"47.55\" cy=\"-9.4\" rx=\"1.6\" ry=\"1.6\"/>\n",
       "<polygon fill=\"#444443\" stroke=\"#444443\" stroke-width=\"0.5\" points=\"87.68,-21.3 91.9,-20.96 88.38,-18.59 87.68,-21.3\"/>\n",
       "</g>\n",
       "</g>\n",
       "</svg>\n"
      ],
      "text/plain": [
       "<graphviz.files.Source at 0x7ff360570ee0>"
      ]
     },
     "metadata": {},
     "output_type": "display_data"
    },
    {
     "data": {
      "text/plain": [
       "207"
      ]
     },
     "execution_count": 28,
     "metadata": {},
     "output_type": "execute_result"
    }
   ],
   "source": [
    "from lolviz import *\n",
    "Quantity = [6, 49, 27, 30, 19, 21, 12, 22, 21]\n",
    "\n",
    "def sum(data):\n",
    "    s = 0\n",
    "    display(callsviz(varnames=['Quantity','data','s']))\n",
    "    for q in data:\n",
    "        s = s + q\n",
    "    return s\n",
    "\n",
    "sum(Quantity)"
   ]
  },
  {
   "cell_type": "code",
   "execution_count": null,
   "metadata": {},
   "outputs": [],
   "source": []
  },
  {
   "cell_type": "markdown",
   "metadata": {},
   "source": [
    "As you can see, there is a new *scope* for the `sum` function because the main program invoked a function. That function has a parameter called `data` and a local variable called `s` (from where I have called the `callsviz` function).  Notice that both `Quantity` and `data` variables point at the same shared memory location!! It's just that the names are defined in different contexts (scopes). This is the aliasing of data we talked about in the last section. By traversing `data`, the `sum` function is actually traversing the `Quantity` list from the outer context. "
   ]
  },
  {
   "cell_type": "markdown",
   "metadata": {},
   "source": [
    "### Watch out for functions modifying data arguments"
   ]
  },
  {
   "cell_type": "code",
   "execution_count": 29,
   "metadata": {},
   "outputs": [
    {
     "data": {
      "image/svg+xml": [
       "<?xml version=\"1.0\" encoding=\"UTF-8\" standalone=\"no\"?>\n",
       "<!DOCTYPE svg PUBLIC \"-//W3C//DTD SVG 1.1//EN\"\n",
       " \"http://www.w3.org/Graphics/SVG/1.1/DTD/svg11.dtd\">\n",
       "<!-- Generated by graphviz version 2.46.0 (20210118.1747)\n",
       " -->\n",
       "<!-- Title: G Pages: 1 -->\n",
       "<svg width=\"251pt\" height=\"83pt\"\n",
       " viewBox=\"0.00 0.00 251.00 83.00\" xmlns=\"http://www.w3.org/2000/svg\" xmlns:xlink=\"http://www.w3.org/1999/xlink\">\n",
       "<g id=\"graph0\" class=\"graph\" transform=\"scale(1 1) rotate(0) translate(4 79)\">\n",
       "<title>G</title>\n",
       "<polygon fill=\"white\" stroke=\"transparent\" points=\"-4,4 -4,-79 247,-79 247,4 -4,4\"/>\n",
       "<!-- node140683428688864 -->\n",
       "<g id=\"node1\" class=\"node\">\n",
       "<title>node140683428688864</title>\n",
       "<polygon fill=\"#d9e6f5\" stroke=\"#444443\" stroke-width=\"0.5\" points=\"64,-75 0,-75 0,-41 64,-41 64,-75\"/>\n",
       "<polygon fill=\"#d9e6f5\" stroke=\"transparent\" points=\"2,-59 2,-73 62,-73 62,-59 2,-59\"/>\n",
       "<polyline fill=\"none\" stroke=\"#444443\" points=\"2,-59 62,-59 \"/>\n",
       "<text text-anchor=\"start\" x=\"16\" y=\"-63.2\" font-family=\"Times,serif\" font-style=\"italic\" font-size=\"11.00\" fill=\"#444443\">globals</text>\n",
       "<polygon fill=\"#d9e6f5\" stroke=\"transparent\" points=\"2,-57 2,-59 62,-59 62,-57 2,-57\"/>\n",
       "<polygon fill=\"#d9e6f5\" stroke=\"transparent\" points=\"2,-43 2,-57 47,-57 47,-43 2,-43\"/>\n",
       "<polyline fill=\"none\" stroke=\"#444443\" points=\"47,-43 47,-57 \"/>\n",
       "<text text-anchor=\"start\" x=\"3\" y=\"-47.2\" font-family=\"Helvetica,sans-Serif\" font-size=\"11.00\" fill=\"#444443\">Quantity </text>\n",
       "<polygon fill=\"#d9e6f5\" stroke=\"transparent\" points=\"47,-43 47,-57 62,-57 62,-43 47,-43\"/>\n",
       "<text text-anchor=\"start\" x=\"48\" y=\"-47.2\" font-family=\"Helvetica,sans-Serif\" font-size=\"11.00\" fill=\"#444443\"> &#160;&#160;&#160;</text>\n",
       "</g>\n",
       "<!-- node140683430297088 -->\n",
       "<g id=\"node2\" class=\"node\">\n",
       "<title>node140683430297088</title>\n",
       "<polygon fill=\"#d9e6f5\" stroke=\"#444443\" stroke-width=\"0.5\" points=\"53.5,-34 10.5,-34 10.5,0 53.5,0 53.5,-34\"/>\n",
       "<polygon fill=\"#d9e6f5\" stroke=\"transparent\" points=\"13,-18 13,-32 52,-32 52,-18 13,-18\"/>\n",
       "<polyline fill=\"none\" stroke=\"#444443\" points=\"13,-18 52,-18 \"/>\n",
       "<text text-anchor=\"start\" x=\"15.5\" y=\"-22.2\" font-family=\"Times,serif\" font-style=\"italic\" font-size=\"11.00\" fill=\"#444443\">badsum</text>\n",
       "<polygon fill=\"#d9e6f5\" stroke=\"transparent\" points=\"13,-16 13,-18 52,-18 52,-16 13,-16\"/>\n",
       "<polygon fill=\"#d9e6f5\" stroke=\"transparent\" points=\"13,-2 13,-16 37,-16 37,-2 13,-2\"/>\n",
       "<polyline fill=\"none\" stroke=\"#444443\" points=\"37,-2 37,-16 \"/>\n",
       "<text text-anchor=\"start\" x=\"14\" y=\"-6.2\" font-family=\"Times,serif\" font-style=\"italic\" font-size=\"11.00\" fill=\"#444443\">data </text>\n",
       "<polygon fill=\"#d9e6f5\" stroke=\"transparent\" points=\"37,-2 37,-16 52,-16 52,-2 37,-2\"/>\n",
       "<text text-anchor=\"start\" x=\"38\" y=\"-6.2\" font-family=\"Helvetica,sans-Serif\" font-size=\"11.00\" fill=\"#444443\"> &#160;&#160;&#160;</text>\n",
       "</g>\n",
       "<!-- node140683428688864&#45;&gt;node140683430297088 -->\n",
       "<!-- node140683269867712 -->\n",
       "<g id=\"node3\" class=\"node\">\n",
       "<title>node140683269867712</title>\n",
       "<polygon fill=\"none\" stroke=\"black\" stroke-width=\"0.5\" points=\"243,-45 72,-45 72,-13 243,-13 243,-45\"/>\n",
       "<polygon fill=\"#fefecd\" stroke=\"transparent\" points=\"73.5,-32 73.5,-44 92.5,-44 92.5,-32 73.5,-32\"/>\n",
       "<polyline fill=\"none\" stroke=\"black\" points=\"73.5,-32 92.5,-32 92.5,-44 \"/>\n",
       "<text text-anchor=\"start\" x=\"80\" y=\"-35.8\" font-family=\"Helvetica,sans-Serif\" font-size=\"9.00\" fill=\"#444443\">0</text>\n",
       "<polygon fill=\"#fefecd\" stroke=\"transparent\" points=\"92.5,-32 92.5,-44 111.5,-44 111.5,-32 92.5,-32\"/>\n",
       "<polyline fill=\"none\" stroke=\"black\" points=\"92.5,-32 111.5,-32 111.5,-44 \"/>\n",
       "<text text-anchor=\"start\" x=\"99\" y=\"-35.8\" font-family=\"Helvetica,sans-Serif\" font-size=\"9.00\" fill=\"#444443\">1</text>\n",
       "<polygon fill=\"#fefecd\" stroke=\"transparent\" points=\"111.5,-32 111.5,-44 130.5,-44 130.5,-32 111.5,-32\"/>\n",
       "<polyline fill=\"none\" stroke=\"black\" points=\"111.5,-32 130.5,-32 130.5,-44 \"/>\n",
       "<text text-anchor=\"start\" x=\"118\" y=\"-35.8\" font-family=\"Helvetica,sans-Serif\" font-size=\"9.00\" fill=\"#444443\">2</text>\n",
       "<polygon fill=\"#fefecd\" stroke=\"transparent\" points=\"130.5,-32 130.5,-44 149.5,-44 149.5,-32 130.5,-32\"/>\n",
       "<polyline fill=\"none\" stroke=\"black\" points=\"130.5,-32 149.5,-32 149.5,-44 \"/>\n",
       "<text text-anchor=\"start\" x=\"137\" y=\"-35.8\" font-family=\"Helvetica,sans-Serif\" font-size=\"9.00\" fill=\"#444443\">3</text>\n",
       "<polygon fill=\"#fefecd\" stroke=\"transparent\" points=\"149.5,-32 149.5,-44 168.5,-44 168.5,-32 149.5,-32\"/>\n",
       "<polyline fill=\"none\" stroke=\"black\" points=\"149.5,-32 168.5,-32 168.5,-44 \"/>\n",
       "<text text-anchor=\"start\" x=\"156\" y=\"-35.8\" font-family=\"Helvetica,sans-Serif\" font-size=\"9.00\" fill=\"#444443\">4</text>\n",
       "<polygon fill=\"#fefecd\" stroke=\"transparent\" points=\"168.5,-32 168.5,-44 187.5,-44 187.5,-32 168.5,-32\"/>\n",
       "<polyline fill=\"none\" stroke=\"black\" points=\"168.5,-32 187.5,-32 187.5,-44 \"/>\n",
       "<text text-anchor=\"start\" x=\"175\" y=\"-35.8\" font-family=\"Helvetica,sans-Serif\" font-size=\"9.00\" fill=\"#444443\">5</text>\n",
       "<polygon fill=\"#fefecd\" stroke=\"transparent\" points=\"187.5,-32 187.5,-44 206.5,-44 206.5,-32 187.5,-32\"/>\n",
       "<polyline fill=\"none\" stroke=\"black\" points=\"187.5,-32 206.5,-32 206.5,-44 \"/>\n",
       "<text text-anchor=\"start\" x=\"194\" y=\"-35.8\" font-family=\"Helvetica,sans-Serif\" font-size=\"9.00\" fill=\"#444443\">6</text>\n",
       "<polygon fill=\"#fefecd\" stroke=\"transparent\" points=\"206.5,-32 206.5,-44 225.5,-44 225.5,-32 206.5,-32\"/>\n",
       "<polyline fill=\"none\" stroke=\"black\" points=\"206.5,-32 225.5,-32 225.5,-44 \"/>\n",
       "<text text-anchor=\"start\" x=\"213\" y=\"-35.8\" font-family=\"Helvetica,sans-Serif\" font-size=\"9.00\" fill=\"#444443\">7</text>\n",
       "<polygon fill=\"#fefecd\" stroke=\"transparent\" points=\"225.5,-32 225.5,-44 242.5,-44 242.5,-32 225.5,-32\"/>\n",
       "<polyline fill=\"none\" stroke=\"black\" points=\"225.5,-32 242.5,-32 \"/>\n",
       "<text text-anchor=\"start\" x=\"231\" y=\"-35.8\" font-family=\"Helvetica,sans-Serif\" font-size=\"9.00\" fill=\"#444443\">8</text>\n",
       "<polygon fill=\"#fefecd\" stroke=\"transparent\" points=\"73.5,-14 73.5,-32 92.5,-32 92.5,-14 73.5,-14\"/>\n",
       "<polyline fill=\"none\" stroke=\"black\" points=\"92.5,-14 92.5,-32 \"/>\n",
       "<text text-anchor=\"start\" x=\"76.5\" y=\"-20.2\" font-family=\"Helvetica,sans-Serif\" font-size=\"11.00\" fill=\"#444443\">99</text>\n",
       "<polygon fill=\"#fefecd\" stroke=\"transparent\" points=\"92.5,-14 92.5,-32 111.5,-32 111.5,-14 92.5,-14\"/>\n",
       "<polyline fill=\"none\" stroke=\"black\" points=\"111.5,-14 111.5,-32 \"/>\n",
       "<text text-anchor=\"start\" x=\"95.5\" y=\"-20.2\" font-family=\"Helvetica,sans-Serif\" font-size=\"11.00\" fill=\"#444443\">49</text>\n",
       "<polygon fill=\"#fefecd\" stroke=\"transparent\" points=\"111.5,-14 111.5,-32 130.5,-32 130.5,-14 111.5,-14\"/>\n",
       "<polyline fill=\"none\" stroke=\"black\" points=\"130.5,-14 130.5,-32 \"/>\n",
       "<text text-anchor=\"start\" x=\"114.5\" y=\"-20.2\" font-family=\"Helvetica,sans-Serif\" font-size=\"11.00\" fill=\"#444443\">27</text>\n",
       "<polygon fill=\"#fefecd\" stroke=\"transparent\" points=\"130.5,-14 130.5,-32 149.5,-32 149.5,-14 130.5,-14\"/>\n",
       "<polyline fill=\"none\" stroke=\"black\" points=\"149.5,-14 149.5,-32 \"/>\n",
       "<text text-anchor=\"start\" x=\"133.5\" y=\"-20.2\" font-family=\"Helvetica,sans-Serif\" font-size=\"11.00\" fill=\"#444443\">30</text>\n",
       "<polygon fill=\"#fefecd\" stroke=\"transparent\" points=\"149.5,-14 149.5,-32 168.5,-32 168.5,-14 149.5,-14\"/>\n",
       "<polyline fill=\"none\" stroke=\"black\" points=\"168.5,-14 168.5,-32 \"/>\n",
       "<text text-anchor=\"start\" x=\"152.5\" y=\"-20.2\" font-family=\"Helvetica,sans-Serif\" font-size=\"11.00\" fill=\"#444443\">19</text>\n",
       "<polygon fill=\"#fefecd\" stroke=\"transparent\" points=\"168.5,-14 168.5,-32 187.5,-32 187.5,-14 168.5,-14\"/>\n",
       "<polyline fill=\"none\" stroke=\"black\" points=\"187.5,-14 187.5,-32 \"/>\n",
       "<text text-anchor=\"start\" x=\"171.5\" y=\"-20.2\" font-family=\"Helvetica,sans-Serif\" font-size=\"11.00\" fill=\"#444443\">21</text>\n",
       "<polygon fill=\"#fefecd\" stroke=\"transparent\" points=\"187.5,-14 187.5,-32 206.5,-32 206.5,-14 187.5,-14\"/>\n",
       "<polyline fill=\"none\" stroke=\"black\" points=\"206.5,-14 206.5,-32 \"/>\n",
       "<text text-anchor=\"start\" x=\"190.5\" y=\"-20.2\" font-family=\"Helvetica,sans-Serif\" font-size=\"11.00\" fill=\"#444443\">12</text>\n",
       "<polygon fill=\"#fefecd\" stroke=\"transparent\" points=\"206.5,-14 206.5,-32 225.5,-32 225.5,-14 206.5,-14\"/>\n",
       "<polyline fill=\"none\" stroke=\"black\" points=\"225.5,-14 225.5,-32 \"/>\n",
       "<text text-anchor=\"start\" x=\"209.5\" y=\"-20.2\" font-family=\"Helvetica,sans-Serif\" font-size=\"11.00\" fill=\"#444443\">22</text>\n",
       "<polygon fill=\"#fefecd\" stroke=\"transparent\" points=\"225.5,-14 225.5,-32 242.5,-32 242.5,-14 225.5,-14\"/>\n",
       "<text text-anchor=\"start\" x=\"227.5\" y=\"-20.2\" font-family=\"Helvetica,sans-Serif\" font-size=\"11.00\" fill=\"#444443\">21</text>\n",
       "</g>\n",
       "<!-- node140683428688864&#45;&gt;node140683269867712 -->\n",
       "<g id=\"edge2\" class=\"edge\">\n",
       "<title>node140683428688864:c&#45;&gt;node140683269867712</title>\n",
       "<path fill=\"none\" stroke=\"#444443\" stroke-width=\"0.5\" d=\"M59.31,-49.31C62.72,-48.6 68.55,-47.38 75.71,-45.88\"/>\n",
       "<ellipse fill=\"#444443\" stroke=\"#444443\" stroke-width=\"0.5\" cx=\"57.57\" cy=\"-49.67\" rx=\"1.6\" ry=\"1.6\"/>\n",
       "<polygon fill=\"#444443\" stroke=\"#444443\" stroke-width=\"0.5\" points=\"76.19,-47.21 79.82,-45.02 75.62,-44.47 76.19,-47.21\"/>\n",
       "</g>\n",
       "<!-- node140683430297088&#45;&gt;node140683269867712 -->\n",
       "<g id=\"edge3\" class=\"edge\">\n",
       "<title>node140683430297088:c&#45;&gt;node140683269867712</title>\n",
       "<path fill=\"none\" stroke=\"#444443\" stroke-width=\"0.5\" d=\"M49.29,-9.59C53,-10.27 59.6,-11.46 67.78,-12.94\"/>\n",
       "<ellipse fill=\"#444443\" stroke=\"#444443\" stroke-width=\"0.5\" cx=\"47.57\" cy=\"-9.29\" rx=\"1.6\" ry=\"1.6\"/>\n",
       "<polygon fill=\"#444443\" stroke=\"#444443\" stroke-width=\"0.5\" points=\"67.72,-14.35 71.91,-13.69 68.22,-11.6 67.72,-14.35\"/>\n",
       "</g>\n",
       "</g>\n",
       "</svg>\n"
      ],
      "text/plain": [
       "<graphviz.files.Source at 0x7ff3281519d0>"
      ]
     },
     "metadata": {},
     "output_type": "display_data"
    },
    {
     "name": "stdout",
     "output_type": "stream",
     "text": [
      "[99, 49, 27, 30, 19, 21, 12, 22, 21]\n"
     ]
    }
   ],
   "source": [
    "def badsum(data):\n",
    "    #data = data.copy() # must manually make copy to avoid side-effect\n",
    "    data[0] = 99\n",
    "    display(callsviz(varnames=['Quantity','data','s']))\n",
    "    s = 0\n",
    "    for q in data:\n",
    "        s = s + q\n",
    "    return s\n",
    "\n",
    "Quantity = [6, 49, 27, 30, 19, 21, 12, 22, 21]\n",
    "badsum(Quantity)\n",
    "print(Quantity)"
   ]
  },
  {
   "cell_type": "markdown",
   "metadata": {},
   "source": [
    "When the function returns, the frame for `sum` disappears, leaving only the global frame."
   ]
  },
  {
   "cell_type": "code",
   "execution_count": 30,
   "metadata": {},
   "outputs": [
    {
     "name": "stdout",
     "output_type": "stream",
     "text": [
      "300\n"
     ]
    },
    {
     "data": {
      "image/svg+xml": [
       "<?xml version=\"1.0\" encoding=\"UTF-8\" standalone=\"no\"?>\n",
       "<!DOCTYPE svg PUBLIC \"-//W3C//DTD SVG 1.1//EN\"\n",
       " \"http://www.w3.org/Graphics/SVG/1.1/DTD/svg11.dtd\">\n",
       "<!-- Generated by graphviz version 2.46.0 (20210118.1747)\n",
       " -->\n",
       "<!-- Title: G Pages: 1 -->\n",
       "<svg width=\"251pt\" height=\"49pt\"\n",
       " viewBox=\"0.00 0.00 251.00 49.00\" xmlns=\"http://www.w3.org/2000/svg\" xmlns:xlink=\"http://www.w3.org/1999/xlink\">\n",
       "<g id=\"graph0\" class=\"graph\" transform=\"scale(1 1) rotate(0) translate(4 45)\">\n",
       "<title>G</title>\n",
       "<polygon fill=\"white\" stroke=\"transparent\" points=\"-4,4 -4,-45 247,-45 247,4 -4,4\"/>\n",
       "<!-- node140683159671936 -->\n",
       "<g id=\"node1\" class=\"node\">\n",
       "<title>node140683159671936</title>\n",
       "<polygon fill=\"#d9e6f5\" stroke=\"#444443\" stroke-width=\"0.5\" points=\"64,-41 0,-41 0,-7 64,-7 64,-41\"/>\n",
       "<polygon fill=\"#d9e6f5\" stroke=\"transparent\" points=\"2,-25 2,-39 62,-39 62,-25 2,-25\"/>\n",
       "<polyline fill=\"none\" stroke=\"#444443\" points=\"2,-25 62,-25 \"/>\n",
       "<text text-anchor=\"start\" x=\"16\" y=\"-29.2\" font-family=\"Times,serif\" font-style=\"italic\" font-size=\"11.00\" fill=\"#444443\">globals</text>\n",
       "<polygon fill=\"#d9e6f5\" stroke=\"transparent\" points=\"2,-23 2,-25 62,-25 62,-23 2,-23\"/>\n",
       "<polygon fill=\"#d9e6f5\" stroke=\"transparent\" points=\"2,-9 2,-23 47,-23 47,-9 2,-9\"/>\n",
       "<polyline fill=\"none\" stroke=\"#444443\" points=\"47,-9 47,-23 \"/>\n",
       "<text text-anchor=\"start\" x=\"3\" y=\"-13.2\" font-family=\"Helvetica,sans-Serif\" font-size=\"11.00\" fill=\"#444443\">Quantity </text>\n",
       "<polygon fill=\"#d9e6f5\" stroke=\"transparent\" points=\"47,-9 47,-23 62,-23 62,-9 47,-9\"/>\n",
       "<text text-anchor=\"start\" x=\"48\" y=\"-13.2\" font-family=\"Helvetica,sans-Serif\" font-size=\"11.00\" fill=\"#444443\"> &#160;&#160;&#160;</text>\n",
       "</g>\n",
       "<!-- node140683269867712 -->\n",
       "<g id=\"node2\" class=\"node\">\n",
       "<title>node140683269867712</title>\n",
       "<polygon fill=\"none\" stroke=\"black\" stroke-width=\"0.5\" points=\"243,-32 72,-32 72,0 243,0 243,-32\"/>\n",
       "<polygon fill=\"#fefecd\" stroke=\"transparent\" points=\"73.5,-19 73.5,-31 92.5,-31 92.5,-19 73.5,-19\"/>\n",
       "<polyline fill=\"none\" stroke=\"black\" points=\"73.5,-19 92.5,-19 92.5,-31 \"/>\n",
       "<text text-anchor=\"start\" x=\"80\" y=\"-22.8\" font-family=\"Helvetica,sans-Serif\" font-size=\"9.00\" fill=\"#444443\">0</text>\n",
       "<polygon fill=\"#fefecd\" stroke=\"transparent\" points=\"92.5,-19 92.5,-31 111.5,-31 111.5,-19 92.5,-19\"/>\n",
       "<polyline fill=\"none\" stroke=\"black\" points=\"92.5,-19 111.5,-19 111.5,-31 \"/>\n",
       "<text text-anchor=\"start\" x=\"99\" y=\"-22.8\" font-family=\"Helvetica,sans-Serif\" font-size=\"9.00\" fill=\"#444443\">1</text>\n",
       "<polygon fill=\"#fefecd\" stroke=\"transparent\" points=\"111.5,-19 111.5,-31 130.5,-31 130.5,-19 111.5,-19\"/>\n",
       "<polyline fill=\"none\" stroke=\"black\" points=\"111.5,-19 130.5,-19 130.5,-31 \"/>\n",
       "<text text-anchor=\"start\" x=\"118\" y=\"-22.8\" font-family=\"Helvetica,sans-Serif\" font-size=\"9.00\" fill=\"#444443\">2</text>\n",
       "<polygon fill=\"#fefecd\" stroke=\"transparent\" points=\"130.5,-19 130.5,-31 149.5,-31 149.5,-19 130.5,-19\"/>\n",
       "<polyline fill=\"none\" stroke=\"black\" points=\"130.5,-19 149.5,-19 149.5,-31 \"/>\n",
       "<text text-anchor=\"start\" x=\"137\" y=\"-22.8\" font-family=\"Helvetica,sans-Serif\" font-size=\"9.00\" fill=\"#444443\">3</text>\n",
       "<polygon fill=\"#fefecd\" stroke=\"transparent\" points=\"149.5,-19 149.5,-31 168.5,-31 168.5,-19 149.5,-19\"/>\n",
       "<polyline fill=\"none\" stroke=\"black\" points=\"149.5,-19 168.5,-19 168.5,-31 \"/>\n",
       "<text text-anchor=\"start\" x=\"156\" y=\"-22.8\" font-family=\"Helvetica,sans-Serif\" font-size=\"9.00\" fill=\"#444443\">4</text>\n",
       "<polygon fill=\"#fefecd\" stroke=\"transparent\" points=\"168.5,-19 168.5,-31 187.5,-31 187.5,-19 168.5,-19\"/>\n",
       "<polyline fill=\"none\" stroke=\"black\" points=\"168.5,-19 187.5,-19 187.5,-31 \"/>\n",
       "<text text-anchor=\"start\" x=\"175\" y=\"-22.8\" font-family=\"Helvetica,sans-Serif\" font-size=\"9.00\" fill=\"#444443\">5</text>\n",
       "<polygon fill=\"#fefecd\" stroke=\"transparent\" points=\"187.5,-19 187.5,-31 206.5,-31 206.5,-19 187.5,-19\"/>\n",
       "<polyline fill=\"none\" stroke=\"black\" points=\"187.5,-19 206.5,-19 206.5,-31 \"/>\n",
       "<text text-anchor=\"start\" x=\"194\" y=\"-22.8\" font-family=\"Helvetica,sans-Serif\" font-size=\"9.00\" fill=\"#444443\">6</text>\n",
       "<polygon fill=\"#fefecd\" stroke=\"transparent\" points=\"206.5,-19 206.5,-31 225.5,-31 225.5,-19 206.5,-19\"/>\n",
       "<polyline fill=\"none\" stroke=\"black\" points=\"206.5,-19 225.5,-19 225.5,-31 \"/>\n",
       "<text text-anchor=\"start\" x=\"213\" y=\"-22.8\" font-family=\"Helvetica,sans-Serif\" font-size=\"9.00\" fill=\"#444443\">7</text>\n",
       "<polygon fill=\"#fefecd\" stroke=\"transparent\" points=\"225.5,-19 225.5,-31 242.5,-31 242.5,-19 225.5,-19\"/>\n",
       "<polyline fill=\"none\" stroke=\"black\" points=\"225.5,-19 242.5,-19 \"/>\n",
       "<text text-anchor=\"start\" x=\"231\" y=\"-22.8\" font-family=\"Helvetica,sans-Serif\" font-size=\"9.00\" fill=\"#444443\">8</text>\n",
       "<polygon fill=\"#fefecd\" stroke=\"transparent\" points=\"73.5,-1 73.5,-19 92.5,-19 92.5,-1 73.5,-1\"/>\n",
       "<polyline fill=\"none\" stroke=\"black\" points=\"92.5,-1 92.5,-19 \"/>\n",
       "<text text-anchor=\"start\" x=\"76.5\" y=\"-7.2\" font-family=\"Helvetica,sans-Serif\" font-size=\"11.00\" fill=\"#444443\">99</text>\n",
       "<polygon fill=\"#fefecd\" stroke=\"transparent\" points=\"92.5,-1 92.5,-19 111.5,-19 111.5,-1 92.5,-1\"/>\n",
       "<polyline fill=\"none\" stroke=\"black\" points=\"111.5,-1 111.5,-19 \"/>\n",
       "<text text-anchor=\"start\" x=\"95.5\" y=\"-7.2\" font-family=\"Helvetica,sans-Serif\" font-size=\"11.00\" fill=\"#444443\">49</text>\n",
       "<polygon fill=\"#fefecd\" stroke=\"transparent\" points=\"111.5,-1 111.5,-19 130.5,-19 130.5,-1 111.5,-1\"/>\n",
       "<polyline fill=\"none\" stroke=\"black\" points=\"130.5,-1 130.5,-19 \"/>\n",
       "<text text-anchor=\"start\" x=\"114.5\" y=\"-7.2\" font-family=\"Helvetica,sans-Serif\" font-size=\"11.00\" fill=\"#444443\">27</text>\n",
       "<polygon fill=\"#fefecd\" stroke=\"transparent\" points=\"130.5,-1 130.5,-19 149.5,-19 149.5,-1 130.5,-1\"/>\n",
       "<polyline fill=\"none\" stroke=\"black\" points=\"149.5,-1 149.5,-19 \"/>\n",
       "<text text-anchor=\"start\" x=\"133.5\" y=\"-7.2\" font-family=\"Helvetica,sans-Serif\" font-size=\"11.00\" fill=\"#444443\">30</text>\n",
       "<polygon fill=\"#fefecd\" stroke=\"transparent\" points=\"149.5,-1 149.5,-19 168.5,-19 168.5,-1 149.5,-1\"/>\n",
       "<polyline fill=\"none\" stroke=\"black\" points=\"168.5,-1 168.5,-19 \"/>\n",
       "<text text-anchor=\"start\" x=\"152.5\" y=\"-7.2\" font-family=\"Helvetica,sans-Serif\" font-size=\"11.00\" fill=\"#444443\">19</text>\n",
       "<polygon fill=\"#fefecd\" stroke=\"transparent\" points=\"168.5,-1 168.5,-19 187.5,-19 187.5,-1 168.5,-1\"/>\n",
       "<polyline fill=\"none\" stroke=\"black\" points=\"187.5,-1 187.5,-19 \"/>\n",
       "<text text-anchor=\"start\" x=\"171.5\" y=\"-7.2\" font-family=\"Helvetica,sans-Serif\" font-size=\"11.00\" fill=\"#444443\">21</text>\n",
       "<polygon fill=\"#fefecd\" stroke=\"transparent\" points=\"187.5,-1 187.5,-19 206.5,-19 206.5,-1 187.5,-1\"/>\n",
       "<polyline fill=\"none\" stroke=\"black\" points=\"206.5,-1 206.5,-19 \"/>\n",
       "<text text-anchor=\"start\" x=\"190.5\" y=\"-7.2\" font-family=\"Helvetica,sans-Serif\" font-size=\"11.00\" fill=\"#444443\">12</text>\n",
       "<polygon fill=\"#fefecd\" stroke=\"transparent\" points=\"206.5,-1 206.5,-19 225.5,-19 225.5,-1 206.5,-1\"/>\n",
       "<polyline fill=\"none\" stroke=\"black\" points=\"225.5,-1 225.5,-19 \"/>\n",
       "<text text-anchor=\"start\" x=\"209.5\" y=\"-7.2\" font-family=\"Helvetica,sans-Serif\" font-size=\"11.00\" fill=\"#444443\">22</text>\n",
       "<polygon fill=\"#fefecd\" stroke=\"transparent\" points=\"225.5,-1 225.5,-19 242.5,-19 242.5,-1 225.5,-1\"/>\n",
       "<text text-anchor=\"start\" x=\"227.5\" y=\"-7.2\" font-family=\"Helvetica,sans-Serif\" font-size=\"11.00\" fill=\"#444443\">21</text>\n",
       "</g>\n",
       "<!-- node140683159671936&#45;&gt;node140683269867712 -->\n",
       "<g id=\"edge1\" class=\"edge\">\n",
       "<title>node140683159671936:c&#45;&gt;node140683269867712</title>\n",
       "<path fill=\"none\" stroke=\"#444443\" stroke-width=\"0.5\" d=\"M59.34,-16C61.32,-16 64.1,-16 67.48,-16\"/>\n",
       "<ellipse fill=\"#444443\" stroke=\"#444443\" stroke-width=\"0.5\" cx=\"57.6\" cy=\"-16\" rx=\"1.6\" ry=\"1.6\"/>\n",
       "<polygon fill=\"#444443\" stroke=\"#444443\" stroke-width=\"0.5\" points=\"67.7,-17.4 71.7,-16 67.7,-14.6 67.7,-17.4\"/>\n",
       "</g>\n",
       "</g>\n",
       "</svg>\n"
      ],
      "text/plain": [
       "<graphviz.files.Source at 0x7ff3604ff2b0>"
      ]
     },
     "execution_count": 30,
     "metadata": {},
     "output_type": "execute_result"
    }
   ],
   "source": [
    "def sum(data):\n",
    "    s = 0\n",
    "    for q in data:\n",
    "        s = s + q\n",
    "    return s\n",
    "\n",
    "print(sum(Quantity))\n",
    "callsviz(varnames=['Quantity','data','s'])"
   ]
  },
  {
   "cell_type": "code",
   "execution_count": 31,
   "metadata": {},
   "outputs": [],
   "source": [
    "reset -f"
   ]
  },
  {
   "cell_type": "code",
   "execution_count": 37,
   "metadata": {},
   "outputs": [],
   "source": [
    "from IPython.display import HTML, display\n",
    "from IPython.core.magic import register_line_cell_magic\n",
    "import urllib\n",
    "\n",
    "# Cool embedding thing from https://jupyter.brynmawr.edu/services/public/dblank/jupyter.cs/Examples/Online%20Python%20Tutor.ipynb\n",
    "@register_line_cell_magic\n",
    "def tutor(line, cell):\n",
    "    code = urllib.parse.urlencode({\"code\": cell})\n",
    "    display(HTML(\"\"\"\n",
    "    <iframe width=\"800\" height=\"500\" frameborder=\"0\"\n",
    "            src=\"http://pythontutor.com/iframe-embed.html#%s&py=2\">\n",
    "    </iframe>\n",
    "    \"\"\" % code))"
   ]
  },
  {
   "cell_type": "code",
   "execution_count": 40,
   "metadata": {},
   "outputs": [
    {
     "data": {
      "text/html": [
       "\n",
       "    <iframe width=\"800\" height=\"500\" frameborder=\"0\"\n",
       "            src=\"http://pythontutor.com/iframe-embed.html#code=%23from+lolviz+import+%2A%0Adef+f%28x%29%3A%0A++++q+%3D+0%0A++++g%28x%29%0A++++print%28%22back+from+g%22%29%0A%23++++display%28callsviz%28varnames%3D%5B%27x%27%2C%27q%27%2C%27y%27%2C%27z%27%5D%29%29%0A++++%0Adef+g%28y%29%3A%0A++++print%28y%29%0A%23+++++display%28callsviz%28varnames%3D%5B%27x%27%2C%27q%27%2C%27y%27%2C%27z%27%5D%29%29%0A%0Az+%3D+99%0Af%2833%29%0Aprint%28%22back+from+f%22%29%0A%23display%28callsviz%28varnames%3D%5B%27x%27%2C%27q%27%2C%27y%27%2C%27z%27%5D%29%29%0A&py=2\">\n",
       "    </iframe>\n",
       "    "
      ],
      "text/plain": [
       "<IPython.core.display.HTML object>"
      ]
     },
     "metadata": {},
     "output_type": "display_data"
    }
   ],
   "source": [
    "%%tutor\n",
    "#from lolviz import *\n",
    "def f(x):\n",
    "    q = 0\n",
    "    g(x)\n",
    "    print(\"back from g\")\n",
    "#    display(callsviz(varnames=['x','q','y','z']))\n",
    "    \n",
    "def g(y):\n",
    "    print(y)\n",
    "#     display(callsviz(varnames=['x','q','y','z']))\n",
    "\n",
    "z = 99\n",
    "f(33)\n",
    "print(\"back from f\")\n",
    "#display(callsviz(varnames=['x','q','y','z']))"
   ]
  },
  {
   "cell_type": "markdown",
   "metadata": {},
   "source": [
    "### Visibility rules\n",
    "\n",
    "Now that you have the idea of context in mind, let's establish some rules for the visibility of variables according to context:\n",
    "\n",
    "* Main programs cannot see variables and arguments inside functions; just because a main program can call a function, doesn't mean it can see the inner workings. Think of functions as black boxes that take parameters and return values.\n",
    "* Functions can technically see global variables but don't do this as a general rule.  Pass the global variables that you need to each function as arguments.\n",
    "\n",
    "The latter rule is a good one because violating it generally means you're doing something \"wrong\". For example, if we tweak the `sum` accumulator function to refer directly to the global variable `Quantity`, we get:\n",
    "\n",
    "```python\n",
    "Quantity = [6, 49, 27, 30, 19, 21, 12, 22, 21]\n",
    "def sum(data):         # parameter not used!\n",
    "    s = 0\n",
    "    for q in Quantity: # uh oh!\n",
    "        s = s + q\n",
    "    return s\n",
    "```\n",
    "\n",
    "The problem is that, now, `sum` only works on that global data. It's not generically useful. The clue is that the function ignores the `data` argument. So, technically the function can see global data, but it's not a good idea. (Violating this rule to alter a global variable is also a good way to get a subtle bug that's difficult to find.)"
   ]
  },
  {
   "cell_type": "markdown",
   "metadata": {},
   "source": [
    "### Technically we need to see global symbols (functions)"
   ]
  },
  {
   "cell_type": "code",
   "execution_count": 33,
   "metadata": {},
   "outputs": [
    {
     "name": "stdout",
     "output_type": "stream",
     "text": [
      "hi mom!\n"
     ]
    }
   ],
   "source": [
    "def f():\n",
    "    g()\n",
    "    \n",
    "def g():\n",
    "    print(\"hi mom!\")\n",
    "    \n",
    "f()"
   ]
  },
  {
   "cell_type": "markdown",
   "metadata": {},
   "source": [
    "## Return values versus printing\n",
    "\n",
    "Just to pound this concept into your heads...\n",
    "\n",
    "One of the big confusion points for students is the difference between return values and printing results. We'll look at this again when we translate plans to Python code, but it's important to understand this difference right away. \n",
    "\n",
    "Programs in the analytics world typically read data from a file and emit output or write data to another file. In other words, programs interact with the world outside of the program.  The world outside of the program is usually the network, the disk, or the screen.  In contrast, most functions that we write won't interact with the outside world.  \n",
    "\n",
    "<img src=\"images/redbang.png\" width=\"30\" align=\"left\">Functions compute and return (give values back) to their caller. They don't print anything to the user unless explicitly asked to do so with a `print` statement.  "
   ]
  },
  {
   "cell_type": "code",
   "execution_count": 34,
   "metadata": {},
   "outputs": [
    {
     "name": "stdout",
     "output_type": "stream",
     "text": [
      "3.14159\n",
      "None\n"
     ]
    }
   ],
   "source": [
    "def pi():\n",
    "    print(3.14159) # This is not a return statement!\n",
    "    \n",
    "print(pi())"
   ]
  }
 ],
 "metadata": {
  "anaconda-cloud": {},
  "kernelspec": {
   "display_name": "Python 3",
   "language": "python",
   "name": "python3"
  },
  "language_info": {
   "codemirror_mode": {
    "name": "ipython",
    "version": 3
   },
   "file_extension": ".py",
   "mimetype": "text/x-python",
   "name": "python",
   "nbconvert_exporter": "python",
   "pygments_lexer": "ipython3",
   "version": "3.8.8"
  },
  "toc": {
   "nav_menu": {
    "height": "208px",
    "width": "252px"
   },
   "number_sections": true,
   "sideBar": true,
   "skip_h1_title": false,
   "toc_cell": false,
   "toc_position": {},
   "toc_section_display": "block",
   "toc_window_display": false
  }
 },
 "nbformat": 4,
 "nbformat_minor": 4
}
