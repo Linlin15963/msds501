{
 "cells": [
  {
   "cell_type": "code",
   "execution_count": 1,
   "id": "f7bf5ef7-9733-43c0-af9b-fdce56c1fa5c",
   "metadata": {},
   "outputs": [
    {
     "data": {
      "text/plain": [
       "' abigail advice antic antismoking'"
      ]
     },
     "execution_count": 1,
     "metadata": {},
     "output_type": "execute_result"
    }
   ],
   "source": [
    "words = ['abigail','advice','antic','antismoking']\n",
    "text = \"\"\n",
    "for w in words:\n",
    "    text = text + \" \" + w\n",
    "text"
   ]
  },
  {
   "cell_type": "code",
   "execution_count": 23,
   "id": "7709fc08-fcf9-4309-be13-45851ea85f44",
   "metadata": {},
   "outputs": [
    {
     "data": {
      "text/plain": [
       "['ABIGAIL', 'ADVICE', 'ANTIC', 'ANTISMOKING']"
      ]
     },
     "execution_count": 23,
     "metadata": {},
     "output_type": "execute_result"
    }
   ],
   "source": [
    "[w.upper() for w in words]"
   ]
  },
  {
   "cell_type": "code",
   "execution_count": 21,
   "id": "04644c71-607a-4dfe-9a07-019260ad4780",
   "metadata": {},
   "outputs": [],
   "source": [
    "import numpy as np\n",
    "#scores = np.random.randint(5, 100, size=10)"
   ]
  },
  {
   "cell_type": "code",
   "execution_count": 33,
   "id": "a56caf0a-224e-4f21-bc40-16575d751183",
   "metadata": {},
   "outputs": [],
   "source": [
    "scores = [87, 47, 39, 36, 6, 57, 82, 45, 90, 89]\n",
    "p = -1\n",
    "for i in range(len(scores)):\n",
    "    if scores[i]==36:\n",
    "        p = i"
   ]
  },
  {
   "cell_type": "code",
   "execution_count": 38,
   "id": "9744a7ac-15e6-40dd-a40c-369e4f9eb9e2",
   "metadata": {},
   "outputs": [],
   "source": [
    "names = ['Olivia', 'Emma', 'Ava', 'Charlotte', 'Sophia', 'Amelia',\n",
    "         'Isabella', 'Mia', 'Evelyn', 'Harper']\n",
    "scores = [87, 47, 39, 36, 6, 57, 82, 45, 90, 89]\n",
    "v = 0\n",
    "results = []\n",
    "for n,s in zip(names,scores):\n",
    "    v += s\n",
    "    results.append(f\"{n}: {s}\")"
   ]
  },
  {
   "cell_type": "code",
   "execution_count": 40,
   "id": "13043aa0-c8c3-4595-adf3-3dc01a4a4e61",
   "metadata": {},
   "outputs": [
    {
     "data": {
      "text/plain": [
       "['Olivia: 87',\n",
       " 'Emma: 47',\n",
       " 'Ava: 39',\n",
       " 'Charlotte: 36',\n",
       " 'Sophia: 6',\n",
       " 'Amelia: 57',\n",
       " 'Isabella: 82',\n",
       " 'Mia: 45',\n",
       " 'Evelyn: 90',\n",
       " 'Harper: 89']"
      ]
     },
     "execution_count": 40,
     "metadata": {},
     "output_type": "execute_result"
    }
   ],
   "source": [
    "results"
   ]
  },
  {
   "cell_type": "code",
   "execution_count": 30,
   "id": "a654d925-3339-4610-a63a-31c5a12b4296",
   "metadata": {},
   "outputs": [],
   "source": [
    "# import pandas as pd\n",
    "# df = pd.read_csv(\"../data/baby-names.csv\")\n",
    "# rank = df['rank'].values\n",
    "# male = df['male'].values\n",
    "# female = df['female'].values\n",
    "names =   [[1, 'Liam', 'Olivia'],\n",
    "           [2, 'Noah', 'Emma'],\n",
    "           [3, 'Oliver', 'Ava'],\n",
    "           [4, 'Elijah', 'Charlotte'],\n",
    "           [5, 'William', 'Sophia'],\n",
    "           [6, 'James', 'Amelia'],\n",
    "           [7, 'Benjamin', 'Isabella'],\n",
    "           [8, 'Lucas', 'Mia'],\n",
    "           [9, 'Henry', 'Evelyn'],\n",
    "           [10, 'Alexander', 'Harper']]"
   ]
  },
  {
   "cell_type": "code",
   "execution_count": 31,
   "id": "cc590118-a612-4206-91ea-d09123cfc133",
   "metadata": {},
   "outputs": [],
   "source": [
    "rank = [ 1,  2,  3,  4,  5,  6,  7,  8,  9, 10]\n",
    "male = ['Liam', 'Noah', 'Oliver', 'Elijah', 'William', 'James', 'Benjamin',\n",
    "        'Lucas', 'Henry', 'Alexander']\n",
    "female = ['Olivia', 'Emma', 'Ava', 'Charlotte', 'Sophia', 'Amelia',\n",
    "        'Isabella', 'Mia', 'Evelyn', 'Harper']\n",
    "\n",
    "for "
   ]
  },
  {
   "cell_type": "code",
   "execution_count": 32,
   "id": "0ceb88e3-282e-4888-ac17-e3cee56a62e6",
   "metadata": {},
   "outputs": [
    {
     "data": {
      "text/plain": [
       "1163"
      ]
     },
     "execution_count": 32,
     "metadata": {},
     "output_type": "execute_result"
    }
   ],
   "source": [
    "A=[[48, 53, 65, 67, 26],\n",
    "   [ 4, 74, 12, 56, 97],\n",
    "   [67, 50, 80, 45,  0],\n",
    "   [60, 28, 80, 28, 61],\n",
    "   [21,  1, 37, 58, 45]]\n",
    "\n",
    "s = 0\n",
    "n = 5\n",
    "for i in range(n):\n",
    "    for j in range(n):\n",
    "        s += A[i][j]\n",
    "s"
   ]
  },
  {
   "cell_type": "code",
   "execution_count": 16,
   "id": "c322f84c-e71b-468f-93c8-2e9996168241",
   "metadata": {},
   "outputs": [
    {
     "data": {
      "text/plain": [
       "275"
      ]
     },
     "execution_count": 16,
     "metadata": {},
     "output_type": "execute_result"
    }
   ],
   "source": [
    "s = 0\n",
    "n = 5\n",
    "for i in range(n):\n",
    "    for j in range(n):\n",
    "        if i == j:\n",
    "            s += matrix[i][j]\n",
    "s"
   ]
  },
  {
   "cell_type": "code",
   "execution_count": 12,
   "id": "e8122661-6512-4918-bfc9-0778fc85be15",
   "metadata": {},
   "outputs": [
    {
     "data": {
      "text/plain": [
       "array([[48, 53, 65, 67, 26],\n",
       "       [ 4, 74, 12, 56, 97],\n",
       "       [67, 50, 80, 45,  0],\n",
       "       [60, 28, 80, 28, 61],\n",
       "       [21,  1, 37, 58, 45]])"
      ]
     },
     "execution_count": 12,
     "metadata": {},
     "output_type": "execute_result"
    }
   ],
   "source": [
    "np.array(np.random.randint(0, 100, size=25).reshape(5,5))"
   ]
  }
 ],
 "metadata": {
  "kernelspec": {
   "display_name": "Python 3",
   "language": "python",
   "name": "python3"
  },
  "language_info": {
   "codemirror_mode": {
    "name": "ipython",
    "version": 3
   },
   "file_extension": ".py",
   "mimetype": "text/x-python",
   "name": "python",
   "nbconvert_exporter": "python",
   "pygments_lexer": "ipython3",
   "version": "3.8.8"
  }
 },
 "nbformat": 4,
 "nbformat_minor": 5
}
