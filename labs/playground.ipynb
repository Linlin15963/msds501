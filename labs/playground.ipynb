{
 "cells": [
  {
   "cell_type": "code",
   "execution_count": 1,
   "metadata": {},
   "outputs": [
    {
     "data": {
      "text/plain": [
       "' abigail advice antic antismoking'"
      ]
     },
     "execution_count": 1,
     "metadata": {},
     "output_type": "execute_result"
    }
   ],
   "source": [
    "words = ['abigail','advice','antic','antismoking']\n",
    "text = \"\"\n",
    "for w in words:\n",
    "    text = text + \" \" + w\n",
    "text"
   ]
  },
  {
   "cell_type": "code",
   "execution_count": 23,
   "metadata": {},
   "outputs": [
    {
     "data": {
      "text/plain": [
       "['ABIGAIL', 'ADVICE', 'ANTIC', 'ANTISMOKING']"
      ]
     },
     "execution_count": 23,
     "metadata": {},
     "output_type": "execute_result"
    }
   ],
   "source": [
    "[w.upper() for w in words]"
   ]
  },
  {
   "cell_type": "code",
   "execution_count": 21,
   "metadata": {},
   "outputs": [],
   "source": [
    "import numpy as np\n",
    "#scores = np.random.randint(5, 100, size=10)"
   ]
  },
  {
   "cell_type": "code",
   "execution_count": 33,
   "metadata": {},
   "outputs": [],
   "source": [
    "scores = [87, 47, 39, 36, 6, 57, 82, 45, 90, 89]\n",
    "p = -1\n",
    "for i in range(len(scores)):\n",
    "    if scores[i]==36:\n",
    "        p = i"
   ]
  },
  {
   "cell_type": "code",
   "execution_count": 38,
   "metadata": {},
   "outputs": [],
   "source": [
    "names = ['Olivia', 'Emma', 'Ava', 'Charlotte', 'Sophia', 'Amelia',\n",
    "         'Isabella', 'Mia', 'Evelyn', 'Harper']\n",
    "scores = [87, 47, 39, 36, 6, 57, 82, 45, 90, 89]\n",
    "v = 0\n",
    "results = []\n",
    "for n,s in zip(names,scores):\n",
    "    v += s\n",
    "    results.append(f\"{n}: {s}\")"
   ]
  },
  {
   "cell_type": "code",
   "execution_count": 40,
   "metadata": {},
   "outputs": [
    {
     "data": {
      "text/plain": [
       "['Olivia: 87',\n",
       " 'Emma: 47',\n",
       " 'Ava: 39',\n",
       " 'Charlotte: 36',\n",
       " 'Sophia: 6',\n",
       " 'Amelia: 57',\n",
       " 'Isabella: 82',\n",
       " 'Mia: 45',\n",
       " 'Evelyn: 90',\n",
       " 'Harper: 89']"
      ]
     },
     "execution_count": 40,
     "metadata": {},
     "output_type": "execute_result"
    }
   ],
   "source": [
    "results"
   ]
  },
  {
   "cell_type": "code",
   "execution_count": 30,
   "metadata": {},
   "outputs": [],
   "source": [
    "# import pandas as pd\n",
    "# df = pd.read_csv(\"../data/baby-names.csv\")\n",
    "# rank = df['rank'].values\n",
    "# male = df['male'].values\n",
    "# female = df['female'].values\n",
    "names =   [[1, 'Liam', 'Olivia'],\n",
    "           [2, 'Noah', 'Emma'],\n",
    "           [3, 'Oliver', 'Ava'],\n",
    "           [4, 'Elijah', 'Charlotte'],\n",
    "           [5, 'William', 'Sophia'],\n",
    "           [6, 'James', 'Amelia'],\n",
    "           [7, 'Benjamin', 'Isabella'],\n",
    "           [8, 'Lucas', 'Mia'],\n",
    "           [9, 'Henry', 'Evelyn'],\n",
    "           [10, 'Alexander', 'Harper']]"
   ]
  },
  {
   "cell_type": "code",
   "execution_count": 31,
   "metadata": {},
   "outputs": [],
   "source": [
    "rank = [ 1,  2,  3,  4,  5,  6,  7,  8,  9, 10]\n",
    "male = ['Liam', 'Noah', 'Oliver', 'Elijah', 'William', 'James', 'Benjamin',\n",
    "        'Lucas', 'Henry', 'Alexander']\n",
    "female = ['Olivia', 'Emma', 'Ava', 'Charlotte', 'Sophia', 'Amelia',\n",
    "        'Isabella', 'Mia', 'Evelyn', 'Harper']\n",
    "\n",
    "for "
   ]
  },
  {
   "cell_type": "code",
   "execution_count": 32,
   "metadata": {},
   "outputs": [
    {
     "data": {
      "text/plain": [
       "1163"
      ]
     },
     "execution_count": 32,
     "metadata": {},
     "output_type": "execute_result"
    }
   ],
   "source": [
    "A=[[48, 53, 65, 67, 26],\n",
    "   [ 4, 74, 12, 56, 97],\n",
    "   [67, 50, 80, 45,  0],\n",
    "   [60, 28, 80, 28, 61],\n",
    "   [21,  1, 37, 58, 45]]\n",
    "\n",
    "s = 0\n",
    "n = 5\n",
    "for i in range(n):\n",
    "    for j in range(n):\n",
    "        s += A[i][j]\n",
    "s"
   ]
  },
  {
   "cell_type": "code",
   "execution_count": 16,
   "metadata": {},
   "outputs": [
    {
     "data": {
      "text/plain": [
       "275"
      ]
     },
     "execution_count": 16,
     "metadata": {},
     "output_type": "execute_result"
    }
   ],
   "source": [
    "s = 0\n",
    "n = 5\n",
    "for i in range(n):\n",
    "    for j in range(n):\n",
    "        if i == j:\n",
    "            s += matrix[i][j]\n",
    "s"
   ]
  },
  {
   "cell_type": "code",
   "execution_count": 12,
   "metadata": {},
   "outputs": [
    {
     "data": {
      "text/plain": [
       "array([[48, 53, 65, 67, 26],\n",
       "       [ 4, 74, 12, 56, 97],\n",
       "       [67, 50, 80, 45,  0],\n",
       "       [60, 28, 80, 28, 61],\n",
       "       [21,  1, 37, 58, 45]])"
      ]
     },
     "execution_count": 12,
     "metadata": {},
     "output_type": "execute_result"
    }
   ],
   "source": [
    "np.array(np.random.randint(0, 100, size=25).reshape(5,5))"
   ]
  },
  {
   "cell_type": "code",
   "execution_count": 2,
   "metadata": {},
   "outputs": [],
   "source": [
    "a = \"501\"\n",
    "b = 501"
   ]
  },
  {
   "cell_type": "code",
   "execution_count": 8,
   "metadata": {},
   "outputs": [],
   "source": [
    "x = 7\n",
    "y = 7"
   ]
  },
  {
   "cell_type": "code",
   "execution_count": 9,
   "metadata": {},
   "outputs": [
    {
     "data": {
      "text/plain": [
       "(4557706848, 4557706848)"
      ]
     },
     "execution_count": 9,
     "metadata": {},
     "output_type": "execute_result"
    }
   ],
   "source": [
    "id(x), id(y)"
   ]
  },
  {
   "cell_type": "code",
   "execution_count": 14,
   "metadata": {},
   "outputs": [
    {
     "data": {
      "text/plain": [
       "(140661518885080, 140661518885080)"
      ]
     },
     "execution_count": 14,
     "metadata": {},
     "output_type": "execute_result"
    }
   ],
   "source": [
    "b = a\n",
    "id(a), id(b)"
   ]
  },
  {
   "cell_type": "code",
   "execution_count": 15,
   "metadata": {},
   "outputs": [],
   "source": [
    "from lolviz import *"
   ]
  },
  {
   "cell_type": "code",
   "execution_count": 26,
   "metadata": {},
   "outputs": [
    {
     "data": {
      "image/svg+xml": [
       "<?xml version=\"1.0\" encoding=\"UTF-8\" standalone=\"no\"?>\n",
       "<!DOCTYPE svg PUBLIC \"-//W3C//DTD SVG 1.1//EN\"\n",
       " \"http://www.w3.org/Graphics/SVG/1.1/DTD/svg11.dtd\">\n",
       "<!-- Generated by graphviz version 2.47.3 (20210619.1520)\n",
       " -->\n",
       "<!-- Title: G Pages: 1 -->\n",
       "<svg width=\"94pt\" height=\"79pt\"\n",
       " viewBox=\"0.00 0.00 94.00 79.00\" xmlns=\"http://www.w3.org/2000/svg\" xmlns:xlink=\"http://www.w3.org/1999/xlink\">\n",
       "<g id=\"graph0\" class=\"graph\" transform=\"scale(1 1) rotate(0) translate(4 75)\">\n",
       "<title>G</title>\n",
       "<polygon fill=\"white\" stroke=\"transparent\" points=\"-4,4 -4,-75 90,-75 90,4 -4,4\"/>\n",
       "<!-- node140661451965912 -->\n",
       "<g id=\"node1\" class=\"node\">\n",
       "<title>node140661451965912</title>\n",
       "<polygon fill=\"#d9e6f5\" stroke=\"#444443\" stroke-width=\"0.5\" points=\"39,-68 0,-68 0,-18 39,-18 39,-68\"/>\n",
       "<polygon fill=\"#d9e6f5\" stroke=\"transparent\" points=\"2.5,-52 2.5,-66 37.5,-66 37.5,-52 2.5,-52\"/>\n",
       "<polyline fill=\"none\" stroke=\"#444443\" points=\"2.5,-52 37.5,-52 \"/>\n",
       "<text text-anchor=\"start\" x=\"3.5\" y=\"-56.2\" font-family=\"Times,serif\" font-style=\"italic\" font-size=\"11.00\" fill=\"#444443\">globals</text>\n",
       "<polygon fill=\"#d9e6f5\" stroke=\"transparent\" points=\"2.5,-50 2.5,-52 37.5,-52 37.5,-50 2.5,-50\"/>\n",
       "<polygon fill=\"#d9e6f5\" stroke=\"transparent\" points=\"2.5,-36 2.5,-50 18.5,-50 18.5,-36 2.5,-36\"/>\n",
       "<polyline fill=\"none\" stroke=\"#444443\" points=\"18.5,-36 18.5,-50 \"/>\n",
       "<text text-anchor=\"start\" x=\"7.5\" y=\"-40.2\" font-family=\"Helvetica,sans-Serif\" font-size=\"11.00\" fill=\"#444443\">a </text>\n",
       "<polygon fill=\"#d9e6f5\" stroke=\"transparent\" points=\"20.5,-36 20.5,-50 37.5,-50 37.5,-36 20.5,-36\"/>\n",
       "<text text-anchor=\"start\" x=\"21.5\" y=\"-40.2\" font-family=\"Helvetica,sans-Serif\" font-size=\"11.00\" fill=\"#444443\"> &#160;&#160;&#160;</text>\n",
       "<polygon fill=\"#d9e6f5\" stroke=\"transparent\" points=\"2.5,-34 2.5,-36 37.5,-36 37.5,-34 2.5,-34\"/>\n",
       "<polygon fill=\"#d9e6f5\" stroke=\"transparent\" points=\"2.5,-20 2.5,-34 18.5,-34 18.5,-20 2.5,-20\"/>\n",
       "<polyline fill=\"none\" stroke=\"#444443\" points=\"18.5,-20 18.5,-34 \"/>\n",
       "<text text-anchor=\"start\" x=\"7.5\" y=\"-24.2\" font-family=\"Helvetica,sans-Serif\" font-size=\"11.00\" fill=\"#444443\">b </text>\n",
       "<polygon fill=\"#d9e6f5\" stroke=\"transparent\" points=\"20.5,-20 20.5,-34 37.5,-34 37.5,-20 20.5,-20\"/>\n",
       "<text text-anchor=\"start\" x=\"21.5\" y=\"-24.2\" font-family=\"Helvetica,sans-Serif\" font-size=\"11.00\" fill=\"#444443\"> &#160;&#160;&#160;</text>\n",
       "</g>\n",
       "<!-- node140661518699016 -->\n",
       "<g id=\"node2\" class=\"node\">\n",
       "<title>node140661518699016</title>\n",
       "<polygon fill=\"none\" stroke=\"black\" stroke-width=\"0.5\" points=\"86,-71 47,-71 47,-39 86,-39 86,-71\"/>\n",
       "<polygon fill=\"#fefecd\" stroke=\"transparent\" points=\"48.5,-58 48.5,-70 61.5,-70 61.5,-58 48.5,-58\"/>\n",
       "<polyline fill=\"none\" stroke=\"black\" points=\"48.5,-58 61.5,-58 61.5,-70 \"/>\n",
       "<text text-anchor=\"start\" x=\"52\" y=\"-61.8\" font-family=\"Helvetica,sans-Serif\" font-size=\"9.00\" fill=\"#444443\">0</text>\n",
       "<polygon fill=\"#fefecd\" stroke=\"transparent\" points=\"61.5,-58 61.5,-70 74.5,-70 74.5,-58 61.5,-58\"/>\n",
       "<polyline fill=\"none\" stroke=\"black\" points=\"61.5,-58 74.5,-58 74.5,-70 \"/>\n",
       "<text text-anchor=\"start\" x=\"65\" y=\"-61.8\" font-family=\"Helvetica,sans-Serif\" font-size=\"9.00\" fill=\"#444443\">1</text>\n",
       "<polygon fill=\"#fefecd\" stroke=\"transparent\" points=\"74.5,-58 74.5,-70 85.5,-70 85.5,-58 74.5,-58\"/>\n",
       "<polyline fill=\"none\" stroke=\"black\" points=\"74.5,-58 85.5,-58 \"/>\n",
       "<text text-anchor=\"start\" x=\"77\" y=\"-61.8\" font-family=\"Helvetica,sans-Serif\" font-size=\"9.00\" fill=\"#444443\">2</text>\n",
       "<polygon fill=\"#fefecd\" stroke=\"transparent\" points=\"48.5,-40 48.5,-58 61.5,-58 61.5,-40 48.5,-40\"/>\n",
       "<polyline fill=\"none\" stroke=\"black\" points=\"61.5,-40 61.5,-58 \"/>\n",
       "<text text-anchor=\"start\" x=\"51.5\" y=\"-46.2\" font-family=\"Helvetica,sans-Serif\" font-size=\"11.00\" fill=\"#444443\">1</text>\n",
       "<polygon fill=\"#fefecd\" stroke=\"transparent\" points=\"61.5,-40 61.5,-58 74.5,-58 74.5,-40 61.5,-40\"/>\n",
       "<polyline fill=\"none\" stroke=\"black\" points=\"74.5,-40 74.5,-58 \"/>\n",
       "<text text-anchor=\"start\" x=\"64.5\" y=\"-46.2\" font-family=\"Helvetica,sans-Serif\" font-size=\"11.00\" fill=\"#444443\">3</text>\n",
       "<polygon fill=\"#fefecd\" stroke=\"transparent\" points=\"74.5,-40 74.5,-58 85.5,-58 85.5,-40 74.5,-40\"/>\n",
       "<text text-anchor=\"start\" x=\"76.5\" y=\"-46.2\" font-family=\"Helvetica,sans-Serif\" font-size=\"11.00\" fill=\"#444443\">5</text>\n",
       "</g>\n",
       "<!-- node140661451965912&#45;&gt;node140661518699016 -->\n",
       "<g id=\"edge1\" class=\"edge\">\n",
       "<title>node140661451965912:c&#45;&gt;node140661518699016</title>\n",
       "<path fill=\"none\" stroke=\"#444443\" stroke-width=\"0.5\" d=\"M33.69,-44.09C35.9,-44.85 39.07,-45.94 42.56,-47.14\"/>\n",
       "<ellipse fill=\"#444443\" stroke=\"#444443\" stroke-width=\"0.5\" cx=\"32.01\" cy=\"-43.52\" rx=\"1.6\" ry=\"1.6\"/>\n",
       "<polygon fill=\"#444443\" stroke=\"#444443\" stroke-width=\"0.5\" points=\"42.53,-48.61 46.77,-48.58 43.44,-45.96 42.53,-48.61\"/>\n",
       "</g>\n",
       "<!-- node140661521505352 -->\n",
       "<g id=\"node3\" class=\"node\">\n",
       "<title>node140661521505352</title>\n",
       "<polygon fill=\"none\" stroke=\"black\" stroke-width=\"0.5\" points=\"86,-32 47,-32 47,0 86,0 86,-32\"/>\n",
       "<polygon fill=\"#fefecd\" stroke=\"transparent\" points=\"48.5,-19 48.5,-31 61.5,-31 61.5,-19 48.5,-19\"/>\n",
       "<polyline fill=\"none\" stroke=\"black\" points=\"48.5,-19 61.5,-19 61.5,-31 \"/>\n",
       "<text text-anchor=\"start\" x=\"52\" y=\"-22.8\" font-family=\"Helvetica,sans-Serif\" font-size=\"9.00\" fill=\"#444443\">0</text>\n",
       "<polygon fill=\"#fefecd\" stroke=\"transparent\" points=\"61.5,-19 61.5,-31 74.5,-31 74.5,-19 61.5,-19\"/>\n",
       "<polyline fill=\"none\" stroke=\"black\" points=\"61.5,-19 74.5,-19 74.5,-31 \"/>\n",
       "<text text-anchor=\"start\" x=\"65\" y=\"-22.8\" font-family=\"Helvetica,sans-Serif\" font-size=\"9.00\" fill=\"#444443\">1</text>\n",
       "<polygon fill=\"#fefecd\" stroke=\"transparent\" points=\"74.5,-19 74.5,-31 85.5,-31 85.5,-19 74.5,-19\"/>\n",
       "<polyline fill=\"none\" stroke=\"black\" points=\"74.5,-19 85.5,-19 \"/>\n",
       "<text text-anchor=\"start\" x=\"77\" y=\"-22.8\" font-family=\"Helvetica,sans-Serif\" font-size=\"9.00\" fill=\"#444443\">2</text>\n",
       "<polygon fill=\"#fefecd\" stroke=\"transparent\" points=\"48.5,-1 48.5,-19 61.5,-19 61.5,-1 48.5,-1\"/>\n",
       "<polyline fill=\"none\" stroke=\"black\" points=\"61.5,-1 61.5,-19 \"/>\n",
       "<text text-anchor=\"start\" x=\"51.5\" y=\"-7.2\" font-family=\"Helvetica,sans-Serif\" font-size=\"11.00\" fill=\"#444443\">1</text>\n",
       "<polygon fill=\"#fefecd\" stroke=\"transparent\" points=\"61.5,-1 61.5,-19 74.5,-19 74.5,-1 61.5,-1\"/>\n",
       "<polyline fill=\"none\" stroke=\"black\" points=\"74.5,-1 74.5,-19 \"/>\n",
       "<text text-anchor=\"start\" x=\"64.5\" y=\"-7.2\" font-family=\"Helvetica,sans-Serif\" font-size=\"11.00\" fill=\"#444443\">3</text>\n",
       "<polygon fill=\"#fefecd\" stroke=\"transparent\" points=\"74.5,-1 74.5,-19 85.5,-19 85.5,-1 74.5,-1\"/>\n",
       "<text text-anchor=\"start\" x=\"76.5\" y=\"-7.2\" font-family=\"Helvetica,sans-Serif\" font-size=\"11.00\" fill=\"#444443\">5</text>\n",
       "</g>\n",
       "<!-- node140661451965912&#45;&gt;node140661521505352 -->\n",
       "<g id=\"edge2\" class=\"edge\">\n",
       "<title>node140661451965912:c&#45;&gt;node140661521505352</title>\n",
       "<path fill=\"none\" stroke=\"#444443\" stroke-width=\"0.5\" d=\"M33.69,-26C35.9,-25.3 39.07,-24.31 42.56,-23.21\"/>\n",
       "<ellipse fill=\"#444443\" stroke=\"#444443\" stroke-width=\"0.5\" cx=\"32.03\" cy=\"-26.52\" rx=\"1.6\" ry=\"1.6\"/>\n",
       "<polygon fill=\"#444443\" stroke=\"#444443\" stroke-width=\"0.5\" points=\"43.37,-24.42 46.77,-21.89 42.53,-21.75 43.37,-24.42\"/>\n",
       "</g>\n",
       "</g>\n",
       "</svg>\n"
      ],
      "text/plain": [
       "<graphviz.files.Source at 0x7fee4ffa71d0>"
      ]
     },
     "execution_count": 26,
     "metadata": {},
     "output_type": "execute_result"
    }
   ],
   "source": [
    "a = [1,3,5]\n",
    "b = [1,3,5]\n",
    "callsviz(varnames=['a','b'])"
   ]
  },
  {
   "cell_type": "code",
   "execution_count": 27,
   "metadata": {},
   "outputs": [
    {
     "data": {
      "image/svg+xml": [
       "<?xml version=\"1.0\" encoding=\"UTF-8\" standalone=\"no\"?>\n",
       "<!DOCTYPE svg PUBLIC \"-//W3C//DTD SVG 1.1//EN\"\n",
       " \"http://www.w3.org/Graphics/SVG/1.1/DTD/svg11.dtd\">\n",
       "<!-- Generated by graphviz version 2.47.3 (20210619.1520)\n",
       " -->\n",
       "<!-- Title: G Pages: 1 -->\n",
       "<svg width=\"94pt\" height=\"58pt\"\n",
       " viewBox=\"0.00 0.00 94.00 58.00\" xmlns=\"http://www.w3.org/2000/svg\" xmlns:xlink=\"http://www.w3.org/1999/xlink\">\n",
       "<g id=\"graph0\" class=\"graph\" transform=\"scale(1 1) rotate(0) translate(4 54)\">\n",
       "<title>G</title>\n",
       "<polygon fill=\"white\" stroke=\"transparent\" points=\"-4,4 -4,-54 90,-54 90,4 -4,4\"/>\n",
       "<!-- node140661446009688 -->\n",
       "<g id=\"node1\" class=\"node\">\n",
       "<title>node140661446009688</title>\n",
       "<polygon fill=\"#d9e6f5\" stroke=\"#444443\" stroke-width=\"0.5\" points=\"39,-50 0,-50 0,0 39,0 39,-50\"/>\n",
       "<polygon fill=\"#d9e6f5\" stroke=\"transparent\" points=\"2.5,-34 2.5,-48 37.5,-48 37.5,-34 2.5,-34\"/>\n",
       "<polyline fill=\"none\" stroke=\"#444443\" points=\"2.5,-34 37.5,-34 \"/>\n",
       "<text text-anchor=\"start\" x=\"3.5\" y=\"-38.2\" font-family=\"Times,serif\" font-style=\"italic\" font-size=\"11.00\" fill=\"#444443\">globals</text>\n",
       "<polygon fill=\"#d9e6f5\" stroke=\"transparent\" points=\"2.5,-32 2.5,-34 37.5,-34 37.5,-32 2.5,-32\"/>\n",
       "<polygon fill=\"#d9e6f5\" stroke=\"transparent\" points=\"2.5,-18 2.5,-32 18.5,-32 18.5,-18 2.5,-18\"/>\n",
       "<polyline fill=\"none\" stroke=\"#444443\" points=\"18.5,-18 18.5,-32 \"/>\n",
       "<text text-anchor=\"start\" x=\"7.5\" y=\"-22.2\" font-family=\"Helvetica,sans-Serif\" font-size=\"11.00\" fill=\"#444443\">a </text>\n",
       "<polygon fill=\"#d9e6f5\" stroke=\"transparent\" points=\"20.5,-18 20.5,-32 37.5,-32 37.5,-18 20.5,-18\"/>\n",
       "<text text-anchor=\"start\" x=\"21.5\" y=\"-22.2\" font-family=\"Helvetica,sans-Serif\" font-size=\"11.00\" fill=\"#444443\"> &#160;&#160;&#160;</text>\n",
       "<polygon fill=\"#d9e6f5\" stroke=\"transparent\" points=\"2.5,-16 2.5,-18 37.5,-18 37.5,-16 2.5,-16\"/>\n",
       "<polygon fill=\"#d9e6f5\" stroke=\"transparent\" points=\"2.5,-2 2.5,-16 18.5,-16 18.5,-2 2.5,-2\"/>\n",
       "<polyline fill=\"none\" stroke=\"#444443\" points=\"18.5,-2 18.5,-16 \"/>\n",
       "<text text-anchor=\"start\" x=\"7.5\" y=\"-6.2\" font-family=\"Helvetica,sans-Serif\" font-size=\"11.00\" fill=\"#444443\">b </text>\n",
       "<polygon fill=\"#d9e6f5\" stroke=\"transparent\" points=\"20.5,-2 20.5,-16 37.5,-16 37.5,-2 20.5,-2\"/>\n",
       "<text text-anchor=\"start\" x=\"21.5\" y=\"-6.2\" font-family=\"Helvetica,sans-Serif\" font-size=\"11.00\" fill=\"#444443\"> &#160;&#160;&#160;</text>\n",
       "</g>\n",
       "<!-- node140661518699016 -->\n",
       "<g id=\"node2\" class=\"node\">\n",
       "<title>node140661518699016</title>\n",
       "<polygon fill=\"none\" stroke=\"black\" stroke-width=\"0.5\" points=\"86,-33 47,-33 47,-1 86,-1 86,-33\"/>\n",
       "<polygon fill=\"#fefecd\" stroke=\"transparent\" points=\"48.5,-20 48.5,-32 61.5,-32 61.5,-20 48.5,-20\"/>\n",
       "<polyline fill=\"none\" stroke=\"black\" points=\"48.5,-20 61.5,-20 61.5,-32 \"/>\n",
       "<text text-anchor=\"start\" x=\"52\" y=\"-23.8\" font-family=\"Helvetica,sans-Serif\" font-size=\"9.00\" fill=\"#444443\">0</text>\n",
       "<polygon fill=\"#fefecd\" stroke=\"transparent\" points=\"61.5,-20 61.5,-32 74.5,-32 74.5,-20 61.5,-20\"/>\n",
       "<polyline fill=\"none\" stroke=\"black\" points=\"61.5,-20 74.5,-20 74.5,-32 \"/>\n",
       "<text text-anchor=\"start\" x=\"65\" y=\"-23.8\" font-family=\"Helvetica,sans-Serif\" font-size=\"9.00\" fill=\"#444443\">1</text>\n",
       "<polygon fill=\"#fefecd\" stroke=\"transparent\" points=\"74.5,-20 74.5,-32 85.5,-32 85.5,-20 74.5,-20\"/>\n",
       "<polyline fill=\"none\" stroke=\"black\" points=\"74.5,-20 85.5,-20 \"/>\n",
       "<text text-anchor=\"start\" x=\"77\" y=\"-23.8\" font-family=\"Helvetica,sans-Serif\" font-size=\"9.00\" fill=\"#444443\">2</text>\n",
       "<polygon fill=\"#fefecd\" stroke=\"transparent\" points=\"48.5,-2 48.5,-20 61.5,-20 61.5,-2 48.5,-2\"/>\n",
       "<polyline fill=\"none\" stroke=\"black\" points=\"61.5,-2 61.5,-20 \"/>\n",
       "<text text-anchor=\"start\" x=\"51.5\" y=\"-8.2\" font-family=\"Helvetica,sans-Serif\" font-size=\"11.00\" fill=\"#444443\">1</text>\n",
       "<polygon fill=\"#fefecd\" stroke=\"transparent\" points=\"61.5,-2 61.5,-20 74.5,-20 74.5,-2 61.5,-2\"/>\n",
       "<polyline fill=\"none\" stroke=\"black\" points=\"74.5,-2 74.5,-20 \"/>\n",
       "<text text-anchor=\"start\" x=\"64.5\" y=\"-8.2\" font-family=\"Helvetica,sans-Serif\" font-size=\"11.00\" fill=\"#444443\">3</text>\n",
       "<polygon fill=\"#fefecd\" stroke=\"transparent\" points=\"74.5,-2 74.5,-20 85.5,-20 85.5,-2 74.5,-2\"/>\n",
       "<text text-anchor=\"start\" x=\"76.5\" y=\"-8.2\" font-family=\"Helvetica,sans-Serif\" font-size=\"11.00\" fill=\"#444443\">5</text>\n",
       "</g>\n",
       "<!-- node140661446009688&#45;&gt;node140661518699016 -->\n",
       "<g id=\"edge1\" class=\"edge\">\n",
       "<title>node140661446009688:c&#45;&gt;node140661518699016</title>\n",
       "<path fill=\"none\" stroke=\"#444443\" stroke-width=\"0.5\" d=\"M33.69,-24.27C35.9,-23.77 39.07,-23.04 42.56,-22.24\"/>\n",
       "<ellipse fill=\"#444443\" stroke=\"#444443\" stroke-width=\"0.5\" cx=\"32.06\" cy=\"-24.64\" rx=\"1.6\" ry=\"1.6\"/>\n",
       "<polygon fill=\"#444443\" stroke=\"#444443\" stroke-width=\"0.5\" points=\"43.18,-23.54 46.77,-21.28 42.56,-20.81 43.18,-23.54\"/>\n",
       "</g>\n",
       "<!-- node140661446009688&#45;&gt;node140661518699016 -->\n",
       "<g id=\"edge2\" class=\"edge\">\n",
       "<title>node140661446009688:c&#45;&gt;node140661518699016</title>\n",
       "<path fill=\"none\" stroke=\"#444443\" stroke-width=\"0.5\" d=\"M33.69,-9.73C35.9,-10.23 39.07,-10.96 42.56,-11.76\"/>\n",
       "<ellipse fill=\"#444443\" stroke=\"#444443\" stroke-width=\"0.5\" cx=\"32.06\" cy=\"-9.36\" rx=\"1.6\" ry=\"1.6\"/>\n",
       "<polygon fill=\"#444443\" stroke=\"#444443\" stroke-width=\"0.5\" points=\"42.56,-13.19 46.77,-12.72 43.18,-10.46 42.56,-13.19\"/>\n",
       "</g>\n",
       "</g>\n",
       "</svg>\n"
      ],
      "text/plain": [
       "<graphviz.files.Source at 0x7fee5005e320>"
      ]
     },
     "execution_count": 27,
     "metadata": {},
     "output_type": "execute_result"
    }
   ],
   "source": [
    "b = a\n",
    "callsviz(varnames=['a','b'])"
   ]
  },
  {
   "cell_type": "code",
   "execution_count": 28,
   "metadata": {},
   "outputs": [
    {
     "data": {
      "image/svg+xml": [
       "<?xml version=\"1.0\" encoding=\"UTF-8\" standalone=\"no\"?>\n",
       "<!DOCTYPE svg PUBLIC \"-//W3C//DTD SVG 1.1//EN\"\n",
       " \"http://www.w3.org/Graphics/SVG/1.1/DTD/svg11.dtd\">\n",
       "<!-- Generated by graphviz version 2.47.3 (20210619.1520)\n",
       " -->\n",
       "<!-- Title: G Pages: 1 -->\n",
       "<svg width=\"100pt\" height=\"58pt\"\n",
       " viewBox=\"0.00 0.00 100.00 58.00\" xmlns=\"http://www.w3.org/2000/svg\" xmlns:xlink=\"http://www.w3.org/1999/xlink\">\n",
       "<g id=\"graph0\" class=\"graph\" transform=\"scale(1 1) rotate(0) translate(4 54)\">\n",
       "<title>G</title>\n",
       "<polygon fill=\"white\" stroke=\"transparent\" points=\"-4,4 -4,-54 96,-54 96,4 -4,4\"/>\n",
       "<!-- node140661520075272 -->\n",
       "<g id=\"node1\" class=\"node\">\n",
       "<title>node140661520075272</title>\n",
       "<polygon fill=\"#d9e6f5\" stroke=\"#444443\" stroke-width=\"0.5\" points=\"39,-50 0,-50 0,0 39,0 39,-50\"/>\n",
       "<polygon fill=\"#d9e6f5\" stroke=\"transparent\" points=\"2.5,-34 2.5,-48 37.5,-48 37.5,-34 2.5,-34\"/>\n",
       "<polyline fill=\"none\" stroke=\"#444443\" points=\"2.5,-34 37.5,-34 \"/>\n",
       "<text text-anchor=\"start\" x=\"3.5\" y=\"-38.2\" font-family=\"Times,serif\" font-style=\"italic\" font-size=\"11.00\" fill=\"#444443\">globals</text>\n",
       "<polygon fill=\"#d9e6f5\" stroke=\"transparent\" points=\"2.5,-32 2.5,-34 37.5,-34 37.5,-32 2.5,-32\"/>\n",
       "<polygon fill=\"#d9e6f5\" stroke=\"transparent\" points=\"2.5,-18 2.5,-32 18.5,-32 18.5,-18 2.5,-18\"/>\n",
       "<polyline fill=\"none\" stroke=\"#444443\" points=\"18.5,-18 18.5,-32 \"/>\n",
       "<text text-anchor=\"start\" x=\"7.5\" y=\"-22.2\" font-family=\"Helvetica,sans-Serif\" font-size=\"11.00\" fill=\"#444443\">a </text>\n",
       "<polygon fill=\"#d9e6f5\" stroke=\"transparent\" points=\"20.5,-18 20.5,-32 37.5,-32 37.5,-18 20.5,-18\"/>\n",
       "<text text-anchor=\"start\" x=\"21.5\" y=\"-22.2\" font-family=\"Helvetica,sans-Serif\" font-size=\"11.00\" fill=\"#444443\"> &#160;&#160;&#160;</text>\n",
       "<polygon fill=\"#d9e6f5\" stroke=\"transparent\" points=\"2.5,-16 2.5,-18 37.5,-18 37.5,-16 2.5,-16\"/>\n",
       "<polygon fill=\"#d9e6f5\" stroke=\"transparent\" points=\"2.5,-2 2.5,-16 18.5,-16 18.5,-2 2.5,-2\"/>\n",
       "<polyline fill=\"none\" stroke=\"#444443\" points=\"18.5,-2 18.5,-16 \"/>\n",
       "<text text-anchor=\"start\" x=\"7.5\" y=\"-6.2\" font-family=\"Helvetica,sans-Serif\" font-size=\"11.00\" fill=\"#444443\">b </text>\n",
       "<polygon fill=\"#d9e6f5\" stroke=\"transparent\" points=\"20.5,-2 20.5,-16 37.5,-16 37.5,-2 20.5,-2\"/>\n",
       "<text text-anchor=\"start\" x=\"21.5\" y=\"-6.2\" font-family=\"Helvetica,sans-Serif\" font-size=\"11.00\" fill=\"#444443\"> &#160;&#160;&#160;</text>\n",
       "</g>\n",
       "<!-- node140661518699016 -->\n",
       "<g id=\"node2\" class=\"node\">\n",
       "<title>node140661518699016</title>\n",
       "<polygon fill=\"none\" stroke=\"black\" stroke-width=\"0.5\" points=\"92,-33 47,-33 47,-1 92,-1 92,-33\"/>\n",
       "<polygon fill=\"#fefecd\" stroke=\"transparent\" points=\"48.5,-20 48.5,-32 61.5,-32 61.5,-20 48.5,-20\"/>\n",
       "<polyline fill=\"none\" stroke=\"black\" points=\"48.5,-20 61.5,-20 61.5,-32 \"/>\n",
       "<text text-anchor=\"start\" x=\"52\" y=\"-23.8\" font-family=\"Helvetica,sans-Serif\" font-size=\"9.00\" fill=\"#444443\">0</text>\n",
       "<polygon fill=\"#fefecd\" stroke=\"transparent\" points=\"61.5,-20 61.5,-32 74.5,-32 74.5,-20 61.5,-20\"/>\n",
       "<polyline fill=\"none\" stroke=\"black\" points=\"61.5,-20 74.5,-20 74.5,-32 \"/>\n",
       "<text text-anchor=\"start\" x=\"65\" y=\"-23.8\" font-family=\"Helvetica,sans-Serif\" font-size=\"9.00\" fill=\"#444443\">1</text>\n",
       "<polygon fill=\"#fefecd\" stroke=\"transparent\" points=\"74.5,-20 74.5,-32 91.5,-32 91.5,-20 74.5,-20\"/>\n",
       "<polyline fill=\"none\" stroke=\"black\" points=\"74.5,-20 91.5,-20 \"/>\n",
       "<text text-anchor=\"start\" x=\"80\" y=\"-23.8\" font-family=\"Helvetica,sans-Serif\" font-size=\"9.00\" fill=\"#444443\">2</text>\n",
       "<polygon fill=\"#fefecd\" stroke=\"transparent\" points=\"48.5,-2 48.5,-20 61.5,-20 61.5,-2 48.5,-2\"/>\n",
       "<polyline fill=\"none\" stroke=\"black\" points=\"61.5,-2 61.5,-20 \"/>\n",
       "<text text-anchor=\"start\" x=\"51.5\" y=\"-8.2\" font-family=\"Helvetica,sans-Serif\" font-size=\"11.00\" fill=\"#444443\">1</text>\n",
       "<polygon fill=\"#fefecd\" stroke=\"transparent\" points=\"61.5,-2 61.5,-20 74.5,-20 74.5,-2 61.5,-2\"/>\n",
       "<polyline fill=\"none\" stroke=\"black\" points=\"74.5,-2 74.5,-20 \"/>\n",
       "<text text-anchor=\"start\" x=\"64.5\" y=\"-8.2\" font-family=\"Helvetica,sans-Serif\" font-size=\"11.00\" fill=\"#444443\">3</text>\n",
       "<polygon fill=\"#fefecd\" stroke=\"transparent\" points=\"74.5,-2 74.5,-20 91.5,-20 91.5,-2 74.5,-2\"/>\n",
       "<text text-anchor=\"start\" x=\"76.5\" y=\"-8.2\" font-family=\"Helvetica,sans-Serif\" font-size=\"11.00\" fill=\"#444443\">99</text>\n",
       "</g>\n",
       "<!-- node140661520075272&#45;&gt;node140661518699016 -->\n",
       "<g id=\"edge1\" class=\"edge\">\n",
       "<title>node140661520075272:c&#45;&gt;node140661518699016</title>\n",
       "<path fill=\"none\" stroke=\"#444443\" stroke-width=\"0.5\" d=\"M33.89,-24.29C36.1,-23.82 39.2,-23.17 42.65,-22.44\"/>\n",
       "<ellipse fill=\"#444443\" stroke=\"#444443\" stroke-width=\"0.5\" cx=\"32.07\" cy=\"-24.67\" rx=\"1.6\" ry=\"1.6\"/>\n",
       "<polygon fill=\"#444443\" stroke=\"#444443\" stroke-width=\"0.5\" points=\"43.21,-23.75 46.84,-21.56 42.63,-21.01 43.21,-23.75\"/>\n",
       "</g>\n",
       "<!-- node140661520075272&#45;&gt;node140661518699016 -->\n",
       "<g id=\"edge2\" class=\"edge\">\n",
       "<title>node140661520075272:c&#45;&gt;node140661518699016</title>\n",
       "<path fill=\"none\" stroke=\"#444443\" stroke-width=\"0.5\" d=\"M33.89,-9.71C36.1,-10.18 39.2,-10.83 42.65,-11.56\"/>\n",
       "<ellipse fill=\"#444443\" stroke=\"#444443\" stroke-width=\"0.5\" cx=\"32.07\" cy=\"-9.33\" rx=\"1.6\" ry=\"1.6\"/>\n",
       "<polygon fill=\"#444443\" stroke=\"#444443\" stroke-width=\"0.5\" points=\"42.63,-12.99 46.84,-12.44 43.21,-10.25 42.63,-12.99\"/>\n",
       "</g>\n",
       "</g>\n",
       "</svg>\n"
      ],
      "text/plain": [
       "<graphviz.files.Source at 0x7fee50069160>"
      ]
     },
     "execution_count": 28,
     "metadata": {},
     "output_type": "execute_result"
    }
   ],
   "source": [
    "a[2] = 99\n",
    "callsviz(varnames=['a','b'])"
   ]
  },
  {
   "cell_type": "code",
   "execution_count": 29,
   "metadata": {},
   "outputs": [
    {
     "data": {
      "text/plain": [
       "[1, 3, 99]"
      ]
     },
     "execution_count": 29,
     "metadata": {},
     "output_type": "execute_result"
    }
   ],
   "source": [
    "a"
   ]
  },
  {
   "cell_type": "code",
   "execution_count": 30,
   "metadata": {},
   "outputs": [
    {
     "data": {
      "text/plain": [
       "[1, 3, 99]"
      ]
     },
     "execution_count": 30,
     "metadata": {},
     "output_type": "execute_result"
    }
   ],
   "source": [
    "b"
   ]
  },
  {
   "cell_type": "code",
   "execution_count": 25,
   "metadata": {},
   "outputs": [
    {
     "data": {
      "image/svg+xml": [
       "<?xml version=\"1.0\" encoding=\"UTF-8\" standalone=\"no\"?>\n",
       "<!DOCTYPE svg PUBLIC \"-//W3C//DTD SVG 1.1//EN\"\n",
       " \"http://www.w3.org/Graphics/SVG/1.1/DTD/svg11.dtd\">\n",
       "<!-- Generated by graphviz version 2.47.3 (20210619.1520)\n",
       " -->\n",
       "<!-- Title: G Pages: 1 -->\n",
       "<svg width=\"100pt\" height=\"58pt\"\n",
       " viewBox=\"0.00 0.00 100.00 58.00\" xmlns=\"http://www.w3.org/2000/svg\" xmlns:xlink=\"http://www.w3.org/1999/xlink\">\n",
       "<g id=\"graph0\" class=\"graph\" transform=\"scale(1 1) rotate(0) translate(4 54)\">\n",
       "<title>G</title>\n",
       "<polygon fill=\"white\" stroke=\"transparent\" points=\"-4,4 -4,-54 96,-54 96,4 -4,4\"/>\n",
       "<!-- node140661449246648 -->\n",
       "<g id=\"node1\" class=\"node\">\n",
       "<title>node140661449246648</title>\n",
       "<polygon fill=\"#d9e6f5\" stroke=\"#444443\" stroke-width=\"0.5\" points=\"39,-50 0,-50 0,0 39,0 39,-50\"/>\n",
       "<polygon fill=\"#d9e6f5\" stroke=\"transparent\" points=\"2.5,-34 2.5,-48 37.5,-48 37.5,-34 2.5,-34\"/>\n",
       "<polyline fill=\"none\" stroke=\"#444443\" points=\"2.5,-34 37.5,-34 \"/>\n",
       "<text text-anchor=\"start\" x=\"3.5\" y=\"-38.2\" font-family=\"Times,serif\" font-style=\"italic\" font-size=\"11.00\" fill=\"#444443\">globals</text>\n",
       "<polygon fill=\"#d9e6f5\" stroke=\"transparent\" points=\"2.5,-32 2.5,-34 37.5,-34 37.5,-32 2.5,-32\"/>\n",
       "<polygon fill=\"#d9e6f5\" stroke=\"transparent\" points=\"2.5,-18 2.5,-32 18.5,-32 18.5,-18 2.5,-18\"/>\n",
       "<polyline fill=\"none\" stroke=\"#444443\" points=\"18.5,-18 18.5,-32 \"/>\n",
       "<text text-anchor=\"start\" x=\"7.5\" y=\"-22.2\" font-family=\"Helvetica,sans-Serif\" font-size=\"11.00\" fill=\"#444443\">a </text>\n",
       "<polygon fill=\"#d9e6f5\" stroke=\"transparent\" points=\"20.5,-18 20.5,-32 37.5,-32 37.5,-18 20.5,-18\"/>\n",
       "<text text-anchor=\"start\" x=\"21.5\" y=\"-22.2\" font-family=\"Helvetica,sans-Serif\" font-size=\"11.00\" fill=\"#444443\"> &#160;&#160;&#160;</text>\n",
       "<polygon fill=\"#d9e6f5\" stroke=\"transparent\" points=\"2.5,-16 2.5,-18 37.5,-18 37.5,-16 2.5,-16\"/>\n",
       "<polygon fill=\"#d9e6f5\" stroke=\"transparent\" points=\"2.5,-2 2.5,-16 18.5,-16 18.5,-2 2.5,-2\"/>\n",
       "<polyline fill=\"none\" stroke=\"#444443\" points=\"18.5,-2 18.5,-16 \"/>\n",
       "<text text-anchor=\"start\" x=\"7.5\" y=\"-6.2\" font-family=\"Helvetica,sans-Serif\" font-size=\"11.00\" fill=\"#444443\">b </text>\n",
       "<polygon fill=\"#d9e6f5\" stroke=\"transparent\" points=\"20.5,-2 20.5,-16 37.5,-16 37.5,-2 20.5,-2\"/>\n",
       "<text text-anchor=\"start\" x=\"21.5\" y=\"-6.2\" font-family=\"Helvetica,sans-Serif\" font-size=\"11.00\" fill=\"#444443\"> &#160;&#160;&#160;</text>\n",
       "</g>\n",
       "<!-- node140661521533704 -->\n",
       "<g id=\"node2\" class=\"node\">\n",
       "<title>node140661521533704</title>\n",
       "<polygon fill=\"none\" stroke=\"black\" stroke-width=\"0.5\" points=\"92,-33 47,-33 47,-1 92,-1 92,-33\"/>\n",
       "<polygon fill=\"#fefecd\" stroke=\"transparent\" points=\"48.5,-20 48.5,-32 61.5,-32 61.5,-20 48.5,-20\"/>\n",
       "<polyline fill=\"none\" stroke=\"black\" points=\"48.5,-20 61.5,-20 61.5,-32 \"/>\n",
       "<text text-anchor=\"start\" x=\"52\" y=\"-23.8\" font-family=\"Helvetica,sans-Serif\" font-size=\"9.00\" fill=\"#444443\">0</text>\n",
       "<polygon fill=\"#fefecd\" stroke=\"transparent\" points=\"61.5,-20 61.5,-32 74.5,-32 74.5,-20 61.5,-20\"/>\n",
       "<polyline fill=\"none\" stroke=\"black\" points=\"61.5,-20 74.5,-20 74.5,-32 \"/>\n",
       "<text text-anchor=\"start\" x=\"65\" y=\"-23.8\" font-family=\"Helvetica,sans-Serif\" font-size=\"9.00\" fill=\"#444443\">1</text>\n",
       "<polygon fill=\"#fefecd\" stroke=\"transparent\" points=\"74.5,-20 74.5,-32 91.5,-32 91.5,-20 74.5,-20\"/>\n",
       "<polyline fill=\"none\" stroke=\"black\" points=\"74.5,-20 91.5,-20 \"/>\n",
       "<text text-anchor=\"start\" x=\"80\" y=\"-23.8\" font-family=\"Helvetica,sans-Serif\" font-size=\"9.00\" fill=\"#444443\">2</text>\n",
       "<polygon fill=\"#fefecd\" stroke=\"transparent\" points=\"48.5,-2 48.5,-20 61.5,-20 61.5,-2 48.5,-2\"/>\n",
       "<polyline fill=\"none\" stroke=\"black\" points=\"61.5,-2 61.5,-20 \"/>\n",
       "<text text-anchor=\"start\" x=\"51.5\" y=\"-8.2\" font-family=\"Helvetica,sans-Serif\" font-size=\"11.00\" fill=\"#444443\">1</text>\n",
       "<polygon fill=\"#fefecd\" stroke=\"transparent\" points=\"61.5,-2 61.5,-20 74.5,-20 74.5,-2 61.5,-2\"/>\n",
       "<polyline fill=\"none\" stroke=\"black\" points=\"74.5,-2 74.5,-20 \"/>\n",
       "<text text-anchor=\"start\" x=\"64.5\" y=\"-8.2\" font-family=\"Helvetica,sans-Serif\" font-size=\"11.00\" fill=\"#444443\">3</text>\n",
       "<polygon fill=\"#fefecd\" stroke=\"transparent\" points=\"74.5,-2 74.5,-20 91.5,-20 91.5,-2 74.5,-2\"/>\n",
       "<text text-anchor=\"start\" x=\"76.5\" y=\"-8.2\" font-family=\"Helvetica,sans-Serif\" font-size=\"11.00\" fill=\"#444443\">99</text>\n",
       "</g>\n",
       "<!-- node140661449246648&#45;&gt;node140661521533704 -->\n",
       "<g id=\"edge1\" class=\"edge\">\n",
       "<title>node140661449246648:c&#45;&gt;node140661521533704</title>\n",
       "<path fill=\"none\" stroke=\"#444443\" stroke-width=\"0.5\" d=\"M33.89,-24.29C36.1,-23.82 39.2,-23.17 42.65,-22.44\"/>\n",
       "<ellipse fill=\"#444443\" stroke=\"#444443\" stroke-width=\"0.5\" cx=\"32.07\" cy=\"-24.67\" rx=\"1.6\" ry=\"1.6\"/>\n",
       "<polygon fill=\"#444443\" stroke=\"#444443\" stroke-width=\"0.5\" points=\"43.21,-23.75 46.84,-21.56 42.63,-21.01 43.21,-23.75\"/>\n",
       "</g>\n",
       "<!-- node140661449246648&#45;&gt;node140661521533704 -->\n",
       "<g id=\"edge2\" class=\"edge\">\n",
       "<title>node140661449246648:c&#45;&gt;node140661521533704</title>\n",
       "<path fill=\"none\" stroke=\"#444443\" stroke-width=\"0.5\" d=\"M33.89,-9.71C36.1,-10.18 39.2,-10.83 42.65,-11.56\"/>\n",
       "<ellipse fill=\"#444443\" stroke=\"#444443\" stroke-width=\"0.5\" cx=\"32.07\" cy=\"-9.33\" rx=\"1.6\" ry=\"1.6\"/>\n",
       "<polygon fill=\"#444443\" stroke=\"#444443\" stroke-width=\"0.5\" points=\"42.63,-12.99 46.84,-12.44 43.21,-10.25 42.63,-12.99\"/>\n",
       "</g>\n",
       "</g>\n",
       "</svg>\n"
      ],
      "text/plain": [
       "<graphviz.files.Source at 0x7fee4ff93978>"
      ]
     },
     "execution_count": 25,
     "metadata": {},
     "output_type": "execute_result"
    }
   ],
   "source": [
    "callsviz(varnames=['a','b'])"
   ]
  },
  {
   "cell_type": "code",
   "execution_count": 35,
   "metadata": {},
   "outputs": [
    {
     "name": "stdout",
     "output_type": "stream",
     "text": [
      "140661542288840\n",
      "140661542288840\n"
     ]
    }
   ],
   "source": [
    "def f(data):\n",
    "    print(id(data))\n",
    "\n",
    "foo = [1,3,5]\n",
    "print(id(foo))\n",
    "f(foo)"
   ]
  },
  {
   "cell_type": "code",
   "execution_count": 45,
   "metadata": {},
   "outputs": [
    {
     "data": {
      "text/plain": [
       "[99, 3, 5]"
      ]
     },
     "execution_count": 45,
     "metadata": {},
     "output_type": "execute_result"
    }
   ],
   "source": [
    "prices = np.array([1,3,5])\n",
    "[p if p>1 else 99 for p in prices]"
   ]
  },
  {
   "cell_type": "code",
   "execution_count": 48,
   "metadata": {},
   "outputs": [
    {
     "data": {
      "text/plain": [
       "(array([1, 2]),)"
      ]
     },
     "execution_count": 48,
     "metadata": {},
     "output_type": "execute_result"
    }
   ],
   "source": [
    "import numpy as np\n",
    "np.where(prices>1)"
   ]
  },
  {
   "cell_type": "code",
   "execution_count": 53,
   "metadata": {},
   "outputs": [
    {
     "data": {
      "text/plain": [
       "[('a', 100), ('b', 70), ('c', 30)]"
      ]
     },
     "execution_count": 53,
     "metadata": {},
     "output_type": "execute_result"
    }
   ],
   "source": [
    "names =['a','b','c']\n",
    "scores = [100,70,30]\n",
    "list(zip(names,scores))"
   ]
  },
  {
   "cell_type": "code",
   "execution_count": 54,
   "metadata": {},
   "outputs": [
    {
     "name": "stdout",
     "output_type": "stream",
     "text": [
      "a 100\n",
      "b 70\n",
      "c 30\n"
     ]
    }
   ],
   "source": [
    "for x,y in zip(names,scores):\n",
    "    print(x,y)"
   ]
  },
  {
   "cell_type": "code",
   "execution_count": 56,
   "metadata": {},
   "outputs": [
    {
     "data": {
      "text/plain": [
       "200"
      ]
     },
     "execution_count": 56,
     "metadata": {},
     "output_type": "execute_result"
    }
   ],
   "source": [
    "sum(scores)"
   ]
  }
 ],
 "metadata": {
  "kernelspec": {
   "display_name": "Python 3",
   "language": "python",
   "name": "python3"
  },
  "language_info": {
   "codemirror_mode": {
    "name": "ipython",
    "version": 3
   },
   "file_extension": ".py",
   "mimetype": "text/x-python",
   "name": "python",
   "nbconvert_exporter": "python",
   "pygments_lexer": "ipython3",
   "version": "3.7.3"
  }
 },
 "nbformat": 4,
 "nbformat_minor": 5
}
