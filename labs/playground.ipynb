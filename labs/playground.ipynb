{
 "cells": [
  {
   "cell_type": "code",
   "execution_count": 1,
   "id": "f7bf5ef7-9733-43c0-af9b-fdce56c1fa5c",
   "metadata": {},
   "outputs": [
    {
     "data": {
      "text/plain": [
       "' abigail advice antic antismoking'"
      ]
     },
     "execution_count": 1,
     "metadata": {},
     "output_type": "execute_result"
    }
   ],
   "source": [
    "words = ['abigail','advice','antic','antismoking']\n",
    "text = \"\"\n",
    "for w in words:\n",
    "    text = text + \" \" + w\n",
    "text"
   ]
  },
  {
   "cell_type": "code",
   "execution_count": 6,
   "id": "978b9c7f-8bec-4da4-ad40-dfdfd32a6d33",
   "metadata": {},
   "outputs": [
    {
     "data": {
      "text/plain": [
       "array([58, 74, 45, 12,  8, 32, 69, 10, 80, 73])"
      ]
     },
     "execution_count": 6,
     "metadata": {},
     "output_type": "execute_result"
    }
   ],
   "source": [
    "import numpy as np\n",
    "scores = np.random.randint(5, 100, size=10)\n"
   ]
  }
 ],
 "metadata": {
  "kernelspec": {
   "display_name": "Python 3",
   "language": "python",
   "name": "python3"
  },
  "language_info": {
   "codemirror_mode": {
    "name": "ipython",
    "version": 3
   },
   "file_extension": ".py",
   "mimetype": "text/x-python",
   "name": "python",
   "nbconvert_exporter": "python",
   "pygments_lexer": "ipython3",
   "version": "3.8.8"
  }
 },
 "nbformat": 4,
 "nbformat_minor": 5
}
