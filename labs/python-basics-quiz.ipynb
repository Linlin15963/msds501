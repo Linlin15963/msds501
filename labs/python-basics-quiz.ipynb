{
 "cells": [
  {
   "cell_type": "markdown",
   "id": "ecb48229-31b1-4d7f-93b7-a049b389dcc2",
   "metadata": {},
   "source": [
    "# Python basics quiz\n",
    "\n",
    "This quiz test your basic knowledge of Python syntax and semantics."
   ]
  },
  {
   "cell_type": "markdown",
   "id": "a1e4872b-aae2-4f0a-aab8-00ae455e60e7",
   "metadata": {},
   "source": [
    "### Question\n",
    "\n",
    "What is the output of the following program?\n",
    "\n",
    "```python\n",
    "a = 3.2\n",
    "a = 99\n",
    "print(a)\n",
    "```\n",
    "\n",
    "<details>\n",
    "<summary>Solution</summary>\n",
    "The output is 99 because the value of `a` is overwritten by the second assignment; the sequence of operations is important.\n",
    "</details>"
   ]
  },
  {
   "cell_type": "markdown",
   "id": "a2f36bcc-e486-4f38-8e94-48bc11f9545e",
   "metadata": {},
   "source": [
    "### Question\n",
    "\n",
    "<details>\n",
    "<summary>Solution</summary>\n",
    "<pre>\n",
    "</pre>\n",
    "</details>"
   ]
  },
  {
   "cell_type": "markdown",
   "id": "efdd22bd-83c9-4e36-a451-6e3c7d0b90a9",
   "metadata": {},
   "source": [
    "### Question\n",
    "\n",
    "<details>\n",
    "<summary>Solution</summary>\n",
    "<pre>\n",
    "</pre>\n",
    "</details>"
   ]
  },
  {
   "cell_type": "markdown",
   "id": "3e807047-cd62-469d-8f26-929177cd6510",
   "metadata": {},
   "source": [
    "### Question\n",
    "\n",
    "<details>\n",
    "<summary>Solution</summary>\n",
    "<pre>\n",
    "</pre>\n",
    "</details>"
   ]
  },
  {
   "cell_type": "markdown",
   "id": "3a52c372-77d8-45be-af2f-71c1f44a25eb",
   "metadata": {},
   "source": [
    "### Question\n",
    "\n",
    "<details>\n",
    "<summary>Solution</summary>\n",
    "<pre>\n",
    "</pre>\n",
    "</details>"
   ]
  },
  {
   "cell_type": "markdown",
   "id": "47703950-a357-4111-98dc-ad93fad0924d",
   "metadata": {},
   "source": [
    "### Question\n",
    "\n",
    "<details>\n",
    "<summary>Solution</summary>\n",
    "<pre>\n",
    "</pre>\n",
    "</details>"
   ]
  },
  {
   "cell_type": "markdown",
   "id": "29f836d1-e142-4494-a9cd-73f4729058a5",
   "metadata": {},
   "source": [
    "### Question\n",
    "\n",
    "<details>\n",
    "<summary>Solution</summary>\n",
    "<pre>\n",
    "</pre>\n",
    "</details>"
   ]
  },
  {
   "cell_type": "markdown",
   "id": "fc592dfc-db05-4d0b-bf06-ce48b4847cb8",
   "metadata": {},
   "source": [
    "### Question\n",
    "\n",
    "<details>\n",
    "<summary>Solution</summary>\n",
    "<pre>\n",
    "</pre>\n",
    "</details>"
   ]
  },
  {
   "cell_type": "markdown",
   "id": "f6716f65-f987-42da-90a5-9872e8ff6511",
   "metadata": {},
   "source": [
    "### Question\n",
    "\n",
    "<details>\n",
    "<summary>Solution</summary>\n",
    "<pre>\n",
    "</pre>\n",
    "</details>"
   ]
  },
  {
   "cell_type": "markdown",
   "id": "b7e877d9-cf29-41fb-beeb-f1905bbae00c",
   "metadata": {},
   "source": [
    "### Question\n",
    "\n",
    "<details>\n",
    "<summary>Solution</summary>\n",
    "<pre>\n",
    "</pre>\n",
    "</details>"
   ]
  },
  {
   "cell_type": "markdown",
   "id": "2e519d3c-ce32-4b94-96b7-58a27834d650",
   "metadata": {},
   "source": [
    "### Question\n",
    "\n",
    "<details>\n",
    "<summary>Solution</summary>\n",
    "<pre>\n",
    "</pre>\n",
    "</details>"
   ]
  }
 ],
 "metadata": {
  "kernelspec": {
   "display_name": "Python 3",
   "language": "python",
   "name": "python3"
  },
  "language_info": {
   "codemirror_mode": {
    "name": "ipython",
    "version": 3
   },
   "file_extension": ".py",
   "mimetype": "text/x-python",
   "name": "python",
   "nbconvert_exporter": "python",
   "pygments_lexer": "ipython3",
   "version": "3.8.8"
  }
 },
 "nbformat": 4,
 "nbformat_minor": 5
}
