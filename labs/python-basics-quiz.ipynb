{
 "cells": [
  {
   "cell_type": "markdown",
   "id": "ecb48229-31b1-4d7f-93b7-a049b389dcc2",
   "metadata": {},
   "source": [
    "# Python basics practice quiz\n",
    "\n",
    "This quiz test your basic knowledge of Python syntax and semantics."
   ]
  },
  {
   "cell_type": "markdown",
   "id": "41911013-7c77-4a6d-97b9-2457c91e9cfe",
   "metadata": {},
   "source": [
    "## Types and assignments"
   ]
  },
  {
   "cell_type": "markdown",
   "id": "a1e4872b-aae2-4f0a-aab8-00ae455e60e7",
   "metadata": {},
   "source": [
    "### Question\n",
    "\n",
    "What is the output of the following program?\n",
    "\n",
    "```python\n",
    "a = 3.2\n",
    "a = 99\n",
    "print(a)\n",
    "```\n",
    "\n",
    "<details>\n",
    "<summary>Solution</summary>\n",
    "The output is 99 because the value of `a` is overwritten by the second assignment; the sequence of operations is important.\n",
    "</details>"
   ]
  },
  {
   "cell_type": "markdown",
   "id": "a2f36bcc-e486-4f38-8e94-48bc11f9545e",
   "metadata": {},
   "source": [
    "### Question\n",
    "\n",
    "What is the type of the variables after the execution of the following program?\n",
    "\n",
    "```python\n",
    "a = \"hi\"\n",
    "b = 3.14\n",
    "c = [1, 2, 3]\n",
    "d = 99\n",
    "```\n",
    "\n",
    "<details>\n",
    "<summary>Solution</summary>\n",
    "The types are a:string, b:float, c:list, d:int\n",
    "</details>"
   ]
  },
  {
   "cell_type": "markdown",
   "id": "efdd22bd-83c9-4e36-a451-6e3c7d0b90a9",
   "metadata": {},
   "source": [
    "### Question\n",
    "\n",
    "What is the value of `x` after this program executes?\n",
    "\n",
    "```python\n",
    "x = 5\n",
    "x = x + 10\n",
    "```\n",
    "\n",
    "<details>\n",
    "<summary>Solution</summary>\n",
    "The value of x is 15 since the second assignment adds 10 to its previous value.\n",
    "</details>"
   ]
  },
  {
   "cell_type": "markdown",
   "id": "3e807047-cd62-469d-8f26-929177cd6510",
   "metadata": {},
   "source": [
    "### Question\n",
    "\n",
    "What is the value of `x` after this program executes?\n",
    "\n",
    "```python\n",
    "x = \"5\"\n",
    "x = x * 10\n",
    "```\n",
    " \n",
    "<details>\n",
    "<summary>Solution</summary>\n",
    "The value of x is '5555555555'. Types really matter and the type of x is string.  The multiply operator, star, is overloaded for strings to mean replicate.</details>"
   ]
  },
  {
   "cell_type": "markdown",
   "id": "5357ef4c-8df0-4e82-ab5c-d3b26ac245c8",
   "metadata": {},
   "source": [
    "## Conditional execution"
   ]
  },
  {
   "cell_type": "markdown",
   "id": "3a52c372-77d8-45be-af2f-71c1f44a25eb",
   "metadata": {},
   "source": [
    "### Question\n",
    "\n",
    "What is the output of the following program?\n",
    " \n",
    "```python\n",
    "x = -5\n",
    "if x < 0:\n",
    "    print(\"foo\")\n",
    "print(\"bar\")\n",
    "```\n",
    "\n",
    "<details>\n",
    "<summary>Solution</summary>\n",
    "The output is:\n",
    "<pre>\n",
    "foo\n",
    "bar\n",
    "</pre>\n",
    "because x is negative.  If it were greater than or equal to zero, we would only see output bar.\n",
    "</details>"
   ]
  },
  {
   "cell_type": "markdown",
   "id": "4df4eb7d-40c4-4f85-a05e-9459c938cd42",
   "metadata": {},
   "source": [
    "### Question\n",
    "\n",
    "```python\n",
    "```\n",
    "\n",
    "<details>\n",
    "<summary>Solution</summary>\n",
    "<pre>\n",
    "</pre>\n",
    "</details>"
   ]
  },
  {
   "cell_type": "markdown",
   "id": "c37308eb-7360-4b44-a5d6-b74fa116681a",
   "metadata": {},
   "source": [
    "### Question\n",
    "\n",
    "```python\n",
    "```\n",
    "\n",
    "<details>\n",
    "<summary>Solution</summary>\n",
    "<pre>\n",
    "</pre>\n",
    "</details>"
   ]
  },
  {
   "cell_type": "markdown",
   "id": "03185ff8-2c5e-4b17-914b-a9226b4e5151",
   "metadata": {},
   "source": [
    "### Question\n",
    "\n",
    "```python\n",
    "```\n",
    "\n",
    "<details>\n",
    "<summary>Solution</summary>\n",
    "<pre>\n",
    "</pre>\n",
    "</details>"
   ]
  },
  {
   "cell_type": "markdown",
   "id": "34ad402f-5813-46e6-832e-7df87032ada6",
   "metadata": {},
   "source": [
    "### Question\n",
    "\n",
    "```python\n",
    "```\n",
    "\n",
    "<details>\n",
    "<summary>Solution</summary>\n",
    "<pre>\n",
    "</pre>\n",
    "</details>"
   ]
  },
  {
   "cell_type": "markdown",
   "id": "ba98d20e-f0db-4e05-aa46-1844c64a6af3",
   "metadata": {},
   "source": [
    "## Loops"
   ]
  },
  {
   "cell_type": "markdown",
   "id": "59718158-7328-4273-b16a-960c94ceb2a5",
   "metadata": {},
   "source": [
    "### Question\n",
    "\n",
    "```python\n",
    "```\n",
    "\n",
    "<details>\n",
    "<summary>Solution</summary>\n",
    "<pre>\n",
    "</pre>\n",
    "</details>"
   ]
  },
  {
   "cell_type": "markdown",
   "id": "7b36d88d-27e4-4204-a334-ae94e792f754",
   "metadata": {},
   "source": [
    "### Question\n",
    "\n",
    "```python\n",
    "```\n",
    "\n",
    "<details>\n",
    "<summary>Solution</summary>\n",
    "<pre>\n",
    "</pre>\n",
    "</details>"
   ]
  },
  {
   "cell_type": "markdown",
   "id": "897886c6-4e13-4a43-afc4-d839868ec5bd",
   "metadata": {},
   "source": [
    "### Question\n",
    "\n",
    "```python\n",
    "```\n",
    "\n",
    "<details>\n",
    "<summary>Solution</summary>\n",
    "<pre>\n",
    "</pre>\n",
    "</details>"
   ]
  },
  {
   "cell_type": "markdown",
   "id": "1170e19f-10d4-40a6-a673-16c51bbbc7da",
   "metadata": {},
   "source": [
    "### Question\n",
    "\n",
    "```python\n",
    "```\n",
    "\n",
    "<details>\n",
    "<summary>Solution</summary>\n",
    "<pre>\n",
    "</pre>\n",
    "</details>"
   ]
  },
  {
   "cell_type": "markdown",
   "id": "5f51554c-4921-487b-8641-b9486290ad3b",
   "metadata": {},
   "source": [
    "### Question\n",
    "\n",
    "```python\n",
    "```\n",
    "\n",
    "<details>\n",
    "<summary>Solution</summary>\n",
    "<pre>\n",
    "</pre>\n",
    "</details>"
   ]
  },
  {
   "cell_type": "markdown",
   "id": "12159914-5870-4af6-8197-6cd23ee856a1",
   "metadata": {},
   "source": [
    "### Question\n",
    "\n",
    "```python\n",
    "```\n",
    "\n",
    "<details>\n",
    "<summary>Solution</summary>\n",
    "<pre>\n",
    "</pre>\n",
    "</details>"
   ]
  },
  {
   "cell_type": "markdown",
   "id": "f48c0c51-48dc-402d-9382-c13b15ac6b7d",
   "metadata": {},
   "source": [
    "### Question\n",
    "\n",
    "```python\n",
    "```\n",
    "\n",
    "<details>\n",
    "<summary>Solution</summary>\n",
    "<pre>\n",
    "</pre>\n",
    "</details>"
   ]
  }
 ],
 "metadata": {
  "kernelspec": {
   "display_name": "Python 3",
   "language": "python",
   "name": "python3"
  },
  "language_info": {
   "codemirror_mode": {
    "name": "ipython",
    "version": 3
   },
   "file_extension": ".py",
   "mimetype": "text/x-python",
   "name": "python",
   "nbconvert_exporter": "python",
   "pygments_lexer": "ipython3",
   "version": "3.8.8"
  }
 },
 "nbformat": 4,
 "nbformat_minor": 5
}
