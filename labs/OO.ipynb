{
 "cells": [
  {
   "cell_type": "markdown",
   "id": "099372fc-964f-40ac-8051-6b56ee5397c7",
   "metadata": {},
   "source": [
    "# Object-oriented programming practice quiz\n",
    "\n",
    "This quiz test your basic knowledge of object-oriented programming in Python.\n",
    "\n",
    "(The solutions do not appear if you view this file from github, so download the notebook to your laptop and view it in Jupyter. Clicking on the ▶`Solution` button opens up the solution for each question.)"
   ]
  },
  {
   "cell_type": "markdown",
   "id": "ef31dd1e-b4d6-43d6-af85-43d7bbd91e68",
   "metadata": {},
   "source": [
    "## Terminology and semantics"
   ]
  },
  {
   "cell_type": "markdown",
   "id": "d0566c72-3430-4450-8e98-79282f40018b",
   "metadata": {},
   "source": [
    "### Question\n",
    "\n",
    "What is a class?\n",
    "<details>\n",
    "<summary>Solution</summary>\n",
    "    A class is a user-defined type and is a template describing the fields and functions for objects of that type.\n",
    "</details>"
   ]
  },
  {
   "cell_type": "markdown",
   "id": "a2b402ce-8d1b-4b3f-a674-d433311e61e2",
   "metadata": {},
   "source": [
    "### Question\n",
    "\n",
    "What's the difference between a class and an instance?\n",
    "<details>\n",
    "<summary>Solution</summary>\n",
    "     An instance is an object of a particular type/class. A class is the template or blueprint for that collection of objects.\n",
    "</details>"
   ]
  },
  {
   "cell_type": "markdown",
   "id": "3932a487-6db4-40fa-9e27-3dd9803f74b5",
   "metadata": {},
   "source": [
    "### Question\n",
    "\n",
    "What is the syntax to access a field of an object?\n",
    "<details>\n",
    "<summary>Solution</summary>\n",
    "</details>"
   ]
  },
  {
   "cell_type": "markdown",
   "id": "95fed7be-a648-424e-a9f6-17f6be050b77",
   "metadata": {},
   "source": [
    "### Question\n",
    "\n",
    "How does a method differ from a function?\n",
    "<details>\n",
    "<summary>Solution</summary>\n",
    "</details>"
   ]
  },
  {
   "cell_type": "markdown",
   "id": "d1815322-0cf1-4ca7-af99-12eb78f00840",
   "metadata": {},
   "source": [
    "### Question\n",
    "\n",
    "What does the __init__ method do?\n",
    "<details>\n",
    "<summary>Solution</summary>\n",
    "</details>"
   ]
  },
  {
   "cell_type": "markdown",
   "id": "9481014f-ba00-4699-98d9-b05418825918",
   "metadata": {},
   "source": [
    "### Question\n",
    "\n",
    "Given classes Employee and Manager, which would say is the superclass in which is the subclass?\n",
    "<details>\n",
    "<summary>Solution</summary>\n",
    "    A manager is a kind of employee so it makes the most sense that Employee would be the superclass and Manager would be the subclass.  The Manager class inherits fields and functionality from Employee.\n",
    "</details>"
   ]
  },
  {
   "cell_type": "markdown",
   "id": "9ce61369-f006-460b-a0a6-9d9529900437",
   "metadata": {},
   "source": [
    "### Question\n",
    "\n",
    "Can a method in a subclass call a method defined in the superclass?\n",
    "<details>\n",
    "<summary>Solution</summary>\n",
    "    Yes, if f() exists in the superclass, then a method in the subclass can simply call self.() to invoke that inherited method.  Is a special case, if we are defining function f() in the subclass and want to call the superclass f() from that method, we must use super.f() not self.f() to explicitly indicate which function to call.\n",
    "    \n",
    "The following example prints \"woof\"\n",
    "    \n",
    "    <pre>\n",
    "class Dog:\n",
    "    def speak(self):\n",
    "        print(\"woof\")\n",
    "        \n",
    "class Akita(Dog):\n",
    "    def whos_a_good_boy(self):\n",
    "        self.speak()\n",
    "\n",
    "d = Akita()\n",
    "d.whos_a_good_boy()    \n",
    "    </pre>\n",
    "</details>"
   ]
  },
  {
   "cell_type": "markdown",
   "id": "2bbd3266-31dd-4442-afd1-2a803c9475aa",
   "metadata": {},
   "source": [
    "### Question\n",
    "\n",
    "How do you override a method inherited from your superclass?\n",
    "<details>\n",
    "<summary>Solution</summary>\n",
    "    Just redefine the method in the subclass and it will override the previous functionality. This program:\n",
    "        \n",
    "    <pre>\n",
    "class Dog:\n",
    "    def speak(self):\n",
    "        print(\"woof\")\n",
    "        \n",
    "class DogCat(Dog):\n",
    "    def speak(self):\n",
    "        print(\"Meowoof!\")\n",
    "\n",
    "Dog().speak()\n",
    "DogCat().speak()\n",
    "</pre>\n",
    "    \n",
    "prints:\n",
    "    \n",
    "<pre>\n",
    "woof\n",
    "Meowoof!\n",
    "</pre>    \n",
    "    \n",
    "</details>"
   ]
  },
  {
   "cell_type": "markdown",
   "id": "9e0f3dee-1750-481b-aea6-a02d985928c1",
   "metadata": {},
   "source": [
    "## Understanding and generating OO code"
   ]
  },
  {
   "cell_type": "markdown",
   "id": "875bf934-d57e-4b30-96d3-fbf22f01f1e7",
   "metadata": {},
   "source": [
    "### Question\n",
    "\n",
    "Define a new class Foo whose constructor takes no arguments but initializes field x to 0.\n",
    "\n",
    "<details>\n",
    "<summary>Solution</summary>\n",
    "<pre>\n",
    "class Foo:\n",
    "    def __init__(self): # don't forget the \"self\"!!\n",
    "        self.x = 0 # don't forget the \"self.\"!!\n",
    "</pre>\n",
    "</details>"
   ]
  },
  {
   "cell_type": "markdown",
   "id": "cb640733-80dc-471f-99a3-23dd8e9bfc57",
   "metadata": {},
   "source": [
    "### Question\n",
    "\n",
    "<details>\n",
    "<summary>Solution</summary>\n",
    "<pre>\n",
    "</pre>\n",
    "</details>"
   ]
  },
  {
   "cell_type": "markdown",
   "id": "9305cd29-ba38-4024-a5ae-213087197cb9",
   "metadata": {},
   "source": [
    "### Question\n",
    "\n",
    "<details>\n",
    "<summary>Solution</summary>\n",
    "<pre>\n",
    "</pre>\n",
    "</details>"
   ]
  },
  {
   "cell_type": "markdown",
   "id": "8ec1e3d9-b39a-4a63-b726-9397e0bec300",
   "metadata": {},
   "source": [
    "### Question\n",
    "\n",
    "<details>\n",
    "<summary>Solution</summary>\n",
    "<pre>\n",
    "</pre>\n",
    "</details>"
   ]
  },
  {
   "cell_type": "markdown",
   "id": "b00c79a6-af68-43b7-b28a-901bf4960999",
   "metadata": {},
   "source": [
    "### Question\n",
    "\n",
    "<details>\n",
    "<summary>Solution</summary>\n",
    "<pre>\n",
    "</pre>\n",
    "</details>"
   ]
  },
  {
   "cell_type": "markdown",
   "id": "c2ad4e19-947d-4077-ae83-e4b40bce0f24",
   "metadata": {},
   "source": [
    "### Question\n",
    "\n",
    "<details>\n",
    "<summary>Solution</summary>\n",
    "<pre>\n",
    "</pre>\n",
    "</details>"
   ]
  },
  {
   "cell_type": "markdown",
   "id": "4250bb57-3fdc-4c7b-a70e-ab516dac6dcf",
   "metadata": {},
   "source": [
    "### Question\n",
    "\n",
    "<details>\n",
    "<summary>Solution</summary>\n",
    "<pre>\n",
    "</pre>\n",
    "</details>"
   ]
  },
  {
   "cell_type": "markdown",
   "id": "bcc88f50-720c-406c-86f1-d95fead6b29a",
   "metadata": {},
   "source": [
    "### Question\n",
    "\n",
    "<details>\n",
    "<summary>Solution</summary>\n",
    "<pre>\n",
    "</pre>\n",
    "</details>"
   ]
  },
  {
   "cell_type": "markdown",
   "id": "c774c78d-b0d8-461d-aca2-aaf8ee3c36b5",
   "metadata": {},
   "source": [
    "### Question\n",
    "\n",
    "<details>\n",
    "<summary>Solution</summary>\n",
    "<pre>\n",
    "</pre>\n",
    "</details>"
   ]
  },
  {
   "cell_type": "markdown",
   "id": "a51660ee-9066-45f2-a85a-8e4e11c9a808",
   "metadata": {},
   "source": [
    "### Question\n",
    "\n",
    "<details>\n",
    "<summary>Solution</summary>\n",
    "<pre>\n",
    "</pre>\n",
    "</details>"
   ]
  }
 ],
 "metadata": {
  "kernelspec": {
   "display_name": "Python 3",
   "language": "python",
   "name": "python3"
  },
  "language_info": {
   "codemirror_mode": {
    "name": "ipython",
    "version": 3
   },
   "file_extension": ".py",
   "mimetype": "text/x-python",
   "name": "python",
   "nbconvert_exporter": "python",
   "pygments_lexer": "ipython3",
   "version": "3.8.8"
  }
 },
 "nbformat": 4,
 "nbformat_minor": 5
}
