{
 "cells": [
  {
   "cell_type": "code",
   "execution_count": 4,
   "id": "c4132034",
   "metadata": {
    "slideshow": {
     "slide_type": "skip"
    }
   },
   "outputs": [],
   "source": [
    "from IPython.display import HTML, display\n",
    "from IPython.core.magic import register_line_cell_magic\n",
    "import urllib\n",
    "\n",
    "# Cool embedding thing from https://jupyter.brynmawr.edu/services/public/dblank/jupyter.cs/Examples/Online%20Python%20Tutor.ipynb\n",
    "@register_line_cell_magic\n",
    "def tutor(line, cell):\n",
    "    code = urllib.parse.urlencode({\"code\": cell})\n",
    "    display(HTML(\"\"\"\n",
    "    <iframe width=\"800\" height=\"500\" frameborder=\"0\"\n",
    "            src=\"http://pythontutor.com/iframe-embed.html#%s&py=2\">\n",
    "    </iframe>\n",
    "    \"\"\" % code))"
   ]
  },
  {
   "cell_type": "markdown",
   "id": "6f2acff7",
   "metadata": {
    "slideshow": {
     "slide_type": "slide"
    }
   },
   "source": [
    "#  Programming (in Python)"
   ]
  },
  {
   "cell_type": "markdown",
   "id": "099e719a",
   "metadata": {
    "slideshow": {
     "slide_type": "slide"
    }
   },
   "source": [
    "## Conditional execution\n",
    "\n",
    "Some recipes give conditional instructions, such as\n",
    "\n",
    "*if not sweet enough, add some sugar*\n",
    "\n",
    "Similarly, processors can conditionally execute one or a group of operations."
   ]
  },
  {
   "cell_type": "code",
   "execution_count": 3,
   "id": "7579a84f",
   "metadata": {},
   "outputs": [
    {
     "name": "stdout",
     "output_type": "stream",
     "text": [
      "was negative\n",
      "0\n"
     ]
    }
   ],
   "source": [
    "x = -3\n",
    "if x<0:\n",
    "    x = 0\n",
    "    print(\"was negative\")\n",
    "print(x)"
   ]
  }
 ],
 "metadata": {
  "celltoolbar": "Raw Cell Format",
  "kernelspec": {
   "display_name": "Python 3",
   "language": "python",
   "name": "python3"
  },
  "language_info": {
   "codemirror_mode": {
    "name": "ipython",
    "version": 3
   },
   "file_extension": ".py",
   "mimetype": "text/x-python",
   "name": "python",
   "nbconvert_exporter": "python",
   "pygments_lexer": "ipython3",
   "version": "3.8.8"
  },
  "toc": {
   "nav_menu": {},
   "number_sections": true,
   "sideBar": true,
   "skip_h1_title": false,
   "toc_cell": false,
   "toc_position": {},
   "toc_section_display": "block",
   "toc_window_display": false
  }
 },
 "nbformat": 4,
 "nbformat_minor": 5
}
