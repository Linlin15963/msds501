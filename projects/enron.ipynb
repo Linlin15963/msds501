{
 "cells": [
  {
   "cell_type": "markdown",
   "id": "1619359d-e030-4063-948f-6f255a0fdcb7",
   "metadata": {},
   "source": [
    "# Enron email data set exploration"
   ]
  },
  {
   "cell_type": "code",
   "execution_count": 27,
   "id": "6abb0fc1-9c0d-4004-8d1d-7252458ef391",
   "metadata": {},
   "outputs": [],
   "source": [
    "# Get better looking pictures\n",
    "%config InlineBackend.figure_format = 'retina'"
   ]
  },
  {
   "cell_type": "code",
   "execution_count": 28,
   "id": "9e45ca13-7f3a-41d3-bf96-efaaebb03849",
   "metadata": {},
   "outputs": [
    {
     "data": {
      "text/html": [
       "<div>\n",
       "<style scoped>\n",
       "    .dataframe tbody tr th:only-of-type {\n",
       "        vertical-align: middle;\n",
       "    }\n",
       "\n",
       "    .dataframe tbody tr th {\n",
       "        vertical-align: top;\n",
       "    }\n",
       "\n",
       "    .dataframe thead th {\n",
       "        text-align: right;\n",
       "    }\n",
       "</style>\n",
       "<table border=\"1\" class=\"dataframe\">\n",
       "  <thead>\n",
       "    <tr style=\"text-align: right;\">\n",
       "      <th></th>\n",
       "      <th>MailID</th>\n",
       "      <th>Date</th>\n",
       "      <th>From</th>\n",
       "      <th>To</th>\n",
       "      <th>Recipients</th>\n",
       "      <th>Subject</th>\n",
       "      <th>filename</th>\n",
       "    </tr>\n",
       "  </thead>\n",
       "  <tbody>\n",
       "    <tr>\n",
       "      <th>602121</th>\n",
       "      <td>72301</td>\n",
       "      <td>2002-07-12</td>\n",
       "      <td>mark.fisher</td>\n",
       "      <td>tom.nemila</td>\n",
       "      <td>1</td>\n",
       "      <td>WR613 Pitch System performance</td>\n",
       "      <td>fischer-m/_sent_mail/1.</td>\n",
       "    </tr>\n",
       "    <tr>\n",
       "      <th>605080</th>\n",
       "      <td>73281</td>\n",
       "      <td>2002-07-12</td>\n",
       "      <td>denise.williams</td>\n",
       "      <td>ge_benefits</td>\n",
       "      <td>1</td>\n",
       "      <td>URGENT!!! CUTOVER WEEKEND</td>\n",
       "      <td>fischer-m/notes_inbox/2.</td>\n",
       "    </tr>\n",
       "    <tr>\n",
       "      <th>605328</th>\n",
       "      <td>73382</td>\n",
       "      <td>2002-07-12</td>\n",
       "      <td>angie.lentz</td>\n",
       "      <td>ge_benefits</td>\n",
       "      <td>1</td>\n",
       "      <td>Essential IT information for Monday 7/15 Netwo...</td>\n",
       "      <td>fischer-m/notes_inbox/3.</td>\n",
       "    </tr>\n",
       "    <tr>\n",
       "      <th>604396</th>\n",
       "      <td>73050</td>\n",
       "      <td>2002-07-12</td>\n",
       "      <td>kurt.anderson</td>\n",
       "      <td>mark.walker</td>\n",
       "      <td>3</td>\n",
       "      <td>FW: RE: Revised Availability Numbers</td>\n",
       "      <td>fischer-m/discussion_threads/337.</td>\n",
       "    </tr>\n",
       "    <tr>\n",
       "      <th>602131</th>\n",
       "      <td>72311</td>\n",
       "      <td>2002-07-12</td>\n",
       "      <td>mark.fisher</td>\n",
       "      <td>tom.nemila</td>\n",
       "      <td>1</td>\n",
       "      <td>WR627 Fault Paretos (May 2002)</td>\n",
       "      <td>fischer-m/_sent_mail/2.</td>\n",
       "    </tr>\n",
       "  </tbody>\n",
       "</table>\n",
       "</div>"
      ],
      "text/plain": [
       "        MailID        Date             From           To  Recipients                                            Subject                           filename\n",
       "602121   72301  2002-07-12      mark.fisher   tom.nemila           1                     WR613 Pitch System performance            fischer-m/_sent_mail/1.\n",
       "605080   73281  2002-07-12  denise.williams  ge_benefits           1                          URGENT!!! CUTOVER WEEKEND           fischer-m/notes_inbox/2.\n",
       "605328   73382  2002-07-12      angie.lentz  ge_benefits           1  Essential IT information for Monday 7/15 Netwo...           fischer-m/notes_inbox/3.\n",
       "604396   73050  2002-07-12    kurt.anderson  mark.walker           3               FW: RE: Revised Availability Numbers  fischer-m/discussion_threads/337.\n",
       "602131   72311  2002-07-12      mark.fisher   tom.nemila           1                     WR627 Fault Paretos (May 2002)            fischer-m/_sent_mail/2."
      ]
     },
     "execution_count": 28,
     "metadata": {},
     "output_type": "execute_result"
    }
   ],
   "source": [
    "df = pd.read_feather('enron.feather')\n",
    "df = df.sort_values(['Date'])\n",
    "df.tail(5)"
   ]
  },
  {
   "cell_type": "markdown",
   "id": "eb2a1a2f-f33c-4197-aaaa-b847dc9bef6a",
   "metadata": {},
   "source": [
    "## Email traffic over time\n",
    "\n",
    "Group the data set by `Date` and `MailID`, which will get you an index that collects all of the unique mail IDs per date. Then reset the index so that those  date and mail identifiers become columns and then select for just those columns; we don't actually care about the counts created by the `groupby` (that was just to get the index).  Create a histogram that shows the amount of traffic per day. Then specifically for email sent from `richard.shapiro` and then `john.lavorato`.  Because some dates are set improperly (to 1980), filter for dates greater than January 1, 1999."
   ]
  },
  {
   "cell_type": "markdown",
   "id": "66fc36f7-687b-41a2-9c93-535b36f10915",
   "metadata": {},
   "source": [
    "## Received emails\n",
    "\n",
    "Count the number of messages received  per user and then sort in reverse order. Make a bar chart showing the top 30 email recipients."
   ]
  },
  {
   "cell_type": "markdown",
   "id": "946eb6cd-2278-4f60-bbe1-c4415bc82782",
   "metadata": {},
   "source": [
    "## Sent emails\n",
    "\n",
    "Make a bar chart indicating the top 30 mail senders. This is more complicated than the received emails because a single person can email multiple people in a single email. So,  group by `From` and `MailID`, convert the index back to columns and then group again by `From` and get the count."
   ]
  },
  {
   "cell_type": "markdown",
   "id": "0edc4edc-be58-4ab8-b6bc-c9247d959b26",
   "metadata": {},
   "source": [
    "## Email heatmap\n",
    "\n",
    "Given a list of Enron employees, compute a heat map that indicates how much email traffic went between each pair of employees. The heat map is not symmetric because Susan sending mail to Xue is not the same thing as Xue sending mail to Susan. The first step is to group the data frame by `From` and `To` columns in order to get the number of emails from person $i$ to person $j$. Then, create a 2D numpy matrix, $C$, of integers and set $C_{i,j}$ to the count of person $i$ to person $j$. Using matplotlib, `ax.imshow(C, cmap='GnBu', vmax=4000)`, show the heat map and add tick labels at 45 degrees for the X axis. Set the labels to the appropriate names.   Draw the number of emails in the appropriate cells of the heat map, for all values greater than zero. Please note that when you draw text using `ax.text()`, the coordinates are X,Y whereas the coordinates in the $C$ matrix are row,column so you will have to flip the coordinates."
   ]
  },
  {
   "cell_type": "code",
   "execution_count": 17,
   "id": "6df1bb3c-f332-4dbb-a2f3-4e0e010aa865",
   "metadata": {},
   "outputs": [],
   "source": [
    "people = ['jeff.skilling', 'kenneth.lay', 'louise.kitchen', 'tana.jones',\n",
    "          'sara.shackleton', 'vince.kaminski', 'sally.beck', 'john.lavorato',\n",
    "          'mark.taylor', 'greg.whalley', 'jeff.dasovich', 'steven.kean',\n",
    "          'chris.germany', 'mike.mcconnell', 'benjamin.rogers', 'j.kaminski',\n",
    "          'stanley.horton', 'a..shankman', 'richard.shapiro']"
   ]
  },
  {
   "cell_type": "markdown",
   "id": "a403e9f2-6fc1-4307-9567-2f5517f3e3bc",
   "metadata": {},
   "source": [
    "## Build graph and compute rankings\n",
    "\n",
    "From the data frame, create a graph data structure using networkx. Create an edge from node A to node B if there is an email from A to B in the data frame. Although we do know the total number of emails between people, let's keep it simple and use simply a weight of 1 as the edge label. See networkx method `add_edge()`.\n",
    "\n",
    "1. Using networkx, compute the pagerank between all nodes. Get the data into a data frame, sort in reverse order, and display the top 15 users from the data frame. \n",
    "2. Compute the centrality for the nodes of the graph. The documentation says that centrality is \"*the fraction of nodes it is connected to.*\"\n",
    "\n",
    "I use `DataFrame.from_dict` to convert the dictionaries returned from the various networkx methods to data frames."
   ]
  },
  {
   "cell_type": "markdown",
   "id": "d34c3c05-96a2-4a8b-b418-54f9c1a23ad3",
   "metadata": {},
   "source": [
    "### Node PageRank"
   ]
  },
  {
   "cell_type": "markdown",
   "id": "db7ab450-f36f-456b-bd84-8e875a35b8b4",
   "metadata": {},
   "source": [
    "### Centrality"
   ]
  },
  {
   "cell_type": "markdown",
   "id": "141759c3-5db4-4266-809f-848c492d0bb1",
   "metadata": {},
   "source": [
    "### Plotting graph subsets"
   ]
  },
  {
   "cell_type": "markdown",
   "id": "efc254c3-b9f7-4de7-b038-75c9d9882602",
   "metadata": {},
   "source": [
    "The email graph is way too large to display the whole thing and get any meaningful information out. However, we can look at subsets of the graph such as the neighbors of a specific node. To visualize it we can use different strategies to layout the nodes. In this case, we will use two different layout strategies: *spring* and *kamada-kawai*. According to\n",
    "[Wikipedia](https://en.wikipedia.org/wiki/Force-directed_graph_drawing), these force directed layout strategies have the characteristic: \"*...the edges tend to have uniform length (because of the spring forces), and nodes that are not connected by an edge tend to be drawn further apart...*\".  \n",
    "\n",
    "Use networkx `ego_graph()` method to get a radius=1 neighborhood around `jeff.skilling` and draw the spring graph with a plot that is 20x20 inch so we can see details.  Then, draw the same subgraph again using the kamada-kawai layout strategy. Finally, get the neighborhood around kenneth.lay and draw kamada-kawai."
   ]
  }
 ],
 "metadata": {
  "kernelspec": {
   "display_name": "Python 3",
   "language": "python",
   "name": "python3"
  },
  "language_info": {
   "codemirror_mode": {
    "name": "ipython",
    "version": 3
   },
   "file_extension": ".py",
   "mimetype": "text/x-python",
   "name": "python",
   "nbconvert_exporter": "python",
   "pygments_lexer": "ipython3",
   "version": "3.8.8"
  }
 },
 "nbformat": 4,
 "nbformat_minor": 5
}
